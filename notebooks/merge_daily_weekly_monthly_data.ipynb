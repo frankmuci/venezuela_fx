{
 "cells": [
  {
   "cell_type": "markdown",
   "id": "a071200f",
   "metadata": {},
   "source": [
    "## Daily Data"
   ]
  },
  {
   "cell_type": "code",
   "execution_count": 1,
   "id": "3f155030",
   "metadata": {},
   "outputs": [],
   "source": [
    "import pandas as pd"
   ]
  },
  {
   "cell_type": "code",
   "execution_count": 2,
   "id": "834145ab",
   "metadata": {},
   "outputs": [],
   "source": [
    "df = pd.read_excel('/home/frankmuci/code/frankmuci/venezuela_fx/venezuela_fx/data/monetary_data_v2.xlsx', sheet_name=2)"
   ]
  },
  {
   "cell_type": "code",
   "execution_count": 3,
   "id": "deb8cafa",
   "metadata": {},
   "outputs": [],
   "source": [
    "df.Date = df.Date.apply(pd.to_datetime)"
   ]
  },
  {
   "cell_type": "code",
   "execution_count": 4,
   "id": "d53ee57f",
   "metadata": {},
   "outputs": [],
   "source": [
    "df.set_index('Date', inplace=True)"
   ]
  },
  {
   "cell_type": "markdown",
   "id": "8b99dfa1",
   "metadata": {},
   "source": [
    "## Weekly Data"
   ]
  },
  {
   "cell_type": "code",
   "execution_count": 21,
   "id": "27e3ef3a",
   "metadata": {},
   "outputs": [],
   "source": [
    "df_weekly = pd.read_excel('/home/frankmuci/code/frankmuci/venezuela_fx/venezuela_fx/data/monetary_data_v2.xlsx', sheet_name=1)"
   ]
  },
  {
   "cell_type": "code",
   "execution_count": 22,
   "id": "0b91540e",
   "metadata": {},
   "outputs": [],
   "source": [
    "df_weekly = df_weekly.T"
   ]
  },
  {
   "cell_type": "code",
   "execution_count": 23,
   "id": "3a726d83",
   "metadata": {},
   "outputs": [],
   "source": [
    "new_header = df_weekly.iloc[0]\n",
    "df_weekly = df_weekly[1:]\n",
    "df_weekly.columns = new_header"
   ]
  },
  {
   "cell_type": "code",
   "execution_count": 24,
   "id": "02150c74",
   "metadata": {
    "scrolled": true
   },
   "outputs": [],
   "source": [
    "df_weekly.reset_index(inplace=True)"
   ]
  },
  {
   "cell_type": "code",
   "execution_count": 29,
   "id": "fc50f36b",
   "metadata": {
    "scrolled": true
   },
   "outputs": [],
   "source": [
    "df_weekly['index'] = df_weekly['index'].apply(pd.to_datetime)"
   ]
  },
  {
   "cell_type": "code",
   "execution_count": 31,
   "id": "e2dee4af",
   "metadata": {},
   "outputs": [],
   "source": [
    "df_weekly.set_index('index', inplace=True)"
   ]
  },
  {
   "cell_type": "markdown",
   "id": "042b3436",
   "metadata": {},
   "source": [
    "## Monthly Data"
   ]
  },
  {
   "cell_type": "code",
   "execution_count": 46,
   "id": "4825fe2d",
   "metadata": {},
   "outputs": [],
   "source": [
    "df_monthly = pd.read_excel('/home/frankmuci/code/frankmuci/venezuela_fx/venezuela_fx/data/monetary_data_v2.xlsx', sheet_name=0)"
   ]
  },
  {
   "cell_type": "code",
   "execution_count": 47,
   "id": "62c1b8e5",
   "metadata": {},
   "outputs": [],
   "source": [
    "df_monthly = df_monthly.T\n",
    "new_header = df_monthly.iloc[0]\n",
    "df_monthly = df_monthly[1:]\n",
    "df_monthly.columns = new_header"
   ]
  },
  {
   "cell_type": "code",
   "execution_count": 48,
   "id": "878291ab",
   "metadata": {},
   "outputs": [],
   "source": [
    "df_monthly.Date = df_monthly.Date.apply(pd.to_datetime)"
   ]
  },
  {
   "cell_type": "code",
   "execution_count": 49,
   "id": "46cd82cc",
   "metadata": {
    "scrolled": true
   },
   "outputs": [],
   "source": [
    "df_monthly.set_index('Date', inplace=True)"
   ]
  },
  {
   "cell_type": "markdown",
   "id": "a276e377",
   "metadata": {},
   "source": [
    "## Merge"
   ]
  },
  {
   "cell_type": "code",
   "execution_count": 42,
   "id": "61c095c0",
   "metadata": {
    "scrolled": true
   },
   "outputs": [],
   "source": [
    "df_merge = pd.merge(df, df_weekly, how='outer', left_index=True, right_index=True)"
   ]
  },
  {
   "cell_type": "code",
   "execution_count": 50,
   "id": "704f6f9c",
   "metadata": {},
   "outputs": [],
   "source": [
    "df_merge = pd.merge(df_merge, df_monthly, how='outer', left_index=True, right_index=True)"
   ]
  },
  {
   "cell_type": "code",
   "execution_count": 55,
   "id": "7ba001c6",
   "metadata": {},
   "outputs": [],
   "source": [
    "# df_merge.tail(50)"
   ]
  },
  {
   "cell_type": "code",
   "execution_count": 56,
   "id": "dff6827e",
   "metadata": {},
   "outputs": [],
   "source": [
    "df_merge.to_csv('/home/frankmuci/code/frankmuci/venezuela_fx/venezuela_fx/data/merge.csv')"
   ]
  }
 ],
 "metadata": {
  "kernelspec": {
   "display_name": "Python 3 (ipykernel)",
   "language": "python",
   "name": "python3"
  },
  "language_info": {
   "codemirror_mode": {
    "name": "ipython",
    "version": 3
   },
   "file_extension": ".py",
   "mimetype": "text/x-python",
   "name": "python",
   "nbconvert_exporter": "python",
   "pygments_lexer": "ipython3",
   "version": "3.8.12"
  },
  "toc": {
   "base_numbering": 1,
   "nav_menu": {},
   "number_sections": true,
   "sideBar": true,
   "skip_h1_title": false,
   "title_cell": "Table of Contents",
   "title_sidebar": "Contents",
   "toc_cell": false,
   "toc_position": {},
   "toc_section_display": true,
   "toc_window_display": false
  }
 },
 "nbformat": 4,
 "nbformat_minor": 5
}
