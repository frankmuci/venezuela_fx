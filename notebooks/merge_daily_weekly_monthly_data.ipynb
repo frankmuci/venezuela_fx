{
 "cells": [
  {
   "cell_type": "markdown",
   "id": "56066b89",
   "metadata": {},
   "source": [
    "## Daily Data"
   ]
  },
  {
   "cell_type": "code",
   "execution_count": 58,
   "id": "1746997d",
   "metadata": {},
   "outputs": [],
   "source": [
    "import pandas as pd\n",
    "import matplotlib.pyplot as plt"
   ]
  },
  {
   "cell_type": "code",
   "execution_count": 2,
   "id": "ed291312",
   "metadata": {},
   "outputs": [],
   "source": [
    "df = pd.read_excel('/home/frankmuci/code/frankmuci/venezuela_fx/venezuela_fx/data/monetary_data_v2.xlsx', sheet_name=2)"
   ]
  },
  {
   "cell_type": "code",
   "execution_count": 3,
   "id": "86c1e7d8",
   "metadata": {},
   "outputs": [],
   "source": [
    "df.Date = df.Date.apply(pd.to_datetime)"
   ]
  },
  {
   "cell_type": "code",
   "execution_count": 4,
   "id": "c61a677b",
   "metadata": {},
   "outputs": [],
   "source": [
    "df.set_index('Date', inplace=True)"
   ]
  },
  {
   "cell_type": "markdown",
   "id": "7c167e3a",
   "metadata": {},
   "source": [
    "## Weekly Data"
   ]
  },
  {
   "cell_type": "code",
   "execution_count": 21,
   "id": "d09cdb4a",
   "metadata": {},
   "outputs": [],
   "source": [
    "df_weekly = pd.read_excel('/home/frankmuci/code/frankmuci/venezuela_fx/venezuela_fx/data/monetary_data_v2.xlsx', sheet_name=1)"
   ]
  },
  {
   "cell_type": "code",
   "execution_count": 22,
   "id": "7b74ccd3",
   "metadata": {},
   "outputs": [],
   "source": [
    "df_weekly = df_weekly.T"
   ]
  },
  {
   "cell_type": "code",
   "execution_count": 23,
   "id": "e8b13f55",
   "metadata": {},
   "outputs": [],
   "source": [
    "new_header = df_weekly.iloc[0]\n",
    "df_weekly = df_weekly[1:]\n",
    "df_weekly.columns = new_header"
   ]
  },
  {
   "cell_type": "code",
   "execution_count": 24,
   "id": "25ee9882",
   "metadata": {
    "scrolled": true
   },
   "outputs": [],
   "source": [
    "df_weekly.reset_index(inplace=True)"
   ]
  },
  {
   "cell_type": "code",
   "execution_count": 29,
   "id": "230debf6",
   "metadata": {
    "scrolled": true
   },
   "outputs": [],
   "source": [
    "df_weekly['index'] = df_weekly['index'].apply(pd.to_datetime)"
   ]
  },
  {
   "cell_type": "code",
   "execution_count": 31,
   "id": "05e5c9e1",
   "metadata": {},
   "outputs": [],
   "source": [
    "df_weekly.set_index('index', inplace=True)"
   ]
  },
  {
   "cell_type": "markdown",
   "id": "c8d779ce",
   "metadata": {},
   "source": [
    "## Monthly Data"
   ]
  },
  {
   "cell_type": "code",
   "execution_count": 46,
   "id": "b4f679d6",
   "metadata": {},
   "outputs": [],
   "source": [
    "df_monthly = pd.read_excel('/home/frankmuci/code/frankmuci/venezuela_fx/venezuela_fx/data/monetary_data_v2.xlsx', sheet_name=0)"
   ]
  },
  {
   "cell_type": "code",
   "execution_count": 47,
   "id": "d89ada80",
   "metadata": {},
   "outputs": [],
   "source": [
    "df_monthly = df_monthly.T\n",
    "new_header = df_monthly.iloc[0]\n",
    "df_monthly = df_monthly[1:]\n",
    "df_monthly.columns = new_header"
   ]
  },
  {
   "cell_type": "code",
   "execution_count": 48,
   "id": "7c23cf08",
   "metadata": {},
   "outputs": [],
   "source": [
    "df_monthly.Date = df_monthly.Date.apply(pd.to_datetime)"
   ]
  },
  {
   "cell_type": "code",
   "execution_count": 49,
   "id": "0d0040f4",
   "metadata": {
    "scrolled": true
   },
   "outputs": [],
   "source": [
    "df_monthly.set_index('Date', inplace=True)"
   ]
  },
  {
   "cell_type": "markdown",
   "id": "6d7de16b",
   "metadata": {},
   "source": [
    "## Merge"
   ]
  },
  {
   "cell_type": "code",
   "execution_count": 42,
   "id": "b2e8392f",
   "metadata": {
    "scrolled": true
   },
   "outputs": [],
   "source": [
    "df_merge = pd.merge(df, df_weekly, how='outer', left_index=True, right_index=True)"
   ]
  },
  {
   "cell_type": "code",
   "execution_count": 50,
   "id": "0777a7b7",
   "metadata": {},
   "outputs": [],
   "source": [
    "df_merge = pd.merge(df_merge, df_monthly, how='outer', left_index=True, right_index=True)"
   ]
  },
  {
   "cell_type": "code",
   "execution_count": 55,
   "id": "d3956bec",
   "metadata": {},
   "outputs": [],
   "source": [
    "# df_merge.tail(50)"
   ]
  },
  {
   "cell_type": "code",
   "execution_count": 56,
   "id": "d3005dab",
   "metadata": {},
   "outputs": [],
   "source": [
    "df_merge.to_csv('/home/frankmuci/code/frankmuci/venezuela_fx/venezuela_fx/data/merge.csv')"
   ]
  },
  {
   "cell_type": "markdown",
   "id": "cb1c7999",
   "metadata": {},
   "source": [
    "## Data viz"
   ]
  },
  {
   "cell_type": "code",
   "execution_count": 64,
   "id": "fea6d3a4",
   "metadata": {},
   "outputs": [
    {
     "data": {
      "image/png": "[encoded data removed]",
      "text/plain": [
       "<Figure size 432x288 with 1 Axes>"
      ]
     },
     "metadata": {
      "needs_background": "light"
     },
     "output_type": "display_data"
    }
   ],
   "source": [
    "plt.plot(df_merge.Dolartoday)\n",
    "plt.yscale('log')\n",
    "\n"
   ]
  }
 ],
 "metadata": {
  "kernelspec": {
   "display_name": "Python 3 (ipykernel)",
   "language": "python",
   "name": "python3"
  },
  "language_info": {
   "codemirror_mode": {
    "name": "ipython",
    "version": 3
   },
   "file_extension": ".py",
   "mimetype": "text/x-python",
   "name": "python",
   "nbconvert_exporter": "python",
   "pygments_lexer": "ipython3",
   "version": "3.8.12"
  },
  "toc": {
   "base_numbering": 1,
   "nav_menu": {},
   "number_sections": true,
   "sideBar": true,
   "skip_h1_title": false,
   "title_cell": "Table of Contents",
   "title_sidebar": "Contents",
   "toc_cell": false,
   "toc_position": {},
   "toc_section_display": true,
   "toc_window_display": false
  }
 },
 "nbformat": 4,
 "nbformat_minor": 5
}
