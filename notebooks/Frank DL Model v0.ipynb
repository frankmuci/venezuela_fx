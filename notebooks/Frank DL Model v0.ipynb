{
 "cells": [
  {
   "cell_type": "code",
   "execution_count": 1,
   "id": "d50ee488",
   "metadata": {},
   "outputs": [],
   "source": [
    "import pandas as pd\n",
    "import numpy as np\n",
    "import matplotlib.pyplot as plt"
   ]
  },
  {
   "cell_type": "code",
   "execution_count": 2,
   "id": "fefaec5e",
   "metadata": {},
   "outputs": [],
   "source": [
    "# Import raw data, set index\n",
    "df = pd.read_csv('/home/frankmuci/code/frankmuci/venezuela_fx/venezuela_fx/data/working_df.csv')\n",
    "df.rename(columns={'Unnamed: 0':'Date'}, inplace=True)\n",
    "df['Date'] = pd.to_datetime(df['Date'] )\n",
    "df.set_index('Date', inplace=True)"
   ]
  },
  {
   "cell_type": "code",
   "execution_count": 3,
   "id": "8e61670f",
   "metadata": {},
   "outputs": [],
   "source": [
    "# FEATURE ENGINEERING\n",
    "cols_to_transform = ['Money_Supply_M0', 'Money_Supply_M1', 'Money_Supply_M2', 'Money_Supply_M3', 'Private_Sector_Credit', 'Consumer_Price_Index_CPI', 'CPI_Transportation', 'Stock_Market']\n",
    "log_col_names = []\n",
    "usd_col_names = []\n",
    "log_col_names_diff = []\n",
    "usd_col_names_diff = []\n",
    "usd_col_names_log = []\n",
    "\n",
    "for col in cols_to_transform:\n",
    "    log_col_names.append(f'log_{col}')\n",
    "    usd_col_names.append(f'usd_{col}')\n",
    "    log_col_names_diff.append(f'log_{col}_diff')\n",
    "    usd_col_names_diff.append(f'usd_{col}_diff')\n",
    "    usd_col_names_log.append(f'usd_{col}_log')\n",
    "    \n",
    "for idx, col in enumerate(cols_to_transform):\n",
    "    df[log_col_names[idx]] = np.log(df[col]) # Log\n",
    "    df[usd_col_names[idx]] = df[col]/df['Dolartoday'] # Deflate by FX\n",
    "    df[log_col_names_diff[idx]] = df[log_col_names[idx]].diff()\n",
    "    df[usd_col_names_diff[idx]] = df[usd_col_names[idx]].diff()\n",
    "    df[usd_col_names_log[idx]] = np.log(df[usd_col_names[idx]])"
   ]
  },
  {
   "cell_type": "code",
   "execution_count": 4,
   "id": "ca6a9f0d",
   "metadata": {},
   "outputs": [],
   "source": [
    "# TARGET ENGINEERING\n",
    "df['Dolartoday_log'] = np.log(df.Dolartoday)"
   ]
  },
  {
   "cell_type": "code",
   "execution_count": 5,
   "id": "37621d05",
   "metadata": {
    "scrolled": true
   },
   "outputs": [],
   "source": [
    "# fig, axs = plt.subplots(4,3, figsize=(20,20))\n",
    "# axs = axs.flatten()\n",
    "# for idx, col in enumerate(list(usd_col_names_log)):\n",
    "# #     axs[idx].plot(df.resample('m').first()[col])\n",
    "#     axs[idx].plot(df[col])\n",
    "#     axs[idx].set_title(col)"
   ]
  },
  {
   "cell_type": "code",
   "execution_count": 6,
   "id": "472c671c",
   "metadata": {},
   "outputs": [],
   "source": [
    "# plt.plot(df.usd_Consumer_Price_Index_CPI)"
   ]
  },
  {
   "cell_type": "markdown",
   "id": "59dca45e",
   "metadata": {},
   "source": [
    "## Select Features, Train Test Split"
   ]
  },
  {
   "cell_type": "code",
   "execution_count": 7,
   "id": "af779754",
   "metadata": {},
   "outputs": [],
   "source": [
    "# SELECT FEATURES\n",
    "relevant_cols = usd_col_names_log.copy()\n",
    "relevant_cols.append('Dolartoday_log')\n",
    "df = df[relevant_cols]\n",
    "column_count = len(relevant_cols)"
   ]
  },
  {
   "cell_type": "code",
   "execution_count": 8,
   "id": "c1479261",
   "metadata": {},
   "outputs": [],
   "source": [
    "# TRAIN TEST SPLIT\n",
    "column_indices = {name: i for i, name in enumerate(df.columns)}\n",
    "\n",
    "n = len(df)\n",
    "train_df = df[0:int(n*0.7)]\n",
    "val_df = df[int(n*0.7):int(n*0.9)]\n",
    "test_df = df[int(n*0.9):]\n",
    "\n",
    "num_features = df.shape[1]"
   ]
  },
  {
   "cell_type": "markdown",
   "id": "32e5d8bb",
   "metadata": {},
   "source": [
    "## Imports and Code for Windowing "
   ]
  },
  {
   "cell_type": "code",
   "execution_count": 9,
   "id": "974ca58a",
   "metadata": {},
   "outputs": [
    {
     "name": "stderr",
     "output_type": "stream",
     "text": [
      "2021-11-25 13:50:58.144174: W tensorflow/stream_executor/platform/default/dso_loader.cc:64] Could not load dynamic library 'libcudart.so.11.0'; dlerror: libcudart.so.11.0: cannot open shared object file: No such file or directory\n",
      "2021-11-25 13:50:58.144214: I tensorflow/stream_executor/cuda/cudart_stub.cc:29] Ignore above cudart dlerror if you do not have a GPU set up on your machine.\n"
     ]
    }
   ],
   "source": [
    "import tensorflow as tf"
   ]
  },
  {
   "cell_type": "code",
   "execution_count": 10,
   "id": "9e0d49bd",
   "metadata": {},
   "outputs": [],
   "source": [
    "class WindowGenerator():\n",
    "    def __init__(self, input_width, label_width, shift, train_df=train_df, \n",
    "                 val_df=val_df, test_df=test_df, label_columns=['Dolartoday_log']):\n",
    "        \n",
    "        # Store the raw data.\n",
    "        self.train_df = train_df\n",
    "        self.val_df = val_df\n",
    "        self.test_df = test_df\n",
    "\n",
    "        # Work out the label column indices.\n",
    "        self.label_columns = label_columns\n",
    "        if label_columns is not None:\n",
    "            self.label_columns_indices = {name: i for i, name in\n",
    "                                        enumerate(label_columns)}\n",
    "        self.column_indices = {name: i for i, name in\n",
    "                               enumerate(train_df.columns)}\n",
    "\n",
    "        # Work out the window parameters.\n",
    "        self.input_width = input_width\n",
    "        self.label_width = label_width\n",
    "        self.shift = shift\n",
    "\n",
    "        self.total_window_size = input_width + shift\n",
    "\n",
    "        self.input_slice = slice(0, input_width)\n",
    "        self.input_indices = np.arange(self.total_window_size)[self.input_slice]\n",
    "\n",
    "        self.label_start = self.total_window_size - self.label_width\n",
    "        self.labels_slice = slice(self.label_start, None)\n",
    "        self.label_indices = np.arange(self.total_window_size)[self.labels_slice]\n",
    "\n",
    "    def __repr__(self):\n",
    "        return '\\n'.join([\n",
    "            f'Total window size: {self.total_window_size}',\n",
    "            f'Input indices: {self.input_indices}',\n",
    "            f'Label indices: {self.label_indices}',\n",
    "            f'Label column name(s): {self.label_columns}'])\n",
    "    \n",
    "    def split_window(self, features):\n",
    "        inputs = features[:, self.input_slice, :]\n",
    "        labels = features[:, self.labels_slice, :]\n",
    "        if self.label_columns is not None:\n",
    "            labels = tf.stack(\n",
    "                [labels[:, :, self.column_indices[name]] for name in self.label_columns],\n",
    "                axis=-1)\n",
    "\n",
    "        # Slicing doesn't preserve static shape information, so set the shapes\n",
    "        # manually. This way the `tf.data.Datasets` are easier to inspect.\n",
    "        inputs.set_shape([None, self.input_width, None])\n",
    "        labels.set_shape([None, self.label_width, None])\n",
    "\n",
    "        return inputs, labels\n",
    "\n",
    "    def make_dataset(self, data):\n",
    "        data = np.array(data, dtype=np.float32)\n",
    "        ds = tf.keras.preprocessing.timeseries_dataset_from_array(\n",
    "            data=data,\n",
    "            targets=None,\n",
    "            sequence_length=self.total_window_size,\n",
    "            sequence_stride=1,\n",
    "            shuffle=True,\n",
    "            batch_size=32,)\n",
    "\n",
    "        ds = ds.map(self.split_window)\n",
    "        return ds\n",
    "\n",
    "    @property\n",
    "    def train(self):\n",
    "        return self.make_dataset(self.train_df)\n",
    "\n",
    "    @property\n",
    "    def val(self):\n",
    "        return self.make_dataset(self.val_df)\n",
    "\n",
    "    @property\n",
    "    def test(self):\n",
    "        return self.make_dataset(self.test_df)\n",
    "\n",
    "    @property\n",
    "    def example(self):\n",
    "        \"\"\"Get and cache an example batch of `inputs, labels` for plotting.\"\"\"\n",
    "        result = getattr(self, '_example', None)\n",
    "        if result is None:\n",
    "            # No example batch was found, so get one from the `.train` dataset\n",
    "            result = next(iter(self.train))\n",
    "            # And cache it for next time\n",
    "            self._example = result\n",
    "        return result"
   ]
  },
  {
   "cell_type": "code",
   "execution_count": 11,
   "id": "91a0da80",
   "metadata": {},
   "outputs": [],
   "source": [
    "window_size = 65\n",
    "distance = 30\n",
    "window = WindowGenerator(window_size, 1, distance)"
   ]
  },
  {
   "cell_type": "markdown",
   "id": "69c59f44",
   "metadata": {},
   "source": [
    "## The model"
   ]
  },
  {
   "cell_type": "code",
   "execution_count": 12,
   "id": "d56f0733",
   "metadata": {},
   "outputs": [
    {
     "name": "stdout",
     "output_type": "stream",
     "text": [
      "(32, 65, 9)\n",
      "(32, 1, 1)\n"
     ]
    },
    {
     "name": "stderr",
     "output_type": "stream",
     "text": [
      "2021-11-25 13:50:59.748910: W tensorflow/stream_executor/platform/default/dso_loader.cc:64] Could not load dynamic library 'libcuda.so.1'; dlerror: libcuda.so.1: cannot open shared object file: No such file or directory\n",
      "2021-11-25 13:50:59.748953: W tensorflow/stream_executor/cuda/cuda_driver.cc:269] failed call to cuInit: UNKNOWN ERROR (303)\n",
      "2021-11-25 13:50:59.748970: I tensorflow/stream_executor/cuda/cuda_diagnostics.cc:156] kernel driver does not appear to be running on this host (DESKTOP-SBD4PR3): /proc/driver/nvidia/version does not exist\n",
      "2021-11-25 13:50:59.749201: I tensorflow/core/platform/cpu_feature_guard.cc:151] This TensorFlow binary is optimized with oneAPI Deep Neural Network Library (oneDNN) to use the following CPU instructions in performance-critical operations:  AVX2 FMA\n",
      "To enable them in other operations, rebuild TensorFlow with the appropriate compiler flags.\n"
     ]
    }
   ],
   "source": [
    "# Inspect Shape of Data Samples\n",
    "x_sample, y_sample = next(iter(window.train))\n",
    "print(x_sample.shape)\n",
    "print(y_sample.shape)"
   ]
  },
  {
   "cell_type": "code",
   "execution_count": 22,
   "id": "81a02f4a",
   "metadata": {},
   "outputs": [],
   "source": [
    "from keras.models import Sequential\n",
    "from keras.layers import Dense, SimpleRNN, Flatten, Normalization, Masking, GRU, Dropout, LSTM\n",
    "\n",
    "def init_model():\n",
    "    model = Sequential()\n",
    "    model.add(LSTM(units=100, activation='relu', input_shape=(window_size,column_count), return_sequences=False))\n",
    "    model.add(Dense(15, activation=\"relu\"))\n",
    "    model.add(Dense(1, activation=\"relu\"))\n",
    "    \n",
    "    model.compile(loss='mae', optimizer='rmsprop', metrics=['mape', 'mse', 'mae'])\n",
    "    return model"
   ]
  },
  {
   "cell_type": "code",
   "execution_count": 23,
   "id": "5d7b2ca4",
   "metadata": {},
   "outputs": [],
   "source": [
    "test_model = init_model()"
   ]
  },
  {
   "cell_type": "code",
   "execution_count": 24,
   "id": "9aa56e1d",
   "metadata": {},
   "outputs": [
    {
     "name": "stdout",
     "output_type": "stream",
     "text": [
      "Epoch 1/5\n",
      "116/116 [==============================] - 7s 47ms/step - loss: 11.0718 - mape: 146.7412 - mse: 939.4449 - mae: 11.0718\n",
      "Epoch 2/5\n",
      "116/116 [==============================] - 6s 51ms/step - loss: 8.0232 - mape: 100.1513 - mse: 69.1489 - mae: 8.0232\n",
      "Epoch 3/5\n",
      "116/116 [==============================] - 7s 57ms/step - loss: 8.0134 - mape: 100.0338 - mse: 68.8113 - mae: 8.0134\n",
      "Epoch 4/5\n",
      "116/116 [==============================] - 7s 60ms/step - loss: 8.0105 - mape: 100.0000 - mse: 68.7430 - mae: 8.0105\n",
      "Epoch 5/5\n",
      "116/116 [==============================] - 7s 61ms/step - loss: 8.0105 - mape: 100.0000 - mse: 68.7430 - mae: 8.0105\n"
     ]
    },
    {
     "data": {
      "text/plain": [
       "<keras.callbacks.History at 0x7fbb16e128b0>"
      ]
     },
     "execution_count": 24,
     "metadata": {},
     "output_type": "execute_result"
    }
   ],
   "source": [
    "test_model.fit(window.train, batch_size=32, epochs=5, verbose=1)"
   ]
  },
  {
   "cell_type": "code",
   "execution_count": 25,
   "id": "ea006961",
   "metadata": {},
   "outputs": [],
   "source": [
    "predictions = test_model.predict(window.test)"
   ]
  },
  {
   "cell_type": "code",
   "execution_count": 26,
   "id": "eb93b8a1",
   "metadata": {},
   "outputs": [],
   "source": [
    "series_pred = pd.Series(predictions[:, 0])\n",
    "series_pred.index = test_df.iloc[94:].index"
   ]
  },
  {
   "cell_type": "code",
   "execution_count": 27,
   "id": "34edba54",
   "metadata": {},
   "outputs": [
    {
     "data": {
      "text/plain": [
       "<matplotlib.legend.Legend at 0x7fbb16e796d0>"
      ]
     },
     "execution_count": 27,
     "metadata": {},
     "output_type": "execute_result"
    },
    {
     "data": {
      "image/png": "[encoded data removed]",
      "text/plain": [
       "<Figure size 432x288 with 1 Axes>"
      ]
     },
     "metadata": {
      "needs_background": "light"
     },
     "output_type": "display_data"
    }
   ],
   "source": [
    "series_pred.plot(label = 'pred')\n",
    "test_df['Dolartoday_log'].plot(label = 'actual', color = 'orange')\n",
    "plt.legend()"
   ]
  }
 ],
 "metadata": {
  "kernelspec": {
   "display_name": "Python 3 (ipykernel)",
   "language": "python",
   "name": "python3"
  },
  "language_info": {
   "codemirror_mode": {
    "name": "ipython",
    "version": 3
   },
   "file_extension": ".py",
   "mimetype": "text/x-python",
   "name": "python",
   "nbconvert_exporter": "python",
   "pygments_lexer": "ipython3",
   "version": "3.8.12"
  },
  "toc": {
   "base_numbering": 1,
   "nav_menu": {},
   "number_sections": true,
   "sideBar": true,
   "skip_h1_title": false,
   "title_cell": "Table of Contents",
   "title_sidebar": "Contents",
   "toc_cell": false,
   "toc_position": {},
   "toc_section_display": true,
   "toc_window_display": false
  }
 },
 "nbformat": 4,
 "nbformat_minor": 5
}
