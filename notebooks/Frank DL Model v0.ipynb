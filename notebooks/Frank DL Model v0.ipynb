{
 "cells": [
  {
   "cell_type": "code",
   "execution_count": 1,
   "id": "d50ee488",
   "metadata": {},
   "outputs": [],
   "source": [
    "import pandas as pd\n",
    "import numpy as np\n",
    "import matplotlib.pyplot as plt\n",
    "import datetime"
   ]
  },
  {
   "cell_type": "code",
   "execution_count": 2,
   "id": "690ae9ae",
   "metadata": {},
   "outputs": [],
   "source": [
    "# OLD DATA: Import, set index\n",
    "# df = pd.read_csv('/home/frankmuci/code/frankmuci/venezuela_fx/venezuela_fx/data/working_df.csv')\n",
    "# df.rename(columns={'Unnamed: 0':'Date'}, inplace=True)\n",
    "# df['Date'] = pd.to_datetime(df['Date'] )\n",
    "# df.set_index('Date', inplace=True)\n",
    "\n",
    "# NEW DATA from Joe: Read and set index :)\n",
    "df = pd.read_csv('/home/frankmuci/code/frankmuci/venezuela_fx/venezuela_fx/data/friday_feeling_df.csv')\n",
    "df.rename(columns={'date':'Date'}, inplace=True)\n",
    "df['Date'] = pd.to_datetime(df['Date'] )\n",
    "df.set_index('Date', inplace=True)"
   ]
  },
  {
   "cell_type": "code",
   "execution_count": 3,
   "id": "8e61670f",
   "metadata": {},
   "outputs": [],
   "source": [
    "# FEATURE ENGINEERING\n",
    "cols_to_transform = ['BM (BsS)', 'M2 (BsS)', 'Private_Sector_Credit', 'Consumer_Price_Index_CPI', 'CPI_Transportation', 'Stock_Market']\n",
    "log_col_names = []\n",
    "usd_col_names = []\n",
    "log_col_names_diff = []\n",
    "usd_col_names_diff = []\n",
    "usd_col_names_log = []\n",
    "\n",
    "for col in cols_to_transform:\n",
    "    log_col_names.append(f'log_{col}')\n",
    "    usd_col_names.append(f'usd_{col}')\n",
    "    log_col_names_diff.append(f'log_{col}_diff')\n",
    "    usd_col_names_diff.append(f'usd_{col}_diff')\n",
    "    usd_col_names_log.append(f'usd_{col}_log')\n",
    "    \n",
    "for idx, col in enumerate(cols_to_transform):\n",
    "    df[log_col_names[idx]] = np.log(df[col]) # Log\n",
    "    df[usd_col_names[idx]] = df[col]/df['Dolartoday'] # Deflate by FX\n",
    "    df[log_col_names_diff[idx]] = df[log_col_names[idx]].diff()\n",
    "    df[usd_col_names_diff[idx]] = df[usd_col_names[idx]].diff()\n",
    "    df[usd_col_names_log[idx]] = np.log(df[usd_col_names[idx]]).diff()"
   ]
  },
  {
   "cell_type": "code",
   "execution_count": 4,
   "id": "6b1d12a9",
   "metadata": {},
   "outputs": [],
   "source": [
    "# TARGET ENGINEERING\n",
    "df['Dolartoday_log'] = np.log(df.Dolartoday)\n",
    "df['Dolartoday_log_diff'] = df['Dolartoday_log'].diff()"
   ]
  },
  {
   "cell_type": "code",
   "execution_count": 28,
   "id": "6003965d",
   "metadata": {},
   "outputs": [
    {
     "data": {
      "text/plain": [
       "(51577, 7)"
      ]
     },
     "execution_count": 28,
     "metadata": {},
     "output_type": "execute_result"
    }
   ],
   "source": [
    "df.shape"
   ]
  },
  {
   "cell_type": "code",
   "execution_count": 5,
   "id": "37621d05",
   "metadata": {
    "scrolled": true
   },
   "outputs": [],
   "source": [
    "# fig, axs = plt.subplots(4,3, figsize=(20,20))\n",
    "# axs = axs.flatten()\n",
    "# for idx, col in enumerate(list(usd_col_names_log)):\n",
    "# #     axs[idx].plot(df.resample('m').first()[col])\n",
    "#     axs[idx].plot(df[col])\n",
    "#     axs[idx].set_title(col)"
   ]
  },
  {
   "cell_type": "code",
   "execution_count": 6,
   "id": "472c671c",
   "metadata": {},
   "outputs": [],
   "source": [
    "# plt.plot(df.usd_Consumer_Price_Index_CPI)"
   ]
  },
  {
   "cell_type": "markdown",
   "id": "59dca45e",
   "metadata": {},
   "source": [
    "## Select Features, Train Test Split"
   ]
  },
  {
   "cell_type": "code",
   "execution_count": 7,
   "id": "af779754",
   "metadata": {},
   "outputs": [],
   "source": [
    "# SELECT FEATURES\n",
    "df_original = df.copy()\n",
    "relevant_cols = usd_col_names_log.copy()\n",
    "df = df[relevant_cols]"
   ]
  },
  {
   "cell_type": "code",
   "execution_count": 8,
   "id": "4869f286",
   "metadata": {},
   "outputs": [],
   "source": [
    "# SCALE FEATURES\n",
    "from sklearn.preprocessing import MinMaxScaler\n",
    "scaler = MinMaxScaler()\n",
    "df = pd.DataFrame(scaler.fit_transform(df), columns=df.columns, index=df.index)"
   ]
  },
  {
   "cell_type": "code",
   "execution_count": 9,
   "id": "928bab58",
   "metadata": {},
   "outputs": [],
   "source": [
    "df['Dolartoday_log_diff'] = df_original['Dolartoday_log_diff'] \n",
    "relevant_cols.append('Dolartoday_log_diff')\n",
    "column_count = len(relevant_cols)"
   ]
  },
  {
   "cell_type": "code",
   "execution_count": 10,
   "id": "c1479261",
   "metadata": {},
   "outputs": [],
   "source": [
    "# TRAIN TEST SPLIT\n",
    "column_indices = {name: i for i, name in enumerate(df.columns)}\n",
    "\n",
    "n = len(df)\n",
    "train_df = df[int(n*0.3):int(n*0.7)]\n",
    "val_df = df[int(n*0.7):int(n*0.9)]\n",
    "test_df = df[int(n*0.9):]\n",
    "\n",
    "num_features = df.shape[1]"
   ]
  },
  {
   "cell_type": "markdown",
   "id": "32e5d8bb",
   "metadata": {},
   "source": [
    "## Imports and Code for Windowing "
   ]
  },
  {
   "cell_type": "code",
   "execution_count": 11,
   "id": "974ca58a",
   "metadata": {},
   "outputs": [
    {
     "name": "stderr",
     "output_type": "stream",
     "text": [
      "2021-12-02 09:46:49.532095: W tensorflow/stream_executor/platform/default/dso_loader.cc:64] Could not load dynamic library 'libcudart.so.11.0'; dlerror: libcudart.so.11.0: cannot open shared object file: No such file or directory\n",
      "2021-12-02 09:46:49.532135: I tensorflow/stream_executor/cuda/cudart_stub.cc:29] Ignore above cudart dlerror if you do not have a GPU set up on your machine.\n"
     ]
    }
   ],
   "source": [
    "import tensorflow as tf"
   ]
  },
  {
   "cell_type": "code",
   "execution_count": 12,
   "id": "9e0d49bd",
   "metadata": {},
   "outputs": [],
   "source": [
    "class WindowGenerator():\n",
    "    def __init__(self, input_width, label_width, shift, train_df=train_df, \n",
    "                 val_df=val_df, test_df=test_df, label_columns=['Dolartoday_log_diff']):\n",
    "        \n",
    "        # Store the raw data.\n",
    "        self.train_df = train_df\n",
    "        self.val_df = val_df\n",
    "        self.test_df = test_df\n",
    "\n",
    "        # Work out the label column indices.\n",
    "        self.label_columns = label_columns\n",
    "        if label_columns is not None:\n",
    "            self.label_columns_indices = {name: i for i, name in\n",
    "                                        enumerate(label_columns)}\n",
    "        self.column_indices = {name: i for i, name in\n",
    "                               enumerate(train_df.columns)}\n",
    "\n",
    "        # Work out the window parameters.\n",
    "        self.input_width = input_width\n",
    "        self.label_width = label_width\n",
    "        self.shift = shift\n",
    "\n",
    "        self.total_window_size = input_width + shift\n",
    "\n",
    "        self.input_slice = slice(0, input_width)\n",
    "        self.input_indices = np.arange(self.total_window_size)[self.input_slice]\n",
    "\n",
    "        self.label_start = self.total_window_size - self.label_width\n",
    "        self.labels_slice = slice(self.label_start, None)\n",
    "        self.label_indices = np.arange(self.total_window_size)[self.labels_slice]\n",
    "\n",
    "    def __repr__(self):\n",
    "        return '\\n'.join([\n",
    "            f'Total window size: {self.total_window_size}',\n",
    "            f'Input indices: {self.input_indices}',\n",
    "            f'Label indices: {self.label_indices}',\n",
    "            f'Label column name(s): {self.label_columns}'])\n",
    "    \n",
    "    def split_window(self, features):\n",
    "        inputs = features[:, self.input_slice, :]\n",
    "        labels = features[:, self.labels_slice, :]\n",
    "        if self.label_columns is not None:\n",
    "            labels = tf.stack(\n",
    "                [labels[:, :, self.column_indices[name]] for name in self.label_columns],\n",
    "                axis=-1)\n",
    "\n",
    "        # Slicing doesn't preserve static shape information, so set the shapes\n",
    "        # manually. This way the `tf.data.Datasets` are easier to inspect.\n",
    "        inputs.set_shape([None, self.input_width, None])\n",
    "        labels.set_shape([None, self.label_width, None])\n",
    "\n",
    "        return inputs, labels\n",
    "\n",
    "    def make_dataset(self, data):\n",
    "        data = np.array(data, dtype=np.float32)\n",
    "        ds = tf.keras.preprocessing.timeseries_dataset_from_array(\n",
    "            data=data,\n",
    "            targets=None,\n",
    "            sequence_length=self.total_window_size,\n",
    "            sequence_stride=1,\n",
    "            shuffle=True,\n",
    "            batch_size=32,)\n",
    "\n",
    "        ds = ds.map(self.split_window)\n",
    "        return ds\n",
    "\n",
    "    @property\n",
    "    def train(self):\n",
    "        return self.make_dataset(self.train_df)\n",
    "\n",
    "    @property\n",
    "    def val(self):\n",
    "        return self.make_dataset(self.val_df)\n",
    "\n",
    "    @property\n",
    "    def test(self):\n",
    "        return self.make_dataset(self.test_df)\n",
    "\n",
    "    @property\n",
    "    def example(self):\n",
    "        \"\"\"Get and cache an example batch of `inputs, labels` for plotting.\"\"\"\n",
    "        result = getattr(self, '_example', None)\n",
    "        if result is None:\n",
    "            # No example batch was found, so get one from the `.train` dataset\n",
    "            result = next(iter(self.train))\n",
    "            # And cache it for next time\n",
    "            self._example = result\n",
    "        return result"
   ]
  },
  {
   "cell_type": "code",
   "execution_count": 13,
   "id": "91a0da80",
   "metadata": {},
   "outputs": [],
   "source": [
    "window_size = 65 * 24\n",
    "distance = 30 * 24\n",
    "window = WindowGenerator(window_size, 1, distance)"
   ]
  },
  {
   "cell_type": "markdown",
   "id": "69c59f44",
   "metadata": {},
   "source": [
    "## The model"
   ]
  },
  {
   "cell_type": "code",
   "execution_count": 14,
   "id": "d56f0733",
   "metadata": {},
   "outputs": [
    {
     "name": "stdout",
     "output_type": "stream",
     "text": [
      "(32, 1560, 7)\n",
      "(32, 1, 1)\n"
     ]
    },
    {
     "name": "stderr",
     "output_type": "stream",
     "text": [
      "2021-12-02 09:46:51.246807: W tensorflow/stream_executor/platform/default/dso_loader.cc:64] Could not load dynamic library 'libcuda.so.1'; dlerror: libcuda.so.1: cannot open shared object file: No such file or directory\n",
      "2021-12-02 09:46:51.246897: W tensorflow/stream_executor/cuda/cuda_driver.cc:269] failed call to cuInit: UNKNOWN ERROR (303)\n",
      "2021-12-02 09:46:51.246939: I tensorflow/stream_executor/cuda/cuda_diagnostics.cc:156] kernel driver does not appear to be running on this host (DESKTOP-SBD4PR3): /proc/driver/nvidia/version does not exist\n",
      "2021-12-02 09:46:51.248015: I tensorflow/core/platform/cpu_feature_guard.cc:151] This TensorFlow binary is optimized with oneAPI Deep Neural Network Library (oneDNN) to use the following CPU instructions in performance-critical operations:  AVX2 FMA\n",
      "To enable them in other operations, rebuild TensorFlow with the appropriate compiler flags.\n"
     ]
    }
   ],
   "source": [
    "# Inspect Shape of Data Samples\n",
    "x_sample, y_sample = next(iter(window.train))\n",
    "print(x_sample.shape)\n",
    "print(y_sample.shape)"
   ]
  },
  {
   "cell_type": "code",
   "execution_count": 15,
   "id": "81a02f4a",
   "metadata": {},
   "outputs": [],
   "source": [
    "from keras.models import Sequential\n",
    "from keras.layers import Dense, SimpleRNN, Flatten, Normalization, Masking, GRU, Dropout, LSTM\n",
    "\n",
    "def init_model():\n",
    "    model = Sequential()\n",
    "    model.add(LSTM(units=32, activation='tanh', input_shape=(window_size,column_count), return_sequences=False))\n",
    "    model.add(Dense(16, activation=\"relu\"))\n",
    "    model.add(Dense(1, activation=\"linear\"))\n",
    "    \n",
    "    model.compile(loss='mae', optimizer='adam', metrics=['mape', 'mse', 'mae'])\n",
    "    return model"
   ]
  },
  {
   "cell_type": "code",
   "execution_count": 16,
   "id": "5d7b2ca4",
   "metadata": {},
   "outputs": [],
   "source": [
    "test_model = init_model()"
   ]
  },
  {
   "cell_type": "code",
   "execution_count": 25,
   "id": "1d527c95",
   "metadata": {},
   "outputs": [
    {
     "name": "stdout",
     "output_type": "stream",
     "text": [
      "Model: \"sequential\"\n",
      "_________________________________________________________________\n",
      " Layer (type)                Output Shape              Param #   \n",
      "=================================================================\n",
      " lstm (LSTM)                 (None, 32)                5120      \n",
      "                                                                 \n",
      " dense (Dense)               (None, 16)                528       \n",
      "                                                                 \n",
      " dense_1 (Dense)             (None, 1)                 17        \n",
      "                                                                 \n",
      "=================================================================\n",
      "Total params: 5,665\n",
      "Trainable params: 5,665\n",
      "Non-trainable params: 0\n",
      "_________________________________________________________________\n"
     ]
    }
   ],
   "source": [
    "test_model.summary()"
   ]
  },
  {
   "cell_type": "code",
   "execution_count": 17,
   "id": "9aa56e1d",
   "metadata": {},
   "outputs": [
    {
     "name": "stdout",
     "output_type": "stream",
     "text": [
      "Epoch 1/5\n",
      "574/574 [==============================] - 461s 801ms/step - loss: 0.0033 - mape: 216087.6562 - mse: 4.0030e-05 - mae: 0.0033\n",
      "Epoch 2/5\n",
      "574/574 [==============================] - 419s 729ms/step - loss: 0.0022 - mape: 136967.5625 - mse: 8.7614e-06 - mae: 0.0022\n",
      "Epoch 3/5\n",
      "574/574 [==============================] - 462s 805ms/step - loss: 0.0018 - mape: 91428.4609 - mse: 5.8070e-06 - mae: 0.0018\n",
      "Epoch 4/5\n",
      "574/574 [==============================] - 451s 785ms/step - loss: 0.0016 - mape: 82705.0703 - mse: 4.9967e-06 - mae: 0.0016\n",
      "Epoch 5/5\n",
      "574/574 [==============================] - 448s 780ms/step - loss: 0.0016 - mape: 80084.4688 - mse: 5.0289e-06 - mae: 0.0016\n"
     ]
    },
    {
     "data": {
      "text/plain": [
       "<keras.callbacks.History at 0x7ff52c6e2880>"
      ]
     },
     "execution_count": 17,
     "metadata": {},
     "output_type": "execute_result"
    }
   ],
   "source": [
    "test_model.fit(window.train, batch_size=32, epochs=5, verbose=1)"
   ]
  },
  {
   "cell_type": "code",
   "execution_count": 19,
   "id": "ea006961",
   "metadata": {},
   "outputs": [
    {
     "data": {
      "text/plain": [
       "<matplotlib.legend.Legend at 0x7ff4e15b0760>"
      ]
     },
     "execution_count": 19,
     "metadata": {},
     "output_type": "execute_result"
    },
    {
     "data": {
      "image/png": "[encoded data removed]",
      "text/plain": [
       "<Figure size 432x288 with 1 Axes>"
      ]
     },
     "metadata": {
      "needs_background": "light"
     },
     "output_type": "display_data"
    }
   ],
   "source": [
    "# PLOT IN DIFFERENCED UNITS\n",
    "predictions = test_model.predict(window.test)\n",
    "series_pred = pd.Series(predictions[:, 0])\n",
    "series_pred.index = test_df.iloc[95*24 - 1:].index\n",
    "series_pred.plot(label = 'pred', color='red')\n",
    "test_df['Dolartoday_log_diff'].plot(label = 'actual', color = 'orange')\n",
    "plt.legend()"
   ]
  },
  {
   "cell_type": "code",
   "execution_count": 20,
   "id": "fbd12d70",
   "metadata": {},
   "outputs": [
    {
     "name": "stdout",
     "output_type": "stream",
     "text": [
      "predictions for 2021-08-21 02:00:00 to 2021-12-19 00:00:00\n"
     ]
    }
   ],
   "source": [
    "# Log Change Prediction Series\n",
    "series_pred_shft = series_pred.shift(30, freq='D')\n",
    "pred_timestamp_count = series_pred_shft.shape[0]\n",
    "first_pred_timestamp = series_pred_shft.index[0]\n",
    "last_pred_timestamp = series_pred_shft.index[-1]\n",
    "print('predictions for', first_pred_timestamp, 'to', last_pred_timestamp)"
   ]
  },
  {
   "cell_type": "code",
   "execution_count": 21,
   "id": "d27b45a0",
   "metadata": {},
   "outputs": [],
   "source": [
    "# Data of base log series to add prediction to \n",
    "delta = datetime.timedelta(30)\n",
    "base_log_series = np.log(df_original['Dolartoday'])\n",
    "base_log_series = base_log_series[first_pred_timestamp - delta:]\n",
    "base_log_series_shft = base_log_series.shift(30, freq='D')"
   ]
  },
  {
   "cell_type": "code",
   "execution_count": 22,
   "id": "5058eb3b",
   "metadata": {},
   "outputs": [],
   "source": [
    "# Complete prediction \n",
    "comp_pred = series_pred_shft + base_log_series_shft"
   ]
  },
  {
   "cell_type": "code",
   "execution_count": 23,
   "id": "39840227",
   "metadata": {},
   "outputs": [
    {
     "data": {
      "text/plain": [
       "<matplotlib.legend.Legend at 0x7ff4e3688ac0>"
      ]
     },
     "execution_count": 23,
     "metadata": {},
     "output_type": "execute_result"
    },
    {
     "data": {
      "image/png": "[encoded data removed]",
      "text/plain": [
       "<Figure size 432x288 with 1 Axes>"
      ]
     },
     "metadata": {
      "needs_background": "light"
     },
     "output_type": "display_data"
    }
   ],
   "source": [
    "# PLOT IN LOG UNITS\n",
    "comp_pred.plot(label = 'pred', color='red')\n",
    "base_log_series.plot(label = 'actual', color = 'orange')\n",
    "plt.legend()"
   ]
  },
  {
   "cell_type": "code",
   "execution_count": 24,
   "id": "34568012",
   "metadata": {},
   "outputs": [
    {
     "data": {
      "text/plain": [
       "<matplotlib.legend.Legend at 0x7ff4e15e55b0>"
      ]
     },
     "execution_count": 24,
     "metadata": {},
     "output_type": "execute_result"
    },
    {
     "data": {
      "image/png": "[encoded data removed]",
      "text/plain": [
       "<Figure size 432x288 with 1 Axes>"
      ]
     },
     "metadata": {
      "needs_background": "light"
     },
     "output_type": "display_data"
    }
   ],
   "source": [
    "comp_pred_orig = np.exp(comp_pred)\n",
    "base_log_series_orig = np.exp(base_log_series)\n",
    "comp_pred_orig.plot(label = 'pred', color='red')\n",
    "base_log_series_orig.plot(label = 'actual', color = 'orange')\n",
    "plt.legend()"
   ]
  },
  {
   "cell_type": "code",
   "execution_count": null,
   "id": "b524579f",
   "metadata": {},
   "outputs": [],
   "source": [
    "# Calculate average absolute % error in original units\n"
   ]
  },
  {
   "cell_type": "code",
   "execution_count": null,
   "id": "1320ea64",
   "metadata": {},
   "outputs": [],
   "source": [
    "from scipy.stats import pearsonr\n",
    "pearsonr(test_df.iloc[94:,-1], series_pred)"
   ]
  },
  {
   "cell_type": "code",
   "execution_count": null,
   "id": "592343c1",
   "metadata": {},
   "outputs": [],
   "source": [
    "# Check if it is overfitting\n",
    "predictions = test_model.predict(window.train)\n",
    "series_pred = pd.Series(predictions[:, 0])\n",
    "series_pred.index = train_df.iloc[94:].index\n",
    "series_pred.plot(label = 'pred')\n",
    "train_df['Dolartoday_log_diff'].plot(label = 'actual', color = 'orange')\n",
    "plt.legend()"
   ]
  },
  {
   "cell_type": "code",
   "execution_count": null,
   "id": "f4b69ad2",
   "metadata": {
    "scrolled": true
   },
   "outputs": [],
   "source": [
    "pearsonr(train_df.iloc[94:,-1], series_pred)"
   ]
  },
  {
   "cell_type": "code",
   "execution_count": null,
   "id": "eda2a430",
   "metadata": {},
   "outputs": [],
   "source": [
    "series_pred"
   ]
  }
 ],
 "metadata": {
  "kernelspec": {
   "display_name": "Python 3 (ipykernel)",
   "language": "python",
   "name": "python3"
  },
  "language_info": {
   "codemirror_mode": {
    "name": "ipython",
    "version": 3
   },
   "file_extension": ".py",
   "mimetype": "text/x-python",
   "name": "python",
   "nbconvert_exporter": "python",
   "pygments_lexer": "ipython3",
   "version": "3.8.12"
  },
  "toc": {
   "base_numbering": 1,
   "nav_menu": {},
   "number_sections": true,
   "sideBar": true,
   "skip_h1_title": false,
   "title_cell": "Table of Contents",
   "title_sidebar": "Contents",
   "toc_cell": false,
   "toc_position": {},
   "toc_section_display": true,
   "toc_window_display": false
  }
 },
 "nbformat": 4,
 "nbformat_minor": 5
}
