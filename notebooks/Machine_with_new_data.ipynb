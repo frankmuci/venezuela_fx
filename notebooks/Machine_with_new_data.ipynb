{
 "cells": [
  {
   "cell_type": "markdown",
   "id": "b4dfa438",
   "metadata": {},
   "source": [
    "# Machine with new data"
   ]
  },
  {
   "cell_type": "markdown",
   "id": "bcfb5485",
   "metadata": {},
   "source": [
    "## Imports"
   ]
  },
  {
   "cell_type": "code",
   "execution_count": 542,
   "id": "4942bd32",
   "metadata": {},
   "outputs": [],
   "source": [
    "import pandas as pd\n",
    "import numpy as np\n",
    "import matplotlib.pyplot as plt\n",
    "import math\n",
    "from sklearn.preprocessing import RobustScaler, StandardScaler, MinMaxScaler, OneHotEncoder\n",
    "from sklearn.pipeline import Pipeline\n",
    "from sklearn.linear_model import LinearRegression, ElasticNet, Ridge, Lasso, LogisticRegression\n",
    "from sklearn.model_selection import train_test_split, cross_val_score, GridSearchCV, cross_validate\n",
    "from sklearn.metrics import mean_squared_error, mean_absolute_error, r2_score, max_error, accuracy_score\n",
    "from sklearn.tree import DecisionTreeRegressor\n",
    "from sklearn.ensemble import RandomForestRegressor, AdaBoostRegressor, GradientBoostingRegressor, RandomForestClassifier, GradientBoostingClassifier\n",
    "from xgboost import XGBRegressor"
   ]
  },
  {
   "cell_type": "markdown",
   "id": "acdfcc24",
   "metadata": {},
   "source": [
    "## Data"
   ]
  },
  {
   "cell_type": "code",
   "execution_count": 17,
   "id": "3962c14e",
   "metadata": {},
   "outputs": [],
   "source": [
    "origin_df = pd.read_csv('/Users/joseph/code/Ward-cloud/project/venezuela_fx/venezuela_fx/data/friday_feeling_df.csv')\n",
    "\n",
    "df = origin_df.copy()"
   ]
  },
  {
   "cell_type": "code",
   "execution_count": 19,
   "id": "39682e7d",
   "metadata": {},
   "outputs": [],
   "source": [
    "df['date'] = df['date'].apply(pd.to_datetime)"
   ]
  },
  {
   "cell_type": "code",
   "execution_count": 20,
   "id": "730c8b9e",
   "metadata": {},
   "outputs": [],
   "source": [
    "df.rename(columns = {'date':'Date'}, inplace=True)"
   ]
  },
  {
   "cell_type": "code",
   "execution_count": 21,
   "id": "7d8aed14",
   "metadata": {},
   "outputs": [],
   "source": [
    "df = df.set_index('Date')"
   ]
  },
  {
   "cell_type": "code",
   "execution_count": 22,
   "id": "5f256be9",
   "metadata": {},
   "outputs": [
    {
     "data": {
      "image/png": "[encoded data removed]",
      "text/plain": [
       "<Figure size 432x288 with 1 Axes>"
      ]
     },
     "metadata": {
      "needs_background": "light"
     },
     "output_type": "display_data"
    }
   ],
   "source": [
    "plt.plot(df['Dolartoday'])\n",
    "plt.yscale('log')"
   ]
  },
  {
   "cell_type": "markdown",
   "id": "1886db1e",
   "metadata": {},
   "source": [
    "## Flattening"
   ]
  },
  {
   "cell_type": "code",
   "execution_count": 23,
   "id": "e3050bcd",
   "metadata": {},
   "outputs": [],
   "source": [
    "X= df.drop(columns = ['Dolartoday'])\n",
    "y= df['Dolartoday']"
   ]
  },
  {
   "cell_type": "code",
   "execution_count": 24,
   "id": "0ac76bfa",
   "metadata": {},
   "outputs": [
    {
     "data": {
      "text/plain": [
       "(51577, 20)"
      ]
     },
     "execution_count": 24,
     "metadata": {},
     "output_type": "execute_result"
    }
   ],
   "source": [
    "X.shape"
   ]
  },
  {
   "cell_type": "code",
   "execution_count": 25,
   "id": "d424ba15",
   "metadata": {},
   "outputs": [
    {
     "data": {
      "text/plain": [
       "(51577,)"
      ]
     },
     "execution_count": 25,
     "metadata": {},
     "output_type": "execute_result"
    }
   ],
   "source": [
    "y.shape"
   ]
  },
  {
   "cell_type": "code",
   "execution_count": 26,
   "id": "9dfd31bb",
   "metadata": {},
   "outputs": [],
   "source": [
    "values = []\n",
    "y_list =[]\n",
    "target_distance = 7\n",
    "seq_length =7\n",
    "for idx in list(range(0,51570)):\n",
    "    X_temp = X.iloc[idx:idx+seq_length]\n",
    "    values.append(X_temp.values.reshape(-1))\n",
    "    y_list.append(y[idx+target_distance])\n",
    "\n",
    "X_df = pd.DataFrame(np.vstack(values))\n",
    "\n",
    "y_series = pd.Series(y_list)"
   ]
  },
  {
   "cell_type": "markdown",
   "id": "ccc4899f",
   "metadata": {},
   "source": [
    "## Scaling"
   ]
  },
  {
   "cell_type": "markdown",
   "id": "f6a7f33a",
   "metadata": {},
   "source": [
    "### Robust Scaler"
   ]
  },
  {
   "cell_type": "markdown",
   "id": "f36ae38b",
   "metadata": {},
   "source": [
    "### MinMaxScaler"
   ]
  },
  {
   "cell_type": "markdown",
   "id": "09f74676",
   "metadata": {},
   "source": [
    "### Logger"
   ]
  },
  {
   "cell_type": "code",
   "execution_count": 46,
   "id": "6f42a14c",
   "metadata": {},
   "outputs": [
    {
     "data": {
      "text/plain": [
       "(51577, 21)"
      ]
     },
     "execution_count": 46,
     "metadata": {},
     "output_type": "execute_result"
    }
   ],
   "source": [
    "df.shape"
   ]
  },
  {
   "cell_type": "code",
   "execution_count": 47,
   "id": "33193897",
   "metadata": {},
   "outputs": [],
   "source": [
    "log_scaled_df = np.log(df).diff()"
   ]
  },
  {
   "cell_type": "code",
   "execution_count": 48,
   "id": "8a389a4e",
   "metadata": {},
   "outputs": [
    {
     "data": {
      "text/plain": [
       "(51577, 21)"
      ]
     },
     "execution_count": 48,
     "metadata": {},
     "output_type": "execute_result"
    }
   ],
   "source": [
    "log_scaled_df.shape"
   ]
  },
  {
   "cell_type": "code",
   "execution_count": 53,
   "id": "059d83ab",
   "metadata": {},
   "outputs": [
    {
     "data": {
      "text/plain": [
       "17192.333333333332"
      ]
     },
     "execution_count": 53,
     "metadata": {},
     "output_type": "execute_result"
    }
   ],
   "source": [
    "51577/3"
   ]
  },
  {
   "cell_type": "code",
   "execution_count": 49,
   "id": "f487891a",
   "metadata": {},
   "outputs": [
    {
     "data": {
      "text/plain": [
       "Stock_Market                      1\n",
       "Deposit_Interest_Rate           241\n",
       "Interest_Rate                     1\n",
       "Money_Supply_M3                   1\n",
       "Central_Bank_Balance_Sheet        1\n",
       "Crude_Oil_Production              1\n",
       "Crude_Oil_Rig                 12169\n",
       "Money_Supply_M0                   1\n",
       "Foreign_Exchange_Reserve          1\n",
       "External_Debt                 29305\n",
       "Inflation_Rate                    1\n",
       "Money_Supply_M2                   1\n",
       "Inflation_Rate_Mom                1\n",
       "Private_Sector_Credit             1\n",
       "Consumer_Price_Index_CPI          1\n",
       "CPI_Transportation                1\n",
       "Money_Supply_M1                   1\n",
       "Banks_Balance_Sheet               1\n",
       "Dolartoday                        1\n",
       "BM (BsS)                          1\n",
       "M2 (BsS)                          1\n",
       "dtype: int64"
      ]
     },
     "execution_count": 49,
     "metadata": {},
     "output_type": "execute_result"
    }
   ],
   "source": [
    "log_scaled_df.isna().sum()"
   ]
  },
  {
   "cell_type": "code",
   "execution_count": 103,
   "id": "3e21d6ff",
   "metadata": {},
   "outputs": [],
   "source": [
    "log_scaled_df.fillna(0.0, inplace=True)"
   ]
  },
  {
   "cell_type": "code",
   "execution_count": 104,
   "id": "dad880ed",
   "metadata": {
    "scrolled": true
   },
   "outputs": [
    {
     "data": {
      "text/plain": [
       "(51577, 21)"
      ]
     },
     "execution_count": 104,
     "metadata": {},
     "output_type": "execute_result"
    }
   ],
   "source": [
    "log_scaled_df.shape"
   ]
  },
  {
   "cell_type": "code",
   "execution_count": 105,
   "id": "4aa8f1fd",
   "metadata": {},
   "outputs": [
    {
     "data": {
      "text/plain": [
       "34577"
      ]
     },
     "execution_count": 105,
     "metadata": {},
     "output_type": "execute_result"
    }
   ],
   "source": [
    "51577-17000"
   ]
  },
  {
   "cell_type": "code",
   "execution_count": 106,
   "id": "72c7ba9f",
   "metadata": {},
   "outputs": [],
   "source": [
    "ls_train = log_scaled_df.iloc[:34577]\n",
    "\n",
    "ls_test = log_scaled_df.iloc[34577:]\n",
    "\n",
    "l_X_test = ls_test.drop(columns=['Dolartoday'])\n",
    "l_y_test = ls_test['Dolartoday']\n",
    "\n",
    "l_X_train = ls_train.drop(columns=['Dolartoday'])\n",
    "l_y_train = ls_train['Dolartoday']"
   ]
  },
  {
   "cell_type": "code",
   "execution_count": 107,
   "id": "d6b1c4cf",
   "metadata": {},
   "outputs": [
    {
     "data": {
      "text/plain": [
       "(34577, 20)"
      ]
     },
     "execution_count": 107,
     "metadata": {},
     "output_type": "execute_result"
    }
   ],
   "source": [
    "l_X_train.shape"
   ]
  },
  {
   "cell_type": "code",
   "execution_count": 108,
   "id": "fc10649c",
   "metadata": {},
   "outputs": [],
   "source": [
    "values = []\n",
    "y_list =[]\n",
    "target_distance = 7\n",
    "seq_length =7\n",
    "for idx in list(range(0,16993)):\n",
    "    X_temp = l_X_test.iloc[idx:idx+seq_length]\n",
    "    values.append(X_temp.values.reshape(-1))\n",
    "    y_list.append(l_y_test[idx+target_distance])\n",
    "flX_test = pd.DataFrame(np.vstack(values))\n",
    "\n",
    "fly_test = pd.Series(y_list)"
   ]
  },
  {
   "cell_type": "code",
   "execution_count": 73,
   "id": "b48edb23",
   "metadata": {},
   "outputs": [],
   "source": [
    "# flx_test = X_test\n",
    "# fly_seri = y_test"
   ]
  },
  {
   "cell_type": "code",
   "execution_count": 109,
   "id": "1a1007ec",
   "metadata": {},
   "outputs": [
    {
     "data": {
      "text/plain": [
       "(17000,)"
      ]
     },
     "execution_count": 109,
     "metadata": {},
     "output_type": "execute_result"
    }
   ],
   "source": [
    "l_y_test.shape"
   ]
  },
  {
   "cell_type": "code",
   "execution_count": 110,
   "id": "3151c57c",
   "metadata": {},
   "outputs": [],
   "source": [
    "values = []\n",
    "y_list =[]\n",
    "target_distance = 7\n",
    "seq_length =7\n",
    "for idx in list(range(0,34570)):\n",
    "    X_temp = l_X_train.iloc[idx:idx+seq_length]\n",
    "    values.append(X_temp.values.reshape(-1))\n",
    "    y_list.append(l_y_train[idx+target_distance])\n",
    "flX_train = pd.DataFrame(np.vstack(values))\n",
    "\n",
    "fly_train = pd.Series(y_list)"
   ]
  },
  {
   "cell_type": "code",
   "execution_count": 77,
   "id": "4317ac1d",
   "metadata": {},
   "outputs": [],
   "source": [
    "# flx_train = X_train\n",
    "# fly_train = y_train"
   ]
  },
  {
   "cell_type": "code",
   "execution_count": 111,
   "id": "541b0254",
   "metadata": {},
   "outputs": [
    {
     "data": {
      "text/plain": [
       "(34570, 140)"
      ]
     },
     "execution_count": 111,
     "metadata": {},
     "output_type": "execute_result"
    }
   ],
   "source": [
    "flX_train.shape"
   ]
  },
  {
   "cell_type": "code",
   "execution_count": 112,
   "id": "9ddae966",
   "metadata": {},
   "outputs": [
    {
     "data": {
      "text/plain": [
       "(34570,)"
      ]
     },
     "execution_count": 112,
     "metadata": {},
     "output_type": "execute_result"
    }
   ],
   "source": [
    "fly_train.shape"
   ]
  },
  {
   "cell_type": "code",
   "execution_count": 113,
   "id": "a6dc38bb",
   "metadata": {},
   "outputs": [
    {
     "data": {
      "text/plain": [
       "True"
      ]
     },
     "execution_count": 113,
     "metadata": {},
     "output_type": "execute_result"
    }
   ],
   "source": [
    "flX_train.isin([np.inf, -np.inf]).sum().any()"
   ]
  },
  {
   "cell_type": "code",
   "execution_count": 114,
   "id": "e92083ab",
   "metadata": {},
   "outputs": [],
   "source": [
    "flX_train.replace(np.inf, 0.0, inplace=True)\n",
    "flX_train.replace(-np.inf, 0.0, inplace=True)"
   ]
  },
  {
   "cell_type": "code",
   "execution_count": 115,
   "id": "38a5f7e5",
   "metadata": {},
   "outputs": [
    {
     "data": {
      "text/plain": [
       "True"
      ]
     },
     "execution_count": 115,
     "metadata": {},
     "output_type": "execute_result"
    }
   ],
   "source": [
    "flX_test.isin([np.inf, -np.inf]).sum().any()"
   ]
  },
  {
   "cell_type": "code",
   "execution_count": 116,
   "id": "5d3a9dd9",
   "metadata": {},
   "outputs": [],
   "source": [
    "flX_test.replace(np.inf, 0.0, inplace=True)\n",
    "flX_test.replace(-np.inf, 0.0, inplace=True)"
   ]
  },
  {
   "cell_type": "code",
   "execution_count": 117,
   "id": "5df75f16",
   "metadata": {},
   "outputs": [
    {
     "data": {
      "text/plain": [
       "False"
      ]
     },
     "execution_count": 117,
     "metadata": {},
     "output_type": "execute_result"
    }
   ],
   "source": [
    "fly_test.isin([np.inf, -np.inf]).sum().any()"
   ]
  },
  {
   "cell_type": "code",
   "execution_count": 90,
   "id": "2f13ef21",
   "metadata": {},
   "outputs": [],
   "source": [
    "# flX_train.dropna(inplace=True)"
   ]
  },
  {
   "cell_type": "code",
   "execution_count": 93,
   "id": "f9123e49",
   "metadata": {},
   "outputs": [],
   "source": [
    "# flX_test.dropna(inplace=True)"
   ]
  },
  {
   "cell_type": "markdown",
   "id": "da729759",
   "metadata": {},
   "source": [
    "## Models"
   ]
  },
  {
   "cell_type": "markdown",
   "id": "d9714d31",
   "metadata": {},
   "source": [
    "### forest with fly"
   ]
  },
  {
   "cell_type": "code",
   "execution_count": 118,
   "id": "6f435fa3",
   "metadata": {},
   "outputs": [],
   "source": [
    "forest = RandomForestRegressor(n_estimators=60)"
   ]
  },
  {
   "cell_type": "code",
   "execution_count": 119,
   "id": "5e1593f8",
   "metadata": {},
   "outputs": [
    {
     "data": {
      "text/plain": [
       "RandomForestRegressor(n_estimators=60)"
      ]
     },
     "execution_count": 119,
     "metadata": {},
     "output_type": "execute_result"
    }
   ],
   "source": [
    "forest.fit(flX_train, fly_train)"
   ]
  },
  {
   "cell_type": "code",
   "execution_count": 120,
   "id": "25a2e92d",
   "metadata": {},
   "outputs": [
    {
     "data": {
      "text/plain": [
       "-0.4739960951268787"
      ]
     },
     "execution_count": 120,
     "metadata": {},
     "output_type": "execute_result"
    }
   ],
   "source": [
    "forest.score(flX_test, fly_test)"
   ]
  },
  {
   "cell_type": "code",
   "execution_count": 132,
   "id": "ceb06944",
   "metadata": {},
   "outputs": [],
   "source": [
    "y_pred = forest.predict(flX_test)"
   ]
  },
  {
   "cell_type": "code",
   "execution_count": 160,
   "id": "3fe8fc45",
   "metadata": {
    "scrolled": true
   },
   "outputs": [
    {
     "name": "stdout",
     "output_type": "stream",
     "text": [
      "mean_squared_error: 2.301801224575742e-06\n",
      "mean_absolute_error: 0.0009890129931764914\n",
      "r2_score: -0.4739960951268787\n",
      "max_error: 0.01094710120218399\n"
     ]
    },
    {
     "data": {
      "image/png": "[encoded data removed]",
      "text/plain": [
       "<Figure size 432x288 with 1 Axes>"
      ]
     },
     "metadata": {
      "needs_background": "light"
     },
     "output_type": "display_data"
    }
   ],
   "source": [
    "test_scores(fly_test, y_pred)"
   ]
  },
  {
   "cell_type": "code",
   "execution_count": 174,
   "id": "3757dbb5",
   "metadata": {},
   "outputs": [
    {
     "data": {
      "image/png": "[encoded data removed]",
      "text/plain": [
       "<Figure size 432x288 with 1 Axes>"
      ]
     },
     "metadata": {
      "needs_background": "light"
     },
     "output_type": "display_data"
    }
   ],
   "source": [
    "real_vis(fly_test, y_pred)"
   ]
  },
  {
   "cell_type": "code",
   "execution_count": 210,
   "id": "03ab6a3b",
   "metadata": {},
   "outputs": [
    {
     "data": {
      "text/plain": [
       "[<matplotlib.lines.Line2D at 0x12c28f040>]"
      ]
     },
     "execution_count": 210,
     "metadata": {},
     "output_type": "execute_result"
    },
    {
     "data": {
      "image/png": "[encoded data removed]",
      "text/plain": [
       "<Figure size 432x288 with 1 Axes>"
      ]
     },
     "metadata": {
      "needs_background": "light"
     },
     "output_type": "display_data"
    }
   ],
   "source": [
    "temp_series = pd.Series(y_pred)\n",
    "temp_series.index=df.iloc[34584:].index\n",
    "start = df.at[temp_series.index[0], 'Dolartoday']\n",
    "start = np.log(start)\n",
    "pred_log = temp_series.cumsum()\n",
    "pred_log += start\n",
    "plt.plot(pred_log, color='red')\n",
    "plt.plot(np.log(df[34584:]['Dolartoday']))"
   ]
  },
  {
   "cell_type": "code",
   "execution_count": null,
   "id": "c1486bf0",
   "metadata": {},
   "outputs": [],
   "source": []
  },
  {
   "cell_type": "markdown",
   "id": "45562f22",
   "metadata": {},
   "source": [
    "### Ridge"
   ]
  },
  {
   "cell_type": "code",
   "execution_count": 127,
   "id": "34623a65",
   "metadata": {},
   "outputs": [],
   "source": [
    "ridge = Ridge(alpha=0.2).fit(flX_train, fly_train)"
   ]
  },
  {
   "cell_type": "code",
   "execution_count": 128,
   "id": "2683e320",
   "metadata": {},
   "outputs": [
    {
     "data": {
      "text/plain": [
       "-0.024247966569017843"
      ]
     },
     "execution_count": 128,
     "metadata": {},
     "output_type": "execute_result"
    }
   ],
   "source": [
    "ridge.score(flX_test, fly_test)"
   ]
  },
  {
   "cell_type": "code",
   "execution_count": 133,
   "id": "cb9c165a",
   "metadata": {},
   "outputs": [],
   "source": [
    "ridge_y_pred = ridge.predict(flX_test)"
   ]
  },
  {
   "cell_type": "code",
   "execution_count": 137,
   "id": "c1cd85eb",
   "metadata": {},
   "outputs": [
    {
     "data": {
      "text/plain": [
       "0.0007892666764059225"
      ]
     },
     "execution_count": 137,
     "metadata": {},
     "output_type": "execute_result"
    }
   ],
   "source": [
    "mean_absolute_error(fly_test, ridge_y_pred)"
   ]
  },
  {
   "cell_type": "code",
   "execution_count": 138,
   "id": "947a3ccd",
   "metadata": {},
   "outputs": [
    {
     "data": {
      "text/plain": [
       "0.00014060857831105664"
      ]
     },
     "execution_count": 138,
     "metadata": {},
     "output_type": "execute_result"
    }
   ],
   "source": [
    "np.mean(ridge_y_pred - fly_test)"
   ]
  },
  {
   "cell_type": "code",
   "execution_count": 139,
   "id": "36000129",
   "metadata": {},
   "outputs": [
    {
     "data": {
      "text/plain": [
       "-0.024247966569017843"
      ]
     },
     "execution_count": 139,
     "metadata": {},
     "output_type": "execute_result"
    }
   ],
   "source": [
    "r2_score(fly_test, ridge_y_pred)"
   ]
  },
  {
   "cell_type": "code",
   "execution_count": null,
   "id": "bde19f90",
   "metadata": {},
   "outputs": [],
   "source": [
    "from sklearn.metrics import mean_squared_error, mean_absolute_error, r2_score, max_error"
   ]
  },
  {
   "cell_type": "code",
   "execution_count": null,
   "id": "39d26b02",
   "metadata": {},
   "outputs": [],
   "source": [
    "fly_real = np.exp(fly_test.cumsum())\n",
    "\n",
    "fly_pred = np.exp((pd.Series(forest.predict(flX_test)).cumsum()))"
   ]
  },
  {
   "cell_type": "code",
   "execution_count": 163,
   "id": "61748584",
   "metadata": {},
   "outputs": [],
   "source": [
    "def test_scores(y_true, y_pred):\n",
    "    print(f\"mean_squared_error: {mean_squared_error(y_true,y_pred)}\")\n",
    "    print(f\"mean_absolute_error: {mean_absolute_error(y_true,y_pred)}\")\n",
    "    print(f'r2_score: {r2_score(y_true, y_pred)}')\n",
    "    print(f'max_error: {max_error(y_true, y_pred)}')\n",
    "    plt.plot(y_true)\n",
    "    plt.plot(y_pred)"
   ]
  },
  {
   "cell_type": "code",
   "execution_count": 172,
   "id": "06c4c5a7",
   "metadata": {},
   "outputs": [],
   "source": [
    "def real_vis(y_true, y_pred):\n",
    "    y_true = np.exp(y_true.cumsum())\n",
    "    y_pred = np.exp(pd.Series(y_pred).cumsum())\n",
    "    plt.plot(y_true)\n",
    "    plt.plot(y_pred, color='red')"
   ]
  },
  {
   "cell_type": "code",
   "execution_count": 165,
   "id": "8cdb8a96",
   "metadata": {},
   "outputs": [
    {
     "name": "stdout",
     "output_type": "stream",
     "text": [
      "mean_squared_error: 1.5994718245945148e-06\n",
      "mean_absolute_error: 0.0007892666764059225\n",
      "r2_score: -0.024247966569017843\n",
      "max_error: 0.011196326803839952\n"
     ]
    },
    {
     "data": {
      "image/png": "[encoded data removed]",
      "text/plain": [
       "<Figure size 432x288 with 1 Axes>"
      ]
     },
     "metadata": {
      "needs_background": "light"
     },
     "output_type": "display_data"
    }
   ],
   "source": [
    "test_scores(fly_test, ridge_y_pred)"
   ]
  },
  {
   "cell_type": "code",
   "execution_count": 173,
   "id": "64323acd",
   "metadata": {},
   "outputs": [
    {
     "data": {
      "image/png": "[encoded data removed]",
      "text/plain": [
       "<Figure size 432x288 with 1 Axes>"
      ]
     },
     "metadata": {
      "needs_background": "light"
     },
     "output_type": "display_data"
    }
   ],
   "source": [
    "real_vis(fly_test, ridge_y_pred)"
   ]
  },
  {
   "cell_type": "markdown",
   "id": "57ff2e09",
   "metadata": {},
   "source": [
    "### Linear Regression"
   ]
  },
  {
   "cell_type": "code",
   "execution_count": 146,
   "id": "1236e3cc",
   "metadata": {},
   "outputs": [],
   "source": [
    "lin_model = LinearRegression()"
   ]
  },
  {
   "cell_type": "code",
   "execution_count": 147,
   "id": "e24995fd",
   "metadata": {},
   "outputs": [
    {
     "data": {
      "text/plain": [
       "LinearRegression()"
      ]
     },
     "execution_count": 147,
     "metadata": {},
     "output_type": "execute_result"
    }
   ],
   "source": [
    "lin_model.fit(flX_train, fly_train)"
   ]
  },
  {
   "cell_type": "code",
   "execution_count": 148,
   "id": "8d083b28",
   "metadata": {},
   "outputs": [],
   "source": [
    "lin_pred = lin_model.predict(flX_test)"
   ]
  },
  {
   "cell_type": "code",
   "execution_count": 157,
   "id": "32676822",
   "metadata": {},
   "outputs": [
    {
     "name": "stdout",
     "output_type": "stream",
     "text": [
      "mean_squared_error: 3.077972054393007e-06\n",
      "mean_absolute_error: 0.0008778434340496203\n",
      "r2_score: -0.9710297920799715\n",
      "max_error: 0.0801687467580285\n"
     ]
    },
    {
     "data": {
      "image/png": "[encoded data removed]",
      "text/plain": [
       "<Figure size 432x288 with 1 Axes>"
      ]
     },
     "metadata": {
      "needs_background": "light"
     },
     "output_type": "display_data"
    }
   ],
   "source": [
    "test_scores(fly_test, lin_pred)"
   ]
  },
  {
   "cell_type": "code",
   "execution_count": 175,
   "id": "b562febc",
   "metadata": {},
   "outputs": [
    {
     "data": {
      "image/png": "[encoded data removed]",
      "text/plain": [
       "<Figure size 432x288 with 1 Axes>"
      ]
     },
     "metadata": {
      "needs_background": "light"
     },
     "output_type": "display_data"
    }
   ],
   "source": [
    "real_vis(fly_test, lin_pred)"
   ]
  },
  {
   "cell_type": "markdown",
   "id": "06ca1535",
   "metadata": {},
   "source": [
    "### booster"
   ]
  },
  {
   "cell_type": "code",
   "execution_count": 150,
   "id": "4f794e0c",
   "metadata": {},
   "outputs": [],
   "source": [
    "grad_model = GradientBoostingRegressor(n_estimators=100, learning_rate=0.1, max_depth=6)"
   ]
  },
  {
   "cell_type": "code",
   "execution_count": 151,
   "id": "36a2cb25",
   "metadata": {},
   "outputs": [
    {
     "data": {
      "text/plain": [
       "GradientBoostingRegressor(max_depth=6)"
      ]
     },
     "execution_count": 151,
     "metadata": {},
     "output_type": "execute_result"
    }
   ],
   "source": [
    "grad_model.fit(flX_train, fly_train)"
   ]
  },
  {
   "cell_type": "code",
   "execution_count": 159,
   "id": "43931f41",
   "metadata": {},
   "outputs": [
    {
     "name": "stdout",
     "output_type": "stream",
     "text": [
      "mean_squared_error: 1.7158578114304383e-06\n",
      "mean_absolute_error: 0.0008171867452033114\n",
      "r2_score: -0.0987776385024659\n",
      "max_error: 0.011172768990062563\n"
     ]
    },
    {
     "data": {
      "image/png": "[encoded data removed]",
      "text/plain": [
       "<Figure size 432x288 with 1 Axes>"
      ]
     },
     "metadata": {
      "needs_background": "light"
     },
     "output_type": "display_data"
    }
   ],
   "source": [
    "grad_pred = grad_model.predict(flX_test)\n",
    "test_scores(fly_test, grad_pred)\n"
   ]
  },
  {
   "cell_type": "code",
   "execution_count": 176,
   "id": "fcfb8852",
   "metadata": {},
   "outputs": [
    {
     "data": {
      "image/png": "[encoded data removed]",
      "text/plain": [
       "<Figure size 432x288 with 1 Axes>"
      ]
     },
     "metadata": {
      "needs_background": "light"
     },
     "output_type": "display_data"
    }
   ],
   "source": [
    "real_vis(fly_test, grad_pred)"
   ]
  },
  {
   "cell_type": "code",
   "execution_count": 191,
   "id": "e8d4fc76",
   "metadata": {},
   "outputs": [
    {
     "data": {
      "text/plain": [
       "16993"
      ]
     },
     "execution_count": 191,
     "metadata": {},
     "output_type": "execute_result"
    }
   ],
   "source": [
    "len(grad_pred)"
   ]
  },
  {
   "cell_type": "code",
   "execution_count": 198,
   "id": "695d6a84",
   "metadata": {},
   "outputs": [],
   "source": [
    "temp_series = pd.Series(grad_pred)\n",
    "temp_series.index=df.iloc[34584:].index"
   ]
  },
  {
   "cell_type": "code",
   "execution_count": 209,
   "id": "f9637573",
   "metadata": {
    "scrolled": true
   },
   "outputs": [
    {
     "data": {
      "text/plain": [
       "[<matplotlib.lines.Line2D at 0x12c8494f0>]"
      ]
     },
     "execution_count": 209,
     "metadata": {},
     "output_type": "execute_result"
    },
    {
     "data": {
      "image/png": "[encoded data removed]",
      "text/plain": [
       "<Figure size 432x288 with 1 Axes>"
      ]
     },
     "metadata": {
      "needs_background": "light"
     },
     "output_type": "display_data"
    }
   ],
   "source": [
    "start = df.at[temp_series.index[0], 'Dolartoday']\n",
    "start = np.log(start)\n",
    "pred_log = temp_series.cumsum()\n",
    "pred_log += start\n",
    "plt.plot(pred_log, color='red')\n",
    "plt.plot(np.log(df[34584:]['Dolartoday']))\n",
    "\n"
   ]
  },
  {
   "cell_type": "markdown",
   "id": "01d3f85b",
   "metadata": {},
   "source": [
    "### Mixing it up; exponential smoothin"
   ]
  },
  {
   "cell_type": "code",
   "execution_count": 179,
   "id": "fca26b73",
   "metadata": {},
   "outputs": [],
   "source": [
    "X_train, X_test, y_train, y_test = train_test_split(X, y, test_size=0.33, random_state=42)"
   ]
  },
  {
   "cell_type": "code",
   "execution_count": 185,
   "id": "a70a3745",
   "metadata": {},
   "outputs": [],
   "source": [
    "# # single exponential smoothing\n",
    "# from statsmodels.tsa.holtwinters import SimpleExpSmoothing\n",
    "# # # prepare data\n",
    "# # data = ...\n",
    "# # # create class\n",
    "# model = SimpleExpSmoothing(df)\n",
    "# # fit model\n",
    "# model.fit(X_train, y_train)\n",
    "# # make prediction\n",
    "# yhat = model.predict(X_test)"
   ]
  },
  {
   "cell_type": "code",
   "execution_count": null,
   "id": "50efcf4e",
   "metadata": {},
   "outputs": [],
   "source": []
  },
  {
   "cell_type": "markdown",
   "id": "29d2353b",
   "metadata": {},
   "source": [
    "### with data since 2012"
   ]
  },
  {
   "cell_type": "code",
   "execution_count": 218,
   "id": "9e84eace",
   "metadata": {},
   "outputs": [],
   "source": [
    "early_origin = pd.read_csv('/Users/joseph/code/Ward-cloud/project/venezuela_fx/venezuela_fx/data/since_2012_master.csv')"
   ]
  },
  {
   "cell_type": "code",
   "execution_count": 225,
   "id": "06cc7601",
   "metadata": {},
   "outputs": [],
   "source": [
    "early_origin['date'] = early_origin['date'].apply(pd.to_datetime)"
   ]
  },
  {
   "cell_type": "code",
   "execution_count": 226,
   "id": "1a2af5c2",
   "metadata": {},
   "outputs": [],
   "source": [
    "early_origin.set_index('date', inplace=True)"
   ]
  },
  {
   "cell_type": "code",
   "execution_count": 227,
   "id": "8b36dda5",
   "metadata": {},
   "outputs": [],
   "source": [
    "e_log_scaled_df = np.log(early_origin).diff()"
   ]
  },
  {
   "cell_type": "code",
   "execution_count": 228,
   "id": "69afba37",
   "metadata": {},
   "outputs": [
    {
     "data": {
      "text/plain": [
       "(86641, 19)"
      ]
     },
     "execution_count": 228,
     "metadata": {},
     "output_type": "execute_result"
    }
   ],
   "source": [
    "e_log_scaled_df.shape"
   ]
  },
  {
   "cell_type": "code",
   "execution_count": 229,
   "id": "f99a2ccc",
   "metadata": {},
   "outputs": [
    {
     "data": {
      "text/plain": [
       "60648.7"
      ]
     },
     "execution_count": 229,
     "metadata": {},
     "output_type": "execute_result"
    }
   ],
   "source": [
    "86641*0.7"
   ]
  },
  {
   "cell_type": "code",
   "execution_count": 233,
   "id": "100673c7",
   "metadata": {},
   "outputs": [],
   "source": [
    "e_train = e_log_scaled_df.iloc[:60650]\n",
    "\n",
    "e_test = e_log_scaled_df.iloc[60650:]\n",
    "\n",
    "e_X_test = e_test.drop(columns=['Dolartoday'])\n",
    "e_y_test = e_test['Dolartoday']\n",
    "\n",
    "e_X_train = e_train.drop(columns=['Dolartoday'])\n",
    "e_y_train = e_train['Dolartoday']"
   ]
  },
  {
   "cell_type": "code",
   "execution_count": 234,
   "id": "cedadc79",
   "metadata": {},
   "outputs": [
    {
     "data": {
      "text/plain": [
       "(25991, 18)"
      ]
     },
     "execution_count": 234,
     "metadata": {},
     "output_type": "execute_result"
    }
   ],
   "source": [
    "e_X_test.shape"
   ]
  },
  {
   "cell_type": "code",
   "execution_count": 236,
   "id": "18fbc512",
   "metadata": {},
   "outputs": [],
   "source": [
    "values = []\n",
    "y_list =[]\n",
    "target_distance = 7\n",
    "seq_length =7\n",
    "for idx in list(range(0,25984)):\n",
    "    X_temp = e_X_test.iloc[idx:idx+seq_length]\n",
    "    values.append(X_temp.values.reshape(-1))\n",
    "    y_list.append(e_y_test[idx+target_distance])\n",
    "e_X_test = pd.DataFrame(np.vstack(values))\n",
    "\n",
    "e_y_test = pd.Series(y_list)"
   ]
  },
  {
   "cell_type": "code",
   "execution_count": 239,
   "id": "efb78211",
   "metadata": {},
   "outputs": [
    {
     "data": {
      "text/plain": [
       "(60650, 18)"
      ]
     },
     "execution_count": 239,
     "metadata": {},
     "output_type": "execute_result"
    }
   ],
   "source": [
    "e_X_train.shape"
   ]
  },
  {
   "cell_type": "code",
   "execution_count": 240,
   "id": "8950a09e",
   "metadata": {},
   "outputs": [],
   "source": [
    "values = []\n",
    "y_list =[]\n",
    "target_distance = 7\n",
    "seq_length =7\n",
    "for idx in list(range(0,60643)):\n",
    "    X_temp = e_X_train.iloc[idx:idx+seq_length]\n",
    "    values.append(X_temp.values.reshape(-1))\n",
    "    y_list.append(e_y_train[idx+target_distance])\n",
    "e_X_train = pd.DataFrame(np.vstack(values))\n",
    "\n",
    "e_y_train = pd.Series(y_list)"
   ]
  },
  {
   "cell_type": "code",
   "execution_count": 241,
   "id": "8a8437d1",
   "metadata": {},
   "outputs": [
    {
     "data": {
      "text/plain": [
       "(60643, 126)"
      ]
     },
     "execution_count": 241,
     "metadata": {},
     "output_type": "execute_result"
    }
   ],
   "source": [
    "e_X_train.shape"
   ]
  },
  {
   "cell_type": "code",
   "execution_count": 242,
   "id": "7324fdd3",
   "metadata": {},
   "outputs": [],
   "source": [
    "e_X_train.fillna(0.0, inplace=True)\n",
    "e_X_test.fillna(0.0, inplace=True)"
   ]
  },
  {
   "cell_type": "code",
   "execution_count": 245,
   "id": "bbc065d7",
   "metadata": {},
   "outputs": [
    {
     "data": {
      "text/plain": [
       "0"
      ]
     },
     "execution_count": 245,
     "metadata": {},
     "output_type": "execute_result"
    }
   ],
   "source": [
    "e_y_test.isna().sum()"
   ]
  },
  {
   "cell_type": "code",
   "execution_count": 246,
   "id": "0ebd08f4",
   "metadata": {},
   "outputs": [],
   "source": [
    "e_X_train.replace(np.inf, 0.0, inplace=True)\n",
    "e_X_train.replace(-np.inf, 0.0, inplace=True)"
   ]
  },
  {
   "cell_type": "code",
   "execution_count": 247,
   "id": "56e35a81",
   "metadata": {},
   "outputs": [],
   "source": [
    "e_X_test.replace(np.inf, 0.0, inplace=True)\n",
    "e_X_test.replace(-np.inf, 0.0, inplace=True)"
   ]
  },
  {
   "cell_type": "code",
   "execution_count": 248,
   "id": "f40bed4a",
   "metadata": {},
   "outputs": [],
   "source": [
    "# e_X_train = X_train\n",
    "# e_y_train = y_train\n",
    "# e_X_test = X_test\n",
    "# e_y_test = y_test"
   ]
  },
  {
   "cell_type": "markdown",
   "id": "820e1ed8",
   "metadata": {},
   "source": [
    "### Random forest with early_origin"
   ]
  },
  {
   "cell_type": "code",
   "execution_count": 250,
   "id": "7c54ba2a",
   "metadata": {},
   "outputs": [],
   "source": [
    "e_forest = RandomForestRegressor()"
   ]
  },
  {
   "cell_type": "code",
   "execution_count": 251,
   "id": "8ec6f82d",
   "metadata": {},
   "outputs": [
    {
     "data": {
      "text/plain": [
       "RandomForestRegressor()"
      ]
     },
     "execution_count": 251,
     "metadata": {},
     "output_type": "execute_result"
    }
   ],
   "source": [
    "e_forest.fit(e_X_train, e_y_train)"
   ]
  },
  {
   "cell_type": "code",
   "execution_count": 252,
   "id": "6eed9ef2",
   "metadata": {},
   "outputs": [],
   "source": [
    "taiga_pred = e_forest.predict(e_X_test)"
   ]
  },
  {
   "cell_type": "code",
   "execution_count": 253,
   "id": "dbbc8141",
   "metadata": {},
   "outputs": [
    {
     "name": "stdout",
     "output_type": "stream",
     "text": [
      "mean_squared_error: 3.04136534760414e-06\n",
      "mean_absolute_error: 0.0009511723374138983\n",
      "r2_score: -0.1540065486112825\n",
      "max_error: 0.028323964497439204\n"
     ]
    },
    {
     "data": {
      "image/png": "[encoded data removed]",
      "text/plain": [
       "<Figure size 432x288 with 1 Axes>"
      ]
     },
     "metadata": {
      "needs_background": "light"
     },
     "output_type": "display_data"
    }
   ],
   "source": [
    "test_scores(e_y_test, taiga_pred)"
   ]
  },
  {
   "cell_type": "code",
   "execution_count": 261,
   "id": "8048b785",
   "metadata": {},
   "outputs": [
    {
     "data": {
      "image/png": "[encoded data removed]",
      "text/plain": [
       "<Figure size 432x288 with 1 Axes>"
      ]
     },
     "metadata": {
      "needs_background": "light"
     },
     "output_type": "display_data"
    }
   ],
   "source": [
    "real_vis(e_y_test, taiga_pred)"
   ]
  },
  {
   "cell_type": "code",
   "execution_count": 256,
   "id": "4590af94",
   "metadata": {},
   "outputs": [
    {
     "data": {
      "text/plain": [
       "array([ 0.00042353,  0.00037014,  0.00022378, ..., -0.00016636,\n",
       "       -0.00022968, -0.0002933 ])"
      ]
     },
     "execution_count": 256,
     "metadata": {},
     "output_type": "execute_result"
    }
   ],
   "source": [
    "taiga_pred"
   ]
  },
  {
   "cell_type": "code",
   "execution_count": 258,
   "id": "6462198f",
   "metadata": {},
   "outputs": [],
   "source": [
    "temp_series = pd.Series(taiga_pred)\n",
    "temp_series.index=early_origin.iloc[60657:].index"
   ]
  },
  {
   "cell_type": "code",
   "execution_count": 269,
   "id": "d52e8637",
   "metadata": {},
   "outputs": [
    {
     "data": {
      "text/plain": [
       "[<matplotlib.lines.Line2D at 0x143037a60>]"
      ]
     },
     "execution_count": 269,
     "metadata": {},
     "output_type": "execute_result"
    },
    {
     "data": {
      "image/png": "[encoded data removed]",
      "text/plain": [
       "<Figure size 432x288 with 1 Axes>"
      ]
     },
     "metadata": {
      "needs_background": "light"
     },
     "output_type": "display_data"
    }
   ],
   "source": [
    "start = early_origin.at[temp_series.index[0], 'Dolartoday']\n",
    "start = np.log(start)\n",
    "pred_log = temp_series.cumsum()\n",
    "pred_log += start\n",
    "plt.plot(pred_log, color='red')\n",
    "plt.plot(np.log(early_origin['Dolartoday']))\n"
   ]
  },
  {
   "cell_type": "markdown",
   "id": "0aa7dd54",
   "metadata": {},
   "source": [
    "### dropping early"
   ]
  },
  {
   "cell_type": "code",
   "execution_count": 271,
   "id": "f517b0b4",
   "metadata": {},
   "outputs": [
    {
     "data": {
      "text/plain": [
       "DatetimeIndex(['2012-01-01 00:00:00', '2012-01-01 01:00:00',\n",
       "               '2012-01-01 02:00:00', '2012-01-01 03:00:00',\n",
       "               '2012-01-01 04:00:00', '2012-01-01 05:00:00',\n",
       "               '2012-01-01 06:00:00', '2012-01-01 07:00:00',\n",
       "               '2012-01-01 08:00:00', '2012-01-01 09:00:00',\n",
       "               ...\n",
       "               '2021-11-18 15:00:00', '2021-11-18 16:00:00',\n",
       "               '2021-11-18 17:00:00', '2021-11-18 18:00:00',\n",
       "               '2021-11-18 19:00:00', '2021-11-18 20:00:00',\n",
       "               '2021-11-18 21:00:00', '2021-11-18 22:00:00',\n",
       "               '2021-11-18 23:00:00', '2021-11-19 00:00:00'],\n",
       "              dtype='datetime64[ns]', name='date', length=86641, freq=None)"
      ]
     },
     "execution_count": 271,
     "metadata": {},
     "output_type": "execute_result"
    }
   ],
   "source": [
    "early_origin.index"
   ]
  },
  {
   "cell_type": "code",
   "execution_count": 272,
   "id": "2b17e800",
   "metadata": {},
   "outputs": [],
   "source": [
    "late_origin = early_origin[early_origin.index>='2014-01-01']"
   ]
  },
  {
   "cell_type": "code",
   "execution_count": 273,
   "id": "616f786c",
   "metadata": {},
   "outputs": [
    {
     "data": {
      "text/html": [
       "<div>\n",
       "<style scoped>\n",
       "    .dataframe tbody tr th:only-of-type {\n",
       "        vertical-align: middle;\n",
       "    }\n",
       "\n",
       "    .dataframe tbody tr th {\n",
       "        vertical-align: top;\n",
       "    }\n",
       "\n",
       "    .dataframe thead th {\n",
       "        text-align: right;\n",
       "    }\n",
       "</style>\n",
       "<table border=\"1\" class=\"dataframe\">\n",
       "  <thead>\n",
       "    <tr style=\"text-align: right;\">\n",
       "      <th></th>\n",
       "      <th>Stock_Market</th>\n",
       "      <th>Deposit_Interest_Rate</th>\n",
       "      <th>Interest_Rate</th>\n",
       "      <th>Money_Supply_M3</th>\n",
       "      <th>Central_Bank_Balance_Sheet</th>\n",
       "      <th>Crude_Oil_Production</th>\n",
       "      <th>Crude_Oil_Rig</th>\n",
       "      <th>Money_Supply_M0</th>\n",
       "      <th>Foreign_Exchange_Reserve</th>\n",
       "      <th>External_Debt</th>\n",
       "      <th>Inflation_Rate</th>\n",
       "      <th>Money_Supply_M2</th>\n",
       "      <th>Inflation_Rate_Mom</th>\n",
       "      <th>Private_Sector_Credit</th>\n",
       "      <th>Consumer_Price_Index_CPI</th>\n",
       "      <th>CPI_Transportation</th>\n",
       "      <th>Money_Supply_M1</th>\n",
       "      <th>Banks_Balance_Sheet</th>\n",
       "      <th>Dolartoday</th>\n",
       "    </tr>\n",
       "    <tr>\n",
       "      <th>date</th>\n",
       "      <th></th>\n",
       "      <th></th>\n",
       "      <th></th>\n",
       "      <th></th>\n",
       "      <th></th>\n",
       "      <th></th>\n",
       "      <th></th>\n",
       "      <th></th>\n",
       "      <th></th>\n",
       "      <th></th>\n",
       "      <th></th>\n",
       "      <th></th>\n",
       "      <th></th>\n",
       "      <th></th>\n",
       "      <th></th>\n",
       "      <th></th>\n",
       "      <th></th>\n",
       "      <th></th>\n",
       "      <th></th>\n",
       "    </tr>\n",
       "  </thead>\n",
       "  <tbody>\n",
       "    <tr>\n",
       "      <th>2014-01-01 00:00:00</th>\n",
       "      <td>2.7366</td>\n",
       "      <td>14.74</td>\n",
       "      <td>15.57</td>\n",
       "      <td>12.201</td>\n",
       "      <td>0.0077</td>\n",
       "      <td>2884.0</td>\n",
       "      <td>70.0</td>\n",
       "      <td>4.449</td>\n",
       "      <td>21481.0</td>\n",
       "      <td>309.0</td>\n",
       "      <td>56.1</td>\n",
       "      <td>12.201</td>\n",
       "      <td>2.2</td>\n",
       "      <td>667.8</td>\n",
       "      <td>0.0004</td>\n",
       "      <td>0.5435</td>\n",
       "      <td>11.997</td>\n",
       "      <td>1.51</td>\n",
       "      <td>0.000641</td>\n",
       "    </tr>\n",
       "    <tr>\n",
       "      <th>2014-01-01 01:00:00</th>\n",
       "      <td>2.7366</td>\n",
       "      <td>14.73</td>\n",
       "      <td>15.57</td>\n",
       "      <td>12.201</td>\n",
       "      <td>0.0077</td>\n",
       "      <td>2884.0</td>\n",
       "      <td>70.0</td>\n",
       "      <td>4.449</td>\n",
       "      <td>21481.0</td>\n",
       "      <td>309.0</td>\n",
       "      <td>56.1</td>\n",
       "      <td>12.201</td>\n",
       "      <td>2.2</td>\n",
       "      <td>667.8</td>\n",
       "      <td>0.0004</td>\n",
       "      <td>0.5435</td>\n",
       "      <td>11.997</td>\n",
       "      <td>1.51</td>\n",
       "      <td>0.000641</td>\n",
       "    </tr>\n",
       "    <tr>\n",
       "      <th>2014-01-01 02:00:00</th>\n",
       "      <td>2.7366</td>\n",
       "      <td>14.72</td>\n",
       "      <td>15.57</td>\n",
       "      <td>12.201</td>\n",
       "      <td>0.0077</td>\n",
       "      <td>2884.0</td>\n",
       "      <td>70.0</td>\n",
       "      <td>4.449</td>\n",
       "      <td>21481.0</td>\n",
       "      <td>309.0</td>\n",
       "      <td>56.1</td>\n",
       "      <td>12.201</td>\n",
       "      <td>2.2</td>\n",
       "      <td>667.8</td>\n",
       "      <td>0.0004</td>\n",
       "      <td>0.5435</td>\n",
       "      <td>11.997</td>\n",
       "      <td>1.51</td>\n",
       "      <td>0.000642</td>\n",
       "    </tr>\n",
       "    <tr>\n",
       "      <th>2014-01-01 03:00:00</th>\n",
       "      <td>2.7366</td>\n",
       "      <td>14.71</td>\n",
       "      <td>15.57</td>\n",
       "      <td>12.201</td>\n",
       "      <td>0.0077</td>\n",
       "      <td>2884.0</td>\n",
       "      <td>70.0</td>\n",
       "      <td>4.449</td>\n",
       "      <td>21481.0</td>\n",
       "      <td>309.0</td>\n",
       "      <td>56.1</td>\n",
       "      <td>12.201</td>\n",
       "      <td>2.2</td>\n",
       "      <td>667.8</td>\n",
       "      <td>0.0004</td>\n",
       "      <td>0.5435</td>\n",
       "      <td>11.997</td>\n",
       "      <td>1.51</td>\n",
       "      <td>0.000642</td>\n",
       "    </tr>\n",
       "    <tr>\n",
       "      <th>2014-01-01 04:00:00</th>\n",
       "      <td>2.7366</td>\n",
       "      <td>14.70</td>\n",
       "      <td>15.57</td>\n",
       "      <td>12.201</td>\n",
       "      <td>0.0077</td>\n",
       "      <td>2884.0</td>\n",
       "      <td>70.0</td>\n",
       "      <td>4.449</td>\n",
       "      <td>21481.0</td>\n",
       "      <td>309.0</td>\n",
       "      <td>56.1</td>\n",
       "      <td>12.201</td>\n",
       "      <td>2.2</td>\n",
       "      <td>667.8</td>\n",
       "      <td>0.0004</td>\n",
       "      <td>0.5435</td>\n",
       "      <td>11.997</td>\n",
       "      <td>1.51</td>\n",
       "      <td>0.000642</td>\n",
       "    </tr>\n",
       "  </tbody>\n",
       "</table>\n",
       "</div>"
      ],
      "text/plain": [
       "                     Stock_Market  Deposit_Interest_Rate  Interest_Rate  \\\n",
       "date                                                                      \n",
       "2014-01-01 00:00:00        2.7366                  14.74          15.57   \n",
       "2014-01-01 01:00:00        2.7366                  14.73          15.57   \n",
       "2014-01-01 02:00:00        2.7366                  14.72          15.57   \n",
       "2014-01-01 03:00:00        2.7366                  14.71          15.57   \n",
       "2014-01-01 04:00:00        2.7366                  14.70          15.57   \n",
       "\n",
       "                     Money_Supply_M3  Central_Bank_Balance_Sheet  \\\n",
       "date                                                               \n",
       "2014-01-01 00:00:00           12.201                      0.0077   \n",
       "2014-01-01 01:00:00           12.201                      0.0077   \n",
       "2014-01-01 02:00:00           12.201                      0.0077   \n",
       "2014-01-01 03:00:00           12.201                      0.0077   \n",
       "2014-01-01 04:00:00           12.201                      0.0077   \n",
       "\n",
       "                     Crude_Oil_Production  Crude_Oil_Rig  Money_Supply_M0  \\\n",
       "date                                                                        \n",
       "2014-01-01 00:00:00                2884.0           70.0            4.449   \n",
       "2014-01-01 01:00:00                2884.0           70.0            4.449   \n",
       "2014-01-01 02:00:00                2884.0           70.0            4.449   \n",
       "2014-01-01 03:00:00                2884.0           70.0            4.449   \n",
       "2014-01-01 04:00:00                2884.0           70.0            4.449   \n",
       "\n",
       "                     Foreign_Exchange_Reserve  External_Debt  Inflation_Rate  \\\n",
       "date                                                                           \n",
       "2014-01-01 00:00:00                   21481.0          309.0            56.1   \n",
       "2014-01-01 01:00:00                   21481.0          309.0            56.1   \n",
       "2014-01-01 02:00:00                   21481.0          309.0            56.1   \n",
       "2014-01-01 03:00:00                   21481.0          309.0            56.1   \n",
       "2014-01-01 04:00:00                   21481.0          309.0            56.1   \n",
       "\n",
       "                     Money_Supply_M2  Inflation_Rate_Mom  \\\n",
       "date                                                       \n",
       "2014-01-01 00:00:00           12.201                 2.2   \n",
       "2014-01-01 01:00:00           12.201                 2.2   \n",
       "2014-01-01 02:00:00           12.201                 2.2   \n",
       "2014-01-01 03:00:00           12.201                 2.2   \n",
       "2014-01-01 04:00:00           12.201                 2.2   \n",
       "\n",
       "                     Private_Sector_Credit  Consumer_Price_Index_CPI  \\\n",
       "date                                                                   \n",
       "2014-01-01 00:00:00                  667.8                    0.0004   \n",
       "2014-01-01 01:00:00                  667.8                    0.0004   \n",
       "2014-01-01 02:00:00                  667.8                    0.0004   \n",
       "2014-01-01 03:00:00                  667.8                    0.0004   \n",
       "2014-01-01 04:00:00                  667.8                    0.0004   \n",
       "\n",
       "                     CPI_Transportation  Money_Supply_M1  Banks_Balance_Sheet  \\\n",
       "date                                                                            \n",
       "2014-01-01 00:00:00              0.5435           11.997                 1.51   \n",
       "2014-01-01 01:00:00              0.5435           11.997                 1.51   \n",
       "2014-01-01 02:00:00              0.5435           11.997                 1.51   \n",
       "2014-01-01 03:00:00              0.5435           11.997                 1.51   \n",
       "2014-01-01 04:00:00              0.5435           11.997                 1.51   \n",
       "\n",
       "                     Dolartoday  \n",
       "date                             \n",
       "2014-01-01 00:00:00    0.000641  \n",
       "2014-01-01 01:00:00    0.000641  \n",
       "2014-01-01 02:00:00    0.000642  \n",
       "2014-01-01 03:00:00    0.000642  \n",
       "2014-01-01 04:00:00    0.000642  "
      ]
     },
     "execution_count": 273,
     "metadata": {},
     "output_type": "execute_result"
    }
   ],
   "source": [
    "late_origin.head()"
   ]
  },
  {
   "cell_type": "code",
   "execution_count": 274,
   "id": "777647ee",
   "metadata": {},
   "outputs": [],
   "source": [
    "late_logged = np.log(late_origin).diff()"
   ]
  },
  {
   "cell_type": "code",
   "execution_count": 281,
   "id": "982ae71a",
   "metadata": {},
   "outputs": [
    {
     "data": {
      "text/plain": [
       "20747"
      ]
     },
     "execution_count": 281,
     "metadata": {},
     "output_type": "execute_result"
    }
   ],
   "source": [
    "late_logged.shape[0]-48350"
   ]
  },
  {
   "cell_type": "code",
   "execution_count": 278,
   "id": "29e30f16",
   "metadata": {},
   "outputs": [
    {
     "data": {
      "text/plain": [
       "48368.0"
      ]
     },
     "execution_count": 278,
     "metadata": {},
     "output_type": "execute_result"
    }
   ],
   "source": [
    "np.round(late_logged.shape[0]*0.7)"
   ]
  },
  {
   "cell_type": "code",
   "execution_count": 282,
   "id": "8616dbdf",
   "metadata": {},
   "outputs": [],
   "source": [
    "l_train = late_logged.iloc[:48350]\n",
    "\n",
    "l_test = late_logged.iloc[48350:]\n",
    "\n",
    "l_X_test = l_test.drop(columns=['Dolartoday'])\n",
    "l_y_test = l_test['Dolartoday']\n",
    "\n",
    "l_X_train = l_train.drop(columns=['Dolartoday'])\n",
    "l_y_train = l_train['Dolartoday']"
   ]
  },
  {
   "cell_type": "code",
   "execution_count": 284,
   "id": "56ad6df4",
   "metadata": {},
   "outputs": [],
   "source": [
    "values = []\n",
    "y_list =[]\n",
    "target_distance = 7\n",
    "seq_length =7\n",
    "for idx in list(range(0, 48343)):\n",
    "    X_temp = l_X_train.iloc[idx:idx+seq_length]\n",
    "    values.append(X_temp.values.reshape(-1))\n",
    "    y_list.append(l_y_train[idx+target_distance])\n",
    "lX_train = pd.DataFrame(np.vstack(values))\n",
    "\n",
    "ly_train = pd.Series(y_list)"
   ]
  },
  {
   "cell_type": "code",
   "execution_count": 285,
   "id": "7339cd4b",
   "metadata": {},
   "outputs": [],
   "source": [
    "values = []\n",
    "y_list =[]\n",
    "target_distance = 7\n",
    "seq_length =7\n",
    "for idx in list(range(0,20740)):\n",
    "    X_temp = l_X_test.iloc[idx:idx+seq_length]\n",
    "    values.append(X_temp.values.reshape(-1))\n",
    "    y_list.append(l_y_test[idx+target_distance])\n",
    "lX_test = pd.DataFrame(np.vstack(values))\n",
    "\n",
    "ly_test = pd.Series(y_list)"
   ]
  },
  {
   "cell_type": "code",
   "execution_count": 286,
   "id": "4d2dfc00",
   "metadata": {},
   "outputs": [],
   "source": [
    "lX_train.fillna(0.0, inplace=True)\n",
    "lX_test.fillna(0.0, inplace=True)"
   ]
  },
  {
   "cell_type": "code",
   "execution_count": 287,
   "id": "c46349f7",
   "metadata": {},
   "outputs": [],
   "source": [
    "lX_train.replace(np.inf, 0.0, inplace=True)\n",
    "lX_train.replace(-np.inf, 0.0, inplace=True)"
   ]
  },
  {
   "cell_type": "code",
   "execution_count": 289,
   "id": "64f257d8",
   "metadata": {},
   "outputs": [],
   "source": [
    "lX_test.replace(np.inf, 0.0, inplace=True)\n",
    "lX_test.replace(-np.inf, 0.0, inplace=True)"
   ]
  },
  {
   "cell_type": "markdown",
   "id": "72e68a46",
   "metadata": {},
   "source": [
    "### Forest with late"
   ]
  },
  {
   "cell_type": "code",
   "execution_count": 290,
   "id": "f1ced02b",
   "metadata": {},
   "outputs": [],
   "source": [
    "l_forest = RandomForestRegressor()"
   ]
  },
  {
   "cell_type": "code",
   "execution_count": 291,
   "id": "ed3b1bdb",
   "metadata": {},
   "outputs": [
    {
     "data": {
      "text/plain": [
       "RandomForestRegressor()"
      ]
     },
     "execution_count": 291,
     "metadata": {},
     "output_type": "execute_result"
    }
   ],
   "source": [
    "l_forest.fit(lX_train, ly_train)"
   ]
  },
  {
   "cell_type": "code",
   "execution_count": 292,
   "id": "3ec7b19d",
   "metadata": {},
   "outputs": [],
   "source": [
    "sherwood_pred = l_forest.predict(lX_test)"
   ]
  },
  {
   "cell_type": "code",
   "execution_count": 293,
   "id": "af8d20bb",
   "metadata": {},
   "outputs": [
    {
     "name": "stdout",
     "output_type": "stream",
     "text": [
      "mean_squared_error: 2.631043193268643e-06\n",
      "mean_absolute_error: 0.0009532539848731101\n",
      "r2_score: -0.2641041760057792\n",
      "max_error: 0.013746822670734862\n"
     ]
    },
    {
     "data": {
      "image/png": "[encoded data removed]",
      "text/plain": [
       "<Figure size 432x288 with 1 Axes>"
      ]
     },
     "metadata": {
      "needs_background": "light"
     },
     "output_type": "display_data"
    }
   ],
   "source": [
    "test_scores(ly_test, sherwood_pred)"
   ]
  },
  {
   "cell_type": "code",
   "execution_count": 294,
   "id": "96672ea7",
   "metadata": {},
   "outputs": [
    {
     "data": {
      "image/png": "[encoded data removed]",
      "text/plain": [
       "<Figure size 432x288 with 1 Axes>"
      ]
     },
     "metadata": {
      "needs_background": "light"
     },
     "output_type": "display_data"
    }
   ],
   "source": [
    "real_vis(ly_test, sherwood_pred)"
   ]
  },
  {
   "cell_type": "code",
   "execution_count": 301,
   "id": "ebe37463",
   "metadata": {},
   "outputs": [],
   "source": [
    "temp_series = pd.Series(sherwood_pred)\n",
    "temp_series.index=late_origin.iloc[48357:].index"
   ]
  },
  {
   "cell_type": "code",
   "execution_count": 305,
   "id": "19c6450c",
   "metadata": {},
   "outputs": [
    {
     "data": {
      "text/plain": [
       "[<matplotlib.lines.Line2D at 0x13e659dc0>]"
      ]
     },
     "execution_count": 305,
     "metadata": {},
     "output_type": "execute_result"
    },
    {
     "data": {
      "image/png": "[encoded data removed]",
      "text/plain": [
       "<Figure size 432x288 with 1 Axes>"
      ]
     },
     "metadata": {
      "needs_background": "light"
     },
     "output_type": "display_data"
    }
   ],
   "source": [
    "start = late_origin.at[temp_series.index[0], 'Dolartoday']\n",
    "start = np.log(start)\n",
    "pred_log = temp_series.cumsum()\n",
    "pred_log += start\n",
    "plt.plot(pred_log, color='red')\n",
    "plt.plot(np.log(late_origin['Dolartoday']))\n"
   ]
  },
  {
   "cell_type": "markdown",
   "id": "965a5342",
   "metadata": {},
   "source": [
    "### grad with late"
   ]
  },
  {
   "cell_type": "code",
   "execution_count": 307,
   "id": "216c3b9b",
   "metadata": {},
   "outputs": [],
   "source": [
    "dustin_model = GradientBoostingRegressor(n_estimators=100, learning_rate=0.1, max_depth=6)"
   ]
  },
  {
   "cell_type": "code",
   "execution_count": 308,
   "id": "c07ea6a9",
   "metadata": {},
   "outputs": [
    {
     "data": {
      "text/plain": [
       "GradientBoostingRegressor(max_depth=6)"
      ]
     },
     "execution_count": 308,
     "metadata": {},
     "output_type": "execute_result"
    }
   ],
   "source": [
    "dustin_model.fit(lX_train, ly_train)"
   ]
  },
  {
   "cell_type": "code",
   "execution_count": 309,
   "id": "c7a6b2fd",
   "metadata": {},
   "outputs": [],
   "source": [
    "robinson_pred = l_forest.predict(lX_test)"
   ]
  },
  {
   "cell_type": "code",
   "execution_count": 310,
   "id": "ac762a59",
   "metadata": {},
   "outputs": [
    {
     "name": "stdout",
     "output_type": "stream",
     "text": [
      "mean_squared_error: 2.631043193268643e-06\n",
      "mean_absolute_error: 0.0009532539848731101\n",
      "r2_score: -0.2641041760057792\n",
      "max_error: 0.013746822670734862\n"
     ]
    },
    {
     "data": {
      "image/png": "[encoded data removed]",
      "text/plain": [
       "<Figure size 432x288 with 1 Axes>"
      ]
     },
     "metadata": {
      "needs_background": "light"
     },
     "output_type": "display_data"
    }
   ],
   "source": [
    "test_scores(ly_test, robinson_pred)"
   ]
  },
  {
   "cell_type": "code",
   "execution_count": 311,
   "id": "c8d5f1f9",
   "metadata": {},
   "outputs": [
    {
     "data": {
      "image/png": "[encoded data removed]",
      "text/plain": [
       "<Figure size 432x288 with 1 Axes>"
      ]
     },
     "metadata": {
      "needs_background": "light"
     },
     "output_type": "display_data"
    }
   ],
   "source": [
    "real_vis(ly_test, robinson_pred)"
   ]
  },
  {
   "cell_type": "code",
   "execution_count": 312,
   "id": "4af74fcc",
   "metadata": {},
   "outputs": [],
   "source": [
    "temp_series = pd.Series(robinson_pred)\n",
    "temp_series.index=late_origin.iloc[48357:].index"
   ]
  },
  {
   "cell_type": "code",
   "execution_count": 313,
   "id": "c37b64fc",
   "metadata": {},
   "outputs": [
    {
     "data": {
      "text/plain": [
       "[<matplotlib.lines.Line2D at 0x1310a6a30>]"
      ]
     },
     "execution_count": 313,
     "metadata": {},
     "output_type": "execute_result"
    },
    {
     "data": {
      "image/png": "[encoded data removed]",
      "text/plain": [
       "<Figure size 432x288 with 1 Axes>"
      ]
     },
     "metadata": {
      "needs_background": "light"
     },
     "output_type": "display_data"
    }
   ],
   "source": [
    "start = late_origin.at[temp_series.index[0], 'Dolartoday']\n",
    "start = np.log(start)\n",
    "pred_log = temp_series.cumsum()\n",
    "pred_log += start\n",
    "plt.plot(pred_log, color='red')\n",
    "plt.plot(np.log(late_origin['Dolartoday']))"
   ]
  },
  {
   "cell_type": "markdown",
   "id": "d3739f87",
   "metadata": {},
   "source": [
    "### Classifiers"
   ]
  },
  {
   "cell_type": "code",
   "execution_count": 315,
   "id": "24a84400",
   "metadata": {},
   "outputs": [],
   "source": [
    "cl_origin = late_origin.copy()"
   ]
  },
  {
   "cell_type": "code",
   "execution_count": 321,
   "id": "0dc23859",
   "metadata": {},
   "outputs": [],
   "source": [
    "cl_origin['change'] = late_origin['Dolartoday'].diff()/late_origin['Dolartoday']"
   ]
  },
  {
   "cell_type": "code",
   "execution_count": 324,
   "id": "032ff1ba",
   "metadata": {},
   "outputs": [],
   "source": [
    "cl_origin.fillna(method='backfill', inplace=True)"
   ]
  },
  {
   "cell_type": "code",
   "execution_count": 339,
   "id": "30d4f664",
   "metadata": {},
   "outputs": [
    {
     "data": {
      "text/plain": [
       "[(-0.00311, 0.00463], (-0.0109, -0.00311], (0.00463, 0.0124], (0.0201, 0.0278], (0.0124, 0.0201]]\n",
       "Categories (5, interval[float64, right]): [(-0.0109, -0.00311] < (-0.00311, 0.00463] < (0.00463, 0.0124] < (0.0124, 0.0201] < (0.0201, 0.0278]]"
      ]
     },
     "execution_count": 339,
     "metadata": {},
     "output_type": "execute_result"
    }
   ],
   "source": [
    "pd.cut(cl_origin['change'],bins=5).unique()"
   ]
  },
  {
   "cell_type": "code",
   "execution_count": 341,
   "id": "bdc8abbf",
   "metadata": {},
   "outputs": [],
   "source": [
    "cl_origin['change_bins'] = pd.cut(cl_origin['change'],bins=5)"
   ]
  },
  {
   "cell_type": "code",
   "execution_count": null,
   "id": "280fe8da",
   "metadata": {},
   "outputs": [],
   "source": [
    "categories = ['negative change', 'stable', 'low inflation', 'medium inflation', 'high inflation']"
   ]
  },
  {
   "cell_type": "code",
   "execution_count": 343,
   "id": "047c47ea",
   "metadata": {},
   "outputs": [],
   "source": [
    "one = OneHotEncoder()"
   ]
  },
  {
   "cell_type": "code",
   "execution_count": null,
   "id": "814532a8",
   "metadata": {},
   "outputs": [],
   "source": []
  },
  {
   "cell_type": "code",
   "execution_count": null,
   "id": "fc4f7362",
   "metadata": {},
   "outputs": [],
   "source": []
  },
  {
   "cell_type": "markdown",
   "id": "e2f9eb88",
   "metadata": {},
   "source": [
    "### classifier"
   ]
  },
  {
   "cell_type": "code",
   "execution_count": 349,
   "id": "00778346",
   "metadata": {},
   "outputs": [],
   "source": [
    "cl = late_origin.copy()"
   ]
  },
  {
   "cell_type": "code",
   "execution_count": 350,
   "id": "b729d1a1",
   "metadata": {},
   "outputs": [
    {
     "data": {
      "text/plain": [
       "(69097, 20)"
      ]
     },
     "execution_count": 350,
     "metadata": {},
     "output_type": "execute_result"
    }
   ],
   "source": [
    "cl.shape"
   ]
  },
  {
   "cell_type": "code",
   "execution_count": 351,
   "id": "df4fcec2",
   "metadata": {},
   "outputs": [
    {
     "data": {
      "text/html": [
       "<div>\n",
       "<style scoped>\n",
       "    .dataframe tbody tr th:only-of-type {\n",
       "        vertical-align: middle;\n",
       "    }\n",
       "\n",
       "    .dataframe tbody tr th {\n",
       "        vertical-align: top;\n",
       "    }\n",
       "\n",
       "    .dataframe thead th {\n",
       "        text-align: right;\n",
       "    }\n",
       "</style>\n",
       "<table border=\"1\" class=\"dataframe\">\n",
       "  <thead>\n",
       "    <tr style=\"text-align: right;\">\n",
       "      <th></th>\n",
       "      <th>Stock_Market</th>\n",
       "      <th>Deposit_Interest_Rate</th>\n",
       "      <th>Interest_Rate</th>\n",
       "      <th>Money_Supply_M3</th>\n",
       "      <th>Central_Bank_Balance_Sheet</th>\n",
       "      <th>Crude_Oil_Production</th>\n",
       "      <th>Crude_Oil_Rig</th>\n",
       "      <th>Money_Supply_M0</th>\n",
       "      <th>Foreign_Exchange_Reserve</th>\n",
       "      <th>External_Debt</th>\n",
       "      <th>Inflation_Rate</th>\n",
       "      <th>Money_Supply_M2</th>\n",
       "      <th>Inflation_Rate_Mom</th>\n",
       "      <th>Private_Sector_Credit</th>\n",
       "      <th>Consumer_Price_Index_CPI</th>\n",
       "      <th>CPI_Transportation</th>\n",
       "      <th>Money_Supply_M1</th>\n",
       "      <th>Banks_Balance_Sheet</th>\n",
       "      <th>Dolartoday</th>\n",
       "      <th>change</th>\n",
       "    </tr>\n",
       "    <tr>\n",
       "      <th>date</th>\n",
       "      <th></th>\n",
       "      <th></th>\n",
       "      <th></th>\n",
       "      <th></th>\n",
       "      <th></th>\n",
       "      <th></th>\n",
       "      <th></th>\n",
       "      <th></th>\n",
       "      <th></th>\n",
       "      <th></th>\n",
       "      <th></th>\n",
       "      <th></th>\n",
       "      <th></th>\n",
       "      <th></th>\n",
       "      <th></th>\n",
       "      <th></th>\n",
       "      <th></th>\n",
       "      <th></th>\n",
       "      <th></th>\n",
       "      <th></th>\n",
       "    </tr>\n",
       "  </thead>\n",
       "  <tbody>\n",
       "    <tr>\n",
       "      <th>2014-01-01 00:00:00</th>\n",
       "      <td>2.7366</td>\n",
       "      <td>14.74</td>\n",
       "      <td>15.57</td>\n",
       "      <td>12.201</td>\n",
       "      <td>0.0077</td>\n",
       "      <td>2884.0</td>\n",
       "      <td>70.0</td>\n",
       "      <td>4.449</td>\n",
       "      <td>21481.0</td>\n",
       "      <td>309.0</td>\n",
       "      <td>56.1</td>\n",
       "      <td>12.201</td>\n",
       "      <td>2.2</td>\n",
       "      <td>667.8</td>\n",
       "      <td>0.0004</td>\n",
       "      <td>0.5435</td>\n",
       "      <td>11.997</td>\n",
       "      <td>1.51</td>\n",
       "      <td>0.000641</td>\n",
       "      <td>NaN</td>\n",
       "    </tr>\n",
       "    <tr>\n",
       "      <th>2014-01-01 01:00:00</th>\n",
       "      <td>2.7366</td>\n",
       "      <td>14.73</td>\n",
       "      <td>15.57</td>\n",
       "      <td>12.201</td>\n",
       "      <td>0.0077</td>\n",
       "      <td>2884.0</td>\n",
       "      <td>70.0</td>\n",
       "      <td>4.449</td>\n",
       "      <td>21481.0</td>\n",
       "      <td>309.0</td>\n",
       "      <td>56.1</td>\n",
       "      <td>12.201</td>\n",
       "      <td>2.2</td>\n",
       "      <td>667.8</td>\n",
       "      <td>0.0004</td>\n",
       "      <td>0.5435</td>\n",
       "      <td>11.997</td>\n",
       "      <td>1.51</td>\n",
       "      <td>0.000641</td>\n",
       "      <td>1.625000e-07</td>\n",
       "    </tr>\n",
       "    <tr>\n",
       "      <th>2014-01-01 02:00:00</th>\n",
       "      <td>2.7366</td>\n",
       "      <td>14.72</td>\n",
       "      <td>15.57</td>\n",
       "      <td>12.201</td>\n",
       "      <td>0.0077</td>\n",
       "      <td>2884.0</td>\n",
       "      <td>70.0</td>\n",
       "      <td>4.449</td>\n",
       "      <td>21481.0</td>\n",
       "      <td>309.0</td>\n",
       "      <td>56.1</td>\n",
       "      <td>12.201</td>\n",
       "      <td>2.2</td>\n",
       "      <td>667.8</td>\n",
       "      <td>0.0004</td>\n",
       "      <td>0.5435</td>\n",
       "      <td>11.997</td>\n",
       "      <td>1.51</td>\n",
       "      <td>0.000642</td>\n",
       "      <td>1.625000e-07</td>\n",
       "    </tr>\n",
       "    <tr>\n",
       "      <th>2014-01-01 03:00:00</th>\n",
       "      <td>2.7366</td>\n",
       "      <td>14.71</td>\n",
       "      <td>15.57</td>\n",
       "      <td>12.201</td>\n",
       "      <td>0.0077</td>\n",
       "      <td>2884.0</td>\n",
       "      <td>70.0</td>\n",
       "      <td>4.449</td>\n",
       "      <td>21481.0</td>\n",
       "      <td>309.0</td>\n",
       "      <td>56.1</td>\n",
       "      <td>12.201</td>\n",
       "      <td>2.2</td>\n",
       "      <td>667.8</td>\n",
       "      <td>0.0004</td>\n",
       "      <td>0.5435</td>\n",
       "      <td>11.997</td>\n",
       "      <td>1.51</td>\n",
       "      <td>0.000642</td>\n",
       "      <td>1.625000e-07</td>\n",
       "    </tr>\n",
       "    <tr>\n",
       "      <th>2014-01-01 04:00:00</th>\n",
       "      <td>2.7366</td>\n",
       "      <td>14.70</td>\n",
       "      <td>15.57</td>\n",
       "      <td>12.201</td>\n",
       "      <td>0.0077</td>\n",
       "      <td>2884.0</td>\n",
       "      <td>70.0</td>\n",
       "      <td>4.449</td>\n",
       "      <td>21481.0</td>\n",
       "      <td>309.0</td>\n",
       "      <td>56.1</td>\n",
       "      <td>12.201</td>\n",
       "      <td>2.2</td>\n",
       "      <td>667.8</td>\n",
       "      <td>0.0004</td>\n",
       "      <td>0.5435</td>\n",
       "      <td>11.997</td>\n",
       "      <td>1.51</td>\n",
       "      <td>0.000642</td>\n",
       "      <td>1.625000e-07</td>\n",
       "    </tr>\n",
       "  </tbody>\n",
       "</table>\n",
       "</div>"
      ],
      "text/plain": [
       "                     Stock_Market  Deposit_Interest_Rate  Interest_Rate  \\\n",
       "date                                                                      \n",
       "2014-01-01 00:00:00        2.7366                  14.74          15.57   \n",
       "2014-01-01 01:00:00        2.7366                  14.73          15.57   \n",
       "2014-01-01 02:00:00        2.7366                  14.72          15.57   \n",
       "2014-01-01 03:00:00        2.7366                  14.71          15.57   \n",
       "2014-01-01 04:00:00        2.7366                  14.70          15.57   \n",
       "\n",
       "                     Money_Supply_M3  Central_Bank_Balance_Sheet  \\\n",
       "date                                                               \n",
       "2014-01-01 00:00:00           12.201                      0.0077   \n",
       "2014-01-01 01:00:00           12.201                      0.0077   \n",
       "2014-01-01 02:00:00           12.201                      0.0077   \n",
       "2014-01-01 03:00:00           12.201                      0.0077   \n",
       "2014-01-01 04:00:00           12.201                      0.0077   \n",
       "\n",
       "                     Crude_Oil_Production  Crude_Oil_Rig  Money_Supply_M0  \\\n",
       "date                                                                        \n",
       "2014-01-01 00:00:00                2884.0           70.0            4.449   \n",
       "2014-01-01 01:00:00                2884.0           70.0            4.449   \n",
       "2014-01-01 02:00:00                2884.0           70.0            4.449   \n",
       "2014-01-01 03:00:00                2884.0           70.0            4.449   \n",
       "2014-01-01 04:00:00                2884.0           70.0            4.449   \n",
       "\n",
       "                     Foreign_Exchange_Reserve  External_Debt  Inflation_Rate  \\\n",
       "date                                                                           \n",
       "2014-01-01 00:00:00                   21481.0          309.0            56.1   \n",
       "2014-01-01 01:00:00                   21481.0          309.0            56.1   \n",
       "2014-01-01 02:00:00                   21481.0          309.0            56.1   \n",
       "2014-01-01 03:00:00                   21481.0          309.0            56.1   \n",
       "2014-01-01 04:00:00                   21481.0          309.0            56.1   \n",
       "\n",
       "                     Money_Supply_M2  Inflation_Rate_Mom  \\\n",
       "date                                                       \n",
       "2014-01-01 00:00:00           12.201                 2.2   \n",
       "2014-01-01 01:00:00           12.201                 2.2   \n",
       "2014-01-01 02:00:00           12.201                 2.2   \n",
       "2014-01-01 03:00:00           12.201                 2.2   \n",
       "2014-01-01 04:00:00           12.201                 2.2   \n",
       "\n",
       "                     Private_Sector_Credit  Consumer_Price_Index_CPI  \\\n",
       "date                                                                   \n",
       "2014-01-01 00:00:00                  667.8                    0.0004   \n",
       "2014-01-01 01:00:00                  667.8                    0.0004   \n",
       "2014-01-01 02:00:00                  667.8                    0.0004   \n",
       "2014-01-01 03:00:00                  667.8                    0.0004   \n",
       "2014-01-01 04:00:00                  667.8                    0.0004   \n",
       "\n",
       "                     CPI_Transportation  Money_Supply_M1  Banks_Balance_Sheet  \\\n",
       "date                                                                            \n",
       "2014-01-01 00:00:00              0.5435           11.997                 1.51   \n",
       "2014-01-01 01:00:00              0.5435           11.997                 1.51   \n",
       "2014-01-01 02:00:00              0.5435           11.997                 1.51   \n",
       "2014-01-01 03:00:00              0.5435           11.997                 1.51   \n",
       "2014-01-01 04:00:00              0.5435           11.997                 1.51   \n",
       "\n",
       "                     Dolartoday        change  \n",
       "date                                           \n",
       "2014-01-01 00:00:00    0.000641           NaN  \n",
       "2014-01-01 01:00:00    0.000641  1.625000e-07  \n",
       "2014-01-01 02:00:00    0.000642  1.625000e-07  \n",
       "2014-01-01 03:00:00    0.000642  1.625000e-07  \n",
       "2014-01-01 04:00:00    0.000642  1.625000e-07  "
      ]
     },
     "execution_count": 351,
     "metadata": {},
     "output_type": "execute_result"
    }
   ],
   "source": [
    "cl.head()"
   ]
  },
  {
   "cell_type": "code",
   "execution_count": 367,
   "id": "8f7fc4bb",
   "metadata": {},
   "outputs": [],
   "source": [
    "y_num = cl['Dolartoday'].shift(24).dropna()"
   ]
  },
  {
   "cell_type": "code",
   "execution_count": 368,
   "id": "c96953a4",
   "metadata": {},
   "outputs": [],
   "source": [
    "cl['target'] = y_num"
   ]
  },
  {
   "cell_type": "code",
   "execution_count": 371,
   "id": "ae1aff39",
   "metadata": {},
   "outputs": [],
   "source": [
    "cl.dropna(inplace=True)"
   ]
  },
  {
   "cell_type": "code",
   "execution_count": 374,
   "id": "92a4f7f9",
   "metadata": {},
   "outputs": [],
   "source": [
    "cl['pctinf'] = (cl['Dolartoday'] - cl['target'])/cl['Dolartoday']"
   ]
  },
  {
   "cell_type": "code",
   "execution_count": 376,
   "id": "278a74bf",
   "metadata": {},
   "outputs": [],
   "source": [
    "cl.drop(columns = ['change'], inplace=True)"
   ]
  },
  {
   "cell_type": "code",
   "execution_count": 377,
   "id": "1f71d5a2",
   "metadata": {},
   "outputs": [
    {
     "data": {
      "text/html": [
       "<div>\n",
       "<style scoped>\n",
       "    .dataframe tbody tr th:only-of-type {\n",
       "        vertical-align: middle;\n",
       "    }\n",
       "\n",
       "    .dataframe tbody tr th {\n",
       "        vertical-align: top;\n",
       "    }\n",
       "\n",
       "    .dataframe thead th {\n",
       "        text-align: right;\n",
       "    }\n",
       "</style>\n",
       "<table border=\"1\" class=\"dataframe\">\n",
       "  <thead>\n",
       "    <tr style=\"text-align: right;\">\n",
       "      <th></th>\n",
       "      <th>Stock_Market</th>\n",
       "      <th>Deposit_Interest_Rate</th>\n",
       "      <th>Interest_Rate</th>\n",
       "      <th>Money_Supply_M3</th>\n",
       "      <th>Central_Bank_Balance_Sheet</th>\n",
       "      <th>Crude_Oil_Production</th>\n",
       "      <th>Crude_Oil_Rig</th>\n",
       "      <th>Money_Supply_M0</th>\n",
       "      <th>Foreign_Exchange_Reserve</th>\n",
       "      <th>External_Debt</th>\n",
       "      <th>...</th>\n",
       "      <th>Money_Supply_M2</th>\n",
       "      <th>Inflation_Rate_Mom</th>\n",
       "      <th>Private_Sector_Credit</th>\n",
       "      <th>Consumer_Price_Index_CPI</th>\n",
       "      <th>CPI_Transportation</th>\n",
       "      <th>Money_Supply_M1</th>\n",
       "      <th>Banks_Balance_Sheet</th>\n",
       "      <th>Dolartoday</th>\n",
       "      <th>target</th>\n",
       "      <th>pctinf</th>\n",
       "    </tr>\n",
       "    <tr>\n",
       "      <th>date</th>\n",
       "      <th></th>\n",
       "      <th></th>\n",
       "      <th></th>\n",
       "      <th></th>\n",
       "      <th></th>\n",
       "      <th></th>\n",
       "      <th></th>\n",
       "      <th></th>\n",
       "      <th></th>\n",
       "      <th></th>\n",
       "      <th></th>\n",
       "      <th></th>\n",
       "      <th></th>\n",
       "      <th></th>\n",
       "      <th></th>\n",
       "      <th></th>\n",
       "      <th></th>\n",
       "      <th></th>\n",
       "      <th></th>\n",
       "      <th></th>\n",
       "      <th></th>\n",
       "    </tr>\n",
       "  </thead>\n",
       "  <tbody>\n",
       "    <tr>\n",
       "      <th>2014-01-02 00:00:00</th>\n",
       "      <td>2.7366</td>\n",
       "      <td>14.5</td>\n",
       "      <td>15.57</td>\n",
       "      <td>12.201</td>\n",
       "      <td>0.0077</td>\n",
       "      <td>2884.0</td>\n",
       "      <td>70.0</td>\n",
       "      <td>4.449</td>\n",
       "      <td>21481.0</td>\n",
       "      <td>309.0</td>\n",
       "      <td>...</td>\n",
       "      <td>12.201</td>\n",
       "      <td>2.2</td>\n",
       "      <td>667.8</td>\n",
       "      <td>0.0004</td>\n",
       "      <td>0.5435</td>\n",
       "      <td>11.997</td>\n",
       "      <td>1.51</td>\n",
       "      <td>0.000645</td>\n",
       "      <td>0.000641</td>\n",
       "      <td>0.006045</td>\n",
       "    </tr>\n",
       "    <tr>\n",
       "      <th>2014-01-02 01:00:00</th>\n",
       "      <td>2.7366</td>\n",
       "      <td>14.5</td>\n",
       "      <td>15.57</td>\n",
       "      <td>12.201</td>\n",
       "      <td>0.0077</td>\n",
       "      <td>2884.0</td>\n",
       "      <td>70.0</td>\n",
       "      <td>4.449</td>\n",
       "      <td>21481.0</td>\n",
       "      <td>309.0</td>\n",
       "      <td>...</td>\n",
       "      <td>12.201</td>\n",
       "      <td>2.2</td>\n",
       "      <td>667.8</td>\n",
       "      <td>0.0004</td>\n",
       "      <td>0.5435</td>\n",
       "      <td>11.997</td>\n",
       "      <td>1.51</td>\n",
       "      <td>0.000645</td>\n",
       "      <td>0.000641</td>\n",
       "      <td>0.005729</td>\n",
       "    </tr>\n",
       "    <tr>\n",
       "      <th>2014-01-02 02:00:00</th>\n",
       "      <td>2.7366</td>\n",
       "      <td>14.5</td>\n",
       "      <td>15.57</td>\n",
       "      <td>12.201</td>\n",
       "      <td>0.0077</td>\n",
       "      <td>2884.0</td>\n",
       "      <td>70.0</td>\n",
       "      <td>4.449</td>\n",
       "      <td>21481.0</td>\n",
       "      <td>309.0</td>\n",
       "      <td>...</td>\n",
       "      <td>12.201</td>\n",
       "      <td>2.2</td>\n",
       "      <td>667.8</td>\n",
       "      <td>0.0004</td>\n",
       "      <td>0.5435</td>\n",
       "      <td>11.997</td>\n",
       "      <td>1.51</td>\n",
       "      <td>0.000645</td>\n",
       "      <td>0.000642</td>\n",
       "      <td>0.005412</td>\n",
       "    </tr>\n",
       "    <tr>\n",
       "      <th>2014-01-02 03:00:00</th>\n",
       "      <td>2.7366</td>\n",
       "      <td>14.5</td>\n",
       "      <td>15.57</td>\n",
       "      <td>12.201</td>\n",
       "      <td>0.0077</td>\n",
       "      <td>2884.0</td>\n",
       "      <td>70.0</td>\n",
       "      <td>4.449</td>\n",
       "      <td>21481.0</td>\n",
       "      <td>309.0</td>\n",
       "      <td>...</td>\n",
       "      <td>12.201</td>\n",
       "      <td>2.2</td>\n",
       "      <td>667.8</td>\n",
       "      <td>0.0004</td>\n",
       "      <td>0.5435</td>\n",
       "      <td>11.997</td>\n",
       "      <td>1.51</td>\n",
       "      <td>0.000645</td>\n",
       "      <td>0.000642</td>\n",
       "      <td>0.005096</td>\n",
       "    </tr>\n",
       "    <tr>\n",
       "      <th>2014-01-02 04:00:00</th>\n",
       "      <td>2.7366</td>\n",
       "      <td>14.5</td>\n",
       "      <td>15.57</td>\n",
       "      <td>12.201</td>\n",
       "      <td>0.0077</td>\n",
       "      <td>2884.0</td>\n",
       "      <td>70.0</td>\n",
       "      <td>4.449</td>\n",
       "      <td>21481.0</td>\n",
       "      <td>309.0</td>\n",
       "      <td>...</td>\n",
       "      <td>12.201</td>\n",
       "      <td>2.2</td>\n",
       "      <td>667.8</td>\n",
       "      <td>0.0004</td>\n",
       "      <td>0.5435</td>\n",
       "      <td>11.997</td>\n",
       "      <td>1.51</td>\n",
       "      <td>0.000645</td>\n",
       "      <td>0.000642</td>\n",
       "      <td>0.004780</td>\n",
       "    </tr>\n",
       "  </tbody>\n",
       "</table>\n",
       "<p>5 rows × 21 columns</p>\n",
       "</div>"
      ],
      "text/plain": [
       "                     Stock_Market  Deposit_Interest_Rate  Interest_Rate  \\\n",
       "date                                                                      \n",
       "2014-01-02 00:00:00        2.7366                   14.5          15.57   \n",
       "2014-01-02 01:00:00        2.7366                   14.5          15.57   \n",
       "2014-01-02 02:00:00        2.7366                   14.5          15.57   \n",
       "2014-01-02 03:00:00        2.7366                   14.5          15.57   \n",
       "2014-01-02 04:00:00        2.7366                   14.5          15.57   \n",
       "\n",
       "                     Money_Supply_M3  Central_Bank_Balance_Sheet  \\\n",
       "date                                                               \n",
       "2014-01-02 00:00:00           12.201                      0.0077   \n",
       "2014-01-02 01:00:00           12.201                      0.0077   \n",
       "2014-01-02 02:00:00           12.201                      0.0077   \n",
       "2014-01-02 03:00:00           12.201                      0.0077   \n",
       "2014-01-02 04:00:00           12.201                      0.0077   \n",
       "\n",
       "                     Crude_Oil_Production  Crude_Oil_Rig  Money_Supply_M0  \\\n",
       "date                                                                        \n",
       "2014-01-02 00:00:00                2884.0           70.0            4.449   \n",
       "2014-01-02 01:00:00                2884.0           70.0            4.449   \n",
       "2014-01-02 02:00:00                2884.0           70.0            4.449   \n",
       "2014-01-02 03:00:00                2884.0           70.0            4.449   \n",
       "2014-01-02 04:00:00                2884.0           70.0            4.449   \n",
       "\n",
       "                     Foreign_Exchange_Reserve  External_Debt  ...  \\\n",
       "date                                                          ...   \n",
       "2014-01-02 00:00:00                   21481.0          309.0  ...   \n",
       "2014-01-02 01:00:00                   21481.0          309.0  ...   \n",
       "2014-01-02 02:00:00                   21481.0          309.0  ...   \n",
       "2014-01-02 03:00:00                   21481.0          309.0  ...   \n",
       "2014-01-02 04:00:00                   21481.0          309.0  ...   \n",
       "\n",
       "                     Money_Supply_M2  Inflation_Rate_Mom  \\\n",
       "date                                                       \n",
       "2014-01-02 00:00:00           12.201                 2.2   \n",
       "2014-01-02 01:00:00           12.201                 2.2   \n",
       "2014-01-02 02:00:00           12.201                 2.2   \n",
       "2014-01-02 03:00:00           12.201                 2.2   \n",
       "2014-01-02 04:00:00           12.201                 2.2   \n",
       "\n",
       "                     Private_Sector_Credit  Consumer_Price_Index_CPI  \\\n",
       "date                                                                   \n",
       "2014-01-02 00:00:00                  667.8                    0.0004   \n",
       "2014-01-02 01:00:00                  667.8                    0.0004   \n",
       "2014-01-02 02:00:00                  667.8                    0.0004   \n",
       "2014-01-02 03:00:00                  667.8                    0.0004   \n",
       "2014-01-02 04:00:00                  667.8                    0.0004   \n",
       "\n",
       "                     CPI_Transportation  Money_Supply_M1  Banks_Balance_Sheet  \\\n",
       "date                                                                            \n",
       "2014-01-02 00:00:00              0.5435           11.997                 1.51   \n",
       "2014-01-02 01:00:00              0.5435           11.997                 1.51   \n",
       "2014-01-02 02:00:00              0.5435           11.997                 1.51   \n",
       "2014-01-02 03:00:00              0.5435           11.997                 1.51   \n",
       "2014-01-02 04:00:00              0.5435           11.997                 1.51   \n",
       "\n",
       "                     Dolartoday    target    pctinf  \n",
       "date                                                 \n",
       "2014-01-02 00:00:00    0.000645  0.000641  0.006045  \n",
       "2014-01-02 01:00:00    0.000645  0.000641  0.005729  \n",
       "2014-01-02 02:00:00    0.000645  0.000642  0.005412  \n",
       "2014-01-02 03:00:00    0.000645  0.000642  0.005096  \n",
       "2014-01-02 04:00:00    0.000645  0.000642  0.004780  \n",
       "\n",
       "[5 rows x 21 columns]"
      ]
     },
     "execution_count": 377,
     "metadata": {},
     "output_type": "execute_result"
    }
   ],
   "source": [
    "cl.head()"
   ]
  },
  {
   "cell_type": "code",
   "execution_count": 379,
   "id": "721f6b2e",
   "metadata": {},
   "outputs": [
    {
     "data": {
      "text/plain": [
       "count    69073.000000\n",
       "mean         0.007406\n",
       "std          0.029932\n",
       "min         -0.260240\n",
       "25%         -0.000582\n",
       "50%          0.000758\n",
       "75%          0.013651\n",
       "max          0.407355\n",
       "Name: pctinf, dtype: float64"
      ]
     },
     "execution_count": 379,
     "metadata": {},
     "output_type": "execute_result"
    }
   ],
   "source": [
    "cl['pctinf'].describe()"
   ]
  },
  {
   "cell_type": "code",
   "execution_count": 386,
   "id": "8a1d22a7",
   "metadata": {},
   "outputs": [],
   "source": [
    "def to_cat(x):\n",
    "    if x < 0:\n",
    "        return 0\n",
    "    elif x >= 0 and x<0.000758:\n",
    "        return 1\n",
    "    elif x < 0.013651:\n",
    "        return 2\n",
    "    else:\n",
    "        return 3"
   ]
  },
  {
   "cell_type": "code",
   "execution_count": 387,
   "id": "4e68b3c4",
   "metadata": {},
   "outputs": [],
   "source": [
    "cl['cat'] = cl['pctinf'].apply(to_cat)"
   ]
  },
  {
   "cell_type": "code",
   "execution_count": 388,
   "id": "e6a0f70f",
   "metadata": {},
   "outputs": [
    {
     "data": {
      "text/plain": [
       "0    19180\n",
       "3    17269\n",
       "2    17266\n",
       "1    15358\n",
       "Name: cat, dtype: int64"
      ]
     },
     "execution_count": 388,
     "metadata": {},
     "output_type": "execute_result"
    }
   ],
   "source": [
    "cl['cat'].value_counts()"
   ]
  },
  {
   "cell_type": "code",
   "execution_count": 389,
   "id": "fcb1a45c",
   "metadata": {},
   "outputs": [],
   "source": [
    "classifier_df = cl.copy()"
   ]
  },
  {
   "cell_type": "markdown",
   "id": "11c870d8",
   "metadata": {},
   "source": [
    "### splitting cat"
   ]
  },
  {
   "cell_type": "code",
   "execution_count": null,
   "id": "94dd6c48",
   "metadata": {},
   "outputs": [],
   "source": [
    "classifier_df.drop(columns =['pctinf', 'target'], inplace=True)"
   ]
  },
  {
   "cell_type": "code",
   "execution_count": 399,
   "id": "363fd1ec",
   "metadata": {},
   "outputs": [
    {
     "data": {
      "text/html": [
       "<div>\n",
       "<style scoped>\n",
       "    .dataframe tbody tr th:only-of-type {\n",
       "        vertical-align: middle;\n",
       "    }\n",
       "\n",
       "    .dataframe tbody tr th {\n",
       "        vertical-align: top;\n",
       "    }\n",
       "\n",
       "    .dataframe thead th {\n",
       "        text-align: right;\n",
       "    }\n",
       "</style>\n",
       "<table border=\"1\" class=\"dataframe\">\n",
       "  <thead>\n",
       "    <tr style=\"text-align: right;\">\n",
       "      <th></th>\n",
       "      <th>Stock_Market</th>\n",
       "      <th>Deposit_Interest_Rate</th>\n",
       "      <th>Interest_Rate</th>\n",
       "      <th>Money_Supply_M3</th>\n",
       "      <th>Central_Bank_Balance_Sheet</th>\n",
       "      <th>Crude_Oil_Production</th>\n",
       "      <th>Crude_Oil_Rig</th>\n",
       "      <th>Money_Supply_M0</th>\n",
       "      <th>Foreign_Exchange_Reserve</th>\n",
       "      <th>External_Debt</th>\n",
       "      <th>Inflation_Rate</th>\n",
       "      <th>Money_Supply_M2</th>\n",
       "      <th>Inflation_Rate_Mom</th>\n",
       "      <th>Private_Sector_Credit</th>\n",
       "      <th>Consumer_Price_Index_CPI</th>\n",
       "      <th>CPI_Transportation</th>\n",
       "      <th>Money_Supply_M1</th>\n",
       "      <th>Banks_Balance_Sheet</th>\n",
       "      <th>Dolartoday</th>\n",
       "      <th>cat</th>\n",
       "    </tr>\n",
       "    <tr>\n",
       "      <th>date</th>\n",
       "      <th></th>\n",
       "      <th></th>\n",
       "      <th></th>\n",
       "      <th></th>\n",
       "      <th></th>\n",
       "      <th></th>\n",
       "      <th></th>\n",
       "      <th></th>\n",
       "      <th></th>\n",
       "      <th></th>\n",
       "      <th></th>\n",
       "      <th></th>\n",
       "      <th></th>\n",
       "      <th></th>\n",
       "      <th></th>\n",
       "      <th></th>\n",
       "      <th></th>\n",
       "      <th></th>\n",
       "      <th></th>\n",
       "      <th></th>\n",
       "    </tr>\n",
       "  </thead>\n",
       "  <tbody>\n",
       "    <tr>\n",
       "      <th>2014-01-02 00:00:00</th>\n",
       "      <td>2.736600e+00</td>\n",
       "      <td>14.5</td>\n",
       "      <td>15.57</td>\n",
       "      <td>1.220100e+01</td>\n",
       "      <td>7.700000e-03</td>\n",
       "      <td>2884.0</td>\n",
       "      <td>70.0</td>\n",
       "      <td>4.449000e+00</td>\n",
       "      <td>21481.0</td>\n",
       "      <td>309.0</td>\n",
       "      <td>56.1</td>\n",
       "      <td>1.220100e+01</td>\n",
       "      <td>2.2</td>\n",
       "      <td>6.678000e+02</td>\n",
       "      <td>4.000000e-04</td>\n",
       "      <td>5.435000e-01</td>\n",
       "      <td>1.199700e+01</td>\n",
       "      <td>1.510000e+00</td>\n",
       "      <td>6.452000e-04</td>\n",
       "      <td>2</td>\n",
       "    </tr>\n",
       "    <tr>\n",
       "      <th>2014-01-02 01:00:00</th>\n",
       "      <td>2.736600e+00</td>\n",
       "      <td>14.5</td>\n",
       "      <td>15.57</td>\n",
       "      <td>1.220100e+01</td>\n",
       "      <td>7.700000e-03</td>\n",
       "      <td>2884.0</td>\n",
       "      <td>70.0</td>\n",
       "      <td>4.449000e+00</td>\n",
       "      <td>21481.0</td>\n",
       "      <td>309.0</td>\n",
       "      <td>56.1</td>\n",
       "      <td>1.220100e+01</td>\n",
       "      <td>2.2</td>\n",
       "      <td>6.678000e+02</td>\n",
       "      <td>4.000000e-04</td>\n",
       "      <td>5.435000e-01</td>\n",
       "      <td>1.199700e+01</td>\n",
       "      <td>1.510000e+00</td>\n",
       "      <td>6.451583e-04</td>\n",
       "      <td>2</td>\n",
       "    </tr>\n",
       "    <tr>\n",
       "      <th>2014-01-02 02:00:00</th>\n",
       "      <td>2.736600e+00</td>\n",
       "      <td>14.5</td>\n",
       "      <td>15.57</td>\n",
       "      <td>1.220100e+01</td>\n",
       "      <td>7.700000e-03</td>\n",
       "      <td>2884.0</td>\n",
       "      <td>70.0</td>\n",
       "      <td>4.449000e+00</td>\n",
       "      <td>21481.0</td>\n",
       "      <td>309.0</td>\n",
       "      <td>56.1</td>\n",
       "      <td>1.220100e+01</td>\n",
       "      <td>2.2</td>\n",
       "      <td>6.678000e+02</td>\n",
       "      <td>4.000000e-04</td>\n",
       "      <td>5.435000e-01</td>\n",
       "      <td>1.199700e+01</td>\n",
       "      <td>1.510000e+00</td>\n",
       "      <td>6.451167e-04</td>\n",
       "      <td>2</td>\n",
       "    </tr>\n",
       "    <tr>\n",
       "      <th>2014-01-02 03:00:00</th>\n",
       "      <td>2.736600e+00</td>\n",
       "      <td>14.5</td>\n",
       "      <td>15.57</td>\n",
       "      <td>1.220100e+01</td>\n",
       "      <td>7.700000e-03</td>\n",
       "      <td>2884.0</td>\n",
       "      <td>70.0</td>\n",
       "      <td>4.449000e+00</td>\n",
       "      <td>21481.0</td>\n",
       "      <td>309.0</td>\n",
       "      <td>56.1</td>\n",
       "      <td>1.220100e+01</td>\n",
       "      <td>2.2</td>\n",
       "      <td>6.678000e+02</td>\n",
       "      <td>4.000000e-04</td>\n",
       "      <td>5.435000e-01</td>\n",
       "      <td>1.199700e+01</td>\n",
       "      <td>1.510000e+00</td>\n",
       "      <td>6.450750e-04</td>\n",
       "      <td>2</td>\n",
       "    </tr>\n",
       "    <tr>\n",
       "      <th>2014-01-02 04:00:00</th>\n",
       "      <td>2.736600e+00</td>\n",
       "      <td>14.5</td>\n",
       "      <td>15.57</td>\n",
       "      <td>1.220100e+01</td>\n",
       "      <td>7.700000e-03</td>\n",
       "      <td>2884.0</td>\n",
       "      <td>70.0</td>\n",
       "      <td>4.449000e+00</td>\n",
       "      <td>21481.0</td>\n",
       "      <td>309.0</td>\n",
       "      <td>56.1</td>\n",
       "      <td>1.220100e+01</td>\n",
       "      <td>2.2</td>\n",
       "      <td>6.678000e+02</td>\n",
       "      <td>4.000000e-04</td>\n",
       "      <td>5.435000e-01</td>\n",
       "      <td>1.199700e+01</td>\n",
       "      <td>1.510000e+00</td>\n",
       "      <td>6.450333e-04</td>\n",
       "      <td>2</td>\n",
       "    </tr>\n",
       "    <tr>\n",
       "      <th>...</th>\n",
       "      <td>...</td>\n",
       "      <td>...</td>\n",
       "      <td>...</td>\n",
       "      <td>...</td>\n",
       "      <td>...</td>\n",
       "      <td>...</td>\n",
       "      <td>...</td>\n",
       "      <td>...</td>\n",
       "      <td>...</td>\n",
       "      <td>...</td>\n",
       "      <td>...</td>\n",
       "      <td>...</td>\n",
       "      <td>...</td>\n",
       "      <td>...</td>\n",
       "      <td>...</td>\n",
       "      <td>...</td>\n",
       "      <td>...</td>\n",
       "      <td>...</td>\n",
       "      <td>...</td>\n",
       "      <td>...</td>\n",
       "    </tr>\n",
       "    <tr>\n",
       "      <th>2021-11-18 20:00:00</th>\n",
       "      <td>6.036428e+09</td>\n",
       "      <td>36.0</td>\n",
       "      <td>56.86</td>\n",
       "      <td>2.725926e+09</td>\n",
       "      <td>2.031504e+08</td>\n",
       "      <td>756.0</td>\n",
       "      <td>0.0</td>\n",
       "      <td>1.325000e+09</td>\n",
       "      <td>11102.0</td>\n",
       "      <td>0.0</td>\n",
       "      <td>1575.3</td>\n",
       "      <td>2.725926e+09</td>\n",
       "      <td>6.8</td>\n",
       "      <td>1.184882e+11</td>\n",
       "      <td>2.210425e+06</td>\n",
       "      <td>2.512177e+09</td>\n",
       "      <td>2.720677e+09</td>\n",
       "      <td>2.392883e+13</td>\n",
       "      <td>4.820000e+06</td>\n",
       "      <td>1</td>\n",
       "    </tr>\n",
       "    <tr>\n",
       "      <th>2021-11-18 21:00:00</th>\n",
       "      <td>6.038301e+09</td>\n",
       "      <td>36.0</td>\n",
       "      <td>56.86</td>\n",
       "      <td>2.725926e+09</td>\n",
       "      <td>2.031504e+08</td>\n",
       "      <td>756.0</td>\n",
       "      <td>0.0</td>\n",
       "      <td>1.325000e+09</td>\n",
       "      <td>11102.0</td>\n",
       "      <td>0.0</td>\n",
       "      <td>1575.3</td>\n",
       "      <td>2.725926e+09</td>\n",
       "      <td>6.8</td>\n",
       "      <td>1.184882e+11</td>\n",
       "      <td>2.210425e+06</td>\n",
       "      <td>2.512177e+09</td>\n",
       "      <td>2.720677e+09</td>\n",
       "      <td>2.392883e+13</td>\n",
       "      <td>4.820000e+06</td>\n",
       "      <td>1</td>\n",
       "    </tr>\n",
       "    <tr>\n",
       "      <th>2021-11-18 22:00:00</th>\n",
       "      <td>6.040174e+09</td>\n",
       "      <td>36.0</td>\n",
       "      <td>56.86</td>\n",
       "      <td>2.725926e+09</td>\n",
       "      <td>2.031504e+08</td>\n",
       "      <td>756.0</td>\n",
       "      <td>0.0</td>\n",
       "      <td>1.325000e+09</td>\n",
       "      <td>11102.0</td>\n",
       "      <td>0.0</td>\n",
       "      <td>1575.3</td>\n",
       "      <td>2.725926e+09</td>\n",
       "      <td>6.8</td>\n",
       "      <td>1.184882e+11</td>\n",
       "      <td>2.210425e+06</td>\n",
       "      <td>2.512177e+09</td>\n",
       "      <td>2.720677e+09</td>\n",
       "      <td>2.392883e+13</td>\n",
       "      <td>4.820000e+06</td>\n",
       "      <td>1</td>\n",
       "    </tr>\n",
       "    <tr>\n",
       "      <th>2021-11-18 23:00:00</th>\n",
       "      <td>6.042047e+09</td>\n",
       "      <td>36.0</td>\n",
       "      <td>56.86</td>\n",
       "      <td>2.725926e+09</td>\n",
       "      <td>2.031504e+08</td>\n",
       "      <td>756.0</td>\n",
       "      <td>0.0</td>\n",
       "      <td>1.325000e+09</td>\n",
       "      <td>11102.0</td>\n",
       "      <td>0.0</td>\n",
       "      <td>1575.3</td>\n",
       "      <td>2.725926e+09</td>\n",
       "      <td>6.8</td>\n",
       "      <td>1.184882e+11</td>\n",
       "      <td>2.210425e+06</td>\n",
       "      <td>2.512177e+09</td>\n",
       "      <td>2.720677e+09</td>\n",
       "      <td>2.392883e+13</td>\n",
       "      <td>4.820000e+06</td>\n",
       "      <td>1</td>\n",
       "    </tr>\n",
       "    <tr>\n",
       "      <th>2021-11-19 00:00:00</th>\n",
       "      <td>6.043920e+09</td>\n",
       "      <td>36.0</td>\n",
       "      <td>56.86</td>\n",
       "      <td>2.725926e+09</td>\n",
       "      <td>2.031504e+08</td>\n",
       "      <td>756.0</td>\n",
       "      <td>0.0</td>\n",
       "      <td>1.325000e+09</td>\n",
       "      <td>11102.0</td>\n",
       "      <td>0.0</td>\n",
       "      <td>1575.3</td>\n",
       "      <td>2.725926e+09</td>\n",
       "      <td>6.8</td>\n",
       "      <td>1.184882e+11</td>\n",
       "      <td>2.210425e+06</td>\n",
       "      <td>2.512177e+09</td>\n",
       "      <td>2.720677e+09</td>\n",
       "      <td>2.392883e+13</td>\n",
       "      <td>4.820000e+06</td>\n",
       "      <td>1</td>\n",
       "    </tr>\n",
       "  </tbody>\n",
       "</table>\n",
       "<p>69073 rows × 20 columns</p>\n",
       "</div>"
      ],
      "text/plain": [
       "                     Stock_Market  Deposit_Interest_Rate  Interest_Rate  \\\n",
       "date                                                                      \n",
       "2014-01-02 00:00:00  2.736600e+00                   14.5          15.57   \n",
       "2014-01-02 01:00:00  2.736600e+00                   14.5          15.57   \n",
       "2014-01-02 02:00:00  2.736600e+00                   14.5          15.57   \n",
       "2014-01-02 03:00:00  2.736600e+00                   14.5          15.57   \n",
       "2014-01-02 04:00:00  2.736600e+00                   14.5          15.57   \n",
       "...                           ...                    ...            ...   \n",
       "2021-11-18 20:00:00  6.036428e+09                   36.0          56.86   \n",
       "2021-11-18 21:00:00  6.038301e+09                   36.0          56.86   \n",
       "2021-11-18 22:00:00  6.040174e+09                   36.0          56.86   \n",
       "2021-11-18 23:00:00  6.042047e+09                   36.0          56.86   \n",
       "2021-11-19 00:00:00  6.043920e+09                   36.0          56.86   \n",
       "\n",
       "                     Money_Supply_M3  Central_Bank_Balance_Sheet  \\\n",
       "date                                                               \n",
       "2014-01-02 00:00:00     1.220100e+01                7.700000e-03   \n",
       "2014-01-02 01:00:00     1.220100e+01                7.700000e-03   \n",
       "2014-01-02 02:00:00     1.220100e+01                7.700000e-03   \n",
       "2014-01-02 03:00:00     1.220100e+01                7.700000e-03   \n",
       "2014-01-02 04:00:00     1.220100e+01                7.700000e-03   \n",
       "...                              ...                         ...   \n",
       "2021-11-18 20:00:00     2.725926e+09                2.031504e+08   \n",
       "2021-11-18 21:00:00     2.725926e+09                2.031504e+08   \n",
       "2021-11-18 22:00:00     2.725926e+09                2.031504e+08   \n",
       "2021-11-18 23:00:00     2.725926e+09                2.031504e+08   \n",
       "2021-11-19 00:00:00     2.725926e+09                2.031504e+08   \n",
       "\n",
       "                     Crude_Oil_Production  Crude_Oil_Rig  Money_Supply_M0  \\\n",
       "date                                                                        \n",
       "2014-01-02 00:00:00                2884.0           70.0     4.449000e+00   \n",
       "2014-01-02 01:00:00                2884.0           70.0     4.449000e+00   \n",
       "2014-01-02 02:00:00                2884.0           70.0     4.449000e+00   \n",
       "2014-01-02 03:00:00                2884.0           70.0     4.449000e+00   \n",
       "2014-01-02 04:00:00                2884.0           70.0     4.449000e+00   \n",
       "...                                   ...            ...              ...   \n",
       "2021-11-18 20:00:00                 756.0            0.0     1.325000e+09   \n",
       "2021-11-18 21:00:00                 756.0            0.0     1.325000e+09   \n",
       "2021-11-18 22:00:00                 756.0            0.0     1.325000e+09   \n",
       "2021-11-18 23:00:00                 756.0            0.0     1.325000e+09   \n",
       "2021-11-19 00:00:00                 756.0            0.0     1.325000e+09   \n",
       "\n",
       "                     Foreign_Exchange_Reserve  External_Debt  Inflation_Rate  \\\n",
       "date                                                                           \n",
       "2014-01-02 00:00:00                   21481.0          309.0            56.1   \n",
       "2014-01-02 01:00:00                   21481.0          309.0            56.1   \n",
       "2014-01-02 02:00:00                   21481.0          309.0            56.1   \n",
       "2014-01-02 03:00:00                   21481.0          309.0            56.1   \n",
       "2014-01-02 04:00:00                   21481.0          309.0            56.1   \n",
       "...                                       ...            ...             ...   \n",
       "2021-11-18 20:00:00                   11102.0            0.0          1575.3   \n",
       "2021-11-18 21:00:00                   11102.0            0.0          1575.3   \n",
       "2021-11-18 22:00:00                   11102.0            0.0          1575.3   \n",
       "2021-11-18 23:00:00                   11102.0            0.0          1575.3   \n",
       "2021-11-19 00:00:00                   11102.0            0.0          1575.3   \n",
       "\n",
       "                     Money_Supply_M2  Inflation_Rate_Mom  \\\n",
       "date                                                       \n",
       "2014-01-02 00:00:00     1.220100e+01                 2.2   \n",
       "2014-01-02 01:00:00     1.220100e+01                 2.2   \n",
       "2014-01-02 02:00:00     1.220100e+01                 2.2   \n",
       "2014-01-02 03:00:00     1.220100e+01                 2.2   \n",
       "2014-01-02 04:00:00     1.220100e+01                 2.2   \n",
       "...                              ...                 ...   \n",
       "2021-11-18 20:00:00     2.725926e+09                 6.8   \n",
       "2021-11-18 21:00:00     2.725926e+09                 6.8   \n",
       "2021-11-18 22:00:00     2.725926e+09                 6.8   \n",
       "2021-11-18 23:00:00     2.725926e+09                 6.8   \n",
       "2021-11-19 00:00:00     2.725926e+09                 6.8   \n",
       "\n",
       "                     Private_Sector_Credit  Consumer_Price_Index_CPI  \\\n",
       "date                                                                   \n",
       "2014-01-02 00:00:00           6.678000e+02              4.000000e-04   \n",
       "2014-01-02 01:00:00           6.678000e+02              4.000000e-04   \n",
       "2014-01-02 02:00:00           6.678000e+02              4.000000e-04   \n",
       "2014-01-02 03:00:00           6.678000e+02              4.000000e-04   \n",
       "2014-01-02 04:00:00           6.678000e+02              4.000000e-04   \n",
       "...                                    ...                       ...   \n",
       "2021-11-18 20:00:00           1.184882e+11              2.210425e+06   \n",
       "2021-11-18 21:00:00           1.184882e+11              2.210425e+06   \n",
       "2021-11-18 22:00:00           1.184882e+11              2.210425e+06   \n",
       "2021-11-18 23:00:00           1.184882e+11              2.210425e+06   \n",
       "2021-11-19 00:00:00           1.184882e+11              2.210425e+06   \n",
       "\n",
       "                     CPI_Transportation  Money_Supply_M1  Banks_Balance_Sheet  \\\n",
       "date                                                                            \n",
       "2014-01-02 00:00:00        5.435000e-01     1.199700e+01         1.510000e+00   \n",
       "2014-01-02 01:00:00        5.435000e-01     1.199700e+01         1.510000e+00   \n",
       "2014-01-02 02:00:00        5.435000e-01     1.199700e+01         1.510000e+00   \n",
       "2014-01-02 03:00:00        5.435000e-01     1.199700e+01         1.510000e+00   \n",
       "2014-01-02 04:00:00        5.435000e-01     1.199700e+01         1.510000e+00   \n",
       "...                                 ...              ...                  ...   \n",
       "2021-11-18 20:00:00        2.512177e+09     2.720677e+09         2.392883e+13   \n",
       "2021-11-18 21:00:00        2.512177e+09     2.720677e+09         2.392883e+13   \n",
       "2021-11-18 22:00:00        2.512177e+09     2.720677e+09         2.392883e+13   \n",
       "2021-11-18 23:00:00        2.512177e+09     2.720677e+09         2.392883e+13   \n",
       "2021-11-19 00:00:00        2.512177e+09     2.720677e+09         2.392883e+13   \n",
       "\n",
       "                       Dolartoday  cat  \n",
       "date                                    \n",
       "2014-01-02 00:00:00  6.452000e-04    2  \n",
       "2014-01-02 01:00:00  6.451583e-04    2  \n",
       "2014-01-02 02:00:00  6.451167e-04    2  \n",
       "2014-01-02 03:00:00  6.450750e-04    2  \n",
       "2014-01-02 04:00:00  6.450333e-04    2  \n",
       "...                           ...  ...  \n",
       "2021-11-18 20:00:00  4.820000e+06    1  \n",
       "2021-11-18 21:00:00  4.820000e+06    1  \n",
       "2021-11-18 22:00:00  4.820000e+06    1  \n",
       "2021-11-18 23:00:00  4.820000e+06    1  \n",
       "2021-11-19 00:00:00  4.820000e+06    1  \n",
       "\n",
       "[69073 rows x 20 columns]"
      ]
     },
     "execution_count": 399,
     "metadata": {},
     "output_type": "execute_result"
    }
   ],
   "source": [
    "classifier_df"
   ]
  },
  {
   "cell_type": "code",
   "execution_count": 417,
   "id": "9ce129ed",
   "metadata": {},
   "outputs": [
    {
     "data": {
      "text/plain": [
       "['Stock_Market',\n",
       " 'Deposit_Interest_Rate',\n",
       " 'Interest_Rate',\n",
       " 'Money_Supply_M3',\n",
       " 'Central_Bank_Balance_Sheet',\n",
       " 'Crude_Oil_Production',\n",
       " 'Crude_Oil_Rig',\n",
       " 'Money_Supply_M0',\n",
       " 'Foreign_Exchange_Reserve',\n",
       " 'External_Debt',\n",
       " 'Inflation_Rate',\n",
       " 'Money_Supply_M2',\n",
       " 'Inflation_Rate_Mom',\n",
       " 'Private_Sector_Credit',\n",
       " 'Consumer_Price_Index_CPI',\n",
       " 'CPI_Transportation',\n",
       " 'Money_Supply_M1',\n",
       " 'Banks_Balance_Sheet',\n",
       " 'Dolartoday',\n",
       " 'cat']"
      ]
     },
     "execution_count": 417,
     "metadata": {},
     "output_type": "execute_result"
    }
   ],
   "source": [
    "list(classifier_df.keys())"
   ]
  },
  {
   "cell_type": "code",
   "execution_count": 418,
   "id": "67059db1",
   "metadata": {
    "scrolled": true
   },
   "outputs": [],
   "source": [
    "classifier_df[list(classifier_df.keys().drop('cat'))] = np.log(\n",
    "    classifier_df[list(classifier_df.keys().drop('cat'))]).diff()"
   ]
  },
  {
   "cell_type": "code",
   "execution_count": 422,
   "id": "52c4bb72",
   "metadata": {},
   "outputs": [],
   "source": [
    "classifier_df.fillna(method='bfill', inplace=True)"
   ]
  },
  {
   "cell_type": "code",
   "execution_count": 423,
   "id": "136ae164",
   "metadata": {},
   "outputs": [],
   "source": [
    "classifier_df.replace(np.inf, 0.0, inplace=True)\n",
    "classifier_df.replace(-np.inf, 0.0, inplace=True)"
   ]
  },
  {
   "cell_type": "code",
   "execution_count": 424,
   "id": "a7ad8cf9",
   "metadata": {},
   "outputs": [
    {
     "data": {
      "text/plain": [
       "(69073, 20)"
      ]
     },
     "execution_count": 424,
     "metadata": {},
     "output_type": "execute_result"
    }
   ],
   "source": [
    "classifier_df.shape"
   ]
  },
  {
   "cell_type": "code",
   "execution_count": 425,
   "id": "c51a09dd",
   "metadata": {},
   "outputs": [],
   "source": [
    "X_train = classifier_df[:48351].drop(columns = ['cat'])"
   ]
  },
  {
   "cell_type": "code",
   "execution_count": 426,
   "id": "9caa79b1",
   "metadata": {},
   "outputs": [],
   "source": [
    "y_train = classifier_df[:48351]['cat']"
   ]
  },
  {
   "cell_type": "code",
   "execution_count": 434,
   "id": "c969800e",
   "metadata": {},
   "outputs": [],
   "source": [
    "X_test = classifier_df[48351:].drop(columns = ['cat'])"
   ]
  },
  {
   "cell_type": "code",
   "execution_count": 435,
   "id": "826d0c79",
   "metadata": {},
   "outputs": [],
   "source": [
    "y_test = classifier_df[48351:]['cat']"
   ]
  },
  {
   "cell_type": "markdown",
   "id": "c68206b9",
   "metadata": {},
   "source": [
    "### getting funky with classifier"
   ]
  },
  {
   "cell_type": "code",
   "execution_count": 430,
   "id": "b10141e7",
   "metadata": {},
   "outputs": [
    {
     "data": {
      "text/html": [
       "<div>\n",
       "<style scoped>\n",
       "    .dataframe tbody tr th:only-of-type {\n",
       "        vertical-align: middle;\n",
       "    }\n",
       "\n",
       "    .dataframe tbody tr th {\n",
       "        vertical-align: top;\n",
       "    }\n",
       "\n",
       "    .dataframe thead th {\n",
       "        text-align: right;\n",
       "    }\n",
       "</style>\n",
       "<table border=\"1\" class=\"dataframe\">\n",
       "  <thead>\n",
       "    <tr style=\"text-align: right;\">\n",
       "      <th></th>\n",
       "      <th>Stock_Market</th>\n",
       "      <th>Deposit_Interest_Rate</th>\n",
       "      <th>Interest_Rate</th>\n",
       "      <th>Money_Supply_M3</th>\n",
       "      <th>Central_Bank_Balance_Sheet</th>\n",
       "      <th>Crude_Oil_Production</th>\n",
       "      <th>Crude_Oil_Rig</th>\n",
       "      <th>Money_Supply_M0</th>\n",
       "      <th>Foreign_Exchange_Reserve</th>\n",
       "      <th>External_Debt</th>\n",
       "      <th>Inflation_Rate</th>\n",
       "      <th>Money_Supply_M2</th>\n",
       "      <th>Inflation_Rate_Mom</th>\n",
       "      <th>Private_Sector_Credit</th>\n",
       "      <th>Consumer_Price_Index_CPI</th>\n",
       "      <th>CPI_Transportation</th>\n",
       "      <th>Money_Supply_M1</th>\n",
       "      <th>Banks_Balance_Sheet</th>\n",
       "      <th>Dolartoday</th>\n",
       "      <th>cat</th>\n",
       "    </tr>\n",
       "    <tr>\n",
       "      <th>date</th>\n",
       "      <th></th>\n",
       "      <th></th>\n",
       "      <th></th>\n",
       "      <th></th>\n",
       "      <th></th>\n",
       "      <th></th>\n",
       "      <th></th>\n",
       "      <th></th>\n",
       "      <th></th>\n",
       "      <th></th>\n",
       "      <th></th>\n",
       "      <th></th>\n",
       "      <th></th>\n",
       "      <th></th>\n",
       "      <th></th>\n",
       "      <th></th>\n",
       "      <th></th>\n",
       "      <th></th>\n",
       "      <th></th>\n",
       "      <th></th>\n",
       "    </tr>\n",
       "  </thead>\n",
       "  <tbody>\n",
       "    <tr>\n",
       "      <th>2014-01-02 00:00:00</th>\n",
       "      <td>0.0</td>\n",
       "      <td>0.0</td>\n",
       "      <td>0.0</td>\n",
       "      <td>0.0</td>\n",
       "      <td>0.0</td>\n",
       "      <td>0.0</td>\n",
       "      <td>0.0</td>\n",
       "      <td>0.0</td>\n",
       "      <td>0.0</td>\n",
       "      <td>0.0</td>\n",
       "      <td>0.0</td>\n",
       "      <td>0.0</td>\n",
       "      <td>0.0</td>\n",
       "      <td>0.0</td>\n",
       "      <td>0.0</td>\n",
       "      <td>0.0</td>\n",
       "      <td>0.0</td>\n",
       "      <td>0.0</td>\n",
       "      <td>-0.000065</td>\n",
       "      <td>2</td>\n",
       "    </tr>\n",
       "    <tr>\n",
       "      <th>2014-01-02 01:00:00</th>\n",
       "      <td>0.0</td>\n",
       "      <td>0.0</td>\n",
       "      <td>0.0</td>\n",
       "      <td>0.0</td>\n",
       "      <td>0.0</td>\n",
       "      <td>0.0</td>\n",
       "      <td>0.0</td>\n",
       "      <td>0.0</td>\n",
       "      <td>0.0</td>\n",
       "      <td>0.0</td>\n",
       "      <td>0.0</td>\n",
       "      <td>0.0</td>\n",
       "      <td>0.0</td>\n",
       "      <td>0.0</td>\n",
       "      <td>0.0</td>\n",
       "      <td>0.0</td>\n",
       "      <td>0.0</td>\n",
       "      <td>0.0</td>\n",
       "      <td>-0.000065</td>\n",
       "      <td>2</td>\n",
       "    </tr>\n",
       "    <tr>\n",
       "      <th>2014-01-02 02:00:00</th>\n",
       "      <td>0.0</td>\n",
       "      <td>0.0</td>\n",
       "      <td>0.0</td>\n",
       "      <td>0.0</td>\n",
       "      <td>0.0</td>\n",
       "      <td>0.0</td>\n",
       "      <td>0.0</td>\n",
       "      <td>0.0</td>\n",
       "      <td>0.0</td>\n",
       "      <td>0.0</td>\n",
       "      <td>0.0</td>\n",
       "      <td>0.0</td>\n",
       "      <td>0.0</td>\n",
       "      <td>0.0</td>\n",
       "      <td>0.0</td>\n",
       "      <td>0.0</td>\n",
       "      <td>0.0</td>\n",
       "      <td>0.0</td>\n",
       "      <td>-0.000065</td>\n",
       "      <td>2</td>\n",
       "    </tr>\n",
       "    <tr>\n",
       "      <th>2014-01-02 03:00:00</th>\n",
       "      <td>0.0</td>\n",
       "      <td>0.0</td>\n",
       "      <td>0.0</td>\n",
       "      <td>0.0</td>\n",
       "      <td>0.0</td>\n",
       "      <td>0.0</td>\n",
       "      <td>0.0</td>\n",
       "      <td>0.0</td>\n",
       "      <td>0.0</td>\n",
       "      <td>0.0</td>\n",
       "      <td>0.0</td>\n",
       "      <td>0.0</td>\n",
       "      <td>0.0</td>\n",
       "      <td>0.0</td>\n",
       "      <td>0.0</td>\n",
       "      <td>0.0</td>\n",
       "      <td>0.0</td>\n",
       "      <td>0.0</td>\n",
       "      <td>-0.000065</td>\n",
       "      <td>2</td>\n",
       "    </tr>\n",
       "    <tr>\n",
       "      <th>2014-01-02 04:00:00</th>\n",
       "      <td>0.0</td>\n",
       "      <td>0.0</td>\n",
       "      <td>0.0</td>\n",
       "      <td>0.0</td>\n",
       "      <td>0.0</td>\n",
       "      <td>0.0</td>\n",
       "      <td>0.0</td>\n",
       "      <td>0.0</td>\n",
       "      <td>0.0</td>\n",
       "      <td>0.0</td>\n",
       "      <td>0.0</td>\n",
       "      <td>0.0</td>\n",
       "      <td>0.0</td>\n",
       "      <td>0.0</td>\n",
       "      <td>0.0</td>\n",
       "      <td>0.0</td>\n",
       "      <td>0.0</td>\n",
       "      <td>0.0</td>\n",
       "      <td>-0.000065</td>\n",
       "      <td>2</td>\n",
       "    </tr>\n",
       "  </tbody>\n",
       "</table>\n",
       "</div>"
      ],
      "text/plain": [
       "                     Stock_Market  Deposit_Interest_Rate  Interest_Rate  \\\n",
       "date                                                                      \n",
       "2014-01-02 00:00:00           0.0                    0.0            0.0   \n",
       "2014-01-02 01:00:00           0.0                    0.0            0.0   \n",
       "2014-01-02 02:00:00           0.0                    0.0            0.0   \n",
       "2014-01-02 03:00:00           0.0                    0.0            0.0   \n",
       "2014-01-02 04:00:00           0.0                    0.0            0.0   \n",
       "\n",
       "                     Money_Supply_M3  Central_Bank_Balance_Sheet  \\\n",
       "date                                                               \n",
       "2014-01-02 00:00:00              0.0                         0.0   \n",
       "2014-01-02 01:00:00              0.0                         0.0   \n",
       "2014-01-02 02:00:00              0.0                         0.0   \n",
       "2014-01-02 03:00:00              0.0                         0.0   \n",
       "2014-01-02 04:00:00              0.0                         0.0   \n",
       "\n",
       "                     Crude_Oil_Production  Crude_Oil_Rig  Money_Supply_M0  \\\n",
       "date                                                                        \n",
       "2014-01-02 00:00:00                   0.0            0.0              0.0   \n",
       "2014-01-02 01:00:00                   0.0            0.0              0.0   \n",
       "2014-01-02 02:00:00                   0.0            0.0              0.0   \n",
       "2014-01-02 03:00:00                   0.0            0.0              0.0   \n",
       "2014-01-02 04:00:00                   0.0            0.0              0.0   \n",
       "\n",
       "                     Foreign_Exchange_Reserve  External_Debt  Inflation_Rate  \\\n",
       "date                                                                           \n",
       "2014-01-02 00:00:00                       0.0            0.0             0.0   \n",
       "2014-01-02 01:00:00                       0.0            0.0             0.0   \n",
       "2014-01-02 02:00:00                       0.0            0.0             0.0   \n",
       "2014-01-02 03:00:00                       0.0            0.0             0.0   \n",
       "2014-01-02 04:00:00                       0.0            0.0             0.0   \n",
       "\n",
       "                     Money_Supply_M2  Inflation_Rate_Mom  \\\n",
       "date                                                       \n",
       "2014-01-02 00:00:00              0.0                 0.0   \n",
       "2014-01-02 01:00:00              0.0                 0.0   \n",
       "2014-01-02 02:00:00              0.0                 0.0   \n",
       "2014-01-02 03:00:00              0.0                 0.0   \n",
       "2014-01-02 04:00:00              0.0                 0.0   \n",
       "\n",
       "                     Private_Sector_Credit  Consumer_Price_Index_CPI  \\\n",
       "date                                                                   \n",
       "2014-01-02 00:00:00                    0.0                       0.0   \n",
       "2014-01-02 01:00:00                    0.0                       0.0   \n",
       "2014-01-02 02:00:00                    0.0                       0.0   \n",
       "2014-01-02 03:00:00                    0.0                       0.0   \n",
       "2014-01-02 04:00:00                    0.0                       0.0   \n",
       "\n",
       "                     CPI_Transportation  Money_Supply_M1  Banks_Balance_Sheet  \\\n",
       "date                                                                            \n",
       "2014-01-02 00:00:00                 0.0              0.0                  0.0   \n",
       "2014-01-02 01:00:00                 0.0              0.0                  0.0   \n",
       "2014-01-02 02:00:00                 0.0              0.0                  0.0   \n",
       "2014-01-02 03:00:00                 0.0              0.0                  0.0   \n",
       "2014-01-02 04:00:00                 0.0              0.0                  0.0   \n",
       "\n",
       "                     Dolartoday  cat  \n",
       "date                                  \n",
       "2014-01-02 00:00:00   -0.000065    2  \n",
       "2014-01-02 01:00:00   -0.000065    2  \n",
       "2014-01-02 02:00:00   -0.000065    2  \n",
       "2014-01-02 03:00:00   -0.000065    2  \n",
       "2014-01-02 04:00:00   -0.000065    2  "
      ]
     },
     "execution_count": 430,
     "metadata": {},
     "output_type": "execute_result"
    }
   ],
   "source": [
    "classifier_df.head()"
   ]
  },
  {
   "cell_type": "code",
   "execution_count": 511,
   "id": "9eaef4be",
   "metadata": {},
   "outputs": [],
   "source": [
    "teutoburg = RandomForestClassifier(n_estimators=100, max_depth=4, verbose=True, n_jobs=-1)"
   ]
  },
  {
   "cell_type": "code",
   "execution_count": 512,
   "id": "b014da25",
   "metadata": {},
   "outputs": [
    {
     "name": "stderr",
     "output_type": "stream",
     "text": [
      "[Parallel(n_jobs=-1)]: Using backend ThreadingBackend with 8 concurrent workers.\n",
      "[Parallel(n_jobs=-1)]: Done  34 tasks      | elapsed:    0.2s\n",
      "[Parallel(n_jobs=-1)]: Done 100 out of 100 | elapsed:    0.4s finished\n"
     ]
    },
    {
     "data": {
      "text/plain": [
       "RandomForestClassifier(max_depth=4, n_jobs=-1, verbose=True)"
      ]
     },
     "execution_count": 512,
     "metadata": {},
     "output_type": "execute_result"
    }
   ],
   "source": [
    "teutoburg.fit(X_train, y_train)"
   ]
  },
  {
   "cell_type": "code",
   "execution_count": 513,
   "id": "36f9819d",
   "metadata": {},
   "outputs": [],
   "source": [
    "X_test.fillna(method='ffill', inplace=True)"
   ]
  },
  {
   "cell_type": "code",
   "execution_count": 514,
   "id": "a3976ac0",
   "metadata": {
    "scrolled": true
   },
   "outputs": [
    {
     "name": "stderr",
     "output_type": "stream",
     "text": [
      "[Parallel(n_jobs=8)]: Using backend ThreadingBackend with 8 concurrent workers.\n",
      "[Parallel(n_jobs=8)]: Done  34 tasks      | elapsed:    0.0s\n",
      "[Parallel(n_jobs=8)]: Done 100 out of 100 | elapsed:    0.1s finished\n"
     ]
    },
    {
     "data": {
      "text/plain": [
       "0.6421677444262137"
      ]
     },
     "execution_count": 514,
     "metadata": {},
     "output_type": "execute_result"
    }
   ],
   "source": [
    "teutoburg.score(X_test, y_test)"
   ]
  },
  {
   "cell_type": "code",
   "execution_count": 515,
   "id": "d301e1f5",
   "metadata": {},
   "outputs": [
    {
     "name": "stderr",
     "output_type": "stream",
     "text": [
      "[Parallel(n_jobs=8)]: Using backend ThreadingBackend with 8 concurrent workers.\n",
      "[Parallel(n_jobs=8)]: Done  34 tasks      | elapsed:    0.0s\n",
      "[Parallel(n_jobs=8)]: Done 100 out of 100 | elapsed:    0.1s finished\n"
     ]
    }
   ],
   "source": [
    "t_pred = teutoburg.predict(X_test)"
   ]
  },
  {
   "cell_type": "code",
   "execution_count": 510,
   "id": "bb0f0d2b",
   "metadata": {},
   "outputs": [
    {
     "data": {
      "text/plain": [
       "0.665524563266094"
      ]
     },
     "execution_count": 510,
     "metadata": {},
     "output_type": "execute_result"
    }
   ],
   "source": [
    "accuracy_score(y_test, t_pred)"
   ]
  },
  {
   "cell_type": "markdown",
   "id": "6d5f3e26",
   "metadata": {},
   "source": [
    "### Gradient boost classifier"
   ]
  },
  {
   "cell_type": "code",
   "execution_count": 538,
   "id": "8dc18f90",
   "metadata": {},
   "outputs": [],
   "source": [
    "hara = GradientBoostingClassifier(max_depth=6, validation_fraction=0.1)"
   ]
  },
  {
   "cell_type": "code",
   "execution_count": 539,
   "id": "6abb3911",
   "metadata": {},
   "outputs": [
    {
     "data": {
      "text/plain": [
       "GradientBoostingClassifier(max_depth=6)"
      ]
     },
     "execution_count": 539,
     "metadata": {},
     "output_type": "execute_result"
    }
   ],
   "source": [
    "hara.fit(X_train, y_train)"
   ]
  },
  {
   "cell_type": "code",
   "execution_count": 540,
   "id": "869715b1",
   "metadata": {},
   "outputs": [],
   "source": [
    "kiri_pred = hari.predict(X_test)"
   ]
  },
  {
   "cell_type": "code",
   "execution_count": 541,
   "id": "4efd172a",
   "metadata": {},
   "outputs": [
    {
     "data": {
      "text/plain": [
       "0.6647041791332883"
      ]
     },
     "execution_count": 541,
     "metadata": {},
     "output_type": "execute_result"
    }
   ],
   "source": [
    "accuracy_score(y_test, kiri_pred)"
   ]
  },
  {
   "cell_type": "markdown",
   "id": "ec3d46b1",
   "metadata": {},
   "source": [
    "### Logistic regression"
   ]
  },
  {
   "cell_type": "code",
   "execution_count": 543,
   "id": "5009f439",
   "metadata": {},
   "outputs": [],
   "source": [
    "logger = LogisticRegression()"
   ]
  },
  {
   "cell_type": "code",
   "execution_count": null,
   "id": "ebd9fbc7",
   "metadata": {},
   "outputs": [],
   "source": [
    "logger.fit"
   ]
  }
 ],
 "metadata": {
  "kernelspec": {
   "display_name": "Python 3 (ipykernel)",
   "language": "python",
   "name": "python3"
  },
  "language_info": {
   "codemirror_mode": {
    "name": "ipython",
    "version": 3
   },
   "file_extension": ".py",
   "mimetype": "text/x-python",
   "name": "python",
   "nbconvert_exporter": "python",
   "pygments_lexer": "ipython3",
   "version": "3.8.12"
  }
 },
 "nbformat": 4,
 "nbformat_minor": 5
}
