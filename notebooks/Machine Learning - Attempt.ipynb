{
 "cells": [
  {
   "cell_type": "markdown",
   "id": "c343cfd7",
   "metadata": {},
   "source": [
    "# Machine Learning"
   ]
  },
  {
   "cell_type": "markdown",
   "id": "b392bf40",
   "metadata": {},
   "source": [
    "## Imports"
   ]
  },
  {
   "cell_type": "code",
   "execution_count": 88,
   "id": "c73f66c6",
   "metadata": {},
   "outputs": [],
   "source": [
    "import pandas as pd\n",
    "import numpy as np\n",
    "import matplotlib.pyplot as plt\n",
    "import math\n",
    "from sklearn.preprocessing import RobustScaler, StandardScaler, MinMaxScaler\n",
    "from sklearn.pipeline import Pipeline\n",
    "from sklearn.linear_model import LinearRegression, ElasticNet, Ridge, Lasso\n",
    "from sklearn.model_selection import train_test_split, cross_val_score, GridSearchCV, cross_validate\n",
    "from sklearn.metrics import mean_squared_error, mean_absolute_error, r2_score, max_error\n",
    "from sklearn.tree import DecisionTreeRegressor\n",
    "from sklearn.ensemble import RandomForestRegressor, AdaBoostRegressor, GradientBoostingRegressor\n",
    "from xgboost import XGBRegressor"
   ]
  },
  {
   "cell_type": "markdown",
   "id": "df120efc",
   "metadata": {},
   "source": [
    "## Data"
   ]
  },
  {
   "cell_type": "code",
   "execution_count": 508,
   "id": "5f09fef9",
   "metadata": {},
   "outputs": [],
   "source": [
    "origin_df = pd.read_csv('/Users/joseph/code/Ward-cloud/project/venezuela_fx/venezuela_fx/data/working_df.csv')"
   ]
  },
  {
   "cell_type": "code",
   "execution_count": null,
   "id": "ea665b7e",
   "metadata": {},
   "outputs": [],
   "source": []
  },
  {
   "cell_type": "code",
   "execution_count": 509,
   "id": "43db7c60",
   "metadata": {},
   "outputs": [],
   "source": [
    "df = origin_df.copy()"
   ]
  },
  {
   "cell_type": "code",
   "execution_count": 510,
   "id": "3d6b1b59",
   "metadata": {},
   "outputs": [
    {
     "data": {
      "text/plain": [
       "[<matplotlib.lines.Line2D at 0x134f1cf10>]"
      ]
     },
     "execution_count": 510,
     "metadata": {},
     "output_type": "execute_result"
    },
    {
     "data": {
      "image/png": "[encoded data removed]",
      "text/plain": [
       "<Figure size 432x288 with 1 Axes>"
      ]
     },
     "metadata": {
      "needs_background": "light"
     },
     "output_type": "display_data"
    }
   ],
   "source": [
    "plt.plot(df['Dolartoday'])"
   ]
  },
  {
   "cell_type": "code",
   "execution_count": 511,
   "id": "7066124c",
   "metadata": {},
   "outputs": [],
   "source": [
    "df['Unnamed: 0'] = df['Unnamed: 0'].apply(pd.to_datetime)"
   ]
  },
  {
   "cell_type": "code",
   "execution_count": 512,
   "id": "6b70ea38",
   "metadata": {},
   "outputs": [],
   "source": [
    "df.rename(columns = {'Unnamed: 0':'date'}, inplace=True)"
   ]
  },
  {
   "cell_type": "code",
   "execution_count": 513,
   "id": "cc6d3525",
   "metadata": {},
   "outputs": [],
   "source": [
    "df = df.set_index('date')"
   ]
  },
  {
   "cell_type": "code",
   "execution_count": 503,
   "id": "aeba187a",
   "metadata": {},
   "outputs": [
    {
     "data": {
      "text/plain": [
       "(4900.0, 5600.0)"
      ]
     },
     "execution_count": 503,
     "metadata": {},
     "output_type": "execute_result"
    },
    {
     "data": {
      "image/png": "[encoded data removed]",
      "text/plain": [
       "<Figure size 432x288 with 1 Axes>"
      ]
     },
     "metadata": {
      "needs_background": "light"
     },
     "output_type": "display_data"
    }
   ],
   "source": [
    "plt.plot(origin_df['Dolartoday'])\n",
    "plt.xlim(4900, 5600)"
   ]
  },
  {
   "cell_type": "markdown",
   "id": "0299b6af",
   "metadata": {},
   "source": [
    "## Flattening"
   ]
  },
  {
   "cell_type": "code",
   "execution_count": 404,
   "id": "880b02af",
   "metadata": {},
   "outputs": [],
   "source": [
    "X= df.drop(columns = ['Dolartoday'])\n",
    "y= df['Dolartoday']"
   ]
  },
  {
   "cell_type": "code",
   "execution_count": 428,
   "id": "4ea0d2cb",
   "metadata": {},
   "outputs": [],
   "source": [
    "values = []\n",
    "y_list =[]\n",
    "target_distance = 1\n",
    "seq_length =5\n",
    "for idx in list(range(0,5430)):\n",
    "    X_temp = X.iloc[idx:idx+seq_length]\n",
    "    values.append(X_temp.values.reshape(-1))\n",
    "    y_list.append(y[idx+target_distance])\n",
    "\n",
    "X_df = pd.DataFrame(np.vstack(values))\n",
    "\n",
    "y_series = pd.Series(y_list)"
   ]
  },
  {
   "cell_type": "markdown",
   "id": "6593b103",
   "metadata": {},
   "source": [
    "## Scaling"
   ]
  },
  {
   "cell_type": "markdown",
   "id": "4a0cb39c",
   "metadata": {},
   "source": [
    "### Robust"
   ]
  },
  {
   "cell_type": "code",
   "execution_count": 11,
   "id": "9457a88e",
   "metadata": {},
   "outputs": [],
   "source": [
    "X_train, X_test, y_train, y_test = train_test_split(X_df, y_series, test_size=0.30, shuffle=False )"
   ]
  },
  {
   "cell_type": "code",
   "execution_count": 12,
   "id": "9f0ffbb3",
   "metadata": {},
   "outputs": [],
   "source": [
    "scaler = RobustScaler().fit(X_train)"
   ]
  },
  {
   "cell_type": "code",
   "execution_count": 13,
   "id": "55bdbd67",
   "metadata": {},
   "outputs": [],
   "source": [
    "X_train = scaler.transform(X_train)"
   ]
  },
  {
   "cell_type": "code",
   "execution_count": 14,
   "id": "45e186cb",
   "metadata": {},
   "outputs": [],
   "source": [
    "X_test = scaler.transform(X_test)"
   ]
  },
  {
   "cell_type": "markdown",
   "id": "9fab0e37",
   "metadata": {},
   "source": [
    "## log scaler"
   ]
  },
  {
   "cell_type": "code",
   "execution_count": 519,
   "id": "c93256e0",
   "metadata": {},
   "outputs": [],
   "source": [
    "log_scaled_df = np.log(df).diff()"
   ]
  },
  {
   "cell_type": "code",
   "execution_count": 515,
   "id": "6eaf1539",
   "metadata": {},
   "outputs": [
    {
     "data": {
      "text/plain": [
       "(3125, 19)"
      ]
     },
     "execution_count": 515,
     "metadata": {},
     "output_type": "execute_result"
    }
   ],
   "source": [
    "log_scaled_df.shape"
   ]
  },
  {
   "cell_type": "code",
   "execution_count": 431,
   "id": "329b9170",
   "metadata": {},
   "outputs": [],
   "source": [
    "ls_test = log_scaled_df.iloc[2000:]"
   ]
  },
  {
   "cell_type": "code",
   "execution_count": 432,
   "id": "28d20cae",
   "metadata": {},
   "outputs": [],
   "source": [
    "ls_train = log_scaled_df.iloc[:2000]"
   ]
  },
  {
   "cell_type": "code",
   "execution_count": 433,
   "id": "bb04e735",
   "metadata": {},
   "outputs": [],
   "source": [
    "l_X_test = ls_test.drop(columns=['Dolartoday'])\n",
    "l_y_test = ls_test['Dolartoday']"
   ]
  },
  {
   "cell_type": "code",
   "execution_count": 434,
   "id": "a210df08",
   "metadata": {},
   "outputs": [],
   "source": [
    "l_X_train = ls_train.drop(columns=['Dolartoday'])\n",
    "l_y_train = ls_train['Dolartoday']"
   ]
  },
  {
   "cell_type": "code",
   "execution_count": 435,
   "id": "77241308",
   "metadata": {
    "scrolled": true
   },
   "outputs": [
    {
     "data": {
      "image/png": "[encoded data removed]",
      "text/plain": [
       "<Figure size 432x288 with 1 Axes>"
      ]
     },
     "metadata": {
      "needs_background": "light"
     },
     "output_type": "display_data"
    }
   ],
   "source": [
    "plt.plot(ls_train);"
   ]
  },
  {
   "cell_type": "code",
   "execution_count": 437,
   "id": "841f7cd3",
   "metadata": {},
   "outputs": [],
   "source": [
    "values = []\n",
    "y_list =[]\n",
    "target_distance = 1\n",
    "seq_length =5\n",
    "for idx in list(range(0,1118)):\n",
    "    X_temp = l_X_test.iloc[idx:idx+seq_length]\n",
    "    values.append(X_temp.values.reshape(-1))\n",
    "    y_list.append(l_y_test[idx+target_distance])\n",
    "flX_test = pd.DataFrame(np.vstack(values))\n",
    "\n",
    "fly_test = pd.Series(y_list)"
   ]
  },
  {
   "cell_type": "code",
   "execution_count": 438,
   "id": "21a6eb3d",
   "metadata": {},
   "outputs": [],
   "source": [
    "# flx_test = X_test\n",
    "# fly_seri = y_test"
   ]
  },
  {
   "cell_type": "code",
   "execution_count": 439,
   "id": "b5002a6a",
   "metadata": {},
   "outputs": [],
   "source": [
    "values = []\n",
    "y_list =[]\n",
    "target_distance = 1\n",
    "seq_length =5\n",
    "for idx in list(range(0,1993)):\n",
    "    X_temp = l_X_train.iloc[idx:idx+seq_length]\n",
    "    values.append(X_temp.values.reshape(-1))\n",
    "    y_list.append(l_y_train[idx+target_distance])\n",
    "flX_train = pd.DataFrame(np.vstack(values))\n",
    "\n",
    "fly_train = pd.Series(y_list)"
   ]
  },
  {
   "cell_type": "code",
   "execution_count": 440,
   "id": "489e61e0",
   "metadata": {},
   "outputs": [],
   "source": [
    "# flx_train = X_train\n",
    "# fly_train = y_train"
   ]
  },
  {
   "cell_type": "code",
   "execution_count": 441,
   "id": "f9bf5212",
   "metadata": {},
   "outputs": [
    {
     "data": {
      "text/plain": [
       "True"
      ]
     },
     "execution_count": 441,
     "metadata": {},
     "output_type": "execute_result"
    }
   ],
   "source": [
    "## getting rid of infinites\n",
    "flX_train.isin([np.inf, -np.inf]).sum().any()"
   ]
  },
  {
   "cell_type": "code",
   "execution_count": 442,
   "id": "4f08b0cc",
   "metadata": {},
   "outputs": [],
   "source": [
    "flX_train.replace(np.inf, 0.0, inplace=True)\n",
    "flX_train.replace(-np.inf, 0.0, inplace=True)"
   ]
  },
  {
   "cell_type": "code",
   "execution_count": 443,
   "id": "3462d86b",
   "metadata": {},
   "outputs": [
    {
     "data": {
      "text/plain": [
       "True"
      ]
     },
     "execution_count": 443,
     "metadata": {},
     "output_type": "execute_result"
    }
   ],
   "source": [
    "flX_test.isin([np.inf, -np.inf]).sum().any()"
   ]
  },
  {
   "cell_type": "code",
   "execution_count": 444,
   "id": "1a5c7175",
   "metadata": {},
   "outputs": [],
   "source": [
    "flX_test.replace(np.inf, 0.0, inplace=True)\n",
    "flX_test.replace(-np.inf, 0.0, inplace=True)"
   ]
  },
  {
   "cell_type": "code",
   "execution_count": 445,
   "id": "b41dc7ca",
   "metadata": {},
   "outputs": [
    {
     "data": {
      "text/plain": [
       "False"
      ]
     },
     "execution_count": 445,
     "metadata": {},
     "output_type": "execute_result"
    }
   ],
   "source": [
    "fly_test.isin([np.inf, -np.inf]).sum().any()"
   ]
  },
  {
   "cell_type": "markdown",
   "id": "2aae7ab8",
   "metadata": {},
   "source": [
    "## Train_test_split"
   ]
  },
  {
   "cell_type": "code",
   "execution_count": 116,
   "id": "bc0c9909",
   "metadata": {},
   "outputs": [],
   "source": [
    "X_train, X_test, y_train, y_test = train_test_split(X_df, y_series, test_size=0.30)"
   ]
  },
  {
   "cell_type": "markdown",
   "id": "98d6ba73",
   "metadata": {},
   "source": [
    "## Models"
   ]
  },
  {
   "cell_type": "markdown",
   "id": "161efc85",
   "metadata": {},
   "source": [
    "### Linear"
   ]
  },
  {
   "cell_type": "code",
   "execution_count": 27,
   "id": "368c62c2",
   "metadata": {},
   "outputs": [],
   "source": [
    "lin_model = LinearRegression().fit(X_train, y_train)"
   ]
  },
  {
   "cell_type": "code",
   "execution_count": 28,
   "id": "1ecc2514",
   "metadata": {},
   "outputs": [
    {
     "data": {
      "text/plain": [
       "0.9892296545973631"
      ]
     },
     "execution_count": 28,
     "metadata": {},
     "output_type": "execute_result"
    }
   ],
   "source": [
    "lin_model.score(X_test, y_test)"
   ]
  },
  {
   "cell_type": "code",
   "execution_count": 38,
   "id": "673aac60",
   "metadata": {},
   "outputs": [
    {
     "data": {
      "text/plain": [
       "[<matplotlib.lines.Line2D at 0x12fbccfa0>]"
      ]
     },
     "execution_count": 38,
     "metadata": {},
     "output_type": "execute_result"
    },
    {
     "data": {
      "image/png": "[encoded data removed]",
      "text/plain": [
       "<Figure size 432x288 with 1 Axes>"
      ]
     },
     "metadata": {
      "needs_background": "light"
     },
     "output_type": "display_data"
    }
   ],
   "source": [
    "plt.plot(lin_model.predict(X_test.sort_index()))\n"
   ]
  },
  {
   "cell_type": "markdown",
   "id": "3e630971",
   "metadata": {},
   "source": [
    "### Ridge"
   ]
  },
  {
   "cell_type": "code",
   "execution_count": 40,
   "id": "c9c93059",
   "metadata": {},
   "outputs": [],
   "source": [
    "ridge = Ridge(alpha=0.2).fit(X_train, y_train)"
   ]
  },
  {
   "cell_type": "code",
   "execution_count": 41,
   "id": "4fd43e1f",
   "metadata": {},
   "outputs": [
    {
     "data": {
      "text/plain": [
       "0.989212797524971"
      ]
     },
     "execution_count": 41,
     "metadata": {},
     "output_type": "execute_result"
    }
   ],
   "source": [
    "ridge.score(X_test, y_test)"
   ]
  },
  {
   "cell_type": "code",
   "execution_count": 50,
   "id": "59db533a",
   "metadata": {},
   "outputs": [
    {
     "data": {
      "text/plain": [
       "[<matplotlib.lines.Line2D at 0x12fea3c40>]"
      ]
     },
     "execution_count": 50,
     "metadata": {},
     "output_type": "execute_result"
    },
    {
     "data": {
      "image/png": "[encoded data removed]",
      "text/plain": [
       "<Figure size 432x288 with 1 Axes>"
      ]
     },
     "metadata": {
      "needs_background": "light"
     },
     "output_type": "display_data"
    }
   ],
   "source": [
    "plt.plot(ridge.predict(X_test.sort_index()))"
   ]
  },
  {
   "cell_type": "markdown",
   "id": "1c97562b",
   "metadata": {},
   "source": [
    "### Lasso"
   ]
  },
  {
   "cell_type": "code",
   "execution_count": 51,
   "id": "bf52c30d",
   "metadata": {},
   "outputs": [
    {
     "name": "stderr",
     "output_type": "stream",
     "text": [
      "/Users/joseph/.pyenv/versions/3.8.12/envs/venezuela_fx/lib/python3.8/site-packages/sklearn/linear_model/_coordinate_descent.py:647: ConvergenceWarning: Objective did not converge. You might want to increase the number of iterations, check the scale of the features or consider increasing regularisation. Duality gap: 5.468e+12, tolerance: 2.268e+11\n",
      "  model = cd_fast.enet_coordinate_descent(\n"
     ]
    }
   ],
   "source": [
    "lasso = Lasso(alpha=0.5).fit(X_train, y_train)"
   ]
  },
  {
   "cell_type": "code",
   "execution_count": 52,
   "id": "165668bc",
   "metadata": {},
   "outputs": [
    {
     "data": {
      "text/plain": [
       "0.9945081256279946"
      ]
     },
     "execution_count": 52,
     "metadata": {},
     "output_type": "execute_result"
    }
   ],
   "source": [
    "lasso.score(X_test, y_test)"
   ]
  },
  {
   "cell_type": "code",
   "execution_count": 55,
   "id": "c48ecee0",
   "metadata": {},
   "outputs": [
    {
     "data": {
      "text/plain": [
       "[<matplotlib.lines.Line2D at 0x12ff73e80>]"
      ]
     },
     "execution_count": 55,
     "metadata": {},
     "output_type": "execute_result"
    },
    {
     "data": {
      "image/png": "[encoded data removed]",
      "text/plain": [
       "<Figure size 432x288 with 1 Axes>"
      ]
     },
     "metadata": {
      "needs_background": "light"
     },
     "output_type": "display_data"
    }
   ],
   "source": [
    "plt.plot(lasso.predict(X_test.sort_index()))\n"
   ]
  },
  {
   "cell_type": "markdown",
   "id": "d3c4bf4c",
   "metadata": {},
   "source": [
    "### Elastic Net"
   ]
  },
  {
   "cell_type": "code",
   "execution_count": 56,
   "id": "a0b01346",
   "metadata": {},
   "outputs": [],
   "source": [
    "ideal_elastic_model = ElasticNet(alpha=0.01, l1_ratio=0.9)"
   ]
  },
  {
   "cell_type": "code",
   "execution_count": 57,
   "id": "65626a03",
   "metadata": {},
   "outputs": [
    {
     "name": "stderr",
     "output_type": "stream",
     "text": [
      "/Users/joseph/.pyenv/versions/3.8.12/envs/venezuela_fx/lib/python3.8/site-packages/sklearn/linear_model/_coordinate_descent.py:647: ConvergenceWarning: Objective did not converge. You might want to increase the number of iterations, check the scale of the features or consider increasing regularisation. Duality gap: 5.468e+12, tolerance: 2.268e+11\n",
      "  model = cd_fast.enet_coordinate_descent(\n"
     ]
    },
    {
     "data": {
      "text/plain": [
       "ElasticNet(alpha=0.01, l1_ratio=0.9)"
      ]
     },
     "execution_count": 57,
     "metadata": {},
     "output_type": "execute_result"
    }
   ],
   "source": [
    "ideal_elastic_model.fit(X_train, y_train)"
   ]
  },
  {
   "cell_type": "code",
   "execution_count": 58,
   "id": "89ca9242",
   "metadata": {},
   "outputs": [
    {
     "data": {
      "text/plain": [
       "0.9945083234925768"
      ]
     },
     "execution_count": 58,
     "metadata": {},
     "output_type": "execute_result"
    }
   ],
   "source": [
    "ideal_elastic_model.score(X_test,y_test)"
   ]
  },
  {
   "cell_type": "code",
   "execution_count": 60,
   "id": "3576d8b6",
   "metadata": {},
   "outputs": [
    {
     "data": {
      "text/plain": [
       "[<matplotlib.lines.Line2D at 0x130036280>]"
      ]
     },
     "execution_count": 60,
     "metadata": {},
     "output_type": "execute_result"
    },
    {
     "data": {
      "image/png": "[encoded data removed]",
      "text/plain": [
       "<Figure size 432x288 with 1 Axes>"
      ]
     },
     "metadata": {
      "needs_background": "light"
     },
     "output_type": "display_data"
    }
   ],
   "source": [
    "plt.plot(ideal_elastic_model.predict(X_test.sort_index()))"
   ]
  },
  {
   "cell_type": "markdown",
   "id": "1f39df2f",
   "metadata": {},
   "source": [
    "### Trees"
   ]
  },
  {
   "cell_type": "code",
   "execution_count": 64,
   "id": "31b66217",
   "metadata": {},
   "outputs": [
    {
     "data": {
      "text/plain": [
       "0.996645109831384"
      ]
     },
     "execution_count": 64,
     "metadata": {},
     "output_type": "execute_result"
    }
   ],
   "source": [
    "tree = DecisionTreeRegressor().fit(X_train, y_train)\n",
    "tree.score(X_test,y_test)"
   ]
  },
  {
   "cell_type": "code",
   "execution_count": 65,
   "id": "819af556",
   "metadata": {},
   "outputs": [
    {
     "data": {
      "text/plain": [
       "[<matplotlib.lines.Line2D at 0x130095f70>]"
      ]
     },
     "execution_count": 65,
     "metadata": {},
     "output_type": "execute_result"
    },
    {
     "data": {
      "image/png": "[encoded data removed]",
      "text/plain": [
       "<Figure size 432x288 with 1 Axes>"
      ]
     },
     "metadata": {
      "needs_background": "light"
     },
     "output_type": "display_data"
    }
   ],
   "source": [
    "plt.plot(tree.predict(X_test.sort_index()))"
   ]
  },
  {
   "cell_type": "code",
   "execution_count": 68,
   "id": "f5ffb7f1",
   "metadata": {},
   "outputs": [],
   "source": [
    "forest = RandomForestRegressor(n_estimators=100)"
   ]
  },
  {
   "cell_type": "code",
   "execution_count": 69,
   "id": "ee9f56c3",
   "metadata": {},
   "outputs": [
    {
     "data": {
      "text/plain": [
       "RandomForestRegressor()"
      ]
     },
     "execution_count": 69,
     "metadata": {},
     "output_type": "execute_result"
    }
   ],
   "source": [
    "forest.fit(X_train, y_train)"
   ]
  },
  {
   "cell_type": "code",
   "execution_count": 70,
   "id": "14e3fd0f",
   "metadata": {},
   "outputs": [
    {
     "data": {
      "text/plain": [
       "0.9984173332352132"
      ]
     },
     "execution_count": 70,
     "metadata": {},
     "output_type": "execute_result"
    }
   ],
   "source": [
    "forest.score(X_test, y_test)"
   ]
  },
  {
   "cell_type": "markdown",
   "id": "fc8e845b",
   "metadata": {},
   "source": [
    "### Boosting"
   ]
  },
  {
   "cell_type": "code",
   "execution_count": 77,
   "id": "38b982ab",
   "metadata": {},
   "outputs": [],
   "source": [
    "adaboost = AdaBoostRegressor(\n",
    "    DecisionTreeRegressor(max_depth=6), n_estimators=50)\n"
   ]
  },
  {
   "cell_type": "code",
   "execution_count": 78,
   "id": "6f3f8ef0",
   "metadata": {},
   "outputs": [
    {
     "data": {
      "text/plain": [
       "AdaBoostRegressor(base_estimator=DecisionTreeRegressor(max_depth=6))"
      ]
     },
     "execution_count": 78,
     "metadata": {},
     "output_type": "execute_result"
    }
   ],
   "source": [
    "adaboost.fit(X_train, y_train)"
   ]
  },
  {
   "cell_type": "code",
   "execution_count": 79,
   "id": "6d2df6fd",
   "metadata": {},
   "outputs": [
    {
     "data": {
      "text/plain": [
       "0.9982711606292409"
      ]
     },
     "execution_count": 79,
     "metadata": {},
     "output_type": "execute_result"
    }
   ],
   "source": [
    "adaboost.score(X_test, y_test)"
   ]
  },
  {
   "cell_type": "code",
   "execution_count": 82,
   "id": "625e7fb1",
   "metadata": {},
   "outputs": [],
   "source": [
    "grad_model = GradientBoostingRegressor(n_estimators=100, learning_rate=0.1, max_depth=6)"
   ]
  },
  {
   "cell_type": "code",
   "execution_count": 83,
   "id": "3a1ba015",
   "metadata": {},
   "outputs": [
    {
     "data": {
      "text/plain": [
       "GradientBoostingRegressor(max_depth=6)"
      ]
     },
     "execution_count": 83,
     "metadata": {},
     "output_type": "execute_result"
    }
   ],
   "source": [
    "grad_model.fit(X_train, y_train)"
   ]
  },
  {
   "cell_type": "code",
   "execution_count": 84,
   "id": "bf7759c1",
   "metadata": {},
   "outputs": [
    {
     "data": {
      "text/plain": [
       "0.9984974708648021"
      ]
     },
     "execution_count": 84,
     "metadata": {},
     "output_type": "execute_result"
    }
   ],
   "source": [
    "grad_model.score(X_test, y_test)"
   ]
  },
  {
   "cell_type": "code",
   "execution_count": 93,
   "id": "f675ed52",
   "metadata": {},
   "outputs": [
    {
     "data": {
      "text/plain": [
       "array([2.18404708e+01, 2.18404708e+01, 2.18404708e+01, ...,\n",
       "       7.49008151e+03, 3.15845344e+06, 2.18404708e+01])"
      ]
     },
     "execution_count": 93,
     "metadata": {},
     "output_type": "execute_result"
    }
   ],
   "source": [
    "grad_model.predict(X_test)"
   ]
  },
  {
   "cell_type": "code",
   "execution_count": 94,
   "id": "b32448e3",
   "metadata": {},
   "outputs": [
    {
     "data": {
      "text/plain": [
       "2070    1.121000e-04\n",
       "2358    3.193000e-04\n",
       "3450    1.094340e-02\n",
       "3146    6.768800e-03\n",
       "3613    3.986480e-02\n",
       "            ...     \n",
       "2091    1.200000e-04\n",
       "4635    2.163012e+04\n",
       "4555    7.879540e+03\n",
       "5238    3.012482e+06\n",
       "3806    7.107860e-02\n",
       "Length: 1629, dtype: float64"
      ]
     },
     "execution_count": 94,
     "metadata": {},
     "output_type": "execute_result"
    }
   ],
   "source": [
    "y_test"
   ]
  },
  {
   "cell_type": "code",
   "execution_count": 96,
   "id": "9c2e3253",
   "metadata": {},
   "outputs": [
    {
     "data": {
      "text/plain": [
       "4203.239696796866"
      ]
     },
     "execution_count": 96,
     "metadata": {},
     "output_type": "execute_result"
    }
   ],
   "source": [
    "mean_absolute_error(y_test, grad_model.predict(X_test))"
   ]
  },
  {
   "cell_type": "code",
   "execution_count": 95,
   "id": "6cfddfaa",
   "metadata": {},
   "outputs": [
    {
     "data": {
      "text/plain": [
       "0.9984974708648021"
      ]
     },
     "execution_count": 95,
     "metadata": {},
     "output_type": "execute_result"
    }
   ],
   "source": [
    "r2_score(y_test, grad_model.predict(X_test))"
   ]
  },
  {
   "cell_type": "code",
   "execution_count": 85,
   "id": "7c1914ff",
   "metadata": {},
   "outputs": [
    {
     "data": {
      "text/plain": [
       "[<matplotlib.lines.Line2D at 0x13046e700>]"
      ]
     },
     "execution_count": 85,
     "metadata": {},
     "output_type": "execute_result"
    },
    {
     "data": {
      "image/png": "[encoded data removed]",
      "text/plain": [
       "<Figure size 432x288 with 1 Axes>"
      ]
     },
     "metadata": {
      "needs_background": "light"
     },
     "output_type": "display_data"
    }
   ],
   "source": [
    "plt.plot(grad_model.predict(X_test.sort_index()))"
   ]
  },
  {
   "cell_type": "markdown",
   "id": "d0ceae3d",
   "metadata": {},
   "source": [
    "### XGBOOST"
   ]
  },
  {
   "cell_type": "code",
   "execution_count": 89,
   "id": "e2607514",
   "metadata": {},
   "outputs": [],
   "source": [
    "xgb_model = XGBRegressor(max_depth=10, n_estimators=100, learning_rate=0.1)"
   ]
  },
  {
   "cell_type": "code",
   "execution_count": 90,
   "id": "290ae8e1",
   "metadata": {},
   "outputs": [
    {
     "data": {
      "text/plain": [
       "XGBRegressor(base_score=0.5, booster='gbtree', colsample_bylevel=1,\n",
       "             colsample_bynode=1, colsample_bytree=1, enable_categorical=False,\n",
       "             gamma=0, gpu_id=-1, importance_type=None,\n",
       "             interaction_constraints='', learning_rate=0.1, max_delta_step=0,\n",
       "             max_depth=10, min_child_weight=1, missing=nan,\n",
       "             monotone_constraints='()', n_estimators=100, n_jobs=8,\n",
       "             num_parallel_tree=1, predictor='auto', random_state=0, reg_alpha=0,\n",
       "             reg_lambda=1, scale_pos_weight=1, subsample=1, tree_method='exact',\n",
       "             validate_parameters=1, verbosity=None)"
      ]
     },
     "execution_count": 90,
     "metadata": {},
     "output_type": "execute_result"
    }
   ],
   "source": [
    "xgb_model.fit(X_train, y_train)"
   ]
  },
  {
   "cell_type": "code",
   "execution_count": 91,
   "id": "ef1b6040",
   "metadata": {},
   "outputs": [
    {
     "data": {
      "text/plain": [
       "0.9984452701384285"
      ]
     },
     "execution_count": 91,
     "metadata": {},
     "output_type": "execute_result"
    }
   ],
   "source": [
    "xgb_model.score(X_test,y_test)"
   ]
  },
  {
   "cell_type": "code",
   "execution_count": 92,
   "id": "482d1a23",
   "metadata": {},
   "outputs": [
    {
     "data": {
      "text/plain": [
       "[<matplotlib.lines.Line2D at 0x130a2b0a0>]"
      ]
     },
     "execution_count": 92,
     "metadata": {},
     "output_type": "execute_result"
    },
    {
     "data": {
      "image/png": "[encoded data removed]",
      "text/plain": [
       "<Figure size 432x288 with 1 Axes>"
      ]
     },
     "metadata": {
      "needs_background": "light"
     },
     "output_type": "display_data"
    }
   ],
   "source": [
    "plt.plot(xgb_model.predict(X_test.sort_index()))"
   ]
  },
  {
   "cell_type": "markdown",
   "id": "eff7105a",
   "metadata": {},
   "source": [
    "### XGBoost with fly"
   ]
  },
  {
   "cell_type": "code",
   "execution_count": 132,
   "id": "6a68701b",
   "metadata": {},
   "outputs": [],
   "source": [
    "xgb_model = XGBRegressor(max_depth=10, n_estimators=100, learning_rate=0.1)"
   ]
  },
  {
   "cell_type": "code",
   "execution_count": 173,
   "id": "9eb4cf3d",
   "metadata": {},
   "outputs": [
    {
     "data": {
      "text/plain": [
       "XGBRegressor(base_score=0.5, booster='gbtree', colsample_bylevel=1,\n",
       "             colsample_bynode=1, colsample_bytree=1, enable_categorical=False,\n",
       "             gamma=0, gpu_id=-1, importance_type=None,\n",
       "             interaction_constraints='', learning_rate=0.1, max_delta_step=0,\n",
       "             max_depth=10, min_child_weight=1, missing=nan,\n",
       "             monotone_constraints='()', n_estimators=100, n_jobs=8,\n",
       "             num_parallel_tree=1, predictor='auto', random_state=0, reg_alpha=0,\n",
       "             reg_lambda=1, scale_pos_weight=1, subsample=1, tree_method='exact',\n",
       "             validate_parameters=1, verbosity=None)"
      ]
     },
     "execution_count": 173,
     "metadata": {},
     "output_type": "execute_result"
    }
   ],
   "source": [
    "xgb_model.fit(flX_train, fly_train)"
   ]
  },
  {
   "cell_type": "code",
   "execution_count": 182,
   "id": "8b27662a",
   "metadata": {},
   "outputs": [
    {
     "data": {
      "text/plain": [
       "-1.021260600845939"
      ]
     },
     "execution_count": 182,
     "metadata": {},
     "output_type": "execute_result"
    }
   ],
   "source": [
    "xgb_model.score(flX_test, fly_test)"
   ]
  },
  {
   "cell_type": "markdown",
   "id": "cb166c74",
   "metadata": {},
   "source": [
    "### Adaboost with fly"
   ]
  },
  {
   "cell_type": "code",
   "execution_count": 216,
   "id": "b22e2791",
   "metadata": {},
   "outputs": [],
   "source": [
    "adaboost = AdaBoostRegressor(\n",
    "    DecisionTreeRegressor(max_depth=10), n_estimators=100, learning_rate=0.2)"
   ]
  },
  {
   "cell_type": "code",
   "execution_count": 217,
   "id": "e8ba8176",
   "metadata": {},
   "outputs": [
    {
     "data": {
      "text/plain": [
       "AdaBoostRegressor(base_estimator=DecisionTreeRegressor(max_depth=10),\n",
       "                  learning_rate=0.2, n_estimators=100)"
      ]
     },
     "execution_count": 217,
     "metadata": {},
     "output_type": "execute_result"
    }
   ],
   "source": [
    "adaboost.fit(flX_train, fly_train)"
   ]
  },
  {
   "cell_type": "code",
   "execution_count": 218,
   "id": "3d9680f8",
   "metadata": {},
   "outputs": [
    {
     "data": {
      "text/plain": [
       "0.7030345163332727"
      ]
     },
     "execution_count": 218,
     "metadata": {},
     "output_type": "execute_result"
    }
   ],
   "source": [
    "adaboost.score(flX_train, fly_train)"
   ]
  },
  {
   "cell_type": "code",
   "execution_count": 262,
   "id": "f244a67b",
   "metadata": {},
   "outputs": [],
   "source": [
    "estimators = [5,10,15,20,30,40,50,60,70,80,90,100]"
   ]
  },
  {
   "cell_type": "code",
   "execution_count": 263,
   "id": "e1ae39c2",
   "metadata": {},
   "outputs": [],
   "source": [
    "learning_rate = [0.001,0.003,0.01,0.03,0.1,0.3]"
   ]
  },
  {
   "cell_type": "code",
   "execution_count": 308,
   "id": "faf61de6",
   "metadata": {},
   "outputs": [],
   "source": [
    "grid = {'n_estimators': estimators, 'learning_rate': learning_rate, 'loss':['exponential']}\n",
    "search = GridSearchCV(AdaBoostRegressor(), param_grid=grid, n_jobs=-1, verbose=1)"
   ]
  },
  {
   "cell_type": "code",
   "execution_count": 309,
   "id": "8045d07a",
   "metadata": {
    "scrolled": true
   },
   "outputs": [
    {
     "name": "stdout",
     "output_type": "stream",
     "text": [
      "Fitting 5 folds for each of 72 candidates, totalling 360 fits\n"
     ]
    },
    {
     "data": {
      "text/plain": [
       "GridSearchCV(estimator=AdaBoostRegressor(), n_jobs=-1,\n",
       "             param_grid={'learning_rate': [0.001, 0.003, 0.01, 0.03, 0.1, 0.3],\n",
       "                         'loss': ['exponential'],\n",
       "                         'n_estimators': [5, 10, 15, 20, 30, 40, 50, 60, 70, 80,\n",
       "                                          90, 100]},\n",
       "             verbose=1)"
      ]
     },
     "execution_count": 309,
     "metadata": {},
     "output_type": "execute_result"
    }
   ],
   "source": [
    "search.fit(flX_train, fly_train)"
   ]
  },
  {
   "cell_type": "code",
   "execution_count": 310,
   "id": "7425f5bc",
   "metadata": {},
   "outputs": [
    {
     "data": {
      "text/plain": [
       "{'learning_rate': 0.1, 'loss': 'exponential', 'n_estimators': 40}"
      ]
     },
     "execution_count": 310,
     "metadata": {},
     "output_type": "execute_result"
    }
   ],
   "source": [
    "search.best_params_"
   ]
  },
  {
   "cell_type": "code",
   "execution_count": 311,
   "id": "3bf9603a",
   "metadata": {},
   "outputs": [],
   "source": [
    "adaboost_1 = AdaBoostRegressor(\n",
    "    DecisionTreeRegressor(max_depth=10),loss='exponential', n_estimators=40, learning_rate=0.1)"
   ]
  },
  {
   "cell_type": "code",
   "execution_count": 312,
   "id": "810bf5ff",
   "metadata": {},
   "outputs": [
    {
     "data": {
      "text/plain": [
       "AdaBoostRegressor(base_estimator=DecisionTreeRegressor(max_depth=10),\n",
       "                  learning_rate=0.1, loss='exponential', n_estimators=40)"
      ]
     },
     "execution_count": 312,
     "metadata": {},
     "output_type": "execute_result"
    }
   ],
   "source": [
    "adaboost_1.fit(flX_train, fly_train)"
   ]
  },
  {
   "cell_type": "code",
   "execution_count": 313,
   "id": "f6f9f06c",
   "metadata": {},
   "outputs": [
    {
     "data": {
      "text/plain": [
       "-0.9136482095386975"
      ]
     },
     "execution_count": 313,
     "metadata": {},
     "output_type": "execute_result"
    }
   ],
   "source": [
    "adaboost_1.score(flX_test, fly_test)"
   ]
  },
  {
   "cell_type": "code",
   "execution_count": 314,
   "id": "64499bef",
   "metadata": {},
   "outputs": [
    {
     "data": {
      "text/plain": [
       "-1.0575478307121706"
      ]
     },
     "execution_count": 314,
     "metadata": {},
     "output_type": "execute_result"
    }
   ],
   "source": [
    "r2_score(adaboost_1.predict(flX_test), fly_test)"
   ]
  },
  {
   "cell_type": "code",
   "execution_count": 315,
   "id": "d4597710",
   "metadata": {},
   "outputs": [
    {
     "data": {
      "text/plain": [
       "[<matplotlib.lines.Line2D at 0x133510f40>]"
      ]
     },
     "execution_count": 315,
     "metadata": {},
     "output_type": "execute_result"
    },
    {
     "data": {
      "image/png": "[encoded data removed]",
      "text/plain": [
       "<Figure size 432x288 with 1 Axes>"
      ]
     },
     "metadata": {
      "needs_background": "light"
     },
     "output_type": "display_data"
    }
   ],
   "source": [
    "plt.plot(fly_test)"
   ]
  },
  {
   "cell_type": "code",
   "execution_count": 316,
   "id": "be14892e",
   "metadata": {},
   "outputs": [
    {
     "data": {
      "text/plain": [
       "[<matplotlib.lines.Line2D at 0x1333402b0>]"
      ]
     },
     "execution_count": 316,
     "metadata": {},
     "output_type": "execute_result"
    },
    {
     "data": {
      "image/png": "[encoded data removed]",
      "text/plain": [
       "<Figure size 432x288 with 1 Axes>"
      ]
     },
     "metadata": {
      "needs_background": "light"
     },
     "output_type": "display_data"
    }
   ],
   "source": [
    "plt.plot(adaboost_1.predict(flX_test.sort_index()))\n",
    "plt.plot(fly_test.sort_index(), color ='red')"
   ]
  },
  {
   "cell_type": "markdown",
   "id": "c2371ee5",
   "metadata": {},
   "source": [
    "### Forest with fly"
   ]
  },
  {
   "cell_type": "code",
   "execution_count": 446,
   "id": "826a26a6",
   "metadata": {},
   "outputs": [],
   "source": [
    "forest = RandomForestRegressor(n_estimators=60)"
   ]
  },
  {
   "cell_type": "code",
   "execution_count": 447,
   "id": "5c80a0b9",
   "metadata": {},
   "outputs": [
    {
     "data": {
      "text/plain": [
       "RandomForestRegressor(n_estimators=60)"
      ]
     },
     "execution_count": 447,
     "metadata": {},
     "output_type": "execute_result"
    }
   ],
   "source": [
    "forest.fit(flX_train, fly_train)"
   ]
  },
  {
   "cell_type": "code",
   "execution_count": 448,
   "id": "28104285",
   "metadata": {},
   "outputs": [
    {
     "data": {
      "text/plain": [
       "0.8292397562803381"
      ]
     },
     "execution_count": 448,
     "metadata": {},
     "output_type": "execute_result"
    }
   ],
   "source": [
    "forest.score(flX_train, fly_train)"
   ]
  },
  {
   "cell_type": "code",
   "execution_count": 449,
   "id": "dd497beb",
   "metadata": {},
   "outputs": [
    {
     "data": {
      "text/plain": [
       "(150.0, 300.0)"
      ]
     },
     "execution_count": 449,
     "metadata": {},
     "output_type": "execute_result"
    },
    {
     "data": {
      "image/png": "[encoded data removed]",
      "text/plain": [
       "<Figure size 432x288 with 1 Axes>"
      ]
     },
     "metadata": {
      "needs_background": "light"
     },
     "output_type": "display_data"
    }
   ],
   "source": [
    "plt.plot(forest.predict(flX_test))\n",
    "plt.plot(fly_test, color='red')\n",
    "plt.xlim(150, 300)"
   ]
  },
  {
   "cell_type": "code",
   "execution_count": 450,
   "id": "5c1ee262",
   "metadata": {},
   "outputs": [
    {
     "data": {
      "text/plain": [
       "[<matplotlib.lines.Line2D at 0x13236a610>]"
      ]
     },
     "execution_count": 450,
     "metadata": {},
     "output_type": "execute_result"
    },
    {
     "data": {
      "image/png": "[encoded data removed]",
      "text/plain": [
       "<Figure size 432x288 with 1 Axes>"
      ]
     },
     "metadata": {
      "needs_background": "light"
     },
     "output_type": "display_data"
    }
   ],
   "source": [
    "plt.plot(fly_test)"
   ]
  },
  {
   "cell_type": "markdown",
   "id": "f88d5705",
   "metadata": {},
   "source": [
    "#### Turning back log and diff"
   ]
  },
  {
   "cell_type": "code",
   "execution_count": 451,
   "id": "bc919801",
   "metadata": {},
   "outputs": [
    {
     "data": {
      "text/plain": [
       "0      -0.002999\n",
       "1       0.004419\n",
       "2       0.002532\n",
       "3       0.004000\n",
       "4       0.002303\n",
       "          ...   \n",
       "1113    0.016430\n",
       "1114    0.000661\n",
       "1115   -0.000853\n",
       "1116   -0.000410\n",
       "1117    0.002681\n",
       "Length: 1118, dtype: float64"
      ]
     },
     "execution_count": 451,
     "metadata": {},
     "output_type": "execute_result"
    }
   ],
   "source": [
    "pd.Series(forest.predict(flX_test))"
   ]
  },
  {
   "cell_type": "code",
   "execution_count": 452,
   "id": "fe114dc1",
   "metadata": {},
   "outputs": [
    {
     "data": {
      "text/plain": [
       "0      -0.001080\n",
       "1       0.000000\n",
       "2       0.000000\n",
       "3       0.000000\n",
       "4       0.028513\n",
       "          ...   \n",
       "1113    0.000000\n",
       "1114   -0.031792\n",
       "1115    0.000000\n",
       "1116    0.000000\n",
       "1117   -0.011346\n",
       "Length: 1118, dtype: float64"
      ]
     },
     "execution_count": 452,
     "metadata": {},
     "output_type": "execute_result"
    }
   ],
   "source": [
    "fly_test"
   ]
  },
  {
   "cell_type": "code",
   "execution_count": 453,
   "id": "b91961a3",
   "metadata": {},
   "outputs": [],
   "source": [
    "fly_real = np.exp(fly_test.cumsum())"
   ]
  },
  {
   "cell_type": "code",
   "execution_count": 454,
   "id": "f7cf353e",
   "metadata": {},
   "outputs": [],
   "source": [
    "fly_pred = np.exp((pd.Series(forest.predict(flX_test)).cumsum()))"
   ]
  },
  {
   "cell_type": "code",
   "execution_count": 497,
   "id": "2804b52b",
   "metadata": {},
   "outputs": [
    {
     "data": {
      "text/plain": [
       "[<matplotlib.lines.Line2D at 0x134a9ac40>]"
      ]
     },
     "execution_count": 497,
     "metadata": {},
     "output_type": "execute_result"
    },
    {
     "data": {
      "image/png": "[encoded data removed]",
      "text/plain": [
       "<Figure size 432x288 with 1 Axes>"
      ]
     },
     "metadata": {
      "needs_background": "light"
     },
     "output_type": "display_data"
    }
   ],
   "source": [
    "plt.plot(fly_pred)"
   ]
  },
  {
   "cell_type": "code",
   "execution_count": 458,
   "id": "3f8b2be3",
   "metadata": {},
   "outputs": [
    {
     "data": {
      "text/plain": [
       "0       3.390000e-05\n",
       "1       3.390000e-05\n",
       "2       3.403571e-05\n",
       "3       3.437500e-05\n",
       "4       3.487500e-05\n",
       "            ...     \n",
       "5432    4.610000e+06\n",
       "5433    4.690000e+06\n",
       "5434    4.820000e+06\n",
       "5435    4.820000e+06\n",
       "5436    4.820000e+06\n",
       "Name: Dolartoday, Length: 5437, dtype: float64"
      ]
     },
     "execution_count": 458,
     "metadata": {},
     "output_type": "execute_result"
    }
   ],
   "source": [
    "origin_df['Dolartoday']"
   ]
  },
  {
   "cell_type": "code",
   "execution_count": 498,
   "id": "f2c335f9",
   "metadata": {},
   "outputs": [
    {
     "data": {
      "text/plain": [
       "(4700.0, 5500.0)"
      ]
     },
     "execution_count": 498,
     "metadata": {},
     "output_type": "execute_result"
    },
    {
     "data": {
      "image/png": "[encoded data removed]",
      "text/plain": [
       "<Figure size 432x288 with 1 Axes>"
      ]
     },
     "metadata": {
      "needs_background": "light"
     },
     "output_type": "display_data"
    }
   ],
   "source": [
    "plt.plot(origin_df['Dolartoday'][2000:])\n",
    "plt.xlim(400,5500)"
   ]
  },
  {
   "cell_type": "code",
   "execution_count": 393,
   "id": "037545c5",
   "metadata": {
    "scrolled": true
   },
   "outputs": [
    {
     "data": {
      "text/plain": [
       "2419         0.000360\n",
       "1250         0.000076\n",
       "4053         2.120555\n",
       "2359         0.000318\n",
       "2299         0.000247\n",
       "            ...      \n",
       "3052         0.003171\n",
       "3897         0.211060\n",
       "5041    500116.380000\n",
       "45           0.000038\n",
       "327          0.000061\n",
       "Length: 1629, dtype: float64"
      ]
     },
     "execution_count": 393,
     "metadata": {},
     "output_type": "execute_result"
    }
   ],
   "source": [
    "y_test"
   ]
  },
  {
   "cell_type": "code",
   "execution_count": 389,
   "id": "790b39fe",
   "metadata": {},
   "outputs": [
    {
     "data": {
      "text/plain": [
       "0       0.089450\n",
       "1       0.100898\n",
       "2       0.061545\n",
       "3       0.082961\n",
       "4       0.082961\n",
       "          ...   \n",
       "1113    0.872395\n",
       "1114    0.872967\n",
       "1115    0.870674\n",
       "1116    0.870674\n",
       "1117    0.878678\n",
       "Length: 1118, dtype: float64"
      ]
     },
     "execution_count": 389,
     "metadata": {},
     "output_type": "execute_result"
    }
   ],
   "source": [
    "fly_real"
   ]
  },
  {
   "cell_type": "code",
   "execution_count": 390,
   "id": "31fcc830",
   "metadata": {},
   "outputs": [
    {
     "data": {
      "text/plain": [
       "0       0.003762\n",
       "1       0.006302\n",
       "2       0.007781\n",
       "3       0.009758\n",
       "4       0.017247\n",
       "          ...   \n",
       "1113    6.526867\n",
       "1114    6.525643\n",
       "1115    6.527659\n",
       "1116    6.535080\n",
       "1117    6.534151\n",
       "Length: 1118, dtype: float64"
      ]
     },
     "execution_count": 390,
     "metadata": {},
     "output_type": "execute_result"
    }
   ],
   "source": [
    "fly_pred"
   ]
  },
  {
   "cell_type": "markdown",
   "id": "40cfa5bb",
   "metadata": {},
   "source": [
    "#### for loop"
   ]
  },
  {
   "cell_type": "code",
   "execution_count": 472,
   "id": "16fdec9b",
   "metadata": {},
   "outputs": [],
   "source": [
    "from tqdm.notebook import tqdm"
   ]
  },
  {
   "cell_type": "code",
   "execution_count": 492,
   "id": "56130a73",
   "metadata": {},
   "outputs": [
    {
     "data": {
      "application/vnd.jupyter.widget-view+json": {
       "model_id": "f87ed3ae3088446ab6da2f25195fda47",
       "version_major": 2,
       "version_minor": 0
      },
      "text/plain": [
       "  0%|          | 0/3122 [00:00<?, ?it/s]"
      ]
     },
     "metadata": {},
     "output_type": "display_data"
    }
   ],
   "source": [
    "pred_lst = []\n",
    "actual_lst = []\n",
    "interval = 3\n",
    "sequence = 5\n",
    "for idx in tqdm(range(len(log_scaled_df)-interval)):\n",
    "    df_temp_train = log_scaled_df.iloc[idx:idx+sequence+1+interval]\n",
    "    df_temp_test = log_scaled_df.iloc[idx+1:idx+sequence+1+1+interval]\n",
    "    df_temp_X_train = df_temp_train.drop(columns = ['Dolartoday']).iloc[:-interval]\n",
    "    df_temp_X_test = df_temp_test.drop(columns = ['Dolartoday']).iloc[:-interval]\n",
    "    df_temp_y_train = df_temp_train['Dolartoday'].iloc[-1]\n",
    "    df_temp_y_test = df_temp_test['Dolartoday'].iloc[-1]\n",
    "    \n",
    "    df_temp_X_train_flat = df_temp_X_train.values.flatten()\n",
    "    break\n",
    "    \n",
    "    model_temp = RandomForestRegressor(n_jobs=-1)\n",
    "    model_temp.fit(df_temp_X_train, pd.Series(df_temp_y_train))\n",
    "    pred_temp = model_temp.predict(df_temp_X_test)\n",
    "    pred_lst.append(pred_temp)\n",
    "    actual_lst.append(df_temp_y_test)\n",
    "    break"
   ]
  },
  {
   "cell_type": "code",
   "execution_count": 496,
   "id": "c0249f27",
   "metadata": {},
   "outputs": [],
   "source": [
    "log_scaled_df.to_csv('/users/joseph/code/log_scaled.csv')"
   ]
  },
  {
   "cell_type": "code",
   "execution_count": 494,
   "id": "d1acfd98",
   "metadata": {},
   "outputs": [
    {
     "data": {
      "text/plain": [
       "(108,)"
      ]
     },
     "execution_count": 494,
     "metadata": {},
     "output_type": "execute_result"
    }
   ],
   "source": [
    "df_temp_X_train_flat.shape"
   ]
  },
  {
   "cell_type": "code",
   "execution_count": 471,
   "id": "8612d391",
   "metadata": {},
   "outputs": [
    {
     "data": {
      "text/plain": [
       "0.08945046413035662"
      ]
     },
     "execution_count": 471,
     "metadata": {},
     "output_type": "execute_result"
    }
   ],
   "source": [
    "df_temp_y_test"
   ]
  },
  {
   "cell_type": "code",
   "execution_count": 470,
   "id": "6552b216",
   "metadata": {},
   "outputs": [
    {
     "data": {
      "text/plain": [
       "date\n",
       "2007-01-02    0.000000\n",
       "2007-01-03    0.003995\n",
       "2007-01-04    0.009919\n",
       "2007-01-05    0.014441\n",
       "2007-01-06    0.000000\n",
       "2007-01-07    0.000000\n",
       "2007-01-08    0.013326\n",
       "Name: Dolartoday, dtype: float64"
      ]
     },
     "execution_count": 470,
     "metadata": {},
     "output_type": "execute_result"
    }
   ],
   "source": [
    "df_temp_y_train"
   ]
  },
  {
   "cell_type": "code",
   "execution_count": 464,
   "id": "13961075",
   "metadata": {},
   "outputs": [
    {
     "data": {
      "text/plain": [
       "3125"
      ]
     },
     "execution_count": 464,
     "metadata": {},
     "output_type": "execute_result"
    }
   ],
   "source": [
    "len(log_scaled_df)"
   ]
  },
  {
   "cell_type": "code",
   "execution_count": null,
   "id": "9159aef2",
   "metadata": {},
   "outputs": [],
   "source": []
  },
  {
   "cell_type": "markdown",
   "id": "092e56db",
   "metadata": {},
   "source": [
    "### ElasticNet with fly"
   ]
  },
  {
   "cell_type": "code",
   "execution_count": 305,
   "id": "22616ff8",
   "metadata": {},
   "outputs": [],
   "source": [
    "elastic_model = ElasticNet(alpha=0.01, l1_ratio=0.9)"
   ]
  },
  {
   "cell_type": "code",
   "execution_count": 306,
   "id": "ac513a3e",
   "metadata": {},
   "outputs": [
    {
     "data": {
      "text/plain": [
       "ElasticNet(alpha=0.01, l1_ratio=0.9)"
      ]
     },
     "execution_count": 306,
     "metadata": {},
     "output_type": "execute_result"
    }
   ],
   "source": [
    "elastic_model.fit(flX_train, fly_train)"
   ]
  },
  {
   "cell_type": "code",
   "execution_count": 307,
   "id": "77c82d9a",
   "metadata": {},
   "outputs": [
    {
     "data": {
      "text/plain": [
       "-0.0033288632064798485"
      ]
     },
     "execution_count": 307,
     "metadata": {},
     "output_type": "execute_result"
    }
   ],
   "source": [
    "elastic_model.score(flX_test, fly_test)"
   ]
  },
  {
   "cell_type": "code",
   "execution_count": null,
   "id": "f2acaa8f",
   "metadata": {},
   "outputs": [],
   "source": [
    "# start with basic models = random forest\n",
    "#turn them back\n"
   ]
  },
  {
   "cell_type": "code",
   "execution_count": 520,
   "id": "6415f295",
   "metadata": {
    "scrolled": true
   },
   "outputs": [
    {
     "data": {
      "text/plain": [
       "[<matplotlib.lines.Line2D at 0x13514b040>]"
      ]
     },
     "execution_count": 520,
     "metadata": {},
     "output_type": "execute_result"
    },
    {
     "data": {
      "image/png": "[encoded data removed]",
      "text/plain": [
       "<Figure size 432x288 with 1 Axes>"
      ]
     },
     "metadata": {
      "needs_background": "light"
     },
     "output_type": "display_data"
    }
   ],
   "source": [
    "plt.plot(pd.Series(log_scaled_df['Stock_Market']))"
   ]
  },
  {
   "cell_type": "code",
   "execution_count": 517,
   "id": "e74e4f4c",
   "metadata": {},
   "outputs": [
    {
     "data": {
      "text/plain": [
       "[<matplotlib.lines.Line2D at 0x13506fbb0>]"
      ]
     },
     "execution_count": 517,
     "metadata": {},
     "output_type": "execute_result"
    },
    {
     "data": {
      "image/png": "[encoded data removed]",
      "text/plain": [
       "<Figure size 432x288 with 1 Axes>"
      ]
     },
     "metadata": {
      "needs_background": "light"
     },
     "output_type": "display_data"
    }
   ],
   "source": [
    "plt.plot(pd.Series(np.log(df['Stock_Market'])).diff())"
   ]
  },
  {
   "cell_type": "code",
   "execution_count": null,
   "id": "00010725",
   "metadata": {},
   "outputs": [],
   "source": []
  }
 ],
 "metadata": {
  "kernelspec": {
   "display_name": "Python 3 (ipykernel)",
   "language": "python",
   "name": "python3"
  },
  "language_info": {
   "codemirror_mode": {
    "name": "ipython",
    "version": 3
   },
   "file_extension": ".py",
   "mimetype": "text/x-python",
   "name": "python",
   "nbconvert_exporter": "python",
   "pygments_lexer": "ipython3",
   "version": "3.8.12"
  }
 },
 "nbformat": 4,
 "nbformat_minor": 5
}
