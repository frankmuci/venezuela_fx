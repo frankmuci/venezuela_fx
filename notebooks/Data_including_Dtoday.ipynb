{
 "cells": [
  {
   "cell_type": "markdown",
   "id": "3a33d303",
   "metadata": {},
   "source": [
    "# Creating master Data"
   ]
  },
  {
   "cell_type": "markdown",
   "id": "7e85e9ec",
   "metadata": {},
   "source": [
    "## imports"
   ]
  },
  {
   "cell_type": "code",
   "execution_count": 2,
   "id": "01b22c43",
   "metadata": {},
   "outputs": [],
   "source": [
    "import matplotlib.pyplot as plt\n",
    "import pandas as pd\n",
    "from datetime import datetime"
   ]
  },
  {
   "cell_type": "markdown",
   "id": "1fa0ad9a",
   "metadata": {},
   "source": [
    "## T_E Data\n"
   ]
  },
  {
   "cell_type": "code",
   "execution_count": 3,
   "id": "bc9b7420",
   "metadata": {},
   "outputs": [],
   "source": [
    "master_df = pd.read_csv(\"/Users/joseph/code/Ward-cloud/project/venezuela_fx/venezuela_fx/data/merge_trading_economics.csv\")"
   ]
  },
  {
   "cell_type": "code",
   "execution_count": 4,
   "id": "d095bb57",
   "metadata": {},
   "outputs": [],
   "source": [
    "master_df['DateTime'] = master_df['DateTime'].apply(pd.to_datetime)"
   ]
  },
  {
   "cell_type": "code",
   "execution_count": 5,
   "id": "6f6c06e0",
   "metadata": {},
   "outputs": [],
   "source": [
    "master_df.set_index('DateTime', inplace=True)"
   ]
  },
  {
   "cell_type": "code",
   "execution_count": 6,
   "id": "02475eb0",
   "metadata": {},
   "outputs": [],
   "source": [
    "master_df.sort_index(inplace=True)"
   ]
  },
  {
   "cell_type": "markdown",
   "id": "45654f6c",
   "metadata": {},
   "source": [
    "## Tidying Data"
   ]
  },
  {
   "cell_type": "code",
   "execution_count": 7,
   "id": "806149cb",
   "metadata": {},
   "outputs": [],
   "source": [
    "master_dropped = master_df.drop(columns = ['Foreign_Exchange_Reserves (1)'])"
   ]
  },
  {
   "cell_type": "code",
   "execution_count": 8,
   "id": "8601e66c",
   "metadata": {},
   "outputs": [],
   "source": [
    "# m_f = master_dropped.fillna(method='ffill')"
   ]
  },
  {
   "cell_type": "code",
   "execution_count": 9,
   "id": "bc1caf62",
   "metadata": {},
   "outputs": [],
   "source": [
    "# m_meta = m_f.fillna(method='backfill')"
   ]
  },
  {
   "cell_type": "markdown",
   "id": "83953342",
   "metadata": {},
   "source": [
    "## Dolar_today"
   ]
  },
  {
   "cell_type": "code",
   "execution_count": 10,
   "id": "d279cdca",
   "metadata": {},
   "outputs": [],
   "source": [
    "dolar_today_hunt = pd.read_csv('/Users/joseph/code/Ward-cloud/project/venezuela_fx/venezuela_fx/data/merge.csv')"
   ]
  },
  {
   "cell_type": "code",
   "execution_count": 11,
   "id": "0a4f100f",
   "metadata": {},
   "outputs": [],
   "source": [
    "dolar_today_hunt.rename(columns={'Unnamed: 0': 'date'}, inplace=True)"
   ]
  },
  {
   "cell_type": "code",
   "execution_count": 12,
   "id": "e96d1d73",
   "metadata": {},
   "outputs": [],
   "source": [
    "dolar_today_hunt['date']=dolar_today_hunt['date'].apply(pd.to_datetime)"
   ]
  },
  {
   "cell_type": "code",
   "execution_count": 13,
   "id": "b12e1eee",
   "metadata": {},
   "outputs": [],
   "source": [
    "dolar_today_hunt = dolar_today_hunt[['date', 'Dolartoday']]"
   ]
  },
  {
   "cell_type": "code",
   "execution_count": 14,
   "id": "13b747c3",
   "metadata": {},
   "outputs": [],
   "source": [
    "dolar_today_hunt.set_index('date', inplace=True)"
   ]
  },
  {
   "cell_type": "code",
   "execution_count": 15,
   "id": "60d61b3d",
   "metadata": {},
   "outputs": [],
   "source": [
    "meta_dolar = pd.merge(master_dropped, dolar_today_hunt, left_index=True, right_index=True, how='outer')"
   ]
  },
  {
   "cell_type": "markdown",
   "id": "21ab6dcd",
   "metadata": {},
   "source": [
    "## Tidying Master"
   ]
  },
  {
   "cell_type": "code",
   "execution_count": 16,
   "id": "df9825e5",
   "metadata": {},
   "outputs": [],
   "source": [
    "# meta_dolar = meta_dolar.fillna(method='ffill')"
   ]
  },
  {
   "cell_type": "code",
   "execution_count": 17,
   "id": "88cba8fb",
   "metadata": {},
   "outputs": [],
   "source": [
    "# meta_dolar = meta_dolar.fillna(method='bfill')"
   ]
  },
  {
   "cell_type": "code",
   "execution_count": 18,
   "id": "7d9ba068",
   "metadata": {},
   "outputs": [],
   "source": [
    "dropped_prior = meta_dolar.loc[datetime(2007,1,1):].copy()"
   ]
  },
  {
   "cell_type": "code",
   "execution_count": 19,
   "id": "1eaacfd6",
   "metadata": {},
   "outputs": [],
   "source": [
    "working_df = dropped_prior.resample('d').mean()"
   ]
  },
  {
   "cell_type": "code",
   "execution_count": 20,
   "id": "4f27287b",
   "metadata": {},
   "outputs": [],
   "source": [
    "working_df.fillna(method='ffill', inplace=True)"
   ]
  },
  {
   "cell_type": "code",
   "execution_count": 21,
   "id": "85e6a746",
   "metadata": {},
   "outputs": [],
   "source": [
    "working_df.fillna(method='backfill', inplace=True)"
   ]
  },
  {
   "cell_type": "markdown",
   "id": "ed678f38",
   "metadata": {},
   "source": [
    "## Checks"
   ]
  },
  {
   "cell_type": "code",
   "execution_count": null,
   "id": "d492a550",
   "metadata": {},
   "outputs": [],
   "source": []
  },
  {
   "cell_type": "markdown",
   "id": "bb13bd3c",
   "metadata": {},
   "source": [
    "## To_CSV"
   ]
  },
  {
   "cell_type": "code",
   "execution_count": null,
   "id": "f54ee2e0",
   "metadata": {},
   "outputs": [],
   "source": [
    "working_df.to_csv('/Users/joseph/code/Ward-cloud/project/venezuela_fx/venezuela_fx/data/working_df.csv')"
   ]
  },
  {
   "cell_type": "code",
   "execution_count": null,
   "id": "10b2dabe",
   "metadata": {},
   "outputs": [],
   "source": [
    "# /Users/joseph/code/Ward-cloud/project/venezuela_fx/venezuela_fx/data/working_df.csv"
   ]
  }
 ],
 "metadata": {
  "kernelspec": {
   "display_name": "Python 3 (ipykernel)",
   "language": "python",
   "name": "python3"
  },
  "language_info": {
   "codemirror_mode": {
    "name": "ipython",
    "version": 3
   },
   "file_extension": ".py",
   "mimetype": "text/x-python",
   "name": "python",
   "nbconvert_exporter": "python",
   "pygments_lexer": "ipython3",
   "version": "3.8.12"
  }
 },
 "nbformat": 4,
 "nbformat_minor": 5
}
