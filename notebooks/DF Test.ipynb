{
 "cells": [
  {
   "cell_type": "code",
   "execution_count": 10,
   "id": "0ad0a5b0",
   "metadata": {},
   "outputs": [],
   "source": [
    "import pandas as pd\n",
    "import numpy as np\n",
    "import matplotlib.pyplot as plt"
   ]
  },
  {
   "cell_type": "code",
   "execution_count": 2,
   "id": "c8caee23",
   "metadata": {},
   "outputs": [],
   "source": [
    "df = pd.read_csv('/home/frankmuci/code/frankmuci/venezuela_fx/venezuela_fx/data/working_df.csv')"
   ]
  },
  {
   "cell_type": "code",
   "execution_count": 5,
   "id": "4f9ff056",
   "metadata": {},
   "outputs": [],
   "source": [
    "df.rename(columns={'Unnamed: 0':'Datetime'}, inplace=True)"
   ]
  },
  {
   "cell_type": "code",
   "execution_count": 6,
   "id": "526e3dbb",
   "metadata": {},
   "outputs": [],
   "source": [
    "df.set_index('Datetime', inplace=True)"
   ]
  },
  {
   "cell_type": "code",
   "execution_count": null,
   "id": "fcb10591",
   "metadata": {},
   "outputs": [],
   "source": [
    "# 5347 days of data\n",
    "# No missing values"
   ]
  },
  {
   "cell_type": "code",
   "execution_count": 22,
   "id": "eb4a20f7",
   "metadata": {},
   "outputs": [],
   "source": [
    "fx_log = np.log(df.Dolartoday)"
   ]
  },
  {
   "cell_type": "code",
   "execution_count": 34,
   "id": "faf121bc",
   "metadata": {},
   "outputs": [
    {
     "data": {
      "text/plain": [
       "Datetime\n",
       "2020-11-08   -0.449222\n",
       "2021-06-08   -0.380742\n",
       "2007-03-28   -0.283352\n",
       "2013-02-10   -0.257343\n",
       "2017-08-08   -0.231302\n",
       "                ...   \n",
       "2019-01-14    0.305061\n",
       "2021-06-09    0.372145\n",
       "2020-11-09    0.494314\n",
       "2019-01-10    0.523160\n",
       "2007-01-01         NaN\n",
       "Name: Dolartoday, Length: 5437, dtype: float64"
      ]
     },
     "execution_count": 34,
     "metadata": {},
     "output_type": "execute_result"
    }
   ],
   "source": [
    "fx_log.diff().sort_values()"
   ]
  }
 ],
 "metadata": {
  "kernelspec": {
   "display_name": "Python 3 (ipykernel)",
   "language": "python",
   "name": "python3"
  },
  "language_info": {
   "codemirror_mode": {
    "name": "ipython",
    "version": 3
   },
   "file_extension": ".py",
   "mimetype": "text/x-python",
   "name": "python",
   "nbconvert_exporter": "python",
   "pygments_lexer": "ipython3",
   "version": "3.8.12"
  },
  "toc": {
   "base_numbering": 1,
   "nav_menu": {},
   "number_sections": true,
   "sideBar": true,
   "skip_h1_title": false,
   "title_cell": "Table of Contents",
   "title_sidebar": "Contents",
   "toc_cell": false,
   "toc_position": {},
   "toc_section_display": true,
   "toc_window_display": false
  }
 },
 "nbformat": 4,
 "nbformat_minor": 5
}
