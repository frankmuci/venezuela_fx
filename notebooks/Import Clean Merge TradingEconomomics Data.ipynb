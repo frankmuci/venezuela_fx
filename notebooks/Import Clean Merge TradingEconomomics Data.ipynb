{
 "cells": [
  {
   "cell_type": "code",
   "execution_count": 1,
   "id": "1f04a4cb",
   "metadata": {},
   "outputs": [],
   "source": [
    "import os, sys\n",
    "import numpy as np\n",
    "import pandas as pd\n",
    "import matplotlib.pyplot as plt"
   ]
  },
  {
   "cell_type": "code",
   "execution_count": 2,
   "id": "e9e100c7",
   "metadata": {},
   "outputs": [],
   "source": [
    "csv_list = []\n",
    "\n",
    "for file in os.listdir(\"/home/frankmuci/code/frankmuci/venezuela_fx/venezuela_fx/data\"):\n",
    "    if file.endswith('.csv'):\n",
    "        if file.startswith('historical_country'):\n",
    "            csv_list.append(file)"
   ]
  },
  {
   "cell_type": "code",
   "execution_count": 3,
   "id": "934db1fa",
   "metadata": {},
   "outputs": [],
   "source": [
    "csv_list_working = []\n",
    "\n",
    "for file in csv_list:\n",
    "    df = pd.read_csv(f'/home/frankmuci/code/frankmuci/venezuela_fx/venezuela_fx/data/{file}')\n",
    "    frequency = df.at[0, 'Frequency']\n",
    "    if frequency in ['Daily', 'Weekly', 'Monthly']:\n",
    "        csv_list_working.append(file)"
   ]
  },
  {
   "cell_type": "code",
   "execution_count": 4,
   "id": "5b3b8564",
   "metadata": {},
   "outputs": [],
   "source": [
    "csv_list_working2 = []\n",
    "\n",
    "for file in csv_list_working:\n",
    "    df = pd.read_csv(f'/home/frankmuci/code/frankmuci/venezuela_fx/venezuela_fx/data/{file}')\n",
    "    df['DateTime'] = df['DateTime'].apply(pd.to_datetime)\n",
    "    first_date = df['DateTime'].min()\n",
    "    last_date = df['DateTime'].max()\n",
    "    \n",
    "    if first_date.year <= 2008:\n",
    "        if last_date.year >= 2021:\n",
    "            csv_list_working2.append(file)"
   ]
  },
  {
   "cell_type": "code",
   "execution_count": 5,
   "id": "85c16f60",
   "metadata": {},
   "outputs": [],
   "source": [
    "csv_list_daily, csv_list_weekly, csv_list_monthly = [], [], []\n",
    "\n",
    "for file in csv_list_working2:\n",
    "    df = pd.read_csv(f'/home/frankmuci/code/frankmuci/venezuela_fx/venezuela_fx/data/{file}')\n",
    "    frequency = df.at[0, 'Frequency']\n",
    "    if frequency in ['Daily']:\n",
    "        csv_list_daily.append(file)\n",
    "    \n",
    "    if frequency in ['Monthly']:\n",
    "        csv_list_monthly.append(file)"
   ]
  },
  {
   "cell_type": "code",
   "execution_count": 6,
   "id": "db6d3b90",
   "metadata": {},
   "outputs": [],
   "source": [
    "#DAILY MERGE\n",
    "df_list = []\n",
    "\n",
    "for file in csv_list_daily:\n",
    "    df_temp = pd.read_csv(f'/home/frankmuci/code/frankmuci/venezuela_fx/venezuela_fx/data/{file}')\n",
    "    df_temp = df_temp.drop(columns=['Country', 'Category', 'Frequency', 'HistoricalDataSymbol', 'LastUpdate'])\n",
    "    newname = file.lstrip('historical_country_Venezuela_indicator_').rstrip('.csv')\n",
    "    df_temp.rename(columns={'Value':newname}, inplace=True)\n",
    "    df_list.append(df_temp)\n",
    "\n",
    "for i in range(len(df_list)):\n",
    "    if i == 0:\n",
    "        df_daily = df_list[i]\n",
    "    else:\n",
    "        df_daily = pd.merge(df_daily, df_list[i], on='DateTime', how='outer')"
   ]
  },
  {
   "cell_type": "code",
   "execution_count": 7,
   "id": "94884b12",
   "metadata": {
    "scrolled": true
   },
   "outputs": [],
   "source": [
    "#MONTHLY MERGE\n",
    "df_list = []\n",
    "\n",
    "for file in csv_list_monthly:\n",
    "    df_temp = pd.read_csv(f'/home/frankmuci/code/frankmuci/venezuela_fx/venezuela_fx/data/{file}')\n",
    "    df_temp = df_temp.drop(columns=['Country', 'Category', 'Frequency', 'HistoricalDataSymbol', 'LastUpdate'])\n",
    "    newname = file.lstrip('historical_country_Venezuela_indicator_').rstrip('.csv')\n",
    "    df_temp.rename(columns={'Value':newname}, inplace=True)\n",
    "    df_list.append(df_temp)\n",
    "\n",
    "df_list\n",
    "for i in range(len(df_list)):\n",
    "    if i == 0:\n",
    "        df_monthly = df_list[i]\n",
    "    else:\n",
    "        df_monthly = pd.merge(df_monthly, df_list[i], on='DateTime', how='outer')\n",
    "\n",
    "df_monthly.sort_values('DateTime', inplace=True)"
   ]
  },
  {
   "cell_type": "code",
   "execution_count": null,
   "id": "4bbd3fba",
   "metadata": {
    "scrolled": true
   },
   "outputs": [],
   "source": [
    "df_merged = pd.merge(df_daily, df_monthly, on='DateTime', how='outer')\n",
    "df_merged['DateTime'] = df_merged['DateTime'].apply(pd.to_datetime)\n",
    "df_merged = df_merged[df_merged['DateTime'].dt.year >= 2000]\n"
   ]
  },
  {
   "cell_type": "code",
   "execution_count": null,
   "id": "99eb3271",
   "metadata": {},
   "outputs": [],
   "source": [
    "df_merged.columns"
   ]
  },
  {
   "cell_type": "code",
   "execution_count": null,
   "id": "973ad89b",
   "metadata": {},
   "outputs": [],
   "source": [
    "# Stock Market\n",
    "\n",
    "df_merged.loc[df_merged['DateTime'] >= '2018-11-06', 'Stock_Market'] = df_merged.loc[df_merged['DateTime'] >= '2018-11-06', 'Stock_Market'] * 10**3\n",
    "df_merged.loc[df_merged['DateTime'] >= '2021-03-16', 'Stock_Market'] = df_merged.loc[df_merged['DateTime'] >= '2021-03-16', 'Stock_Market'] * 10**3\n",
    "\n",
    "df_merged.loc[df_merged['DateTime'] >= '2019-01-31', 'Banks_Balance_Sheet'] = df_merged.loc[df_merged['DateTime'] >= '2019-01-31', 'Banks_Balance_Sheet'] * 10**3\n",
    "\n",
    "df_merged.loc[df_merged['DateTime'] >= '2021-09-30', 'Central_Bank_Balance_Sheet'] = df_merged.loc[df_merged['DateTime'] >= '2021-09-30', 'Central_Bank_Balance_Sheet'] * 10**6\n",
    "\n",
    "df_merged.loc[df_merged['DateTime'] >= '2021-09-30', 'Money_Supply_M0'] = df_merged.loc[df_merged['DateTime'] >= '2021-09-30', 'Money_Supply_M0'] * 10**3\n",
    "df_merged.loc[df_merged['DateTime'] >= '2021-08-31', 'Money_Supply_M0'] = df_merged.loc[df_merged['DateTime'] >= '2021-08-31', 'Money_Supply_M0'] * 10**6\n",
    "df_merged.loc[df_merged['DateTime'] >= '2021-08-31', 'Money_Supply_M1'] = df_merged.loc[df_merged['DateTime'] >= '2021-08-31', 'Money_Supply_M1'] * 10**6\n",
    "df_merged.loc[df_merged['DateTime'] >= '2021-08-31', 'Money_Supply_M2'] = df_merged.loc[df_merged['DateTime'] >= '2021-08-31', 'Money_Supply_M2'] * 10**6\n",
    "df_merged.loc[df_merged['DateTime'] >= '2021-08-31', 'Money_Supply_M3'] = df_merged.loc[df_merged['DateTime'] >= '2021-08-31', 'Money_Supply_M3'] * 10**6\n",
    "\n",
    "df_merged.loc[df_merged['DateTime'] >= '2019-01-31', 'Private_Sector_Credit'] = df_merged.loc[df_merged['DateTime'] >= '2019-01-31', 'Private_Sector_Credit'] * 10**2\n"
   ]
  },
  {
   "cell_type": "code",
   "execution_count": null,
   "id": "9d9130ae",
   "metadata": {},
   "outputs": [],
   "source": [
    "df_merged.set_index('DateTime', inplace=True)\n",
    "df = df.reindex(sorted(df.columns), axis=1)\n",
    "df.sort_index(inplace=True)"
   ]
  },
  {
   "cell_type": "code",
   "execution_count": null,
   "id": "0046e767",
   "metadata": {},
   "outputs": [],
   "source": [
    "log_cols = ['Money_Supply_M0', 'Money_Supply_M1', 'Money_Supply_M2', 'Money_Supply_M3', 'Central_Bank_Balance_Sheet', 'Private_Sector_Credit', 'Consumer_Price_Index_CPI', 'CPI_Transportation', 'Banks_Balance_Sheet', 'Stock_Market']\n",
    "\n",
    "fig, axs = plt.subplots(5,4, figsize=(20,20))\n",
    "axs = axs.flatten()\n",
    "\n",
    "for idx, col in enumerate(list(df_merged.columns)):\n",
    "    axs[idx].plot(df_merged.resample('m').first()[col])\n",
    "    axs[idx].set_title(col)\n",
    "    \n",
    "    if col in log_cols:\n",
    "        axs[idx].set_yscale('log')"
   ]
  },
  {
   "cell_type": "code",
   "execution_count": null,
   "id": "f92f8f6a",
   "metadata": {},
   "outputs": [],
   "source": [
    "df_merged.to_csv('/home/frankmuci/code/frankmuci/venezuela_fx/venezuela_fx/data/merge_trading_economics.csv')"
   ]
  }
 ],
 "metadata": {
  "kernelspec": {
   "display_name": "Python 3 (ipykernel)",
   "language": "python",
   "name": "python3"
  },
  "language_info": {
   "codemirror_mode": {
    "name": "ipython",
    "version": 3
   },
   "file_extension": ".py",
   "mimetype": "text/x-python",
   "name": "python",
   "nbconvert_exporter": "python",
   "pygments_lexer": "ipython3",
   "version": "3.8.12"
  },
  "toc": {
   "base_numbering": 1,
   "nav_menu": {},
   "number_sections": true,
   "sideBar": true,
   "skip_h1_title": false,
   "title_cell": "Table of Contents",
   "title_sidebar": "Contents",
   "toc_cell": false,
   "toc_position": {},
   "toc_section_display": true,
   "toc_window_display": false
  }
 },
 "nbformat": 4,
 "nbformat_minor": 5
}
