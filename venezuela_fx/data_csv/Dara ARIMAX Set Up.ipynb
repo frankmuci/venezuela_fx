{
 "cells": [
  {
   "cell_type": "markdown",
   "id": "938cec26",
   "metadata": {},
   "source": [
    "# ARIMAX Set Up"
   ]
  },
  {
   "cell_type": "markdown",
   "id": "d2db3703",
   "metadata": {},
   "source": [
    "#### We need to first split up the data. As it is a time series, we cannot just do train test split, so let's just split based on time"
   ]
  },
  {
   "cell_type": "markdown",
   "id": "b048a604",
   "metadata": {},
   "source": [
    "## Necessary Imports"
   ]
  },
  {
   "cell_type": "markdown",
   "id": "1c6dcc92",
   "metadata": {},
   "source": [
    "### statsmodels (arima, SARIMAX, plot_acf, plot_pacf), pmdarima, dateutil, pyflux, varmax, adfuller"
   ]
  },
  {
   "cell_type": "markdown",
   "id": "6461ec3d",
   "metadata": {},
   "source": [
    "## First, let's check for stationarity. We can do that with adfuller"
   ]
  },
  {
   "cell_type": "code",
   "execution_count": null,
   "id": "f01f12cd",
   "metadata": {},
   "outputs": [],
   "source": [
    "from statsmodels.tsa.stattools import adfuller\n",
    "\n",
    "adfuller(df.value)[1]  # p-value\n",
    "\n",
    "# This will provide info on stationarity, we're looking for values close to 0. \n",
    "# If close to 1, it means it's not stationary. That means we need to do some differentiating!\n",
    "# A solid metric for this is if the p value is greater than .5, non-stationary, and under is stationary\n"
   ]
  },
  {
   "cell_type": "markdown",
   "id": "a9f3fe74",
   "metadata": {},
   "source": [
    "## ARIMAX Parameters"
   ]
  },
  {
   "cell_type": "markdown",
   "id": "79059e22",
   "metadata": {},
   "source": [
    "### p = relates to how many lags we want to incorpriate into AR (this can be determined by plot_acf), q = relates to how many lags we want to incorpriate into MA (can be determined by plot_pacf), d = number of differentiations (this can be determined by pmdarima.arima.utils.ndiffs)"
   ]
  },
  {
   "cell_type": "markdown",
   "id": "081f1d36",
   "metadata": {},
   "source": [
    "#### Let's look at how to determine p and q"
   ]
  },
  {
   "cell_type": "code",
   "execution_count": null,
   "id": "21ddf4c6",
   "metadata": {},
   "outputs": [],
   "source": [
    "from statsmodels.graphics.tsaplots import plot_acf\n",
    "plot_acf(df.value, lags=50)\n",
    "plt.show()\n",
    "\n",
    "# Where the confidence interval overtakes the value of the \"dots\", we can use that value as the AR lag\n",
    "\n",
    "from statsmodels.graphics.tsaplots import plot_pacf\n",
    "sm.graphics.tsa.plot_pacf(df.value, lags=50, c='r')\n",
    "plt.show()\n",
    "\n",
    "# Where the confidence interval overtakes the value of the \"dots\", we can use that value as the MA lag\n",
    "\n",
    "\n"
   ]
  },
  {
   "cell_type": "markdown",
   "id": "2c064e0f",
   "metadata": {},
   "source": [
    "Let's then use the NDiff to determine the \"d\""
   ]
  },
  {
   "cell_type": "code",
   "execution_count": null,
   "id": "78c8af77",
   "metadata": {},
   "outputs": [],
   "source": [
    "from pmdarima.arima.utils import ndiffs\n",
    "ndiffs(df['target'])"
   ]
  },
  {
   "cell_type": "markdown",
   "id": "8063e3ed",
   "metadata": {},
   "source": [
    "## Model Shape"
   ]
  },
  {
   "cell_type": "markdown",
   "id": "1c637105",
   "metadata": {},
   "source": [
    "### ARIMAX - ARIMA model with exogenous variables"
   ]
  },
  {
   "cell_type": "markdown",
   "id": "158a1453",
   "metadata": {},
   "source": [
    "from statsmodels.tsa.arima_model import ARIMA, SARIMAX\n",
    "\n",
    "\n",
    "model = ARIMA(df['FX'], exog = 'exogenous variable', order = (p, d, q)).fit()\n",
    "\n",
    "\n"
   ]
  },
  {
   "cell_type": "markdown",
   "id": "cd89d618",
   "metadata": {},
   "source": [
    "### From this, we will look at model summary, and examine p-values to determine stat-sig of each parameter (need to review how to interpret ARIMA summary)"
   ]
  },
  {
   "cell_type": "code",
   "execution_count": null,
   "id": "655217fd",
   "metadata": {},
   "outputs": [],
   "source": [
    "model.summary()\n",
    "\n",
    "results = arima.predict(len(test), alpha=0.05)\n"
   ]
  },
  {
   "cell_type": "markdown",
   "id": "8f3a0614",
   "metadata": {},
   "source": [
    "### At this point, we can start to play around with different features"
   ]
  },
  {
   "cell_type": "markdown",
   "id": "495a564a",
   "metadata": {},
   "source": [
    "# VARMAX Set Up"
   ]
  },
  {
   "cell_type": "markdown",
   "id": "95d4de2d",
   "metadata": {},
   "source": [
    "## First, we need to determine whether some features have correlation to the others, to help determine the lag value"
   ]
  },
  {
   "cell_type": "code",
   "execution_count": null,
   "id": "4611b134",
   "metadata": {},
   "outputs": [],
   "source": [
    "from statsmodels.tsa.stattools import grangercausalitytests\n",
    "\n",
    "df['feature a', 'feature_b']\n",
    "\n",
    "c = \"number of lags to go back to\"\n",
    "\n",
    "granger = grangercausalitytests(df['feature a', 'feature_b'], 'c')\n",
    "\n",
    "# This will check feature_a's causality on feature_b, checking 'c' number of lags\n",
    "# Check the p-values. \n"
   ]
  },
  {
   "cell_type": "code",
   "execution_count": null,
   "id": "066ccbab",
   "metadata": {},
   "outputs": [],
   "source": []
  }
 ],
 "metadata": {
  "kernelspec": {
   "display_name": "Python 3 (ipykernel)",
   "language": "python",
   "name": "python3"
  },
  "language_info": {
   "codemirror_mode": {
    "name": "ipython",
    "version": 3
   },
   "file_extension": ".py",
   "mimetype": "text/x-python",
   "name": "python",
   "nbconvert_exporter": "python",
   "pygments_lexer": "ipython3",
   "version": "3.8.12"
  },
  "toc": {
   "base_numbering": 1,
   "nav_menu": {},
   "number_sections": true,
   "sideBar": true,
   "skip_h1_title": false,
   "title_cell": "Table of Contents",
   "title_sidebar": "Contents",
   "toc_cell": false,
   "toc_position": {},
   "toc_section_display": true,
   "toc_window_display": false
  }
 },
 "nbformat": 4,
 "nbformat_minor": 5
}
