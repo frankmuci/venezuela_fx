{
 "cells": [
  {
   "cell_type": "code",
   "execution_count": 7,
   "id": "412838fd",
   "metadata": {},
   "outputs": [],
   "source": [
    "import pandas as pd\n",
    "import matplotlib.pyplot as plt\n"
   ]
  },
  {
   "cell_type": "code",
   "execution_count": 3,
   "id": "46fe1af2",
   "metadata": {},
   "outputs": [],
   "source": [
    "df = pd.read_csv('merge.csv')"
   ]
  },
  {
   "cell_type": "code",
   "execution_count": 4,
   "id": "179506b5",
   "metadata": {},
   "outputs": [
    {
     "data": {
      "text/html": [
       "<div>\n",
       "<style scoped>\n",
       "    .dataframe tbody tr th:only-of-type {\n",
       "        vertical-align: middle;\n",
       "    }\n",
       "\n",
       "    .dataframe tbody tr th {\n",
       "        vertical-align: top;\n",
       "    }\n",
       "\n",
       "    .dataframe thead th {\n",
       "        text-align: right;\n",
       "    }\n",
       "</style>\n",
       "<table border=\"1\" class=\"dataframe\">\n",
       "  <thead>\n",
       "    <tr style=\"text-align: right;\">\n",
       "      <th></th>\n",
       "      <th>Unnamed: 0</th>\n",
       "      <th>Year_x</th>\n",
       "      <th>Month_x</th>\n",
       "      <th>Dolartoday</th>\n",
       "      <th>Source</th>\n",
       "      <th>Oil WTI</th>\n",
       "      <th>Oil Brent</th>\n",
       "      <th>month</th>\n",
       "      <th>year</th>\n",
       "      <th>BM (BsS)</th>\n",
       "      <th>M2 (BsS)</th>\n",
       "      <th>Year_y</th>\n",
       "      <th>Month_y</th>\n",
       "      <th>Inflation (oppo)</th>\n",
       "      <th>Inflation (bcv)</th>\n",
       "      <th>Recaudacion SENIAT (BsF miles)</th>\n",
       "      <th>Oil Production</th>\n",
       "    </tr>\n",
       "  </thead>\n",
       "  <tbody>\n",
       "    <tr>\n",
       "      <th>0</th>\n",
       "      <td>1996-01-01</td>\n",
       "      <td>NaN</td>\n",
       "      <td>NaN</td>\n",
       "      <td>NaN</td>\n",
       "      <td>NaN</td>\n",
       "      <td>NaN</td>\n",
       "      <td>NaN</td>\n",
       "      <td>NaN</td>\n",
       "      <td>NaN</td>\n",
       "      <td>NaN</td>\n",
       "      <td>NaN</td>\n",
       "      <td>1996.0</td>\n",
       "      <td>Enero</td>\n",
       "      <td>8.11367</td>\n",
       "      <td>8.11367</td>\n",
       "      <td>NaN</td>\n",
       "      <td>NaN</td>\n",
       "    </tr>\n",
       "    <tr>\n",
       "      <th>1</th>\n",
       "      <td>1996-02-01</td>\n",
       "      <td>NaN</td>\n",
       "      <td>NaN</td>\n",
       "      <td>NaN</td>\n",
       "      <td>NaN</td>\n",
       "      <td>NaN</td>\n",
       "      <td>NaN</td>\n",
       "      <td>NaN</td>\n",
       "      <td>NaN</td>\n",
       "      <td>NaN</td>\n",
       "      <td>NaN</td>\n",
       "      <td>1996.0</td>\n",
       "      <td>Febrero</td>\n",
       "      <td>7.97339</td>\n",
       "      <td>7.97339</td>\n",
       "      <td>NaN</td>\n",
       "      <td>NaN</td>\n",
       "    </tr>\n",
       "    <tr>\n",
       "      <th>2</th>\n",
       "      <td>1996-03-01</td>\n",
       "      <td>NaN</td>\n",
       "      <td>NaN</td>\n",
       "      <td>NaN</td>\n",
       "      <td>NaN</td>\n",
       "      <td>NaN</td>\n",
       "      <td>NaN</td>\n",
       "      <td>NaN</td>\n",
       "      <td>NaN</td>\n",
       "      <td>NaN</td>\n",
       "      <td>NaN</td>\n",
       "      <td>1996.0</td>\n",
       "      <td>Marzo</td>\n",
       "      <td>6.17259</td>\n",
       "      <td>6.17259</td>\n",
       "      <td>NaN</td>\n",
       "      <td>NaN</td>\n",
       "    </tr>\n",
       "    <tr>\n",
       "      <th>3</th>\n",
       "      <td>1996-04-01</td>\n",
       "      <td>NaN</td>\n",
       "      <td>NaN</td>\n",
       "      <td>NaN</td>\n",
       "      <td>NaN</td>\n",
       "      <td>NaN</td>\n",
       "      <td>NaN</td>\n",
       "      <td>NaN</td>\n",
       "      <td>NaN</td>\n",
       "      <td>NaN</td>\n",
       "      <td>NaN</td>\n",
       "      <td>1996.0</td>\n",
       "      <td>Abril</td>\n",
       "      <td>8.55186</td>\n",
       "      <td>8.55186</td>\n",
       "      <td>NaN</td>\n",
       "      <td>NaN</td>\n",
       "    </tr>\n",
       "    <tr>\n",
       "      <th>4</th>\n",
       "      <td>1996-05-01</td>\n",
       "      <td>NaN</td>\n",
       "      <td>NaN</td>\n",
       "      <td>NaN</td>\n",
       "      <td>NaN</td>\n",
       "      <td>NaN</td>\n",
       "      <td>NaN</td>\n",
       "      <td>NaN</td>\n",
       "      <td>NaN</td>\n",
       "      <td>NaN</td>\n",
       "      <td>NaN</td>\n",
       "      <td>1996.0</td>\n",
       "      <td>Mayo</td>\n",
       "      <td>12.59082</td>\n",
       "      <td>12.59082</td>\n",
       "      <td>NaN</td>\n",
       "      <td>NaN</td>\n",
       "    </tr>\n",
       "    <tr>\n",
       "      <th>...</th>\n",
       "      <td>...</td>\n",
       "      <td>...</td>\n",
       "      <td>...</td>\n",
       "      <td>...</td>\n",
       "      <td>...</td>\n",
       "      <td>...</td>\n",
       "      <td>...</td>\n",
       "      <td>...</td>\n",
       "      <td>...</td>\n",
       "      <td>...</td>\n",
       "      <td>...</td>\n",
       "      <td>...</td>\n",
       "      <td>...</td>\n",
       "      <td>...</td>\n",
       "      <td>...</td>\n",
       "      <td>...</td>\n",
       "      <td>...</td>\n",
       "    </tr>\n",
       "    <tr>\n",
       "      <th>5335</th>\n",
       "      <td>2021-11-13</td>\n",
       "      <td>2021.0</td>\n",
       "      <td>11.0</td>\n",
       "      <td>4560000.0</td>\n",
       "      <td>dolartoday</td>\n",
       "      <td>NaN</td>\n",
       "      <td>NaN</td>\n",
       "      <td>NaN</td>\n",
       "      <td>NaN</td>\n",
       "      <td>NaN</td>\n",
       "      <td>NaN</td>\n",
       "      <td>NaN</td>\n",
       "      <td>NaN</td>\n",
       "      <td>NaN</td>\n",
       "      <td>NaN</td>\n",
       "      <td>NaN</td>\n",
       "      <td>NaN</td>\n",
       "    </tr>\n",
       "    <tr>\n",
       "      <th>5336</th>\n",
       "      <td>2021-11-14</td>\n",
       "      <td>2021.0</td>\n",
       "      <td>11.0</td>\n",
       "      <td>4540000.0</td>\n",
       "      <td>dolartoday</td>\n",
       "      <td>NaN</td>\n",
       "      <td>NaN</td>\n",
       "      <td>NaN</td>\n",
       "      <td>NaN</td>\n",
       "      <td>NaN</td>\n",
       "      <td>NaN</td>\n",
       "      <td>NaN</td>\n",
       "      <td>NaN</td>\n",
       "      <td>NaN</td>\n",
       "      <td>NaN</td>\n",
       "      <td>NaN</td>\n",
       "      <td>NaN</td>\n",
       "    </tr>\n",
       "    <tr>\n",
       "      <th>5337</th>\n",
       "      <td>2021-11-15</td>\n",
       "      <td>2021.0</td>\n",
       "      <td>11.0</td>\n",
       "      <td>4610000.0</td>\n",
       "      <td>dolartoday</td>\n",
       "      <td>80.85</td>\n",
       "      <td>80.85</td>\n",
       "      <td>NaN</td>\n",
       "      <td>NaN</td>\n",
       "      <td>NaN</td>\n",
       "      <td>NaN</td>\n",
       "      <td>NaN</td>\n",
       "      <td>NaN</td>\n",
       "      <td>NaN</td>\n",
       "      <td>NaN</td>\n",
       "      <td>NaN</td>\n",
       "      <td>NaN</td>\n",
       "    </tr>\n",
       "    <tr>\n",
       "      <th>5338</th>\n",
       "      <td>2021-11-16</td>\n",
       "      <td>2021.0</td>\n",
       "      <td>11.0</td>\n",
       "      <td>4690000.0</td>\n",
       "      <td>dolartoday</td>\n",
       "      <td>NaN</td>\n",
       "      <td>NaN</td>\n",
       "      <td>NaN</td>\n",
       "      <td>NaN</td>\n",
       "      <td>NaN</td>\n",
       "      <td>NaN</td>\n",
       "      <td>NaN</td>\n",
       "      <td>NaN</td>\n",
       "      <td>NaN</td>\n",
       "      <td>NaN</td>\n",
       "      <td>NaN</td>\n",
       "      <td>NaN</td>\n",
       "    </tr>\n",
       "    <tr>\n",
       "      <th>5339</th>\n",
       "      <td>2021-11-17</td>\n",
       "      <td>2021.0</td>\n",
       "      <td>11.0</td>\n",
       "      <td>4820000.0</td>\n",
       "      <td>dolartoday</td>\n",
       "      <td>NaN</td>\n",
       "      <td>NaN</td>\n",
       "      <td>NaN</td>\n",
       "      <td>NaN</td>\n",
       "      <td>NaN</td>\n",
       "      <td>NaN</td>\n",
       "      <td>NaN</td>\n",
       "      <td>NaN</td>\n",
       "      <td>NaN</td>\n",
       "      <td>NaN</td>\n",
       "      <td>NaN</td>\n",
       "      <td>NaN</td>\n",
       "    </tr>\n",
       "  </tbody>\n",
       "</table>\n",
       "<p>5340 rows × 17 columns</p>\n",
       "</div>"
      ],
      "text/plain": [
       "      Unnamed: 0  Year_x  Month_x  Dolartoday      Source  Oil WTI  Oil Brent  \\\n",
       "0     1996-01-01     NaN      NaN         NaN         NaN      NaN        NaN   \n",
       "1     1996-02-01     NaN      NaN         NaN         NaN      NaN        NaN   \n",
       "2     1996-03-01     NaN      NaN         NaN         NaN      NaN        NaN   \n",
       "3     1996-04-01     NaN      NaN         NaN         NaN      NaN        NaN   \n",
       "4     1996-05-01     NaN      NaN         NaN         NaN      NaN        NaN   \n",
       "...          ...     ...      ...         ...         ...      ...        ...   \n",
       "5335  2021-11-13  2021.0     11.0   4560000.0  dolartoday      NaN        NaN   \n",
       "5336  2021-11-14  2021.0     11.0   4540000.0  dolartoday      NaN        NaN   \n",
       "5337  2021-11-15  2021.0     11.0   4610000.0  dolartoday    80.85      80.85   \n",
       "5338  2021-11-16  2021.0     11.0   4690000.0  dolartoday      NaN        NaN   \n",
       "5339  2021-11-17  2021.0     11.0   4820000.0  dolartoday      NaN        NaN   \n",
       "\n",
       "      month  year  BM (BsS)  M2 (BsS)  Year_y  Month_y  Inflation (oppo)  \\\n",
       "0       NaN   NaN       NaN       NaN  1996.0    Enero           8.11367   \n",
       "1       NaN   NaN       NaN       NaN  1996.0  Febrero           7.97339   \n",
       "2       NaN   NaN       NaN       NaN  1996.0    Marzo           6.17259   \n",
       "3       NaN   NaN       NaN       NaN  1996.0    Abril           8.55186   \n",
       "4       NaN   NaN       NaN       NaN  1996.0     Mayo          12.59082   \n",
       "...     ...   ...       ...       ...     ...      ...               ...   \n",
       "5335    NaN   NaN       NaN       NaN     NaN      NaN               NaN   \n",
       "5336    NaN   NaN       NaN       NaN     NaN      NaN               NaN   \n",
       "5337    NaN   NaN       NaN       NaN     NaN      NaN               NaN   \n",
       "5338    NaN   NaN       NaN       NaN     NaN      NaN               NaN   \n",
       "5339    NaN   NaN       NaN       NaN     NaN      NaN               NaN   \n",
       "\n",
       "      Inflation (bcv)  Recaudacion SENIAT (BsF miles)  Oil Production  \n",
       "0             8.11367                             NaN             NaN  \n",
       "1             7.97339                             NaN             NaN  \n",
       "2             6.17259                             NaN             NaN  \n",
       "3             8.55186                             NaN             NaN  \n",
       "4            12.59082                             NaN             NaN  \n",
       "...               ...                             ...             ...  \n",
       "5335              NaN                             NaN             NaN  \n",
       "5336              NaN                             NaN             NaN  \n",
       "5337              NaN                             NaN             NaN  \n",
       "5338              NaN                             NaN             NaN  \n",
       "5339              NaN                             NaN             NaN  \n",
       "\n",
       "[5340 rows x 17 columns]"
      ]
     },
     "execution_count": 4,
     "metadata": {},
     "output_type": "execute_result"
    }
   ],
   "source": [
    "df"
   ]
  },
  {
   "cell_type": "code",
   "execution_count": 10,
   "id": "057f0fe8",
   "metadata": {},
   "outputs": [
    {
     "ename": "AttributeError",
     "evalue": "'numpy.ndarray' object has no attribute 'count'",
     "output_type": "error",
     "traceback": [
      "\u001b[0;31m---------------------------------------------------------------------------\u001b[0m",
      "\u001b[0;31mAttributeError\u001b[0m                            Traceback (most recent call last)",
      "\u001b[0;32m/var/folders/5v/jrtfsf456ts80g8z3xvl3yq80000gn/T/ipykernel_56034/606661872.py\u001b[0m in \u001b[0;36m<module>\u001b[0;34m\u001b[0m\n\u001b[0;32m----> 1\u001b[0;31m \u001b[0mdf\u001b[0m\u001b[0;34m[\u001b[0m\u001b[0;34m'Oil Production'\u001b[0m\u001b[0;34m]\u001b[0m\u001b[0;34m.\u001b[0m\u001b[0munique\u001b[0m\u001b[0;34m(\u001b[0m\u001b[0;34m)\u001b[0m\u001b[0;34m.\u001b[0m\u001b[0mcount\u001b[0m\u001b[0;34m\u001b[0m\u001b[0;34m\u001b[0m\u001b[0m\n\u001b[0m",
      "\u001b[0;31mAttributeError\u001b[0m: 'numpy.ndarray' object has no attribute 'count'"
     ]
    }
   ],
   "source": [
    "df['Oil Production'].unique()"
   ]
  },
  {
   "cell_type": "code",
   "execution_count": 15,
   "id": "9cb6e9e8",
   "metadata": {},
   "outputs": [
    {
     "data": {
      "text/plain": [
       "59      3043.0\n",
       "60      3015.0\n",
       "65      2950.0\n",
       "70      2933.0\n",
       "76      2849.0\n",
       "         ...  \n",
       "5170     529.0\n",
       "5200     512.0\n",
       "5231     523.0\n",
       "5262     527.0\n",
       "5292     590.0\n",
       "Name: Oil Production, Length: 251, dtype: float64"
      ]
     },
     "execution_count": 15,
     "metadata": {},
     "output_type": "execute_result"
    }
   ],
   "source": [
    "df['Oil Production'].dropna()"
   ]
  },
  {
   "cell_type": "code",
   "execution_count": 23,
   "id": "4d8b8575",
   "metadata": {},
   "outputs": [
    {
     "data": {
      "text/plain": [
       "[<matplotlib.lines.Line2D at 0x131279f70>]"
      ]
     },
     "execution_count": 23,
     "metadata": {},
     "output_type": "execute_result"
    },
    {
     "data": {
      "image/png": "[encoded data removed]",
      "text/plain": [
       "<Figure size 432x288 with 1 Axes>"
      ]
     },
     "metadata": {
      "needs_background": "light"
     },
     "output_type": "display_data"
    }
   ],
   "source": [
    "plt.plot(df['Oil Production'].dropna())"
   ]
  },
  {
   "cell_type": "code",
   "execution_count": 17,
   "id": "b34153cd",
   "metadata": {},
   "outputs": [
    {
     "data": {
      "text/plain": [
       "[<matplotlib.lines.Line2D at 0x1311d76d0>]"
      ]
     },
     "execution_count": 17,
     "metadata": {},
     "output_type": "execute_result"
    },
    {
     "data": {
      "image/png": "[encoded data removed]",
      "text/plain": [
       "<Figure size 432x288 with 1 Axes>"
      ]
     },
     "metadata": {
      "needs_background": "light"
     },
     "output_type": "display_data"
    }
   ],
   "source": [
    "plt.plot(df['Dolartoday'].dropna())"
   ]
  },
  {
   "cell_type": "code",
   "execution_count": 20,
   "id": "4af5b52d",
   "metadata": {},
   "outputs": [],
   "source": [
    "df['Unnamed: 0'] = pd.to_datetime(df['Unnamed: 0'])"
   ]
  },
  {
   "cell_type": "code",
   "execution_count": 21,
   "id": "8c25d8ab",
   "metadata": {},
   "outputs": [
    {
     "data": {
      "text/plain": [
       "Unnamed: 0                        datetime64[ns]\n",
       "Year_x                                   float64\n",
       "Month_x                                  float64\n",
       "Dolartoday                               float64\n",
       "Source                                    object\n",
       "Oil WTI                                  float64\n",
       "Oil Brent                                float64\n",
       "month                                    float64\n",
       "year                                     float64\n",
       "BM (BsS)                                 float64\n",
       "M2 (BsS)                                 float64\n",
       "Year_y                                   float64\n",
       "Month_y                                   object\n",
       "Inflation (oppo)                         float64\n",
       "Inflation (bcv)                          float64\n",
       "Recaudacion SENIAT (BsF miles)           float64\n",
       "Oil Production                           float64\n",
       "dtype: object"
      ]
     },
     "execution_count": 21,
     "metadata": {},
     "output_type": "execute_result"
    }
   ],
   "source": []
  },
  {
   "cell_type": "code",
   "execution_count": 24,
   "id": "7f4fded4",
   "metadata": {},
   "outputs": [
    {
     "data": {
      "text/plain": [
       "[<matplotlib.lines.Line2D at 0x1327c8c40>]"
      ]
     },
     "execution_count": 24,
     "metadata": {},
     "output_type": "execute_result"
    },
    {
     "data": {
      "image/png": "[encoded data removed]",
      "text/plain": [
       "<Figure size 432x288 with 1 Axes>"
      ]
     },
     "metadata": {
      "needs_background": "light"
     },
     "output_type": "display_data"
    }
   ],
   "source": [
    "plt.plot(df['Recaudacion SENIAT (BsF miles)'].dropna())"
   ]
  },
  {
   "cell_type": "code",
   "execution_count": 29,
   "id": "aff63b47",
   "metadata": {},
   "outputs": [
    {
     "data": {
      "text/plain": [
       "(array([165.,   1.,   2.,   1.,   1.,   1.,   1.,   1.,   1.,   1.]),\n",
       " array([3.42780406e+09, 7.81895983e+18, 1.56379197e+19, 2.34568795e+19,\n",
       "        3.12758393e+19, 3.90947991e+19, 4.69137590e+19, 5.47327188e+19,\n",
       "        6.25516786e+19, 7.03706385e+19, 7.81895983e+19]),\n",
       " <BarContainer object of 10 artists>)"
      ]
     },
     "execution_count": 29,
     "metadata": {},
     "output_type": "execute_result"
    },
    {
     "data": {
      "image/png": "[encoded data removed]",
      "text/plain": [
       "<Figure size 432x288 with 1 Axes>"
      ]
     },
     "metadata": {
      "needs_background": "light"
     },
     "output_type": "display_data"
    }
   ],
   "source": [
    "plt.hist(df['Recaudacion SENIAT (BsF miles)'].unique())"
   ]
  },
  {
   "cell_type": "code",
   "execution_count": 31,
   "id": "c8519f02",
   "metadata": {},
   "outputs": [
    {
     "data": {
      "text/html": [
       "<div>\n",
       "<style scoped>\n",
       "    .dataframe tbody tr th:only-of-type {\n",
       "        vertical-align: middle;\n",
       "    }\n",
       "\n",
       "    .dataframe tbody tr th {\n",
       "        vertical-align: top;\n",
       "    }\n",
       "\n",
       "    .dataframe thead th {\n",
       "        text-align: right;\n",
       "    }\n",
       "</style>\n",
       "<table border=\"1\" class=\"dataframe\">\n",
       "  <thead>\n",
       "    <tr style=\"text-align: right;\">\n",
       "      <th></th>\n",
       "      <th>Country</th>\n",
       "      <th>Category</th>\n",
       "      <th>DateTime</th>\n",
       "      <th>Value</th>\n",
       "      <th>Frequency</th>\n",
       "      <th>HistoricalDataSymbol</th>\n",
       "      <th>LastUpdate</th>\n",
       "    </tr>\n",
       "  </thead>\n",
       "  <tbody>\n",
       "    <tr>\n",
       "      <th>0</th>\n",
       "      <td>Venezuela</td>\n",
       "      <td>Currency</td>\n",
       "      <td>2016-05-17T00:00:00</td>\n",
       "      <td>0.0001</td>\n",
       "      <td>Daily</td>\n",
       "      <td>USDVES</td>\n",
       "      <td>2021-11-23T10:23:39.297</td>\n",
       "    </tr>\n",
       "    <tr>\n",
       "      <th>1</th>\n",
       "      <td>Venezuela</td>\n",
       "      <td>Currency</td>\n",
       "      <td>2016-05-18T00:00:00</td>\n",
       "      <td>0.0001</td>\n",
       "      <td>Daily</td>\n",
       "      <td>USDVES</td>\n",
       "      <td>2021-11-23T10:23:39.297</td>\n",
       "    </tr>\n",
       "    <tr>\n",
       "      <th>2</th>\n",
       "      <td>Venezuela</td>\n",
       "      <td>Currency</td>\n",
       "      <td>2016-05-19T00:00:00</td>\n",
       "      <td>0.0001</td>\n",
       "      <td>Daily</td>\n",
       "      <td>USDVES</td>\n",
       "      <td>2021-11-23T10:23:39.297</td>\n",
       "    </tr>\n",
       "    <tr>\n",
       "      <th>3</th>\n",
       "      <td>Venezuela</td>\n",
       "      <td>Currency</td>\n",
       "      <td>2016-05-20T00:00:00</td>\n",
       "      <td>0.0001</td>\n",
       "      <td>Daily</td>\n",
       "      <td>USDVES</td>\n",
       "      <td>2021-11-23T10:23:39.297</td>\n",
       "    </tr>\n",
       "    <tr>\n",
       "      <th>4</th>\n",
       "      <td>Venezuela</td>\n",
       "      <td>Currency</td>\n",
       "      <td>2016-05-23T00:00:00</td>\n",
       "      <td>0.0001</td>\n",
       "      <td>Daily</td>\n",
       "      <td>USDVES</td>\n",
       "      <td>2021-11-23T10:23:39.297</td>\n",
       "    </tr>\n",
       "    <tr>\n",
       "      <th>...</th>\n",
       "      <td>...</td>\n",
       "      <td>...</td>\n",
       "      <td>...</td>\n",
       "      <td>...</td>\n",
       "      <td>...</td>\n",
       "      <td>...</td>\n",
       "      <td>...</td>\n",
       "    </tr>\n",
       "    <tr>\n",
       "      <th>1434</th>\n",
       "      <td>Venezuela</td>\n",
       "      <td>Currency</td>\n",
       "      <td>2021-11-16T00:00:00</td>\n",
       "      <td>4.5130</td>\n",
       "      <td>Daily</td>\n",
       "      <td>USDVES</td>\n",
       "      <td>2021-11-23T10:23:39.297</td>\n",
       "    </tr>\n",
       "    <tr>\n",
       "      <th>1435</th>\n",
       "      <td>Venezuela</td>\n",
       "      <td>Currency</td>\n",
       "      <td>2021-11-17T00:00:00</td>\n",
       "      <td>4.5174</td>\n",
       "      <td>Daily</td>\n",
       "      <td>USDVES</td>\n",
       "      <td>2021-11-23T10:23:39.297</td>\n",
       "    </tr>\n",
       "    <tr>\n",
       "      <th>1436</th>\n",
       "      <td>Venezuela</td>\n",
       "      <td>Currency</td>\n",
       "      <td>2021-11-18T00:00:00</td>\n",
       "      <td>4.5746</td>\n",
       "      <td>Daily</td>\n",
       "      <td>USDVES</td>\n",
       "      <td>2021-11-23T10:23:39.297</td>\n",
       "    </tr>\n",
       "    <tr>\n",
       "      <th>1437</th>\n",
       "      <td>Venezuela</td>\n",
       "      <td>Currency</td>\n",
       "      <td>2021-11-19T00:00:00</td>\n",
       "      <td>4.5321</td>\n",
       "      <td>Daily</td>\n",
       "      <td>USDVES</td>\n",
       "      <td>2021-11-23T10:23:39.297</td>\n",
       "    </tr>\n",
       "    <tr>\n",
       "      <th>1438</th>\n",
       "      <td>Venezuela</td>\n",
       "      <td>Currency</td>\n",
       "      <td>2021-11-22T00:00:00</td>\n",
       "      <td>4.5321</td>\n",
       "      <td>Daily</td>\n",
       "      <td>USDVES</td>\n",
       "      <td>2021-11-23T10:23:39.297</td>\n",
       "    </tr>\n",
       "  </tbody>\n",
       "</table>\n",
       "<p>1439 rows × 7 columns</p>\n",
       "</div>"
      ],
      "text/plain": [
       "        Country  Category             DateTime   Value Frequency  \\\n",
       "0     Venezuela  Currency  2016-05-17T00:00:00  0.0001     Daily   \n",
       "1     Venezuela  Currency  2016-05-18T00:00:00  0.0001     Daily   \n",
       "2     Venezuela  Currency  2016-05-19T00:00:00  0.0001     Daily   \n",
       "3     Venezuela  Currency  2016-05-20T00:00:00  0.0001     Daily   \n",
       "4     Venezuela  Currency  2016-05-23T00:00:00  0.0001     Daily   \n",
       "...         ...       ...                  ...     ...       ...   \n",
       "1434  Venezuela  Currency  2021-11-16T00:00:00  4.5130     Daily   \n",
       "1435  Venezuela  Currency  2021-11-17T00:00:00  4.5174     Daily   \n",
       "1436  Venezuela  Currency  2021-11-18T00:00:00  4.5746     Daily   \n",
       "1437  Venezuela  Currency  2021-11-19T00:00:00  4.5321     Daily   \n",
       "1438  Venezuela  Currency  2021-11-22T00:00:00  4.5321     Daily   \n",
       "\n",
       "     HistoricalDataSymbol               LastUpdate  \n",
       "0                  USDVES  2021-11-23T10:23:39.297  \n",
       "1                  USDVES  2021-11-23T10:23:39.297  \n",
       "2                  USDVES  2021-11-23T10:23:39.297  \n",
       "3                  USDVES  2021-11-23T10:23:39.297  \n",
       "4                  USDVES  2021-11-23T10:23:39.297  \n",
       "...                   ...                      ...  \n",
       "1434               USDVES  2021-11-23T10:23:39.297  \n",
       "1435               USDVES  2021-11-23T10:23:39.297  \n",
       "1436               USDVES  2021-11-23T10:23:39.297  \n",
       "1437               USDVES  2021-11-23T10:23:39.297  \n",
       "1438               USDVES  2021-11-23T10:23:39.297  \n",
       "\n",
       "[1439 rows x 7 columns]"
      ]
     },
     "execution_count": 31,
     "metadata": {},
     "output_type": "execute_result"
    }
   ],
   "source": [
    "pd.read_csv('historical_country_Venezuela_indicator_Currency.csv')"
   ]
  },
  {
   "cell_type": "code",
   "execution_count": null,
   "id": "64164f4d",
   "metadata": {},
   "outputs": [],
   "source": []
  },
  {
   "cell_type": "code",
   "execution_count": null,
   "id": "b802945c",
   "metadata": {},
   "outputs": [],
   "source": []
  }
 ],
 "metadata": {
  "kernelspec": {
   "display_name": "Python 3 (ipykernel)",
   "language": "python",
   "name": "python3"
  },
  "language_info": {
   "codemirror_mode": {
    "name": "ipython",
    "version": 3
   },
   "file_extension": ".py",
   "mimetype": "text/x-python",
   "name": "python",
   "nbconvert_exporter": "python",
   "pygments_lexer": "ipython3",
   "version": "3.8.12"
  },
  "toc": {
   "base_numbering": 1,
   "nav_menu": {},
   "number_sections": true,
   "sideBar": true,
   "skip_h1_title": false,
   "title_cell": "Table of Contents",
   "title_sidebar": "Contents",
   "toc_cell": false,
   "toc_position": {},
   "toc_section_display": true,
   "toc_window_display": false
  }
 },
 "nbformat": 4,
 "nbformat_minor": 5
}
