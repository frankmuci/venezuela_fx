{
 "cells": [
  {
   "cell_type": "markdown",
   "id": "9c7c64c7",
   "metadata": {},
   "source": [
    "## Data"
   ]
  },
  {
   "cell_type": "code",
   "execution_count": 57,
   "id": "04f71e83",
   "metadata": {},
   "outputs": [],
   "source": [
    "from pmdarima.arima.utils import ndiffs\n",
    "from statsmodels.tsa.arima_model import ARIMA\n",
    "import pandas as pd\n",
    "import matplotlib.pyplot as plt\n",
    "import seaborn as sns\n",
    "import numpy as np\n",
    "import math"
   ]
  },
  {
   "cell_type": "code",
   "execution_count": 3,
   "id": "4236c500",
   "metadata": {
    "scrolled": true
   },
   "outputs": [
    {
     "data": {
      "text/html": [
       "<div>\n",
       "<style scoped>\n",
       "    .dataframe tbody tr th:only-of-type {\n",
       "        vertical-align: middle;\n",
       "    }\n",
       "\n",
       "    .dataframe tbody tr th {\n",
       "        vertical-align: top;\n",
       "    }\n",
       "\n",
       "    .dataframe thead th {\n",
       "        text-align: right;\n",
       "    }\n",
       "</style>\n",
       "<table border=\"1\" class=\"dataframe\">\n",
       "  <thead>\n",
       "    <tr style=\"text-align: right;\">\n",
       "      <th></th>\n",
       "      <th>Unnamed: 0</th>\n",
       "      <th>Stock_Market</th>\n",
       "      <th>Deposit_Interest_Rate</th>\n",
       "      <th>Interest_Rate</th>\n",
       "      <th>Money_Supply_M3</th>\n",
       "      <th>Central_Bank_Balance_Sheet</th>\n",
       "      <th>Crude_Oil_Production</th>\n",
       "      <th>Crude_Oil_Rig</th>\n",
       "      <th>Money_Supply_M0</th>\n",
       "      <th>Foreign_Exchange_Reserve</th>\n",
       "      <th>External_Debt</th>\n",
       "      <th>Inflation_Rate</th>\n",
       "      <th>Money_Supply_M2</th>\n",
       "      <th>Inflation_Rate_Mom</th>\n",
       "      <th>Private_Sector_Credit</th>\n",
       "      <th>Consumer_Price_Index_CPI</th>\n",
       "      <th>CPI_Transportation</th>\n",
       "      <th>Money_Supply_M1</th>\n",
       "      <th>Banks_Balance_Sheet</th>\n",
       "      <th>Dolartoday</th>\n",
       "    </tr>\n",
       "  </thead>\n",
       "  <tbody>\n",
       "    <tr>\n",
       "      <th>0</th>\n",
       "      <td>2007-01-01</td>\n",
       "      <td>5.300000e-02</td>\n",
       "      <td>10.53</td>\n",
       "      <td>18.93</td>\n",
       "      <td>1.464000e+00</td>\n",
       "      <td>1.000000e-03</td>\n",
       "      <td>2416.0</td>\n",
       "      <td>63.0</td>\n",
       "      <td>4.370000e-01</td>\n",
       "      <td>36392.0</td>\n",
       "      <td>157.0</td>\n",
       "      <td>18.4</td>\n",
       "      <td>1.464000e+00</td>\n",
       "      <td>3.1</td>\n",
       "      <td>6.480000e+01</td>\n",
       "      <td>1.000000e-04</td>\n",
       "      <td>1.000000e-01</td>\n",
       "      <td>1.027000e+00</td>\n",
       "      <td>1.800000e-01</td>\n",
       "      <td>3.390000e-05</td>\n",
       "    </tr>\n",
       "    <tr>\n",
       "      <th>1</th>\n",
       "      <td>2007-01-02</td>\n",
       "      <td>5.300000e-02</td>\n",
       "      <td>10.12</td>\n",
       "      <td>18.93</td>\n",
       "      <td>1.464000e+00</td>\n",
       "      <td>1.000000e-03</td>\n",
       "      <td>2416.0</td>\n",
       "      <td>63.0</td>\n",
       "      <td>4.370000e-01</td>\n",
       "      <td>36392.0</td>\n",
       "      <td>157.0</td>\n",
       "      <td>18.4</td>\n",
       "      <td>1.464000e+00</td>\n",
       "      <td>3.1</td>\n",
       "      <td>6.480000e+01</td>\n",
       "      <td>1.000000e-04</td>\n",
       "      <td>1.000000e-01</td>\n",
       "      <td>1.027000e+00</td>\n",
       "      <td>1.800000e-01</td>\n",
       "      <td>3.390000e-05</td>\n",
       "    </tr>\n",
       "    <tr>\n",
       "      <th>2</th>\n",
       "      <td>2007-01-03</td>\n",
       "      <td>5.360000e-02</td>\n",
       "      <td>10.07</td>\n",
       "      <td>18.24</td>\n",
       "      <td>1.464000e+00</td>\n",
       "      <td>1.000000e-03</td>\n",
       "      <td>2416.0</td>\n",
       "      <td>63.0</td>\n",
       "      <td>4.370000e-01</td>\n",
       "      <td>36392.0</td>\n",
       "      <td>157.0</td>\n",
       "      <td>18.4</td>\n",
       "      <td>1.464000e+00</td>\n",
       "      <td>3.1</td>\n",
       "      <td>6.480000e+01</td>\n",
       "      <td>1.000000e-04</td>\n",
       "      <td>1.000000e-01</td>\n",
       "      <td>1.027000e+00</td>\n",
       "      <td>1.800000e-01</td>\n",
       "      <td>3.403571e-05</td>\n",
       "    </tr>\n",
       "    <tr>\n",
       "      <th>3</th>\n",
       "      <td>2007-01-04</td>\n",
       "      <td>5.560000e-02</td>\n",
       "      <td>10.01</td>\n",
       "      <td>14.77</td>\n",
       "      <td>1.464000e+00</td>\n",
       "      <td>1.000000e-03</td>\n",
       "      <td>2416.0</td>\n",
       "      <td>63.0</td>\n",
       "      <td>4.370000e-01</td>\n",
       "      <td>36392.0</td>\n",
       "      <td>157.0</td>\n",
       "      <td>18.4</td>\n",
       "      <td>1.464000e+00</td>\n",
       "      <td>3.1</td>\n",
       "      <td>6.480000e+01</td>\n",
       "      <td>1.000000e-04</td>\n",
       "      <td>1.000000e-01</td>\n",
       "      <td>1.027000e+00</td>\n",
       "      <td>1.800000e-01</td>\n",
       "      <td>3.437500e-05</td>\n",
       "    </tr>\n",
       "    <tr>\n",
       "      <th>4</th>\n",
       "      <td>2007-01-05</td>\n",
       "      <td>5.940000e-02</td>\n",
       "      <td>10.03</td>\n",
       "      <td>17.43</td>\n",
       "      <td>1.464000e+00</td>\n",
       "      <td>1.000000e-03</td>\n",
       "      <td>2416.0</td>\n",
       "      <td>63.0</td>\n",
       "      <td>4.370000e-01</td>\n",
       "      <td>36392.0</td>\n",
       "      <td>157.0</td>\n",
       "      <td>18.4</td>\n",
       "      <td>1.464000e+00</td>\n",
       "      <td>3.1</td>\n",
       "      <td>6.480000e+01</td>\n",
       "      <td>1.000000e-04</td>\n",
       "      <td>1.000000e-01</td>\n",
       "      <td>1.027000e+00</td>\n",
       "      <td>1.800000e-01</td>\n",
       "      <td>3.487500e-05</td>\n",
       "    </tr>\n",
       "    <tr>\n",
       "      <th>...</th>\n",
       "      <td>...</td>\n",
       "      <td>...</td>\n",
       "      <td>...</td>\n",
       "      <td>...</td>\n",
       "      <td>...</td>\n",
       "      <td>...</td>\n",
       "      <td>...</td>\n",
       "      <td>...</td>\n",
       "      <td>...</td>\n",
       "      <td>...</td>\n",
       "      <td>...</td>\n",
       "      <td>...</td>\n",
       "      <td>...</td>\n",
       "      <td>...</td>\n",
       "      <td>...</td>\n",
       "      <td>...</td>\n",
       "      <td>...</td>\n",
       "      <td>...</td>\n",
       "      <td>...</td>\n",
       "      <td>...</td>\n",
       "    </tr>\n",
       "    <tr>\n",
       "      <th>5432</th>\n",
       "      <td>2021-11-15</td>\n",
       "      <td>5.973510e+11</td>\n",
       "      <td>36.00</td>\n",
       "      <td>56.86</td>\n",
       "      <td>2.725926e+09</td>\n",
       "      <td>2.031504e+08</td>\n",
       "      <td>756.0</td>\n",
       "      <td>0.0</td>\n",
       "      <td>1.325000e+09</td>\n",
       "      <td>11102.0</td>\n",
       "      <td>0.0</td>\n",
       "      <td>1575.3</td>\n",
       "      <td>2.725926e+09</td>\n",
       "      <td>6.8</td>\n",
       "      <td>1.184882e+11</td>\n",
       "      <td>2.210425e+06</td>\n",
       "      <td>2.512177e+09</td>\n",
       "      <td>2.720677e+09</td>\n",
       "      <td>2.392883e+13</td>\n",
       "      <td>4.610000e+06</td>\n",
       "    </tr>\n",
       "    <tr>\n",
       "      <th>5433</th>\n",
       "      <td>2021-11-16</td>\n",
       "      <td>5.962450e+11</td>\n",
       "      <td>36.00</td>\n",
       "      <td>56.86</td>\n",
       "      <td>2.725926e+09</td>\n",
       "      <td>2.031504e+08</td>\n",
       "      <td>756.0</td>\n",
       "      <td>0.0</td>\n",
       "      <td>1.325000e+09</td>\n",
       "      <td>11102.0</td>\n",
       "      <td>0.0</td>\n",
       "      <td>1575.3</td>\n",
       "      <td>2.725926e+09</td>\n",
       "      <td>6.8</td>\n",
       "      <td>1.184882e+11</td>\n",
       "      <td>2.210425e+06</td>\n",
       "      <td>2.512177e+09</td>\n",
       "      <td>2.720677e+09</td>\n",
       "      <td>2.392883e+13</td>\n",
       "      <td>4.690000e+06</td>\n",
       "    </tr>\n",
       "    <tr>\n",
       "      <th>5434</th>\n",
       "      <td>2021-11-17</td>\n",
       "      <td>5.968420e+11</td>\n",
       "      <td>36.00</td>\n",
       "      <td>56.86</td>\n",
       "      <td>2.725926e+09</td>\n",
       "      <td>2.031504e+08</td>\n",
       "      <td>756.0</td>\n",
       "      <td>0.0</td>\n",
       "      <td>1.325000e+09</td>\n",
       "      <td>11102.0</td>\n",
       "      <td>0.0</td>\n",
       "      <td>1575.3</td>\n",
       "      <td>2.725926e+09</td>\n",
       "      <td>6.8</td>\n",
       "      <td>1.184882e+11</td>\n",
       "      <td>2.210425e+06</td>\n",
       "      <td>2.512177e+09</td>\n",
       "      <td>2.720677e+09</td>\n",
       "      <td>2.392883e+13</td>\n",
       "      <td>4.820000e+06</td>\n",
       "    </tr>\n",
       "    <tr>\n",
       "      <th>5435</th>\n",
       "      <td>2021-11-18</td>\n",
       "      <td>5.998970e+11</td>\n",
       "      <td>36.00</td>\n",
       "      <td>56.86</td>\n",
       "      <td>2.725926e+09</td>\n",
       "      <td>2.031504e+08</td>\n",
       "      <td>756.0</td>\n",
       "      <td>0.0</td>\n",
       "      <td>1.325000e+09</td>\n",
       "      <td>11102.0</td>\n",
       "      <td>0.0</td>\n",
       "      <td>1575.3</td>\n",
       "      <td>2.725926e+09</td>\n",
       "      <td>6.8</td>\n",
       "      <td>1.184882e+11</td>\n",
       "      <td>2.210425e+06</td>\n",
       "      <td>2.512177e+09</td>\n",
       "      <td>2.720677e+09</td>\n",
       "      <td>2.392883e+13</td>\n",
       "      <td>4.820000e+06</td>\n",
       "    </tr>\n",
       "    <tr>\n",
       "      <th>5436</th>\n",
       "      <td>2021-11-19</td>\n",
       "      <td>6.043920e+11</td>\n",
       "      <td>36.00</td>\n",
       "      <td>56.86</td>\n",
       "      <td>2.725926e+09</td>\n",
       "      <td>2.031504e+08</td>\n",
       "      <td>756.0</td>\n",
       "      <td>0.0</td>\n",
       "      <td>1.325000e+09</td>\n",
       "      <td>11102.0</td>\n",
       "      <td>0.0</td>\n",
       "      <td>1575.3</td>\n",
       "      <td>2.725926e+09</td>\n",
       "      <td>6.8</td>\n",
       "      <td>1.184882e+11</td>\n",
       "      <td>2.210425e+06</td>\n",
       "      <td>2.512177e+09</td>\n",
       "      <td>2.720677e+09</td>\n",
       "      <td>2.392883e+13</td>\n",
       "      <td>4.820000e+06</td>\n",
       "    </tr>\n",
       "  </tbody>\n",
       "</table>\n",
       "<p>5437 rows × 20 columns</p>\n",
       "</div>"
      ],
      "text/plain": [
       "      Unnamed: 0  Stock_Market  Deposit_Interest_Rate  Interest_Rate  \\\n",
       "0     2007-01-01  5.300000e-02                  10.53          18.93   \n",
       "1     2007-01-02  5.300000e-02                  10.12          18.93   \n",
       "2     2007-01-03  5.360000e-02                  10.07          18.24   \n",
       "3     2007-01-04  5.560000e-02                  10.01          14.77   \n",
       "4     2007-01-05  5.940000e-02                  10.03          17.43   \n",
       "...          ...           ...                    ...            ...   \n",
       "5432  2021-11-15  5.973510e+11                  36.00          56.86   \n",
       "5433  2021-11-16  5.962450e+11                  36.00          56.86   \n",
       "5434  2021-11-17  5.968420e+11                  36.00          56.86   \n",
       "5435  2021-11-18  5.998970e+11                  36.00          56.86   \n",
       "5436  2021-11-19  6.043920e+11                  36.00          56.86   \n",
       "\n",
       "      Money_Supply_M3  Central_Bank_Balance_Sheet  Crude_Oil_Production  \\\n",
       "0        1.464000e+00                1.000000e-03                2416.0   \n",
       "1        1.464000e+00                1.000000e-03                2416.0   \n",
       "2        1.464000e+00                1.000000e-03                2416.0   \n",
       "3        1.464000e+00                1.000000e-03                2416.0   \n",
       "4        1.464000e+00                1.000000e-03                2416.0   \n",
       "...               ...                         ...                   ...   \n",
       "5432     2.725926e+09                2.031504e+08                 756.0   \n",
       "5433     2.725926e+09                2.031504e+08                 756.0   \n",
       "5434     2.725926e+09                2.031504e+08                 756.0   \n",
       "5435     2.725926e+09                2.031504e+08                 756.0   \n",
       "5436     2.725926e+09                2.031504e+08                 756.0   \n",
       "\n",
       "      Crude_Oil_Rig  Money_Supply_M0  Foreign_Exchange_Reserve  External_Debt  \\\n",
       "0              63.0     4.370000e-01                   36392.0          157.0   \n",
       "1              63.0     4.370000e-01                   36392.0          157.0   \n",
       "2              63.0     4.370000e-01                   36392.0          157.0   \n",
       "3              63.0     4.370000e-01                   36392.0          157.0   \n",
       "4              63.0     4.370000e-01                   36392.0          157.0   \n",
       "...             ...              ...                       ...            ...   \n",
       "5432            0.0     1.325000e+09                   11102.0            0.0   \n",
       "5433            0.0     1.325000e+09                   11102.0            0.0   \n",
       "5434            0.0     1.325000e+09                   11102.0            0.0   \n",
       "5435            0.0     1.325000e+09                   11102.0            0.0   \n",
       "5436            0.0     1.325000e+09                   11102.0            0.0   \n",
       "\n",
       "      Inflation_Rate  Money_Supply_M2  Inflation_Rate_Mom  \\\n",
       "0               18.4     1.464000e+00                 3.1   \n",
       "1               18.4     1.464000e+00                 3.1   \n",
       "2               18.4     1.464000e+00                 3.1   \n",
       "3               18.4     1.464000e+00                 3.1   \n",
       "4               18.4     1.464000e+00                 3.1   \n",
       "...              ...              ...                 ...   \n",
       "5432          1575.3     2.725926e+09                 6.8   \n",
       "5433          1575.3     2.725926e+09                 6.8   \n",
       "5434          1575.3     2.725926e+09                 6.8   \n",
       "5435          1575.3     2.725926e+09                 6.8   \n",
       "5436          1575.3     2.725926e+09                 6.8   \n",
       "\n",
       "      Private_Sector_Credit  Consumer_Price_Index_CPI  CPI_Transportation  \\\n",
       "0              6.480000e+01              1.000000e-04        1.000000e-01   \n",
       "1              6.480000e+01              1.000000e-04        1.000000e-01   \n",
       "2              6.480000e+01              1.000000e-04        1.000000e-01   \n",
       "3              6.480000e+01              1.000000e-04        1.000000e-01   \n",
       "4              6.480000e+01              1.000000e-04        1.000000e-01   \n",
       "...                     ...                       ...                 ...   \n",
       "5432           1.184882e+11              2.210425e+06        2.512177e+09   \n",
       "5433           1.184882e+11              2.210425e+06        2.512177e+09   \n",
       "5434           1.184882e+11              2.210425e+06        2.512177e+09   \n",
       "5435           1.184882e+11              2.210425e+06        2.512177e+09   \n",
       "5436           1.184882e+11              2.210425e+06        2.512177e+09   \n",
       "\n",
       "      Money_Supply_M1  Banks_Balance_Sheet    Dolartoday  \n",
       "0        1.027000e+00         1.800000e-01  3.390000e-05  \n",
       "1        1.027000e+00         1.800000e-01  3.390000e-05  \n",
       "2        1.027000e+00         1.800000e-01  3.403571e-05  \n",
       "3        1.027000e+00         1.800000e-01  3.437500e-05  \n",
       "4        1.027000e+00         1.800000e-01  3.487500e-05  \n",
       "...               ...                  ...           ...  \n",
       "5432     2.720677e+09         2.392883e+13  4.610000e+06  \n",
       "5433     2.720677e+09         2.392883e+13  4.690000e+06  \n",
       "5434     2.720677e+09         2.392883e+13  4.820000e+06  \n",
       "5435     2.720677e+09         2.392883e+13  4.820000e+06  \n",
       "5436     2.720677e+09         2.392883e+13  4.820000e+06  \n",
       "\n",
       "[5437 rows x 20 columns]"
      ]
     },
     "execution_count": 3,
     "metadata": {},
     "output_type": "execute_result"
    }
   ],
   "source": [
    "pd.read_csv(\"/Users/arnauddeprest/code/venezuela_fx/venezuela_fx/data/working_df.csv\")"
   ]
  },
  {
   "cell_type": "code",
   "execution_count": 4,
   "id": "5ff4f2c5",
   "metadata": {},
   "outputs": [],
   "source": [
    "df = pd.read_csv(\"/Users/arnauddeprest/code/venezuela_fx/venezuela_fx/data/working_df.csv\").copy()"
   ]
  },
  {
   "cell_type": "code",
   "execution_count": 5,
   "id": "68404718",
   "metadata": {
    "collapsed": true
   },
   "outputs": [
    {
     "data": {
      "text/plain": [
       "Index(['Unnamed: 0', 'Stock_Market', 'Deposit_Interest_Rate', 'Interest_Rate',\n",
       "       'Money_Supply_M3', 'Central_Bank_Balance_Sheet', 'Crude_Oil_Production',\n",
       "       'Crude_Oil_Rig', 'Money_Supply_M0', 'Foreign_Exchange_Reserve',\n",
       "       'External_Debt', 'Inflation_Rate', 'Money_Supply_M2',\n",
       "       'Inflation_Rate_Mom', 'Private_Sector_Credit',\n",
       "       'Consumer_Price_Index_CPI', 'CPI_Transportation', 'Money_Supply_M1',\n",
       "       'Banks_Balance_Sheet', 'Dolartoday'],\n",
       "      dtype='object')"
      ]
     },
     "execution_count": 5,
     "metadata": {},
     "output_type": "execute_result"
    }
   ],
   "source": [
    "df.keys()"
   ]
  },
  {
   "cell_type": "code",
   "execution_count": 6,
   "id": "8db81de0",
   "metadata": {},
   "outputs": [],
   "source": [
    "df['Unnamed: 0']= df['Unnamed: 0'].apply(pd.to_datetime)"
   ]
  },
  {
   "cell_type": "code",
   "execution_count": 7,
   "id": "3be0dea2",
   "metadata": {},
   "outputs": [],
   "source": [
    "df.set_index('Unnamed: 0', inplace=True)"
   ]
  },
  {
   "cell_type": "markdown",
   "id": "cef38f73",
   "metadata": {},
   "source": [
    "## ARIMA model "
   ]
  },
  {
   "cell_type": "code",
   "execution_count": 12,
   "id": "b6e529d3",
   "metadata": {},
   "outputs": [],
   "source": [
    "from statsmodels.graphics.tsaplots import plot_pacf\n",
    "from statsmodels.graphics.tsaplots import plot_acf"
   ]
  },
  {
   "cell_type": "markdown",
   "id": "1c92d466",
   "metadata": {},
   "source": [
    "### drop NA "
   ]
  },
  {
   "cell_type": "code",
   "execution_count": 13,
   "id": "5b40bea3",
   "metadata": {},
   "outputs": [],
   "source": [
    "# let's keep the last 40% values out for test purposes\n",
    "train_size = 0.6\n",
    "index = round(train_size*df.shape[0])\n",
    "df_train = df.iloc[:index]\n",
    "df_test = df.iloc[index:]"
   ]
  },
  {
   "cell_type": "code",
   "execution_count": 14,
   "id": "ce93e9a3",
   "metadata": {
    "collapsed": true
   },
   "outputs": [
    {
     "data": {
      "text/html": [
       "<div>\n",
       "<style scoped>\n",
       "    .dataframe tbody tr th:only-of-type {\n",
       "        vertical-align: middle;\n",
       "    }\n",
       "\n",
       "    .dataframe tbody tr th {\n",
       "        vertical-align: top;\n",
       "    }\n",
       "\n",
       "    .dataframe thead th {\n",
       "        text-align: right;\n",
       "    }\n",
       "</style>\n",
       "<table border=\"1\" class=\"dataframe\">\n",
       "  <thead>\n",
       "    <tr style=\"text-align: right;\">\n",
       "      <th></th>\n",
       "      <th>Stock_Market</th>\n",
       "      <th>Deposit_Interest_Rate</th>\n",
       "      <th>Interest_Rate</th>\n",
       "      <th>Money_Supply_M3</th>\n",
       "      <th>Central_Bank_Balance_Sheet</th>\n",
       "      <th>Crude_Oil_Production</th>\n",
       "      <th>Crude_Oil_Rig</th>\n",
       "      <th>Money_Supply_M0</th>\n",
       "      <th>Foreign_Exchange_Reserve</th>\n",
       "      <th>External_Debt</th>\n",
       "      <th>Inflation_Rate</th>\n",
       "      <th>Money_Supply_M2</th>\n",
       "      <th>Inflation_Rate_Mom</th>\n",
       "      <th>Private_Sector_Credit</th>\n",
       "      <th>Consumer_Price_Index_CPI</th>\n",
       "      <th>CPI_Transportation</th>\n",
       "      <th>Money_Supply_M1</th>\n",
       "      <th>Banks_Balance_Sheet</th>\n",
       "      <th>Dolartoday</th>\n",
       "    </tr>\n",
       "    <tr>\n",
       "      <th>Unnamed: 0</th>\n",
       "      <th></th>\n",
       "      <th></th>\n",
       "      <th></th>\n",
       "      <th></th>\n",
       "      <th></th>\n",
       "      <th></th>\n",
       "      <th></th>\n",
       "      <th></th>\n",
       "      <th></th>\n",
       "      <th></th>\n",
       "      <th></th>\n",
       "      <th></th>\n",
       "      <th></th>\n",
       "      <th></th>\n",
       "      <th></th>\n",
       "      <th></th>\n",
       "      <th></th>\n",
       "      <th></th>\n",
       "      <th></th>\n",
       "    </tr>\n",
       "  </thead>\n",
       "  <tbody>\n",
       "    <tr>\n",
       "      <th>2015-12-07</th>\n",
       "      <td>NaN</td>\n",
       "      <td>NaN</td>\n",
       "      <td>NaN</td>\n",
       "      <td>NaN</td>\n",
       "      <td>NaN</td>\n",
       "      <td>NaN</td>\n",
       "      <td>NaN</td>\n",
       "      <td>NaN</td>\n",
       "      <td>NaN</td>\n",
       "      <td>NaN</td>\n",
       "      <td>NaN</td>\n",
       "      <td>NaN</td>\n",
       "      <td>NaN</td>\n",
       "      <td>NaN</td>\n",
       "      <td>NaN</td>\n",
       "      <td>NaN</td>\n",
       "      <td>NaN</td>\n",
       "      <td>NaN</td>\n",
       "      <td>NaN</td>\n",
       "    </tr>\n",
       "    <tr>\n",
       "      <th>2015-12-08</th>\n",
       "      <td>1.311730e+01</td>\n",
       "      <td>14.89</td>\n",
       "      <td>21.33</td>\n",
       "      <td>3.765700e+01</td>\n",
       "      <td>2.170000e-02</td>\n",
       "      <td>2587.0</td>\n",
       "      <td>70.0</td>\n",
       "      <td>1.516500e+01</td>\n",
       "      <td>14760.0</td>\n",
       "      <td>185.0</td>\n",
       "      <td>172.0</td>\n",
       "      <td>3.765700e+01</td>\n",
       "      <td>11.1</td>\n",
       "      <td>2.387750e+03</td>\n",
       "      <td>2.100000e-03</td>\n",
       "      <td>1.809400e+00</td>\n",
       "      <td>3.695400e+01</td>\n",
       "      <td>4.630000e+00</td>\n",
       "      <td>9.062500e-03</td>\n",
       "    </tr>\n",
       "    <tr>\n",
       "      <th>2015-12-09</th>\n",
       "      <td>1.420820e+01</td>\n",
       "      <td>15.09</td>\n",
       "      <td>21.33</td>\n",
       "      <td>3.765700e+01</td>\n",
       "      <td>2.170000e-02</td>\n",
       "      <td>2587.0</td>\n",
       "      <td>70.0</td>\n",
       "      <td>1.516500e+01</td>\n",
       "      <td>14760.0</td>\n",
       "      <td>185.0</td>\n",
       "      <td>172.0</td>\n",
       "      <td>3.765700e+01</td>\n",
       "      <td>11.1</td>\n",
       "      <td>2.387750e+03</td>\n",
       "      <td>2.100000e-03</td>\n",
       "      <td>1.809400e+00</td>\n",
       "      <td>3.695400e+01</td>\n",
       "      <td>4.630000e+00</td>\n",
       "      <td>9.093800e-03</td>\n",
       "    </tr>\n",
       "    <tr>\n",
       "      <th>2015-12-10</th>\n",
       "      <td>1.465480e+01</td>\n",
       "      <td>15.04</td>\n",
       "      <td>21.33</td>\n",
       "      <td>3.765700e+01</td>\n",
       "      <td>2.170000e-02</td>\n",
       "      <td>2587.0</td>\n",
       "      <td>70.0</td>\n",
       "      <td>1.516500e+01</td>\n",
       "      <td>14760.0</td>\n",
       "      <td>185.0</td>\n",
       "      <td>172.0</td>\n",
       "      <td>3.765700e+01</td>\n",
       "      <td>11.1</td>\n",
       "      <td>2.387750e+03</td>\n",
       "      <td>2.100000e-03</td>\n",
       "      <td>1.809400e+00</td>\n",
       "      <td>3.695400e+01</td>\n",
       "      <td>4.630000e+00</td>\n",
       "      <td>8.863600e-03</td>\n",
       "    </tr>\n",
       "    <tr>\n",
       "      <th>2015-12-11</th>\n",
       "      <td>1.488520e+01</td>\n",
       "      <td>14.63</td>\n",
       "      <td>21.33</td>\n",
       "      <td>3.765700e+01</td>\n",
       "      <td>2.170000e-02</td>\n",
       "      <td>2587.0</td>\n",
       "      <td>70.0</td>\n",
       "      <td>1.516500e+01</td>\n",
       "      <td>14760.0</td>\n",
       "      <td>185.0</td>\n",
       "      <td>172.0</td>\n",
       "      <td>3.765700e+01</td>\n",
       "      <td>11.1</td>\n",
       "      <td>2.387750e+03</td>\n",
       "      <td>2.100000e-03</td>\n",
       "      <td>1.809400e+00</td>\n",
       "      <td>3.695400e+01</td>\n",
       "      <td>4.630000e+00</td>\n",
       "      <td>8.571400e-03</td>\n",
       "    </tr>\n",
       "    <tr>\n",
       "      <th>...</th>\n",
       "      <td>...</td>\n",
       "      <td>...</td>\n",
       "      <td>...</td>\n",
       "      <td>...</td>\n",
       "      <td>...</td>\n",
       "      <td>...</td>\n",
       "      <td>...</td>\n",
       "      <td>...</td>\n",
       "      <td>...</td>\n",
       "      <td>...</td>\n",
       "      <td>...</td>\n",
       "      <td>...</td>\n",
       "      <td>...</td>\n",
       "      <td>...</td>\n",
       "      <td>...</td>\n",
       "      <td>...</td>\n",
       "      <td>...</td>\n",
       "      <td>...</td>\n",
       "      <td>...</td>\n",
       "    </tr>\n",
       "    <tr>\n",
       "      <th>2021-11-15</th>\n",
       "      <td>6.014640e+11</td>\n",
       "      <td>36.00</td>\n",
       "      <td>56.86</td>\n",
       "      <td>2.725926e+09</td>\n",
       "      <td>2.031504e+08</td>\n",
       "      <td>756.0</td>\n",
       "      <td>0.0</td>\n",
       "      <td>1.325000e+09</td>\n",
       "      <td>11102.0</td>\n",
       "      <td>0.0</td>\n",
       "      <td>1575.3</td>\n",
       "      <td>2.725926e+09</td>\n",
       "      <td>6.8</td>\n",
       "      <td>1.184882e+11</td>\n",
       "      <td>2.210425e+06</td>\n",
       "      <td>2.512177e+09</td>\n",
       "      <td>2.720677e+09</td>\n",
       "      <td>2.392883e+13</td>\n",
       "      <td>4.540000e+06</td>\n",
       "    </tr>\n",
       "    <tr>\n",
       "      <th>2021-11-16</th>\n",
       "      <td>5.973510e+11</td>\n",
       "      <td>36.00</td>\n",
       "      <td>56.86</td>\n",
       "      <td>2.725926e+09</td>\n",
       "      <td>2.031504e+08</td>\n",
       "      <td>756.0</td>\n",
       "      <td>0.0</td>\n",
       "      <td>1.325000e+09</td>\n",
       "      <td>11102.0</td>\n",
       "      <td>0.0</td>\n",
       "      <td>1575.3</td>\n",
       "      <td>2.725926e+09</td>\n",
       "      <td>6.8</td>\n",
       "      <td>1.184882e+11</td>\n",
       "      <td>2.210425e+06</td>\n",
       "      <td>2.512177e+09</td>\n",
       "      <td>2.720677e+09</td>\n",
       "      <td>2.392883e+13</td>\n",
       "      <td>4.610000e+06</td>\n",
       "    </tr>\n",
       "    <tr>\n",
       "      <th>2021-11-17</th>\n",
       "      <td>5.962450e+11</td>\n",
       "      <td>36.00</td>\n",
       "      <td>56.86</td>\n",
       "      <td>2.725926e+09</td>\n",
       "      <td>2.031504e+08</td>\n",
       "      <td>756.0</td>\n",
       "      <td>0.0</td>\n",
       "      <td>1.325000e+09</td>\n",
       "      <td>11102.0</td>\n",
       "      <td>0.0</td>\n",
       "      <td>1575.3</td>\n",
       "      <td>2.725926e+09</td>\n",
       "      <td>6.8</td>\n",
       "      <td>1.184882e+11</td>\n",
       "      <td>2.210425e+06</td>\n",
       "      <td>2.512177e+09</td>\n",
       "      <td>2.720677e+09</td>\n",
       "      <td>2.392883e+13</td>\n",
       "      <td>4.690000e+06</td>\n",
       "    </tr>\n",
       "    <tr>\n",
       "      <th>2021-11-18</th>\n",
       "      <td>5.968420e+11</td>\n",
       "      <td>36.00</td>\n",
       "      <td>56.86</td>\n",
       "      <td>2.725926e+09</td>\n",
       "      <td>2.031504e+08</td>\n",
       "      <td>756.0</td>\n",
       "      <td>0.0</td>\n",
       "      <td>1.325000e+09</td>\n",
       "      <td>11102.0</td>\n",
       "      <td>0.0</td>\n",
       "      <td>1575.3</td>\n",
       "      <td>2.725926e+09</td>\n",
       "      <td>6.8</td>\n",
       "      <td>1.184882e+11</td>\n",
       "      <td>2.210425e+06</td>\n",
       "      <td>2.512177e+09</td>\n",
       "      <td>2.720677e+09</td>\n",
       "      <td>2.392883e+13</td>\n",
       "      <td>4.820000e+06</td>\n",
       "    </tr>\n",
       "    <tr>\n",
       "      <th>2021-11-19</th>\n",
       "      <td>5.998970e+11</td>\n",
       "      <td>36.00</td>\n",
       "      <td>56.86</td>\n",
       "      <td>2.725926e+09</td>\n",
       "      <td>2.031504e+08</td>\n",
       "      <td>756.0</td>\n",
       "      <td>0.0</td>\n",
       "      <td>1.325000e+09</td>\n",
       "      <td>11102.0</td>\n",
       "      <td>0.0</td>\n",
       "      <td>1575.3</td>\n",
       "      <td>2.725926e+09</td>\n",
       "      <td>6.8</td>\n",
       "      <td>1.184882e+11</td>\n",
       "      <td>2.210425e+06</td>\n",
       "      <td>2.512177e+09</td>\n",
       "      <td>2.720677e+09</td>\n",
       "      <td>2.392883e+13</td>\n",
       "      <td>4.820000e+06</td>\n",
       "    </tr>\n",
       "  </tbody>\n",
       "</table>\n",
       "<p>2175 rows × 19 columns</p>\n",
       "</div>"
      ],
      "text/plain": [
       "            Stock_Market  Deposit_Interest_Rate  Interest_Rate  \\\n",
       "Unnamed: 0                                                       \n",
       "2015-12-07           NaN                    NaN            NaN   \n",
       "2015-12-08  1.311730e+01                  14.89          21.33   \n",
       "2015-12-09  1.420820e+01                  15.09          21.33   \n",
       "2015-12-10  1.465480e+01                  15.04          21.33   \n",
       "2015-12-11  1.488520e+01                  14.63          21.33   \n",
       "...                  ...                    ...            ...   \n",
       "2021-11-15  6.014640e+11                  36.00          56.86   \n",
       "2021-11-16  5.973510e+11                  36.00          56.86   \n",
       "2021-11-17  5.962450e+11                  36.00          56.86   \n",
       "2021-11-18  5.968420e+11                  36.00          56.86   \n",
       "2021-11-19  5.998970e+11                  36.00          56.86   \n",
       "\n",
       "            Money_Supply_M3  Central_Bank_Balance_Sheet  Crude_Oil_Production  \\\n",
       "Unnamed: 0                                                                      \n",
       "2015-12-07              NaN                         NaN                   NaN   \n",
       "2015-12-08     3.765700e+01                2.170000e-02                2587.0   \n",
       "2015-12-09     3.765700e+01                2.170000e-02                2587.0   \n",
       "2015-12-10     3.765700e+01                2.170000e-02                2587.0   \n",
       "2015-12-11     3.765700e+01                2.170000e-02                2587.0   \n",
       "...                     ...                         ...                   ...   \n",
       "2021-11-15     2.725926e+09                2.031504e+08                 756.0   \n",
       "2021-11-16     2.725926e+09                2.031504e+08                 756.0   \n",
       "2021-11-17     2.725926e+09                2.031504e+08                 756.0   \n",
       "2021-11-18     2.725926e+09                2.031504e+08                 756.0   \n",
       "2021-11-19     2.725926e+09                2.031504e+08                 756.0   \n",
       "\n",
       "            Crude_Oil_Rig  Money_Supply_M0  Foreign_Exchange_Reserve  \\\n",
       "Unnamed: 0                                                             \n",
       "2015-12-07            NaN              NaN                       NaN   \n",
       "2015-12-08           70.0     1.516500e+01                   14760.0   \n",
       "2015-12-09           70.0     1.516500e+01                   14760.0   \n",
       "2015-12-10           70.0     1.516500e+01                   14760.0   \n",
       "2015-12-11           70.0     1.516500e+01                   14760.0   \n",
       "...                   ...              ...                       ...   \n",
       "2021-11-15            0.0     1.325000e+09                   11102.0   \n",
       "2021-11-16            0.0     1.325000e+09                   11102.0   \n",
       "2021-11-17            0.0     1.325000e+09                   11102.0   \n",
       "2021-11-18            0.0     1.325000e+09                   11102.0   \n",
       "2021-11-19            0.0     1.325000e+09                   11102.0   \n",
       "\n",
       "            External_Debt  Inflation_Rate  Money_Supply_M2  \\\n",
       "Unnamed: 0                                                   \n",
       "2015-12-07            NaN             NaN              NaN   \n",
       "2015-12-08          185.0           172.0     3.765700e+01   \n",
       "2015-12-09          185.0           172.0     3.765700e+01   \n",
       "2015-12-10          185.0           172.0     3.765700e+01   \n",
       "2015-12-11          185.0           172.0     3.765700e+01   \n",
       "...                   ...             ...              ...   \n",
       "2021-11-15            0.0          1575.3     2.725926e+09   \n",
       "2021-11-16            0.0          1575.3     2.725926e+09   \n",
       "2021-11-17            0.0          1575.3     2.725926e+09   \n",
       "2021-11-18            0.0          1575.3     2.725926e+09   \n",
       "2021-11-19            0.0          1575.3     2.725926e+09   \n",
       "\n",
       "            Inflation_Rate_Mom  Private_Sector_Credit  \\\n",
       "Unnamed: 0                                              \n",
       "2015-12-07                 NaN                    NaN   \n",
       "2015-12-08                11.1           2.387750e+03   \n",
       "2015-12-09                11.1           2.387750e+03   \n",
       "2015-12-10                11.1           2.387750e+03   \n",
       "2015-12-11                11.1           2.387750e+03   \n",
       "...                        ...                    ...   \n",
       "2021-11-15                 6.8           1.184882e+11   \n",
       "2021-11-16                 6.8           1.184882e+11   \n",
       "2021-11-17                 6.8           1.184882e+11   \n",
       "2021-11-18                 6.8           1.184882e+11   \n",
       "2021-11-19                 6.8           1.184882e+11   \n",
       "\n",
       "            Consumer_Price_Index_CPI  CPI_Transportation  Money_Supply_M1  \\\n",
       "Unnamed: 0                                                                  \n",
       "2015-12-07                       NaN                 NaN              NaN   \n",
       "2015-12-08              2.100000e-03        1.809400e+00     3.695400e+01   \n",
       "2015-12-09              2.100000e-03        1.809400e+00     3.695400e+01   \n",
       "2015-12-10              2.100000e-03        1.809400e+00     3.695400e+01   \n",
       "2015-12-11              2.100000e-03        1.809400e+00     3.695400e+01   \n",
       "...                              ...                 ...              ...   \n",
       "2021-11-15              2.210425e+06        2.512177e+09     2.720677e+09   \n",
       "2021-11-16              2.210425e+06        2.512177e+09     2.720677e+09   \n",
       "2021-11-17              2.210425e+06        2.512177e+09     2.720677e+09   \n",
       "2021-11-18              2.210425e+06        2.512177e+09     2.720677e+09   \n",
       "2021-11-19              2.210425e+06        2.512177e+09     2.720677e+09   \n",
       "\n",
       "            Banks_Balance_Sheet    Dolartoday  \n",
       "Unnamed: 0                                     \n",
       "2015-12-07                  NaN           NaN  \n",
       "2015-12-08         4.630000e+00  9.062500e-03  \n",
       "2015-12-09         4.630000e+00  9.093800e-03  \n",
       "2015-12-10         4.630000e+00  8.863600e-03  \n",
       "2015-12-11         4.630000e+00  8.571400e-03  \n",
       "...                         ...           ...  \n",
       "2021-11-15         2.392883e+13  4.540000e+06  \n",
       "2021-11-16         2.392883e+13  4.610000e+06  \n",
       "2021-11-17         2.392883e+13  4.690000e+06  \n",
       "2021-11-18         2.392883e+13  4.820000e+06  \n",
       "2021-11-19         2.392883e+13  4.820000e+06  \n",
       "\n",
       "[2175 rows x 19 columns]"
      ]
     },
     "execution_count": 14,
     "metadata": {},
     "output_type": "execute_result"
    }
   ],
   "source": [
    "y_pred = df_test.shift(1)\n",
    "y_pred"
   ]
  },
  {
   "cell_type": "code",
   "execution_count": 15,
   "id": "7ad18ccc",
   "metadata": {
    "collapsed": true
   },
   "outputs": [
    {
     "data": {
      "text/html": [
       "<div>\n",
       "<style scoped>\n",
       "    .dataframe tbody tr th:only-of-type {\n",
       "        vertical-align: middle;\n",
       "    }\n",
       "\n",
       "    .dataframe tbody tr th {\n",
       "        vertical-align: top;\n",
       "    }\n",
       "\n",
       "    .dataframe thead th {\n",
       "        text-align: right;\n",
       "    }\n",
       "</style>\n",
       "<table border=\"1\" class=\"dataframe\">\n",
       "  <thead>\n",
       "    <tr style=\"text-align: right;\">\n",
       "      <th></th>\n",
       "      <th>Stock_Market</th>\n",
       "      <th>Deposit_Interest_Rate</th>\n",
       "      <th>Interest_Rate</th>\n",
       "      <th>Money_Supply_M3</th>\n",
       "      <th>Central_Bank_Balance_Sheet</th>\n",
       "      <th>Crude_Oil_Production</th>\n",
       "      <th>Crude_Oil_Rig</th>\n",
       "      <th>Money_Supply_M0</th>\n",
       "      <th>Foreign_Exchange_Reserve</th>\n",
       "      <th>External_Debt</th>\n",
       "      <th>Inflation_Rate</th>\n",
       "      <th>Money_Supply_M2</th>\n",
       "      <th>Inflation_Rate_Mom</th>\n",
       "      <th>Private_Sector_Credit</th>\n",
       "      <th>Consumer_Price_Index_CPI</th>\n",
       "      <th>CPI_Transportation</th>\n",
       "      <th>Money_Supply_M1</th>\n",
       "      <th>Banks_Balance_Sheet</th>\n",
       "      <th>Dolartoday</th>\n",
       "    </tr>\n",
       "    <tr>\n",
       "      <th>Unnamed: 0</th>\n",
       "      <th></th>\n",
       "      <th></th>\n",
       "      <th></th>\n",
       "      <th></th>\n",
       "      <th></th>\n",
       "      <th></th>\n",
       "      <th></th>\n",
       "      <th></th>\n",
       "      <th></th>\n",
       "      <th></th>\n",
       "      <th></th>\n",
       "      <th></th>\n",
       "      <th></th>\n",
       "      <th></th>\n",
       "      <th></th>\n",
       "      <th></th>\n",
       "      <th></th>\n",
       "      <th></th>\n",
       "      <th></th>\n",
       "    </tr>\n",
       "  </thead>\n",
       "  <tbody>\n",
       "    <tr>\n",
       "      <th>2015-12-07</th>\n",
       "      <td>1.311730e+01</td>\n",
       "      <td>14.89</td>\n",
       "      <td>21.33</td>\n",
       "      <td>3.765700e+01</td>\n",
       "      <td>2.170000e-02</td>\n",
       "      <td>2587.0</td>\n",
       "      <td>70.0</td>\n",
       "      <td>1.516500e+01</td>\n",
       "      <td>14760.0</td>\n",
       "      <td>185.0</td>\n",
       "      <td>172.0</td>\n",
       "      <td>3.765700e+01</td>\n",
       "      <td>11.1</td>\n",
       "      <td>2.387750e+03</td>\n",
       "      <td>2.100000e-03</td>\n",
       "      <td>1.809400e+00</td>\n",
       "      <td>3.695400e+01</td>\n",
       "      <td>4.630000e+00</td>\n",
       "      <td>9.062500e-03</td>\n",
       "    </tr>\n",
       "    <tr>\n",
       "      <th>2015-12-08</th>\n",
       "      <td>1.420820e+01</td>\n",
       "      <td>15.09</td>\n",
       "      <td>21.33</td>\n",
       "      <td>3.765700e+01</td>\n",
       "      <td>2.170000e-02</td>\n",
       "      <td>2587.0</td>\n",
       "      <td>70.0</td>\n",
       "      <td>1.516500e+01</td>\n",
       "      <td>14760.0</td>\n",
       "      <td>185.0</td>\n",
       "      <td>172.0</td>\n",
       "      <td>3.765700e+01</td>\n",
       "      <td>11.1</td>\n",
       "      <td>2.387750e+03</td>\n",
       "      <td>2.100000e-03</td>\n",
       "      <td>1.809400e+00</td>\n",
       "      <td>3.695400e+01</td>\n",
       "      <td>4.630000e+00</td>\n",
       "      <td>9.093800e-03</td>\n",
       "    </tr>\n",
       "    <tr>\n",
       "      <th>2015-12-09</th>\n",
       "      <td>1.465480e+01</td>\n",
       "      <td>15.04</td>\n",
       "      <td>21.33</td>\n",
       "      <td>3.765700e+01</td>\n",
       "      <td>2.170000e-02</td>\n",
       "      <td>2587.0</td>\n",
       "      <td>70.0</td>\n",
       "      <td>1.516500e+01</td>\n",
       "      <td>14760.0</td>\n",
       "      <td>185.0</td>\n",
       "      <td>172.0</td>\n",
       "      <td>3.765700e+01</td>\n",
       "      <td>11.1</td>\n",
       "      <td>2.387750e+03</td>\n",
       "      <td>2.100000e-03</td>\n",
       "      <td>1.809400e+00</td>\n",
       "      <td>3.695400e+01</td>\n",
       "      <td>4.630000e+00</td>\n",
       "      <td>8.863600e-03</td>\n",
       "    </tr>\n",
       "    <tr>\n",
       "      <th>2015-12-10</th>\n",
       "      <td>1.488520e+01</td>\n",
       "      <td>14.63</td>\n",
       "      <td>21.33</td>\n",
       "      <td>3.765700e+01</td>\n",
       "      <td>2.170000e-02</td>\n",
       "      <td>2587.0</td>\n",
       "      <td>70.0</td>\n",
       "      <td>1.516500e+01</td>\n",
       "      <td>14760.0</td>\n",
       "      <td>185.0</td>\n",
       "      <td>172.0</td>\n",
       "      <td>3.765700e+01</td>\n",
       "      <td>11.1</td>\n",
       "      <td>2.387750e+03</td>\n",
       "      <td>2.100000e-03</td>\n",
       "      <td>1.809400e+00</td>\n",
       "      <td>3.695400e+01</td>\n",
       "      <td>4.630000e+00</td>\n",
       "      <td>8.571400e-03</td>\n",
       "    </tr>\n",
       "    <tr>\n",
       "      <th>2015-12-11</th>\n",
       "      <td>1.500530e+01</td>\n",
       "      <td>14.72</td>\n",
       "      <td>21.33</td>\n",
       "      <td>3.765700e+01</td>\n",
       "      <td>2.170000e-02</td>\n",
       "      <td>2587.0</td>\n",
       "      <td>70.0</td>\n",
       "      <td>1.516500e+01</td>\n",
       "      <td>14760.0</td>\n",
       "      <td>185.0</td>\n",
       "      <td>172.0</td>\n",
       "      <td>3.765700e+01</td>\n",
       "      <td>11.1</td>\n",
       "      <td>2.387750e+03</td>\n",
       "      <td>2.100000e-03</td>\n",
       "      <td>1.809400e+00</td>\n",
       "      <td>3.695400e+01</td>\n",
       "      <td>4.630000e+00</td>\n",
       "      <td>8.571400e-03</td>\n",
       "    </tr>\n",
       "    <tr>\n",
       "      <th>...</th>\n",
       "      <td>...</td>\n",
       "      <td>...</td>\n",
       "      <td>...</td>\n",
       "      <td>...</td>\n",
       "      <td>...</td>\n",
       "      <td>...</td>\n",
       "      <td>...</td>\n",
       "      <td>...</td>\n",
       "      <td>...</td>\n",
       "      <td>...</td>\n",
       "      <td>...</td>\n",
       "      <td>...</td>\n",
       "      <td>...</td>\n",
       "      <td>...</td>\n",
       "      <td>...</td>\n",
       "      <td>...</td>\n",
       "      <td>...</td>\n",
       "      <td>...</td>\n",
       "      <td>...</td>\n",
       "    </tr>\n",
       "    <tr>\n",
       "      <th>2021-11-15</th>\n",
       "      <td>5.973510e+11</td>\n",
       "      <td>36.00</td>\n",
       "      <td>56.86</td>\n",
       "      <td>2.725926e+09</td>\n",
       "      <td>2.031504e+08</td>\n",
       "      <td>756.0</td>\n",
       "      <td>0.0</td>\n",
       "      <td>1.325000e+09</td>\n",
       "      <td>11102.0</td>\n",
       "      <td>0.0</td>\n",
       "      <td>1575.3</td>\n",
       "      <td>2.725926e+09</td>\n",
       "      <td>6.8</td>\n",
       "      <td>1.184882e+11</td>\n",
       "      <td>2.210425e+06</td>\n",
       "      <td>2.512177e+09</td>\n",
       "      <td>2.720677e+09</td>\n",
       "      <td>2.392883e+13</td>\n",
       "      <td>4.610000e+06</td>\n",
       "    </tr>\n",
       "    <tr>\n",
       "      <th>2021-11-16</th>\n",
       "      <td>5.962450e+11</td>\n",
       "      <td>36.00</td>\n",
       "      <td>56.86</td>\n",
       "      <td>2.725926e+09</td>\n",
       "      <td>2.031504e+08</td>\n",
       "      <td>756.0</td>\n",
       "      <td>0.0</td>\n",
       "      <td>1.325000e+09</td>\n",
       "      <td>11102.0</td>\n",
       "      <td>0.0</td>\n",
       "      <td>1575.3</td>\n",
       "      <td>2.725926e+09</td>\n",
       "      <td>6.8</td>\n",
       "      <td>1.184882e+11</td>\n",
       "      <td>2.210425e+06</td>\n",
       "      <td>2.512177e+09</td>\n",
       "      <td>2.720677e+09</td>\n",
       "      <td>2.392883e+13</td>\n",
       "      <td>4.690000e+06</td>\n",
       "    </tr>\n",
       "    <tr>\n",
       "      <th>2021-11-17</th>\n",
       "      <td>5.968420e+11</td>\n",
       "      <td>36.00</td>\n",
       "      <td>56.86</td>\n",
       "      <td>2.725926e+09</td>\n",
       "      <td>2.031504e+08</td>\n",
       "      <td>756.0</td>\n",
       "      <td>0.0</td>\n",
       "      <td>1.325000e+09</td>\n",
       "      <td>11102.0</td>\n",
       "      <td>0.0</td>\n",
       "      <td>1575.3</td>\n",
       "      <td>2.725926e+09</td>\n",
       "      <td>6.8</td>\n",
       "      <td>1.184882e+11</td>\n",
       "      <td>2.210425e+06</td>\n",
       "      <td>2.512177e+09</td>\n",
       "      <td>2.720677e+09</td>\n",
       "      <td>2.392883e+13</td>\n",
       "      <td>4.820000e+06</td>\n",
       "    </tr>\n",
       "    <tr>\n",
       "      <th>2021-11-18</th>\n",
       "      <td>5.998970e+11</td>\n",
       "      <td>36.00</td>\n",
       "      <td>56.86</td>\n",
       "      <td>2.725926e+09</td>\n",
       "      <td>2.031504e+08</td>\n",
       "      <td>756.0</td>\n",
       "      <td>0.0</td>\n",
       "      <td>1.325000e+09</td>\n",
       "      <td>11102.0</td>\n",
       "      <td>0.0</td>\n",
       "      <td>1575.3</td>\n",
       "      <td>2.725926e+09</td>\n",
       "      <td>6.8</td>\n",
       "      <td>1.184882e+11</td>\n",
       "      <td>2.210425e+06</td>\n",
       "      <td>2.512177e+09</td>\n",
       "      <td>2.720677e+09</td>\n",
       "      <td>2.392883e+13</td>\n",
       "      <td>4.820000e+06</td>\n",
       "    </tr>\n",
       "    <tr>\n",
       "      <th>2021-11-19</th>\n",
       "      <td>6.043920e+11</td>\n",
       "      <td>36.00</td>\n",
       "      <td>56.86</td>\n",
       "      <td>2.725926e+09</td>\n",
       "      <td>2.031504e+08</td>\n",
       "      <td>756.0</td>\n",
       "      <td>0.0</td>\n",
       "      <td>1.325000e+09</td>\n",
       "      <td>11102.0</td>\n",
       "      <td>0.0</td>\n",
       "      <td>1575.3</td>\n",
       "      <td>2.725926e+09</td>\n",
       "      <td>6.8</td>\n",
       "      <td>1.184882e+11</td>\n",
       "      <td>2.210425e+06</td>\n",
       "      <td>2.512177e+09</td>\n",
       "      <td>2.720677e+09</td>\n",
       "      <td>2.392883e+13</td>\n",
       "      <td>4.820000e+06</td>\n",
       "    </tr>\n",
       "  </tbody>\n",
       "</table>\n",
       "<p>2175 rows × 19 columns</p>\n",
       "</div>"
      ],
      "text/plain": [
       "            Stock_Market  Deposit_Interest_Rate  Interest_Rate  \\\n",
       "Unnamed: 0                                                       \n",
       "2015-12-07  1.311730e+01                  14.89          21.33   \n",
       "2015-12-08  1.420820e+01                  15.09          21.33   \n",
       "2015-12-09  1.465480e+01                  15.04          21.33   \n",
       "2015-12-10  1.488520e+01                  14.63          21.33   \n",
       "2015-12-11  1.500530e+01                  14.72          21.33   \n",
       "...                  ...                    ...            ...   \n",
       "2021-11-15  5.973510e+11                  36.00          56.86   \n",
       "2021-11-16  5.962450e+11                  36.00          56.86   \n",
       "2021-11-17  5.968420e+11                  36.00          56.86   \n",
       "2021-11-18  5.998970e+11                  36.00          56.86   \n",
       "2021-11-19  6.043920e+11                  36.00          56.86   \n",
       "\n",
       "            Money_Supply_M3  Central_Bank_Balance_Sheet  Crude_Oil_Production  \\\n",
       "Unnamed: 0                                                                      \n",
       "2015-12-07     3.765700e+01                2.170000e-02                2587.0   \n",
       "2015-12-08     3.765700e+01                2.170000e-02                2587.0   \n",
       "2015-12-09     3.765700e+01                2.170000e-02                2587.0   \n",
       "2015-12-10     3.765700e+01                2.170000e-02                2587.0   \n",
       "2015-12-11     3.765700e+01                2.170000e-02                2587.0   \n",
       "...                     ...                         ...                   ...   \n",
       "2021-11-15     2.725926e+09                2.031504e+08                 756.0   \n",
       "2021-11-16     2.725926e+09                2.031504e+08                 756.0   \n",
       "2021-11-17     2.725926e+09                2.031504e+08                 756.0   \n",
       "2021-11-18     2.725926e+09                2.031504e+08                 756.0   \n",
       "2021-11-19     2.725926e+09                2.031504e+08                 756.0   \n",
       "\n",
       "            Crude_Oil_Rig  Money_Supply_M0  Foreign_Exchange_Reserve  \\\n",
       "Unnamed: 0                                                             \n",
       "2015-12-07           70.0     1.516500e+01                   14760.0   \n",
       "2015-12-08           70.0     1.516500e+01                   14760.0   \n",
       "2015-12-09           70.0     1.516500e+01                   14760.0   \n",
       "2015-12-10           70.0     1.516500e+01                   14760.0   \n",
       "2015-12-11           70.0     1.516500e+01                   14760.0   \n",
       "...                   ...              ...                       ...   \n",
       "2021-11-15            0.0     1.325000e+09                   11102.0   \n",
       "2021-11-16            0.0     1.325000e+09                   11102.0   \n",
       "2021-11-17            0.0     1.325000e+09                   11102.0   \n",
       "2021-11-18            0.0     1.325000e+09                   11102.0   \n",
       "2021-11-19            0.0     1.325000e+09                   11102.0   \n",
       "\n",
       "            External_Debt  Inflation_Rate  Money_Supply_M2  \\\n",
       "Unnamed: 0                                                   \n",
       "2015-12-07          185.0           172.0     3.765700e+01   \n",
       "2015-12-08          185.0           172.0     3.765700e+01   \n",
       "2015-12-09          185.0           172.0     3.765700e+01   \n",
       "2015-12-10          185.0           172.0     3.765700e+01   \n",
       "2015-12-11          185.0           172.0     3.765700e+01   \n",
       "...                   ...             ...              ...   \n",
       "2021-11-15            0.0          1575.3     2.725926e+09   \n",
       "2021-11-16            0.0          1575.3     2.725926e+09   \n",
       "2021-11-17            0.0          1575.3     2.725926e+09   \n",
       "2021-11-18            0.0          1575.3     2.725926e+09   \n",
       "2021-11-19            0.0          1575.3     2.725926e+09   \n",
       "\n",
       "            Inflation_Rate_Mom  Private_Sector_Credit  \\\n",
       "Unnamed: 0                                              \n",
       "2015-12-07                11.1           2.387750e+03   \n",
       "2015-12-08                11.1           2.387750e+03   \n",
       "2015-12-09                11.1           2.387750e+03   \n",
       "2015-12-10                11.1           2.387750e+03   \n",
       "2015-12-11                11.1           2.387750e+03   \n",
       "...                        ...                    ...   \n",
       "2021-11-15                 6.8           1.184882e+11   \n",
       "2021-11-16                 6.8           1.184882e+11   \n",
       "2021-11-17                 6.8           1.184882e+11   \n",
       "2021-11-18                 6.8           1.184882e+11   \n",
       "2021-11-19                 6.8           1.184882e+11   \n",
       "\n",
       "            Consumer_Price_Index_CPI  CPI_Transportation  Money_Supply_M1  \\\n",
       "Unnamed: 0                                                                  \n",
       "2015-12-07              2.100000e-03        1.809400e+00     3.695400e+01   \n",
       "2015-12-08              2.100000e-03        1.809400e+00     3.695400e+01   \n",
       "2015-12-09              2.100000e-03        1.809400e+00     3.695400e+01   \n",
       "2015-12-10              2.100000e-03        1.809400e+00     3.695400e+01   \n",
       "2015-12-11              2.100000e-03        1.809400e+00     3.695400e+01   \n",
       "...                              ...                 ...              ...   \n",
       "2021-11-15              2.210425e+06        2.512177e+09     2.720677e+09   \n",
       "2021-11-16              2.210425e+06        2.512177e+09     2.720677e+09   \n",
       "2021-11-17              2.210425e+06        2.512177e+09     2.720677e+09   \n",
       "2021-11-18              2.210425e+06        2.512177e+09     2.720677e+09   \n",
       "2021-11-19              2.210425e+06        2.512177e+09     2.720677e+09   \n",
       "\n",
       "            Banks_Balance_Sheet    Dolartoday  \n",
       "Unnamed: 0                                     \n",
       "2015-12-07         4.630000e+00  9.062500e-03  \n",
       "2015-12-08         4.630000e+00  9.093800e-03  \n",
       "2015-12-09         4.630000e+00  8.863600e-03  \n",
       "2015-12-10         4.630000e+00  8.571400e-03  \n",
       "2015-12-11         4.630000e+00  8.571400e-03  \n",
       "...                         ...           ...  \n",
       "2021-11-15         2.392883e+13  4.610000e+06  \n",
       "2021-11-16         2.392883e+13  4.690000e+06  \n",
       "2021-11-17         2.392883e+13  4.820000e+06  \n",
       "2021-11-18         2.392883e+13  4.820000e+06  \n",
       "2021-11-19         2.392883e+13  4.820000e+06  \n",
       "\n",
       "[2175 rows x 19 columns]"
      ]
     },
     "execution_count": 15,
     "metadata": {},
     "output_type": "execute_result"
    }
   ],
   "source": [
    "df_test"
   ]
  },
  {
   "cell_type": "markdown",
   "id": "06c0ce3b",
   "metadata": {},
   "source": [
    "### y_pross"
   ]
  },
  {
   "cell_type": "code",
   "execution_count": 16,
   "id": "e1e556d2",
   "metadata": {},
   "outputs": [
    {
     "data": {
      "text/plain": [
       "[<matplotlib.lines.Line2D at 0x14eecb580>]"
      ]
     },
     "execution_count": 16,
     "metadata": {},
     "output_type": "execute_result"
    },
    {
     "data": {
      "image/png": "[encoded data removed]",
      "text/plain": [
       "<Figure size 432x288 with 1 Axes>"
      ]
     },
     "metadata": {
      "needs_background": "light"
     },
     "output_type": "display_data"
    }
   ],
   "source": [
    "plt.plot(df_test['Dolartoday'].pct_change() + 1)"
   ]
  },
  {
   "cell_type": "code",
   "execution_count": 17,
   "id": "5504d1e3",
   "metadata": {},
   "outputs": [],
   "source": [
    "from sklearn.metrics import r2_score\n",
    "\n",
    "#y_pross = np.log(df_test['Dolartoday']/df_test['Dolartoday'].shift(1))[1:]\n",
    "y_pross = np.log(df_test['Dolartoday'])\n",
    "\n",
    "#y_pross = np.log(df_test['Dolartoday']).diff()\n",
    "y_true = df_test[1:]\n",
    "#print(f\"R2:{r2_score(y_true, y_pred)}\")"
   ]
  },
  {
   "cell_type": "code",
   "execution_count": 19,
   "id": "ebf4a0a0",
   "metadata": {},
   "outputs": [
    {
     "data": {
      "text/plain": [
       "41325"
      ]
     },
     "execution_count": 19,
     "metadata": {},
     "output_type": "execute_result"
    }
   ],
   "source": [
    "y_pred.size"
   ]
  },
  {
   "cell_type": "code",
   "execution_count": 20,
   "id": "7491d834",
   "metadata": {},
   "outputs": [
    {
     "data": {
      "text/plain": [
       "41306"
      ]
     },
     "execution_count": 20,
     "metadata": {},
     "output_type": "execute_result"
    }
   ],
   "source": [
    "y_true.size"
   ]
  },
  {
   "cell_type": "markdown",
   "id": "d500a69e",
   "metadata": {},
   "source": [
    "#### Correlation"
   ]
  },
  {
   "cell_type": "code",
   "execution_count": 22,
   "id": "d6d35c36",
   "metadata": {},
   "outputs": [
    {
     "data": {
      "image/png": "[encoded data removed]",
      "text/plain": [
       "<Figure size 1152x216 with 2 Axes>"
      ]
     },
     "metadata": {
      "needs_background": "light"
     },
     "output_type": "display_data"
    }
   ],
   "source": [
    "fig, axes = plt.subplots(1,2, figsize=(16,3))\n",
    "plot_acf(y_pross.dropna(), lags=30, ax=axes[0]);\n",
    "plot_pacf(y_pross.dropna(), lags=50, ax=axes[1], color='r');"
   ]
  },
  {
   "cell_type": "code",
   "execution_count": 23,
   "id": "5e4c4716",
   "metadata": {},
   "outputs": [
    {
     "data": {
      "image/png": "[encoded data removed]",
      "text/plain": [
       "<Figure size 1440x288 with 3 Axes>"
      ]
     },
     "metadata": {
      "needs_background": "light"
     },
     "output_type": "display_data"
    }
   ],
   "source": [
    "# Let's check the first diffs\n",
    "zero_diff = y_pross\n",
    "first_order_diff = y_pross.diff(1)\n",
    "second_order_diff = y_pross.diff(1).diff(1)\n",
    "\n",
    "\n",
    "fig, (ax1, ax2, ax3) = plt.subplots(1, 3, figsize=(20,4))\n",
    "ax1.plot(zero_diff); ax1.set_title('1st Order Differencing')\n",
    "ax2.plot(first_order_diff); ax2.set_title('2st Order Differencing')\n",
    "ax3.plot(second_order_diff); ax3.set_title('3nd Order Differencing');"
   ]
  },
  {
   "cell_type": "code",
   "execution_count": 24,
   "id": "1ff46986",
   "metadata": {},
   "outputs": [],
   "source": [
    "from statsmodels.tsa.stattools import adfuller"
   ]
  },
  {
   "cell_type": "code",
   "execution_count": 25,
   "id": "50fca814",
   "metadata": {},
   "outputs": [
    {
     "data": {
      "image/png": "[encoded data removed]",
      "text/plain": [
       "<Figure size 1152x180 with 3 Axes>"
      ]
     },
     "metadata": {
      "needs_background": "light"
     },
     "output_type": "display_data"
    }
   ],
   "source": [
    "# ACF / PACF analysis of y_diff linearized\n",
    "fig, axes = plt.subplots(1,3, figsize=(16,2.5))\n",
    "axes[0].plot(y_pross[1:]); axes[0].set_title('1st Order Differencing')\n",
    "plot_acf(y_pross[1:], ax=axes[1]);\n",
    "plot_pacf(y_pross[1:], ax=axes[2], c='r');\n"
   ]
  },
  {
   "cell_type": "code",
   "execution_count": 26,
   "id": "fa590079",
   "metadata": {},
   "outputs": [
    {
     "data": {
      "text/plain": [
       "Unnamed: 0\n",
       "2015-12-07    -4.703610\n",
       "2015-12-08    -4.700162\n",
       "2015-12-09    -4.725802\n",
       "2015-12-10    -4.759324\n",
       "2015-12-11    -4.759324\n",
       "                ...    \n",
       "2021-11-15    15.343738\n",
       "2021-11-16    15.360943\n",
       "2021-11-17    15.388284\n",
       "2021-11-18    15.388284\n",
       "2021-11-19    15.388284\n",
       "Name: Dolartoday, Length: 2175, dtype: float64"
      ]
     },
     "execution_count": 26,
     "metadata": {},
     "output_type": "execute_result"
    }
   ],
   "source": [
    "y_pross"
   ]
  },
  {
   "cell_type": "markdown",
   "id": "69199885",
   "metadata": {},
   "source": [
    "#### Arima summary"
   ]
  },
  {
   "cell_type": "code",
   "execution_count": 112,
   "id": "0d5b015d",
   "metadata": {
    "scrolled": true
   },
   "outputs": [
    {
     "name": "stderr",
     "output_type": "stream",
     "text": [
      "/Users/arnauddeprest/.pyenv/versions/3.8.12/envs/venezuela_fx/lib/python3.8/site-packages/statsmodels/tsa/base/tsa_model.py:159: ValueWarning: No frequency information was provided, so inferred frequency D will be used.\n",
      "  warnings.warn('No frequency information was'\n",
      "/Users/arnauddeprest/.pyenv/versions/3.8.12/envs/venezuela_fx/lib/python3.8/site-packages/statsmodels/tsa/base/tsa_model.py:159: ValueWarning: No frequency information was provided, so inferred frequency D will be used.\n",
      "  warnings.warn('No frequency information was'\n"
     ]
    },
    {
     "name": "stdout",
     "output_type": "stream",
     "text": [
      "RUNNING THE L-BFGS-B CODE\n",
      "\n",
      "           * * *\n",
      "\n",
      "Machine precision = 2.220D-16\n",
      " N =            4     M =           12\n",
      "\n",
      "At X0         0 variables are exactly at the bounds\n",
      "\n",
      "At iterate    0    f= -1.73806D+00    |proj g|=  1.30197D+01\n",
      "\n",
      "At iterate    5    f= -1.73811D+00    |proj g|=  1.33549D-01\n",
      "\n",
      "At iterate   10    f= -1.73811D+00    |proj g|=  2.11696D+00\n",
      "\n",
      "At iterate   15    f= -1.73820D+00    |proj g|=  8.99843D+00\n",
      "\n",
      "At iterate   20    f= -1.73823D+00    |proj g|=  2.05989D-02\n",
      "\n",
      "At iterate   25    f= -1.73824D+00    |proj g|=  2.89825D+00\n"
     ]
    },
    {
     "name": "stderr",
     "output_type": "stream",
     "text": [
      " This problem is unconstrained.\n"
     ]
    },
    {
     "name": "stdout",
     "output_type": "stream",
     "text": [
      "\n",
      "At iterate   30    f= -1.73885D+00    |proj g|=  2.61549D+01\n",
      "\n",
      "At iterate   35    f= -1.73991D+00    |proj g|=  3.08918D+00\n",
      "\n",
      "At iterate   40    f= -1.73992D+00    |proj g|=  8.67122D-01\n",
      "\n",
      "At iterate   45    f= -1.73994D+00    |proj g|=  5.19583D-02\n",
      "\n",
      "           * * *\n",
      "\n",
      "Tit   = total number of iterations\n",
      "Tnf   = total number of function evaluations\n",
      "Tnint = total number of segments explored during Cauchy searches\n",
      "Skip  = number of BFGS updates skipped\n",
      "Nact  = number of active bounds at final generalized Cauchy point\n",
      "Projg = norm of the final projected gradient\n",
      "F     = final function value\n",
      "\n",
      "           * * *\n",
      "\n",
      "   N    Tit     Tnf  Tnint  Skip  Nact     Projg        F\n",
      "    4     47     72      1     0     0   3.998D-02  -1.740D+00\n",
      "  F =  -1.7399386024316235     \n",
      "\n",
      "CONVERGENCE: REL_REDUCTION_OF_F_<=_FACTR*EPSMCH             \n"
     ]
    },
    {
     "name": "stderr",
     "output_type": "stream",
     "text": [
      "\n",
      " Warning:  more than 10 function and gradient\n",
      "   evaluations in the last line search.  Termination\n",
      "   may possibly be caused by a bad search direction.\n"
     ]
    },
    {
     "data": {
      "text/html": [
       "<table class=\"simpletable\">\n",
       "<caption>ARIMA Model Results</caption>\n",
       "<tr>\n",
       "  <th>Dep. Variable:</th>   <td>D2.Dolartoday</td>  <th>  No. Observations:  </th>   <td>2173</td>   \n",
       "</tr>\n",
       "<tr>\n",
       "  <th>Model:</th>          <td>ARIMA(2, 2, 1)</td>  <th>  Log Likelihood     </th> <td>3780.887</td> \n",
       "</tr>\n",
       "<tr>\n",
       "  <th>Method:</th>             <td>css-mle</td>     <th>  S.D. of innovations</th>   <td>0.042</td>  \n",
       "</tr>\n",
       "<tr>\n",
       "  <th>Date:</th>          <td>Wed, 24 Nov 2021</td> <th>  AIC                </th> <td>-7551.773</td>\n",
       "</tr>\n",
       "<tr>\n",
       "  <th>Time:</th>              <td>16:28:07</td>     <th>  BIC                </th> <td>-7523.354</td>\n",
       "</tr>\n",
       "<tr>\n",
       "  <th>Sample:</th>           <td>12-09-2015</td>    <th>  HQIC               </th> <td>-7541.382</td>\n",
       "</tr>\n",
       "<tr>\n",
       "  <th></th>                 <td>- 11-19-2021</td>   <th>                     </th>     <td> </td>    \n",
       "</tr>\n",
       "</table>\n",
       "<table class=\"simpletable\">\n",
       "<tr>\n",
       "           <td></td>              <th>coef</th>     <th>std err</th>      <th>z</th>      <th>P>|z|</th>  <th>[0.025</th>    <th>0.975]</th>  \n",
       "</tr>\n",
       "<tr>\n",
       "  <th>const</th>               <td> 1.026e-06</td> <td> 7.04e-06</td> <td>    0.146</td> <td> 0.884</td> <td>-1.28e-05</td> <td> 1.48e-05</td>\n",
       "</tr>\n",
       "<tr>\n",
       "  <th>ar.L1.D2.Dolartoday</th> <td>    0.1131</td> <td>    0.022</td> <td>    5.251</td> <td> 0.000</td> <td>    0.071</td> <td>    0.155</td>\n",
       "</tr>\n",
       "<tr>\n",
       "  <th>ar.L2.D2.Dolartoday</th> <td>    0.0462</td> <td>    0.022</td> <td>    2.144</td> <td> 0.032</td> <td>    0.004</td> <td>    0.088</td>\n",
       "</tr>\n",
       "<tr>\n",
       "  <th>ma.L1.D2.Dolartoday</th> <td>   -0.9940</td> <td>    0.002</td> <td> -464.403</td> <td> 0.000</td> <td>   -0.998</td> <td>   -0.990</td>\n",
       "</tr>\n",
       "</table>\n",
       "<table class=\"simpletable\">\n",
       "<caption>Roots</caption>\n",
       "<tr>\n",
       "    <td></td>   <th>            Real</th>  <th>         Imaginary</th> <th>         Modulus</th>  <th>        Frequency</th>\n",
       "</tr>\n",
       "<tr>\n",
       "  <th>AR.1</th> <td>           3.5883</td> <td>          +0.0000j</td> <td>           3.5883</td> <td>           0.0000</td>\n",
       "</tr>\n",
       "<tr>\n",
       "  <th>AR.2</th> <td>          -6.0377</td> <td>          +0.0000j</td> <td>           6.0377</td> <td>           0.5000</td>\n",
       "</tr>\n",
       "<tr>\n",
       "  <th>MA.1</th> <td>           1.0060</td> <td>          +0.0000j</td> <td>           1.0060</td> <td>           0.0000</td>\n",
       "</tr>\n",
       "</table>"
      ],
      "text/plain": [
       "<class 'statsmodels.iolib.summary.Summary'>\n",
       "\"\"\"\n",
       "                             ARIMA Model Results                              \n",
       "==============================================================================\n",
       "Dep. Variable:          D2.Dolartoday   No. Observations:                 2173\n",
       "Model:                 ARIMA(2, 2, 1)   Log Likelihood                3780.887\n",
       "Method:                       css-mle   S.D. of innovations              0.042\n",
       "Date:                Wed, 24 Nov 2021   AIC                          -7551.773\n",
       "Time:                        16:28:07   BIC                          -7523.354\n",
       "Sample:                    12-09-2015   HQIC                         -7541.382\n",
       "                         - 11-19-2021                                         \n",
       "=======================================================================================\n",
       "                          coef    std err          z      P>|z|      [0.025      0.975]\n",
       "---------------------------------------------------------------------------------------\n",
       "const                1.026e-06   7.04e-06      0.146      0.884   -1.28e-05    1.48e-05\n",
       "ar.L1.D2.Dolartoday     0.1131      0.022      5.251      0.000       0.071       0.155\n",
       "ar.L2.D2.Dolartoday     0.0462      0.022      2.144      0.032       0.004       0.088\n",
       "ma.L1.D2.Dolartoday    -0.9940      0.002   -464.403      0.000      -0.998      -0.990\n",
       "                                    Roots                                    \n",
       "=============================================================================\n",
       "                  Real          Imaginary           Modulus         Frequency\n",
       "-----------------------------------------------------------------------------\n",
       "AR.1            3.5883           +0.0000j            3.5883            0.0000\n",
       "AR.2           -6.0377           +0.0000j            6.0377            0.5000\n",
       "MA.1            1.0060           +0.0000j            1.0060            0.0000\n",
       "-----------------------------------------------------------------------------\n",
       "\"\"\""
      ]
     },
     "execution_count": 112,
     "metadata": {},
     "output_type": "execute_result"
    }
   ],
   "source": [
    "#from statsmodels.tsa.arima.model.ARIMA import ARIMA #statsmodels 0.11\n",
    "#from statsmodels.tsa.arima.model import ARIMA #statsmodels 0.12\n",
    "from statsmodels.tsa.arima_model import ARIMA\n",
    "\n",
    "arima = ARIMA(y_pross, order=(2, 2, 1))\n",
    "\n",
    "# 2. fit the models\n",
    "arima = arima.fit()\n",
    "\n",
    "arima.summary()\n",
    "\n",
    "#arima = ARIMA(y_pred, order=(2,2,0))\n",
    "#arima = arima.fit()\n",
    "#arima.summary()"
   ]
  },
  {
   "cell_type": "code",
   "execution_count": 113,
   "id": "78a2e135",
   "metadata": {},
   "outputs": [
    {
     "name": "stdout",
     "output_type": "stream",
     "text": [
      "Performing stepwise search to minimize aic\n",
      " ARIMA(1,2,1)(0,0,0)[0] intercept   : AIC=inf, Time=1.08 sec\n",
      " ARIMA(0,2,0)(0,0,0)[0] intercept   : AIC=-6306.570, Time=0.12 sec\n",
      " ARIMA(1,2,0)(0,0,0)[0] intercept   : AIC=-6837.750, Time=0.08 sec\n",
      " ARIMA(0,2,1)(0,0,0)[0] intercept   : AIC=inf, Time=0.49 sec\n",
      " ARIMA(0,2,0)(0,0,0)[0]             : AIC=-6308.570, Time=0.03 sec\n",
      " ARIMA(2,2,0)(0,0,0)[0] intercept   : AIC=-7016.942, Time=0.09 sec\n",
      " ARIMA(2,2,1)(0,0,0)[0] intercept   : AIC=-7540.779, Time=0.88 sec\n",
      " ARIMA(2,2,2)(0,0,0)[0] intercept   : AIC=inf, Time=1.48 sec\n",
      " ARIMA(1,2,2)(0,0,0)[0] intercept   : AIC=inf, Time=1.00 sec\n",
      " ARIMA(2,2,1)(0,0,0)[0]             : AIC=inf, Time=0.34 sec\n",
      "\n",
      "Best model:  ARIMA(2,2,1)(0,0,0)[0] intercept\n",
      "Total fit time: 5.590 seconds\n"
     ]
    }
   ],
   "source": [
    "import pmdarima as pm\n",
    "smodel = pm.auto_arima(y_pross,\n",
    "                       start_p=1, max_p=2,\n",
    "                       start_q=1, max_q=2,\n",
    "                       seasonal=False,\n",
    "                       trace=True)"
   ]
  },
  {
   "cell_type": "markdown",
   "id": "9cac4e5b",
   "metadata": {},
   "source": [
    "### Prediction"
   ]
  },
  {
   "cell_type": "code",
   "execution_count": 114,
   "id": "2a6591ab",
   "metadata": {},
   "outputs": [],
   "source": [
    "import statsmodels.api as sm"
   ]
  },
  {
   "cell_type": "code",
   "execution_count": 115,
   "id": "afd3f473",
   "metadata": {},
   "outputs": [
    {
     "data": {
      "text/plain": [
       "2175"
      ]
     },
     "execution_count": 115,
     "metadata": {},
     "output_type": "execute_result"
    }
   ],
   "source": [
    "len(y_pross)"
   ]
  },
  {
   "cell_type": "code",
   "execution_count": 120,
   "id": "8ac997bb",
   "metadata": {},
   "outputs": [],
   "source": [
    "y_pred = arima.predict(start=2175-30)"
   ]
  },
  {
   "cell_type": "code",
   "execution_count": 123,
   "id": "280df795",
   "metadata": {
    "scrolled": true
   },
   "outputs": [
    {
     "data": {
      "text/plain": [
       "2021-10-21   -0.016787\n",
       "2021-10-22    0.004799\n",
       "2021-10-23    0.003685\n",
       "2021-10-24    0.003663\n",
       "2021-10-25   -0.000446\n",
       "2021-10-26   -0.004259\n",
       "2021-10-27   -0.043108\n",
       "2021-10-28   -0.003120\n",
       "2021-10-29    0.021668\n",
       "2021-10-30    0.002920\n",
       "2021-10-31    0.003805\n",
       "2021-11-01    0.025295\n",
       "2021-11-02    0.004488\n",
       "2021-11-03   -0.014176\n",
       "2021-11-04    0.000738\n",
       "2021-11-05    0.009720\n",
       "2021-11-06    0.003326\n",
       "2021-11-07    0.003613\n",
       "2021-11-08    0.007499\n",
       "2021-11-09   -0.002510\n",
       "2021-11-10   -0.009638\n",
       "2021-11-11    0.013958\n",
       "2021-11-12    0.001101\n",
       "2021-11-13    0.003635\n",
       "2021-11-14    0.003513\n",
       "2021-11-15    0.007365\n",
       "2021-11-16   -0.010233\n",
       "2021-11-17   -0.010939\n",
       "2021-11-18   -0.019714\n",
       "2021-11-19    0.004959\n",
       "Freq: D, dtype: float64"
      ]
     },
     "execution_count": 123,
     "metadata": {},
     "output_type": "execute_result"
    }
   ],
   "source": [
    "y_pred"
   ]
  },
  {
   "cell_type": "code",
   "execution_count": 124,
   "id": "959c6b81",
   "metadata": {
    "scrolled": true
   },
   "outputs": [
    {
     "name": "stderr",
     "output_type": "stream",
     "text": [
      "/Users/arnauddeprest/.pyenv/versions/3.8.12/envs/venezuela_fx/lib/python3.8/site-packages/statsmodels/tsa/base/tsa_model.py:342: FutureWarning: The 'freq' argument in Timestamp is deprecated and will be removed in a future version.\n",
      "  date_key = Timestamp(key, freq=base_index.freq)\n"
     ]
    },
    {
     "data": {
      "image/png": "[encoded data removed]",
      "text/plain": [
       "<Figure size 432x288 with 1 Axes>"
      ]
     },
     "metadata": {
      "needs_background": "light"
     },
     "output_type": "display_data"
    }
   ],
   "source": [
    "arima.plot_predict(dynamic=False);"
   ]
  },
  {
   "cell_type": "code",
   "execution_count": 110,
   "id": "0cc5aa74",
   "metadata": {},
   "outputs": [
    {
     "data": {
      "text/plain": [
       "Unnamed: 0\n",
       "2015-12-07   -4.703610\n",
       "2015-12-08   -4.700162\n",
       "2015-12-09   -4.725802\n",
       "2015-12-10   -4.759324\n",
       "2015-12-11   -4.759324\n",
       "                ...   \n",
       "2016-02-25   -4.519304\n",
       "2016-02-26   -4.519304\n",
       "2016-02-27   -4.519304\n",
       "2016-02-28   -4.519304\n",
       "2016-02-29   -4.519304\n",
       "Name: Dolartoday, Length: 85, dtype: float64"
      ]
     },
     "execution_count": 110,
     "metadata": {},
     "output_type": "execute_result"
    }
   ],
   "source": [
    "y_train"
   ]
  },
  {
   "cell_type": "code",
   "execution_count": 108,
   "id": "9907b15d",
   "metadata": {
    "collapsed": true
   },
   "outputs": [
    {
     "name": "stdout",
     "output_type": "stream",
     "text": [
      "RUNNING THE L-BFGS-B CODE\n",
      "\n",
      "           * * *\n",
      "\n",
      "Machine precision = 2.220D-16\n",
      " N =            4     M =           12\n",
      "\n",
      "At X0         0 variables are exactly at the bounds\n",
      "\n",
      "At iterate    0    f= -3.26918D+00    |proj g|=  6.34226D+00\n",
      "\n",
      "At iterate    5    f= -3.26952D+00    |proj g|=  8.58905D-01\n",
      "\n",
      "At iterate   10    f= -3.27076D+00    |proj g|=  1.05490D+01\n",
      "\n",
      "At iterate   15    f= -3.27350D+00    |proj g|=  5.34253D-02\n",
      "\n",
      "At iterate   20    f= -3.27422D+00    |proj g|=  8.10582D+00\n",
      "\n",
      "At iterate   25    f= -3.29960D+00    |proj g|=  1.42523D+00\n",
      "\n",
      "At iterate   30    f= -3.30943D+00    |proj g|=  1.02020D+00\n",
      "\n",
      "At iterate   35    f= -3.30945D+00    |proj g|=  2.07183D+00\n",
      "\n",
      "At iterate   40    f= -3.31116D+00    |proj g|=  2.37354D+01\n",
      "\n",
      "At iterate   45    f= -3.32914D+00    |proj g|=  1.20865D+01\n",
      "\n",
      "At iterate   50    f= -3.33138D+00    |proj g|=  8.93606D-01\n",
      "\n",
      "At iterate   55    f= -3.33163D+00    |proj g|=  1.18855D-01\n",
      "\n",
      "           * * *\n",
      "\n",
      "Tit   = total number of iterations\n",
      "Tnf   = total number of function evaluations\n",
      "Tnint = total number of segments explored during Cauchy searches\n",
      "Skip  = number of BFGS updates skipped\n",
      "Nact  = number of active bounds at final generalized Cauchy point\n",
      "Projg = norm of the final projected gradient\n",
      "F     = final function value\n",
      "\n",
      "           * * *\n",
      "\n",
      "   N    Tit     Tnf  Tnint  Skip  Nact     Projg        F\n",
      "    4     58     82      1     0     0   2.395D-04  -3.332D+00\n",
      "  F =  -3.3316294380302880     \n",
      "\n",
      "CONVERGENCE: REL_REDUCTION_OF_F_<=_FACTR*EPSMCH             \n"
     ]
    },
    {
     "name": "stderr",
     "output_type": "stream",
     "text": [
      "/Users/arnauddeprest/.pyenv/versions/3.8.12/envs/venezuela_fx/lib/python3.8/site-packages/statsmodels/tsa/base/tsa_model.py:159: ValueWarning: No frequency information was provided, so inferred frequency D will be used.\n",
      "  warnings.warn('No frequency information was'\n",
      "/Users/arnauddeprest/.pyenv/versions/3.8.12/envs/venezuela_fx/lib/python3.8/site-packages/statsmodels/tsa/base/tsa_model.py:159: ValueWarning: No frequency information was provided, so inferred frequency D will be used.\n",
      "  warnings.warn('No frequency information was'\n",
      " This problem is unconstrained.\n",
      "\n",
      " Warning:  more than 10 function and gradient\n",
      "   evaluations in the last line search.  Termination\n",
      "   may possibly be caused by a bad search direction.\n"
     ]
    }
   ],
   "source": [
    "y_train = y_pross[:85]\n",
    "y_test = y_pross[85:]\n",
    "arima = ARIMA(y_train, order=(2, 2, 1)).fit()"
   ]
  },
  {
   "cell_type": "code",
   "execution_count": 109,
   "id": "9f434227",
   "metadata": {},
   "outputs": [],
   "source": [
    "(forecast, stderr, conf_int) = arima.forecast(3, alpha=0.05)"
   ]
  },
  {
   "cell_type": "code",
   "execution_count": 34,
   "id": "ec8b03b0",
   "metadata": {},
   "outputs": [
    {
     "data": {
      "text/plain": [
       "array([[-4.5314022 , -4.49785446],\n",
       "       [-4.53662476, -4.48090084],\n",
       "       [-4.53883388, -4.46800174]])"
      ]
     },
     "execution_count": 34,
     "metadata": {},
     "output_type": "execute_result"
    }
   ],
   "source": [
    "conf_int"
   ]
  },
  {
   "cell_type": "code",
   "execution_count": 35,
   "id": "dd46cb7d",
   "metadata": {},
   "outputs": [],
   "source": [
    "forecast = pd.Series(forecast, name='forecast')\n",
    "stderr = pd.Series(stderr)\n",
    "conf_int = pd.DataFrame(conf_int, columns=['low', 'high'])"
   ]
  },
  {
   "cell_type": "code",
   "execution_count": 36,
   "id": "34efb2a6",
   "metadata": {
    "collapsed": true
   },
   "outputs": [
    {
     "data": {
      "text/plain": [
       "<matplotlib.legend.Legend at 0x151564d60>"
      ]
     },
     "execution_count": 36,
     "metadata": {},
     "output_type": "execute_result"
    },
    {
     "data": {
      "image/png": "[encoded data removed]",
      "text/plain": [
       "<Figure size 432x288 with 1 Axes>"
      ]
     },
     "metadata": {
      "needs_background": "light"
     },
     "output_type": "display_data"
    }
   ],
   "source": [
    "plt.plot(forecast, c='orange')\n",
    "plt.plot(conf_int['low'], label='low', c='grey', ls='--')\n",
    "plt.plot(conf_int['high'], label='high', c='grey', ls='--')\n",
    "plt.legend()"
   ]
  },
  {
   "cell_type": "code",
   "execution_count": 42,
   "id": "11484080",
   "metadata": {
    "scrolled": true
   },
   "outputs": [
    {
     "name": "stderr",
     "output_type": "stream",
     "text": [
      "/Users/arnauddeprest/.pyenv/versions/3.8.12/envs/venezuela_fx/lib/python3.8/site-packages/statsmodels/tsa/base/tsa_model.py:342: FutureWarning: The 'freq' argument in Timestamp is deprecated and will be removed in a future version.\n",
      "  date_key = Timestamp(key, freq=base_index.freq)\n"
     ]
    },
    {
     "data": {
      "image/png": "[encoded data removed]",
      "text/plain": [
       "<Figure size 864x360 with 1 Axes>"
      ]
     },
     "metadata": {
      "needs_background": "light"
     },
     "output_type": "display_data"
    }
   ],
   "source": [
    "arima.plot_predict(end=30);\n",
    "fig = plt.gcf(); fig.set_size_inches(12, 5);"
   ]
  },
  {
   "cell_type": "markdown",
   "id": "4f9b2b08",
   "metadata": {},
   "source": [
    "#### Forecast VS Actual"
   ]
  },
  {
   "cell_type": "code",
   "execution_count": 149,
   "id": "658c5cb4",
   "metadata": {
    "collapsed": true
   },
   "outputs": [
    {
     "name": "stderr",
     "output_type": "stream",
     "text": [
      "/Users/arnauddeprest/.pyenv/versions/3.8.12/envs/venezuela_fx/lib/python3.8/site-packages/statsmodels/tsa/base/tsa_model.py:159: ValueWarning: No frequency information was provided, so inferred frequency D will be used.\n",
      "  warnings.warn('No frequency information was'\n",
      "/Users/arnauddeprest/.pyenv/versions/3.8.12/envs/venezuela_fx/lib/python3.8/site-packages/statsmodels/tsa/base/tsa_model.py:159: ValueWarning: No frequency information was provided, so inferred frequency D will be used.\n",
      "  warnings.warn('No frequency information was'\n",
      " This problem is unconstrained.\n"
     ]
    },
    {
     "name": "stdout",
     "output_type": "stream",
     "text": [
      "RUNNING THE L-BFGS-B CODE\n",
      "\n",
      "           * * *\n",
      "\n",
      "Machine precision = 2.220D-16\n",
      " N =            4     M =           12\n",
      "\n",
      "At X0         0 variables are exactly at the bounds\n",
      "\n",
      "At iterate    0    f= -1.73185D+00    |proj g|=  1.29864D+01\n",
      "\n",
      "At iterate    5    f= -1.73190D+00    |proj g|=  1.30674D-01\n",
      "\n",
      "At iterate   10    f= -1.73191D+00    |proj g|=  2.06887D+00\n",
      "\n",
      "At iterate   15    f= -1.73199D+00    |proj g|=  9.00451D+00\n",
      "\n",
      "At iterate   20    f= -1.73203D+00    |proj g|=  2.13396D-02\n",
      "\n",
      "At iterate   25    f= -1.73203D+00    |proj g|=  2.05087D+00\n",
      "\n",
      "At iterate   30    f= -1.73236D+00    |proj g|=  2.16260D+01\n",
      "\n",
      "At iterate   35    f= -1.73368D+00    |proj g|=  1.56432D+01\n",
      "\n",
      "At iterate   40    f= -1.73370D+00    |proj g|=  5.75251D-03\n",
      "\n",
      "At iterate   45    f= -1.73370D+00    |proj g|=  4.66331D-01\n",
      "\n",
      "At iterate   50    f= -1.73371D+00    |proj g|=  2.24397D+00\n",
      "\n",
      "At iterate   55    f= -1.73373D+00    |proj g|=  8.49192D-02\n",
      "\n",
      "At iterate   60    f= -1.73373D+00    |proj g|=  1.38241D-03\n",
      "\n",
      "           * * *\n",
      "\n",
      "Tit   = total number of iterations\n",
      "Tnf   = total number of function evaluations\n",
      "Tnint = total number of segments explored during Cauchy searches\n",
      "Skip  = number of BFGS updates skipped\n",
      "Nact  = number of active bounds at final generalized Cauchy point\n",
      "Projg = norm of the final projected gradient\n",
      "F     = final function value\n",
      "\n",
      "           * * *\n",
      "\n",
      "   N    Tit     Tnf  Tnint  Skip  Nact     Projg        F\n",
      "    4     61    109      2     0     0   1.382D-03  -1.734D+00\n",
      "  F =  -1.7337298963737375     \n",
      "\n",
      "CONVERGENCE: REL_REDUCTION_OF_F_<=_FACTR*EPSMCH             \n"
     ]
    },
    {
     "name": "stderr",
     "output_type": "stream",
     "text": [
      "\n",
      " Bad direction in the line search;\n",
      "   refresh the lbfgs memory and restart the iteration.\n",
      "\n",
      " Warning:  more than 10 function and gradient\n",
      "   evaluations in the last line search.  Termination\n",
      "   may possibly be caused by a bad search direction.\n"
     ]
    }
   ],
   "source": [
    "# Create a correct Training/Test split to predict the last 50 points\n",
    "train = y_pross[:-30]\n",
    "test = y_pross[-30:]\n",
    "\n",
    "\n",
    "\n",
    "# Build Model\n",
    "arima = ARIMA(train, order=(2, 2, 1))  \n",
    "arima = arima.fit()\n",
    "\n",
    "# Forecast\n",
    "forecast, std_err, confidence_int = arima.forecast(len(test), alpha=0.05)  # 95% confidence"
   ]
  },
  {
   "cell_type": "code",
   "execution_count": 164,
   "id": "61789a27",
   "metadata": {},
   "outputs": [],
   "source": [
    "from datetime import datetime"
   ]
  },
  {
   "cell_type": "code",
   "execution_count": 184,
   "id": "5e322f23",
   "metadata": {},
   "outputs": [],
   "source": [
    "# We define here a \"Plot forecast vs. real\", which also shows historical train set\n",
    "\n",
    "def plot_forecast(fc, train, test, upper=None, lower=None):\n",
    "    is_confidence_int = isinstance(upper, np.ndarray) and isinstance(lower, np.ndarray)\n",
    "    # Prepare plot series\n",
    "    fc_series = pd.Series(fc, index=test.index)\n",
    "    lower_series = pd.Series(upper, index=test.index) if is_confidence_int else None\n",
    "    upper_series = pd.Series(lower, index=test.index) if is_confidence_int else None\n",
    "\n",
    "    # Plot\n",
    "    plt.figure(figsize=(10,4), dpi=100)\n",
    "    plt.plot(train, label='training', color='black')\n",
    "    plt.plot(test, label='actual', color='black', ls='--')\n",
    "    plt.plot(fc_series, label='forecast', color='orange')\n",
    "    if is_confidence_int:\n",
    "        plt.fill_between(lower_series.index, lower_series, upper_series, color='k', alpha=.15)\n",
    "    plt.title('Forecast vs Actuals')\n",
    "    plt.xlim(datetime(2020, 10, 10), datetime(2021, 11,30))\n",
    "    plt.ylim(12,16)\n",
    "    plt.legend(loc='upper left', fontsize=8);\n"
   ]
  },
  {
   "cell_type": "code",
   "execution_count": 185,
   "id": "92c5b47b",
   "metadata": {},
   "outputs": [
    {
     "data": {
      "text/plain": [
       "15.324353531787299"
      ]
     },
     "execution_count": 185,
     "metadata": {},
     "output_type": "execute_result"
    }
   ],
   "source": [
    "from sklearn.metrics import mean_squared_error, mean_absolute_error\n",
    "\n",
    "mean_absolute_error(y_pross[(2175-31):2174], y_pred)"
   ]
  },
  {
   "cell_type": "code",
   "execution_count": 186,
   "id": "886dee7d",
   "metadata": {},
   "outputs": [
    {
     "data": {
      "text/plain": [
       "5.209742705465528"
      ]
     },
     "execution_count": 186,
     "metadata": {},
     "output_type": "execute_result"
    }
   ],
   "source": [
    "y_pross.mean()"
   ]
  },
  {
   "cell_type": "code",
   "execution_count": 187,
   "id": "cc3cafbf",
   "metadata": {
    "scrolled": true
   },
   "outputs": [
    {
     "data": {
      "text/plain": [
       "Unnamed: 0\n",
       "2021-10-20    15.274126\n",
       "2021-10-21    15.274126\n",
       "2021-10-22    15.274126\n",
       "2021-10-23    15.274126\n",
       "2021-10-24    15.278766\n",
       "2021-10-25    15.287983\n",
       "2021-10-26    15.341567\n",
       "2021-10-27    15.352378\n",
       "2021-10-28    15.332833\n",
       "2021-10-29    15.332833\n",
       "2021-10-30    15.332833\n",
       "2021-10-31    15.308415\n",
       "2021-11-01    15.306165\n",
       "2021-11-02    15.326232\n",
       "2021-11-03    15.330638\n",
       "2021-11-04    15.324023\n",
       "2021-11-05    15.324023\n",
       "2021-11-06    15.324023\n",
       "2021-11-07    15.319588\n",
       "2021-11-08    15.326232\n",
       "2021-11-09    15.341567\n",
       "2021-11-10    15.330638\n",
       "2021-11-11    15.332833\n",
       "2021-11-12    15.332833\n",
       "2021-11-13    15.332833\n",
       "2021-11-14    15.328438\n",
       "2021-11-15    15.343738\n",
       "2021-11-16    15.360943\n",
       "2021-11-17    15.388284\n",
       "2021-11-18    15.388284\n",
       "Name: Dolartoday, dtype: float64"
      ]
     },
     "execution_count": 187,
     "metadata": {},
     "output_type": "execute_result"
    }
   ],
   "source": [
    "y_pross[(2175-31):2174]"
   ]
  },
  {
   "cell_type": "code",
   "execution_count": 188,
   "id": "35f2e4a1",
   "metadata": {},
   "outputs": [
    {
     "data": {
      "text/plain": [
       "array([15.28088261, 15.28651021, 15.29122767, 15.29579048, 15.30029423,\n",
       "       15.30478501, 15.30927248, 15.3137599 , 15.31824807, 15.32273725,\n",
       "       15.32722749, 15.33171882, 15.33621125, 15.34070477, 15.34519938,\n",
       "       15.34969509, 15.3541919 , 15.35868979, 15.36318879, 15.36768888,\n",
       "       15.37219006, 15.37669234, 15.38119571, 15.38570018, 15.39020574,\n",
       "       15.3947124 , 15.39922015, 15.403729  , 15.40823894, 15.41274998])"
      ]
     },
     "execution_count": 188,
     "metadata": {},
     "output_type": "execute_result"
    }
   ],
   "source": [
    "forecast"
   ]
  },
  {
   "cell_type": "code",
   "execution_count": 189,
   "id": "43f6956e",
   "metadata": {},
   "outputs": [
    {
     "data": {
      "text/plain": [
       "array([15.27412558, 15.27412558, 15.27412558, 15.27876596, 15.28798262,\n",
       "       15.34156686, 15.35237778, 15.33283318, 15.33283318, 15.33283318,\n",
       "       15.30841465, 15.30616493, 15.3262325 , 15.33063779, 15.32402255,\n",
       "       15.32402255, 15.32402255, 15.31958795, 15.3262325 , 15.34156686,\n",
       "       15.33063779, 15.33283318, 15.33283318, 15.33283318, 15.32843757,\n",
       "       15.34373841, 15.36094314, 15.38828449, 15.38828449, 15.38828449])"
      ]
     },
     "execution_count": 189,
     "metadata": {},
     "output_type": "execute_result"
    }
   ],
   "source": [
    "np.array(test)"
   ]
  },
  {
   "cell_type": "code",
   "execution_count": 190,
   "id": "af39c8e3",
   "metadata": {},
   "outputs": [
    {
     "data": {
      "text/plain": [
       "Unnamed: 0\n",
       "2015-12-07    -4.703610\n",
       "2015-12-08    -4.700162\n",
       "2015-12-09    -4.725802\n",
       "2015-12-10    -4.759324\n",
       "2015-12-11    -4.759324\n",
       "                ...    \n",
       "2021-10-16    15.233788\n",
       "2021-10-17    15.236206\n",
       "2021-10-18    15.243427\n",
       "2021-10-19    15.250595\n",
       "2021-10-20    15.274126\n",
       "Name: Dolartoday, Length: 2145, dtype: float64"
      ]
     },
     "execution_count": 190,
     "metadata": {},
     "output_type": "execute_result"
    }
   ],
   "source": [
    "train"
   ]
  },
  {
   "cell_type": "code",
   "execution_count": 191,
   "id": "27699efa",
   "metadata": {
    "scrolled": false
   },
   "outputs": [
    {
     "data": {
      "image/png": "[encoded data removed]",
      "text/plain": [
       "<Figure size 1000x400 with 1 Axes>"
      ]
     },
     "metadata": {
      "needs_background": "light"
     },
     "output_type": "display_data"
    }
   ],
   "source": [
    "plot_forecast(forecast, train, test, confidence_int[:,0], confidence_int[:,1])"
   ]
  },
  {
   "cell_type": "code",
   "execution_count": 163,
   "id": "6684013c",
   "metadata": {},
   "outputs": [
    {
     "data": {
      "text/plain": [
       "Unnamed: 0\n",
       "2021-10-21    15.274126\n",
       "2021-10-22    15.274126\n",
       "2021-10-23    15.274126\n",
       "2021-10-24    15.278766\n",
       "2021-10-25    15.287983\n",
       "2021-10-26    15.341567\n",
       "2021-10-27    15.352378\n",
       "2021-10-28    15.332833\n",
       "2021-10-29    15.332833\n",
       "2021-10-30    15.332833\n",
       "2021-10-31    15.308415\n",
       "2021-11-01    15.306165\n",
       "2021-11-02    15.326232\n",
       "2021-11-03    15.330638\n",
       "2021-11-04    15.324023\n",
       "2021-11-05    15.324023\n",
       "2021-11-06    15.324023\n",
       "2021-11-07    15.319588\n",
       "2021-11-08    15.326232\n",
       "2021-11-09    15.341567\n",
       "2021-11-10    15.330638\n",
       "2021-11-11    15.332833\n",
       "2021-11-12    15.332833\n",
       "2021-11-13    15.332833\n",
       "2021-11-14    15.328438\n",
       "2021-11-15    15.343738\n",
       "2021-11-16    15.360943\n",
       "2021-11-17    15.388284\n",
       "2021-11-18    15.388284\n",
       "2021-11-19    15.388284\n",
       "Name: Dolartoday, dtype: float64"
      ]
     },
     "execution_count": 163,
     "metadata": {},
     "output_type": "execute_result"
    }
   ],
   "source": [
    "test"
   ]
  },
  {
   "cell_type": "code",
   "execution_count": 160,
   "id": "177886f8",
   "metadata": {},
   "outputs": [
    {
     "data": {
      "text/plain": [
       "array([15.28088261, 15.28651021, 15.29122767, 15.29579048, 15.30029423,\n",
       "       15.30478501, 15.30927248, 15.3137599 , 15.31824807, 15.32273725,\n",
       "       15.32722749, 15.33171882, 15.33621125, 15.34070477, 15.34519938,\n",
       "       15.34969509, 15.3541919 , 15.35868979, 15.36318879, 15.36768888,\n",
       "       15.37219006, 15.37669234, 15.38119571, 15.38570018, 15.39020574,\n",
       "       15.3947124 , 15.39922015, 15.403729  , 15.40823894, 15.41274998])"
      ]
     },
     "execution_count": 160,
     "metadata": {},
     "output_type": "execute_result"
    }
   ],
   "source": [
    "forecast"
   ]
  },
  {
   "cell_type": "code",
   "execution_count": 156,
   "id": "ebc72468",
   "metadata": {},
   "outputs": [
    {
     "data": {
      "text/plain": [
       "0.0009841040352208336"
      ]
     },
     "execution_count": 156,
     "metadata": {},
     "output_type": "execute_result"
    }
   ],
   "source": [
    "mean_squared_error(forecast,test)"
   ]
  },
  {
   "cell_type": "code",
   "execution_count": 157,
   "id": "a35bacb3",
   "metadata": {},
   "outputs": [
    {
     "data": {
      "text/plain": [
       "0.02767857503398267"
      ]
     },
     "execution_count": 157,
     "metadata": {},
     "output_type": "execute_result"
    }
   ],
   "source": [
    "mean_absolute_error(forecast,test)"
   ]
  },
  {
   "cell_type": "markdown",
   "id": "91376791",
   "metadata": {},
   "source": [
    "#### Residual / Density"
   ]
  },
  {
   "cell_type": "code",
   "execution_count": 55,
   "id": "da1e6170",
   "metadata": {
    "scrolled": true
   },
   "outputs": [
    {
     "data": {
      "text/plain": [
       "<AxesSubplot:title={'center':'Density'}, ylabel='Density'>"
      ]
     },
     "execution_count": 55,
     "metadata": {},
     "output_type": "execute_result"
    },
    {
     "data": {
      "image/png": "[encoded data removed]",
      "text/plain": [
       "<Figure size 1152x216 with 2 Axes>"
      ]
     },
     "metadata": {
      "needs_background": "light"
     },
     "output_type": "display_data"
    }
   ],
   "source": [
    "residuals = pd.DataFrame(arima.resid)\n",
    "\n",
    "fig, ax = plt.subplots(1,2, figsize=(16,3))\n",
    "residuals.plot(title=\"Residuals\", ax=ax[0])\n",
    "residuals.plot(kind='kde', title='Density', ax=ax[1])"
   ]
  },
  {
   "cell_type": "code",
   "execution_count": null,
   "id": "5cd83f0d",
   "metadata": {},
   "outputs": [],
   "source": []
  }
 ],
 "metadata": {
  "kernelspec": {
   "display_name": "Python 3 (ipykernel)",
   "language": "python",
   "name": "python3"
  },
  "language_info": {
   "codemirror_mode": {
    "name": "ipython",
    "version": 3
   },
   "file_extension": ".py",
   "mimetype": "text/x-python",
   "name": "python",
   "nbconvert_exporter": "python",
   "pygments_lexer": "ipython3",
   "version": "3.8.12"
  },
  "toc": {
   "base_numbering": 1,
   "nav_menu": {},
   "number_sections": true,
   "sideBar": true,
   "skip_h1_title": false,
   "title_cell": "Table of Contents",
   "title_sidebar": "Contents",
   "toc_cell": false,
   "toc_position": {},
   "toc_section_display": true,
   "toc_window_display": true
  }
 },
 "nbformat": 4,
 "nbformat_minor": 5
}
