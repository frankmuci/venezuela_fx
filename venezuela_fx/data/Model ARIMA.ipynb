{
 "cells": [
  {
   "cell_type": "markdown",
   "id": "9c7c64c7",
   "metadata": {},
   "source": [
    "## Data"
   ]
  },
  {
   "cell_type": "code",
   "execution_count": 1,
   "id": "04f71e83",
   "metadata": {},
   "outputs": [],
   "source": [
    "from pmdarima.arima.utils import ndiffs\n",
    "from statsmodels.tsa.arima_model import ARIMA\n",
    "import pandas as pd\n",
    "import matplotlib.pyplot as plt\n",
    "import seaborn as sns\n",
    "import numpy as np\n",
    "import math"
   ]
  },
  {
   "cell_type": "code",
   "execution_count": 2,
   "id": "4236c500",
   "metadata": {},
   "outputs": [
    {
     "data": {
      "text/html": [
       "<div>\n",
       "<style scoped>\n",
       "    .dataframe tbody tr th:only-of-type {\n",
       "        vertical-align: middle;\n",
       "    }\n",
       "\n",
       "    .dataframe tbody tr th {\n",
       "        vertical-align: top;\n",
       "    }\n",
       "\n",
       "    .dataframe thead th {\n",
       "        text-align: right;\n",
       "    }\n",
       "</style>\n",
       "<table border=\"1\" class=\"dataframe\">\n",
       "  <thead>\n",
       "    <tr style=\"text-align: right;\">\n",
       "      <th></th>\n",
       "      <th>Unnamed: 0</th>\n",
       "      <th>Stock_Market</th>\n",
       "      <th>Deposit_Interest_Rate</th>\n",
       "      <th>Interest_Rate</th>\n",
       "      <th>Money_Supply_M3</th>\n",
       "      <th>Central_Bank_Balance_Sheet</th>\n",
       "      <th>Crude_Oil_Production</th>\n",
       "      <th>Crude_Oil_Rig</th>\n",
       "      <th>Money_Supply_M0</th>\n",
       "      <th>Foreign_Exchange_Reserve</th>\n",
       "      <th>External_Debt</th>\n",
       "      <th>Inflation_Rate</th>\n",
       "      <th>Money_Supply_M2</th>\n",
       "      <th>Inflation_Rate_Mom</th>\n",
       "      <th>Private_Sector_Credit</th>\n",
       "      <th>Consumer_Price_Index_CPI</th>\n",
       "      <th>CPI_Transportation</th>\n",
       "      <th>Money_Supply_M1</th>\n",
       "      <th>Banks_Balance_Sheet</th>\n",
       "      <th>Dolartoday</th>\n",
       "    </tr>\n",
       "  </thead>\n",
       "  <tbody>\n",
       "    <tr>\n",
       "      <th>0</th>\n",
       "      <td>2007-01-01</td>\n",
       "      <td>5.300000e-02</td>\n",
       "      <td>10.53</td>\n",
       "      <td>18.93</td>\n",
       "      <td>1.464000e+00</td>\n",
       "      <td>1.000000e-03</td>\n",
       "      <td>2416.0</td>\n",
       "      <td>63.0</td>\n",
       "      <td>4.370000e-01</td>\n",
       "      <td>36392.0</td>\n",
       "      <td>157.0</td>\n",
       "      <td>18.4</td>\n",
       "      <td>1.464000e+00</td>\n",
       "      <td>3.1</td>\n",
       "      <td>6.480000e+01</td>\n",
       "      <td>1.000000e-04</td>\n",
       "      <td>1.000000e-01</td>\n",
       "      <td>1.027000e+00</td>\n",
       "      <td>1.800000e-01</td>\n",
       "      <td>3.390000e-05</td>\n",
       "    </tr>\n",
       "    <tr>\n",
       "      <th>1</th>\n",
       "      <td>2007-01-02</td>\n",
       "      <td>5.300000e-02</td>\n",
       "      <td>10.12</td>\n",
       "      <td>18.93</td>\n",
       "      <td>1.464000e+00</td>\n",
       "      <td>1.000000e-03</td>\n",
       "      <td>2416.0</td>\n",
       "      <td>63.0</td>\n",
       "      <td>4.370000e-01</td>\n",
       "      <td>36392.0</td>\n",
       "      <td>157.0</td>\n",
       "      <td>18.4</td>\n",
       "      <td>1.464000e+00</td>\n",
       "      <td>3.1</td>\n",
       "      <td>6.480000e+01</td>\n",
       "      <td>1.000000e-04</td>\n",
       "      <td>1.000000e-01</td>\n",
       "      <td>1.027000e+00</td>\n",
       "      <td>1.800000e-01</td>\n",
       "      <td>3.390000e-05</td>\n",
       "    </tr>\n",
       "    <tr>\n",
       "      <th>2</th>\n",
       "      <td>2007-01-03</td>\n",
       "      <td>5.360000e-02</td>\n",
       "      <td>10.07</td>\n",
       "      <td>18.24</td>\n",
       "      <td>1.464000e+00</td>\n",
       "      <td>1.000000e-03</td>\n",
       "      <td>2416.0</td>\n",
       "      <td>63.0</td>\n",
       "      <td>4.370000e-01</td>\n",
       "      <td>36392.0</td>\n",
       "      <td>157.0</td>\n",
       "      <td>18.4</td>\n",
       "      <td>1.464000e+00</td>\n",
       "      <td>3.1</td>\n",
       "      <td>6.480000e+01</td>\n",
       "      <td>1.000000e-04</td>\n",
       "      <td>1.000000e-01</td>\n",
       "      <td>1.027000e+00</td>\n",
       "      <td>1.800000e-01</td>\n",
       "      <td>3.403571e-05</td>\n",
       "    </tr>\n",
       "    <tr>\n",
       "      <th>3</th>\n",
       "      <td>2007-01-04</td>\n",
       "      <td>5.560000e-02</td>\n",
       "      <td>10.01</td>\n",
       "      <td>14.77</td>\n",
       "      <td>1.464000e+00</td>\n",
       "      <td>1.000000e-03</td>\n",
       "      <td>2416.0</td>\n",
       "      <td>63.0</td>\n",
       "      <td>4.370000e-01</td>\n",
       "      <td>36392.0</td>\n",
       "      <td>157.0</td>\n",
       "      <td>18.4</td>\n",
       "      <td>1.464000e+00</td>\n",
       "      <td>3.1</td>\n",
       "      <td>6.480000e+01</td>\n",
       "      <td>1.000000e-04</td>\n",
       "      <td>1.000000e-01</td>\n",
       "      <td>1.027000e+00</td>\n",
       "      <td>1.800000e-01</td>\n",
       "      <td>3.437500e-05</td>\n",
       "    </tr>\n",
       "    <tr>\n",
       "      <th>4</th>\n",
       "      <td>2007-01-05</td>\n",
       "      <td>5.940000e-02</td>\n",
       "      <td>10.03</td>\n",
       "      <td>17.43</td>\n",
       "      <td>1.464000e+00</td>\n",
       "      <td>1.000000e-03</td>\n",
       "      <td>2416.0</td>\n",
       "      <td>63.0</td>\n",
       "      <td>4.370000e-01</td>\n",
       "      <td>36392.0</td>\n",
       "      <td>157.0</td>\n",
       "      <td>18.4</td>\n",
       "      <td>1.464000e+00</td>\n",
       "      <td>3.1</td>\n",
       "      <td>6.480000e+01</td>\n",
       "      <td>1.000000e-04</td>\n",
       "      <td>1.000000e-01</td>\n",
       "      <td>1.027000e+00</td>\n",
       "      <td>1.800000e-01</td>\n",
       "      <td>3.487500e-05</td>\n",
       "    </tr>\n",
       "    <tr>\n",
       "      <th>...</th>\n",
       "      <td>...</td>\n",
       "      <td>...</td>\n",
       "      <td>...</td>\n",
       "      <td>...</td>\n",
       "      <td>...</td>\n",
       "      <td>...</td>\n",
       "      <td>...</td>\n",
       "      <td>...</td>\n",
       "      <td>...</td>\n",
       "      <td>...</td>\n",
       "      <td>...</td>\n",
       "      <td>...</td>\n",
       "      <td>...</td>\n",
       "      <td>...</td>\n",
       "      <td>...</td>\n",
       "      <td>...</td>\n",
       "      <td>...</td>\n",
       "      <td>...</td>\n",
       "      <td>...</td>\n",
       "      <td>...</td>\n",
       "    </tr>\n",
       "    <tr>\n",
       "      <th>5432</th>\n",
       "      <td>2021-11-15</td>\n",
       "      <td>5.973510e+09</td>\n",
       "      <td>36.00</td>\n",
       "      <td>56.86</td>\n",
       "      <td>2.725926e+09</td>\n",
       "      <td>2.031504e+08</td>\n",
       "      <td>756.0</td>\n",
       "      <td>0.0</td>\n",
       "      <td>1.325000e+09</td>\n",
       "      <td>11102.0</td>\n",
       "      <td>0.0</td>\n",
       "      <td>1575.3</td>\n",
       "      <td>2.725926e+09</td>\n",
       "      <td>6.8</td>\n",
       "      <td>1.184882e+11</td>\n",
       "      <td>2.210425e+06</td>\n",
       "      <td>2.512177e+09</td>\n",
       "      <td>2.720677e+09</td>\n",
       "      <td>2.392883e+13</td>\n",
       "      <td>4.610000e+06</td>\n",
       "    </tr>\n",
       "    <tr>\n",
       "      <th>5433</th>\n",
       "      <td>2021-11-16</td>\n",
       "      <td>5.962450e+09</td>\n",
       "      <td>36.00</td>\n",
       "      <td>56.86</td>\n",
       "      <td>2.725926e+09</td>\n",
       "      <td>2.031504e+08</td>\n",
       "      <td>756.0</td>\n",
       "      <td>0.0</td>\n",
       "      <td>1.325000e+09</td>\n",
       "      <td>11102.0</td>\n",
       "      <td>0.0</td>\n",
       "      <td>1575.3</td>\n",
       "      <td>2.725926e+09</td>\n",
       "      <td>6.8</td>\n",
       "      <td>1.184882e+11</td>\n",
       "      <td>2.210425e+06</td>\n",
       "      <td>2.512177e+09</td>\n",
       "      <td>2.720677e+09</td>\n",
       "      <td>2.392883e+13</td>\n",
       "      <td>4.690000e+06</td>\n",
       "    </tr>\n",
       "    <tr>\n",
       "      <th>5434</th>\n",
       "      <td>2021-11-17</td>\n",
       "      <td>5.968420e+09</td>\n",
       "      <td>36.00</td>\n",
       "      <td>56.86</td>\n",
       "      <td>2.725926e+09</td>\n",
       "      <td>2.031504e+08</td>\n",
       "      <td>756.0</td>\n",
       "      <td>0.0</td>\n",
       "      <td>1.325000e+09</td>\n",
       "      <td>11102.0</td>\n",
       "      <td>0.0</td>\n",
       "      <td>1575.3</td>\n",
       "      <td>2.725926e+09</td>\n",
       "      <td>6.8</td>\n",
       "      <td>1.184882e+11</td>\n",
       "      <td>2.210425e+06</td>\n",
       "      <td>2.512177e+09</td>\n",
       "      <td>2.720677e+09</td>\n",
       "      <td>2.392883e+13</td>\n",
       "      <td>4.820000e+06</td>\n",
       "    </tr>\n",
       "    <tr>\n",
       "      <th>5435</th>\n",
       "      <td>2021-11-18</td>\n",
       "      <td>5.998970e+09</td>\n",
       "      <td>36.00</td>\n",
       "      <td>56.86</td>\n",
       "      <td>2.725926e+09</td>\n",
       "      <td>2.031504e+08</td>\n",
       "      <td>756.0</td>\n",
       "      <td>0.0</td>\n",
       "      <td>1.325000e+09</td>\n",
       "      <td>11102.0</td>\n",
       "      <td>0.0</td>\n",
       "      <td>1575.3</td>\n",
       "      <td>2.725926e+09</td>\n",
       "      <td>6.8</td>\n",
       "      <td>1.184882e+11</td>\n",
       "      <td>2.210425e+06</td>\n",
       "      <td>2.512177e+09</td>\n",
       "      <td>2.720677e+09</td>\n",
       "      <td>2.392883e+13</td>\n",
       "      <td>4.820000e+06</td>\n",
       "    </tr>\n",
       "    <tr>\n",
       "      <th>5436</th>\n",
       "      <td>2021-11-19</td>\n",
       "      <td>6.043920e+09</td>\n",
       "      <td>36.00</td>\n",
       "      <td>56.86</td>\n",
       "      <td>2.725926e+09</td>\n",
       "      <td>2.031504e+08</td>\n",
       "      <td>756.0</td>\n",
       "      <td>0.0</td>\n",
       "      <td>1.325000e+09</td>\n",
       "      <td>11102.0</td>\n",
       "      <td>0.0</td>\n",
       "      <td>1575.3</td>\n",
       "      <td>2.725926e+09</td>\n",
       "      <td>6.8</td>\n",
       "      <td>1.184882e+11</td>\n",
       "      <td>2.210425e+06</td>\n",
       "      <td>2.512177e+09</td>\n",
       "      <td>2.720677e+09</td>\n",
       "      <td>2.392883e+13</td>\n",
       "      <td>4.820000e+06</td>\n",
       "    </tr>\n",
       "  </tbody>\n",
       "</table>\n",
       "<p>5437 rows × 20 columns</p>\n",
       "</div>"
      ],
      "text/plain": [
       "      Unnamed: 0  Stock_Market  Deposit_Interest_Rate  Interest_Rate  \\\n",
       "0     2007-01-01  5.300000e-02                  10.53          18.93   \n",
       "1     2007-01-02  5.300000e-02                  10.12          18.93   \n",
       "2     2007-01-03  5.360000e-02                  10.07          18.24   \n",
       "3     2007-01-04  5.560000e-02                  10.01          14.77   \n",
       "4     2007-01-05  5.940000e-02                  10.03          17.43   \n",
       "...          ...           ...                    ...            ...   \n",
       "5432  2021-11-15  5.973510e+09                  36.00          56.86   \n",
       "5433  2021-11-16  5.962450e+09                  36.00          56.86   \n",
       "5434  2021-11-17  5.968420e+09                  36.00          56.86   \n",
       "5435  2021-11-18  5.998970e+09                  36.00          56.86   \n",
       "5436  2021-11-19  6.043920e+09                  36.00          56.86   \n",
       "\n",
       "      Money_Supply_M3  Central_Bank_Balance_Sheet  Crude_Oil_Production  \\\n",
       "0        1.464000e+00                1.000000e-03                2416.0   \n",
       "1        1.464000e+00                1.000000e-03                2416.0   \n",
       "2        1.464000e+00                1.000000e-03                2416.0   \n",
       "3        1.464000e+00                1.000000e-03                2416.0   \n",
       "4        1.464000e+00                1.000000e-03                2416.0   \n",
       "...               ...                         ...                   ...   \n",
       "5432     2.725926e+09                2.031504e+08                 756.0   \n",
       "5433     2.725926e+09                2.031504e+08                 756.0   \n",
       "5434     2.725926e+09                2.031504e+08                 756.0   \n",
       "5435     2.725926e+09                2.031504e+08                 756.0   \n",
       "5436     2.725926e+09                2.031504e+08                 756.0   \n",
       "\n",
       "      Crude_Oil_Rig  Money_Supply_M0  Foreign_Exchange_Reserve  External_Debt  \\\n",
       "0              63.0     4.370000e-01                   36392.0          157.0   \n",
       "1              63.0     4.370000e-01                   36392.0          157.0   \n",
       "2              63.0     4.370000e-01                   36392.0          157.0   \n",
       "3              63.0     4.370000e-01                   36392.0          157.0   \n",
       "4              63.0     4.370000e-01                   36392.0          157.0   \n",
       "...             ...              ...                       ...            ...   \n",
       "5432            0.0     1.325000e+09                   11102.0            0.0   \n",
       "5433            0.0     1.325000e+09                   11102.0            0.0   \n",
       "5434            0.0     1.325000e+09                   11102.0            0.0   \n",
       "5435            0.0     1.325000e+09                   11102.0            0.0   \n",
       "5436            0.0     1.325000e+09                   11102.0            0.0   \n",
       "\n",
       "      Inflation_Rate  Money_Supply_M2  Inflation_Rate_Mom  \\\n",
       "0               18.4     1.464000e+00                 3.1   \n",
       "1               18.4     1.464000e+00                 3.1   \n",
       "2               18.4     1.464000e+00                 3.1   \n",
       "3               18.4     1.464000e+00                 3.1   \n",
       "4               18.4     1.464000e+00                 3.1   \n",
       "...              ...              ...                 ...   \n",
       "5432          1575.3     2.725926e+09                 6.8   \n",
       "5433          1575.3     2.725926e+09                 6.8   \n",
       "5434          1575.3     2.725926e+09                 6.8   \n",
       "5435          1575.3     2.725926e+09                 6.8   \n",
       "5436          1575.3     2.725926e+09                 6.8   \n",
       "\n",
       "      Private_Sector_Credit  Consumer_Price_Index_CPI  CPI_Transportation  \\\n",
       "0              6.480000e+01              1.000000e-04        1.000000e-01   \n",
       "1              6.480000e+01              1.000000e-04        1.000000e-01   \n",
       "2              6.480000e+01              1.000000e-04        1.000000e-01   \n",
       "3              6.480000e+01              1.000000e-04        1.000000e-01   \n",
       "4              6.480000e+01              1.000000e-04        1.000000e-01   \n",
       "...                     ...                       ...                 ...   \n",
       "5432           1.184882e+11              2.210425e+06        2.512177e+09   \n",
       "5433           1.184882e+11              2.210425e+06        2.512177e+09   \n",
       "5434           1.184882e+11              2.210425e+06        2.512177e+09   \n",
       "5435           1.184882e+11              2.210425e+06        2.512177e+09   \n",
       "5436           1.184882e+11              2.210425e+06        2.512177e+09   \n",
       "\n",
       "      Money_Supply_M1  Banks_Balance_Sheet    Dolartoday  \n",
       "0        1.027000e+00         1.800000e-01  3.390000e-05  \n",
       "1        1.027000e+00         1.800000e-01  3.390000e-05  \n",
       "2        1.027000e+00         1.800000e-01  3.403571e-05  \n",
       "3        1.027000e+00         1.800000e-01  3.437500e-05  \n",
       "4        1.027000e+00         1.800000e-01  3.487500e-05  \n",
       "...               ...                  ...           ...  \n",
       "5432     2.720677e+09         2.392883e+13  4.610000e+06  \n",
       "5433     2.720677e+09         2.392883e+13  4.690000e+06  \n",
       "5434     2.720677e+09         2.392883e+13  4.820000e+06  \n",
       "5435     2.720677e+09         2.392883e+13  4.820000e+06  \n",
       "5436     2.720677e+09         2.392883e+13  4.820000e+06  \n",
       "\n",
       "[5437 rows x 20 columns]"
      ]
     },
     "execution_count": 2,
     "metadata": {},
     "output_type": "execute_result"
    }
   ],
   "source": [
    "pd.read_csv(\"/Users/arnauddeprest/code/venezuela_fx/venezuela_fx/data/working_df.csv\")"
   ]
  },
  {
   "cell_type": "code",
   "execution_count": 3,
   "id": "5ff4f2c5",
   "metadata": {},
   "outputs": [],
   "source": [
    "df = pd.read_csv(\"/Users/arnauddeprest/code/venezuela_fx/venezuela_fx/data/working_df.csv\").copy()"
   ]
  },
  {
   "cell_type": "code",
   "execution_count": 4,
   "id": "31254e0c",
   "metadata": {},
   "outputs": [
    {
     "data": {
      "text/plain": [
       "Index(['Unnamed: 0', 'Stock_Market', 'Deposit_Interest_Rate', 'Interest_Rate',\n",
       "       'Money_Supply_M3', 'Central_Bank_Balance_Sheet', 'Crude_Oil_Production',\n",
       "       'Crude_Oil_Rig', 'Money_Supply_M0', 'Foreign_Exchange_Reserve',\n",
       "       'External_Debt', 'Inflation_Rate', 'Money_Supply_M2',\n",
       "       'Inflation_Rate_Mom', 'Private_Sector_Credit',\n",
       "       'Consumer_Price_Index_CPI', 'CPI_Transportation', 'Money_Supply_M1',\n",
       "       'Banks_Balance_Sheet', 'Dolartoday'],\n",
       "      dtype='object')"
      ]
     },
     "execution_count": 4,
     "metadata": {},
     "output_type": "execute_result"
    }
   ],
   "source": [
    "df.keys()"
   ]
  },
  {
   "cell_type": "code",
   "execution_count": 5,
   "id": "8a20d262",
   "metadata": {},
   "outputs": [],
   "source": [
    "df['Unnamed: 0']= df['Unnamed: 0'].apply(pd.to_datetime)"
   ]
  },
  {
   "cell_type": "code",
   "execution_count": 6,
   "id": "df8f9e27",
   "metadata": {},
   "outputs": [],
   "source": [
    "df.set_index('Unnamed: 0', inplace=True)"
   ]
  },
  {
   "cell_type": "markdown",
   "id": "cef38f73",
   "metadata": {},
   "source": [
    "## ARIMA model "
   ]
  },
  {
   "cell_type": "code",
   "execution_count": 7,
   "id": "b6e529d3",
   "metadata": {},
   "outputs": [],
   "source": [
    "from statsmodels.graphics.tsaplots import plot_pacf\n",
    "from statsmodels.graphics.tsaplots import plot_acf"
   ]
  },
  {
   "cell_type": "markdown",
   "id": "1c92d466",
   "metadata": {},
   "source": [
    "### drop NA "
   ]
  },
  {
   "cell_type": "code",
   "execution_count": 8,
   "id": "5b40bea3",
   "metadata": {},
   "outputs": [],
   "source": [
    "# let's keep the last 40% values out for test purposes\n",
    "train_size = 0.6\n",
    "index = round(train_size*df.shape[0])\n",
    "df_train = df.iloc[:index]\n",
    "df_test = df.iloc[index:]"
   ]
  },
  {
   "cell_type": "code",
   "execution_count": 9,
   "id": "ce93e9a3",
   "metadata": {},
   "outputs": [
    {
     "data": {
      "text/html": [
       "<div>\n",
       "<style scoped>\n",
       "    .dataframe tbody tr th:only-of-type {\n",
       "        vertical-align: middle;\n",
       "    }\n",
       "\n",
       "    .dataframe tbody tr th {\n",
       "        vertical-align: top;\n",
       "    }\n",
       "\n",
       "    .dataframe thead th {\n",
       "        text-align: right;\n",
       "    }\n",
       "</style>\n",
       "<table border=\"1\" class=\"dataframe\">\n",
       "  <thead>\n",
       "    <tr style=\"text-align: right;\">\n",
       "      <th></th>\n",
       "      <th>Stock_Market</th>\n",
       "      <th>Deposit_Interest_Rate</th>\n",
       "      <th>Interest_Rate</th>\n",
       "      <th>Money_Supply_M3</th>\n",
       "      <th>Central_Bank_Balance_Sheet</th>\n",
       "      <th>Crude_Oil_Production</th>\n",
       "      <th>Crude_Oil_Rig</th>\n",
       "      <th>Money_Supply_M0</th>\n",
       "      <th>Foreign_Exchange_Reserve</th>\n",
       "      <th>External_Debt</th>\n",
       "      <th>Inflation_Rate</th>\n",
       "      <th>Money_Supply_M2</th>\n",
       "      <th>Inflation_Rate_Mom</th>\n",
       "      <th>Private_Sector_Credit</th>\n",
       "      <th>Consumer_Price_Index_CPI</th>\n",
       "      <th>CPI_Transportation</th>\n",
       "      <th>Money_Supply_M1</th>\n",
       "      <th>Banks_Balance_Sheet</th>\n",
       "      <th>Dolartoday</th>\n",
       "    </tr>\n",
       "    <tr>\n",
       "      <th>Unnamed: 0</th>\n",
       "      <th></th>\n",
       "      <th></th>\n",
       "      <th></th>\n",
       "      <th></th>\n",
       "      <th></th>\n",
       "      <th></th>\n",
       "      <th></th>\n",
       "      <th></th>\n",
       "      <th></th>\n",
       "      <th></th>\n",
       "      <th></th>\n",
       "      <th></th>\n",
       "      <th></th>\n",
       "      <th></th>\n",
       "      <th></th>\n",
       "      <th></th>\n",
       "      <th></th>\n",
       "      <th></th>\n",
       "      <th></th>\n",
       "    </tr>\n",
       "  </thead>\n",
       "  <tbody>\n",
       "    <tr>\n",
       "      <th>2015-12-07</th>\n",
       "      <td>NaN</td>\n",
       "      <td>NaN</td>\n",
       "      <td>NaN</td>\n",
       "      <td>NaN</td>\n",
       "      <td>NaN</td>\n",
       "      <td>NaN</td>\n",
       "      <td>NaN</td>\n",
       "      <td>NaN</td>\n",
       "      <td>NaN</td>\n",
       "      <td>NaN</td>\n",
       "      <td>NaN</td>\n",
       "      <td>NaN</td>\n",
       "      <td>NaN</td>\n",
       "      <td>NaN</td>\n",
       "      <td>NaN</td>\n",
       "      <td>NaN</td>\n",
       "      <td>NaN</td>\n",
       "      <td>NaN</td>\n",
       "      <td>NaN</td>\n",
       "    </tr>\n",
       "    <tr>\n",
       "      <th>2015-12-08</th>\n",
       "      <td>1.311730e+01</td>\n",
       "      <td>14.89</td>\n",
       "      <td>21.33</td>\n",
       "      <td>3.765700e+01</td>\n",
       "      <td>2.170000e-02</td>\n",
       "      <td>2587.0</td>\n",
       "      <td>70.0</td>\n",
       "      <td>1.516500e+01</td>\n",
       "      <td>14760.0</td>\n",
       "      <td>185.0</td>\n",
       "      <td>172.0</td>\n",
       "      <td>3.765700e+01</td>\n",
       "      <td>11.1</td>\n",
       "      <td>2.387750e+03</td>\n",
       "      <td>2.100000e-03</td>\n",
       "      <td>1.809400e+00</td>\n",
       "      <td>3.695400e+01</td>\n",
       "      <td>4.630000e+00</td>\n",
       "      <td>9.062500e-03</td>\n",
       "    </tr>\n",
       "    <tr>\n",
       "      <th>2015-12-09</th>\n",
       "      <td>1.420820e+01</td>\n",
       "      <td>15.09</td>\n",
       "      <td>21.33</td>\n",
       "      <td>3.765700e+01</td>\n",
       "      <td>2.170000e-02</td>\n",
       "      <td>2587.0</td>\n",
       "      <td>70.0</td>\n",
       "      <td>1.516500e+01</td>\n",
       "      <td>14760.0</td>\n",
       "      <td>185.0</td>\n",
       "      <td>172.0</td>\n",
       "      <td>3.765700e+01</td>\n",
       "      <td>11.1</td>\n",
       "      <td>2.387750e+03</td>\n",
       "      <td>2.100000e-03</td>\n",
       "      <td>1.809400e+00</td>\n",
       "      <td>3.695400e+01</td>\n",
       "      <td>4.630000e+00</td>\n",
       "      <td>9.093800e-03</td>\n",
       "    </tr>\n",
       "    <tr>\n",
       "      <th>2015-12-10</th>\n",
       "      <td>1.465480e+01</td>\n",
       "      <td>15.04</td>\n",
       "      <td>21.33</td>\n",
       "      <td>3.765700e+01</td>\n",
       "      <td>2.170000e-02</td>\n",
       "      <td>2587.0</td>\n",
       "      <td>70.0</td>\n",
       "      <td>1.516500e+01</td>\n",
       "      <td>14760.0</td>\n",
       "      <td>185.0</td>\n",
       "      <td>172.0</td>\n",
       "      <td>3.765700e+01</td>\n",
       "      <td>11.1</td>\n",
       "      <td>2.387750e+03</td>\n",
       "      <td>2.100000e-03</td>\n",
       "      <td>1.809400e+00</td>\n",
       "      <td>3.695400e+01</td>\n",
       "      <td>4.630000e+00</td>\n",
       "      <td>8.863600e-03</td>\n",
       "    </tr>\n",
       "    <tr>\n",
       "      <th>2015-12-11</th>\n",
       "      <td>1.488520e+01</td>\n",
       "      <td>14.63</td>\n",
       "      <td>21.33</td>\n",
       "      <td>3.765700e+01</td>\n",
       "      <td>2.170000e-02</td>\n",
       "      <td>2587.0</td>\n",
       "      <td>70.0</td>\n",
       "      <td>1.516500e+01</td>\n",
       "      <td>14760.0</td>\n",
       "      <td>185.0</td>\n",
       "      <td>172.0</td>\n",
       "      <td>3.765700e+01</td>\n",
       "      <td>11.1</td>\n",
       "      <td>2.387750e+03</td>\n",
       "      <td>2.100000e-03</td>\n",
       "      <td>1.809400e+00</td>\n",
       "      <td>3.695400e+01</td>\n",
       "      <td>4.630000e+00</td>\n",
       "      <td>8.571400e-03</td>\n",
       "    </tr>\n",
       "    <tr>\n",
       "      <th>...</th>\n",
       "      <td>...</td>\n",
       "      <td>...</td>\n",
       "      <td>...</td>\n",
       "      <td>...</td>\n",
       "      <td>...</td>\n",
       "      <td>...</td>\n",
       "      <td>...</td>\n",
       "      <td>...</td>\n",
       "      <td>...</td>\n",
       "      <td>...</td>\n",
       "      <td>...</td>\n",
       "      <td>...</td>\n",
       "      <td>...</td>\n",
       "      <td>...</td>\n",
       "      <td>...</td>\n",
       "      <td>...</td>\n",
       "      <td>...</td>\n",
       "      <td>...</td>\n",
       "      <td>...</td>\n",
       "    </tr>\n",
       "    <tr>\n",
       "      <th>2021-11-15</th>\n",
       "      <td>6.014640e+09</td>\n",
       "      <td>36.00</td>\n",
       "      <td>56.86</td>\n",
       "      <td>2.725926e+09</td>\n",
       "      <td>2.031504e+08</td>\n",
       "      <td>756.0</td>\n",
       "      <td>0.0</td>\n",
       "      <td>1.325000e+09</td>\n",
       "      <td>11102.0</td>\n",
       "      <td>0.0</td>\n",
       "      <td>1575.3</td>\n",
       "      <td>2.725926e+09</td>\n",
       "      <td>6.8</td>\n",
       "      <td>1.184882e+11</td>\n",
       "      <td>2.210425e+06</td>\n",
       "      <td>2.512177e+09</td>\n",
       "      <td>2.720677e+09</td>\n",
       "      <td>2.392883e+13</td>\n",
       "      <td>4.540000e+06</td>\n",
       "    </tr>\n",
       "    <tr>\n",
       "      <th>2021-11-16</th>\n",
       "      <td>5.973510e+09</td>\n",
       "      <td>36.00</td>\n",
       "      <td>56.86</td>\n",
       "      <td>2.725926e+09</td>\n",
       "      <td>2.031504e+08</td>\n",
       "      <td>756.0</td>\n",
       "      <td>0.0</td>\n",
       "      <td>1.325000e+09</td>\n",
       "      <td>11102.0</td>\n",
       "      <td>0.0</td>\n",
       "      <td>1575.3</td>\n",
       "      <td>2.725926e+09</td>\n",
       "      <td>6.8</td>\n",
       "      <td>1.184882e+11</td>\n",
       "      <td>2.210425e+06</td>\n",
       "      <td>2.512177e+09</td>\n",
       "      <td>2.720677e+09</td>\n",
       "      <td>2.392883e+13</td>\n",
       "      <td>4.610000e+06</td>\n",
       "    </tr>\n",
       "    <tr>\n",
       "      <th>2021-11-17</th>\n",
       "      <td>5.962450e+09</td>\n",
       "      <td>36.00</td>\n",
       "      <td>56.86</td>\n",
       "      <td>2.725926e+09</td>\n",
       "      <td>2.031504e+08</td>\n",
       "      <td>756.0</td>\n",
       "      <td>0.0</td>\n",
       "      <td>1.325000e+09</td>\n",
       "      <td>11102.0</td>\n",
       "      <td>0.0</td>\n",
       "      <td>1575.3</td>\n",
       "      <td>2.725926e+09</td>\n",
       "      <td>6.8</td>\n",
       "      <td>1.184882e+11</td>\n",
       "      <td>2.210425e+06</td>\n",
       "      <td>2.512177e+09</td>\n",
       "      <td>2.720677e+09</td>\n",
       "      <td>2.392883e+13</td>\n",
       "      <td>4.690000e+06</td>\n",
       "    </tr>\n",
       "    <tr>\n",
       "      <th>2021-11-18</th>\n",
       "      <td>5.968420e+09</td>\n",
       "      <td>36.00</td>\n",
       "      <td>56.86</td>\n",
       "      <td>2.725926e+09</td>\n",
       "      <td>2.031504e+08</td>\n",
       "      <td>756.0</td>\n",
       "      <td>0.0</td>\n",
       "      <td>1.325000e+09</td>\n",
       "      <td>11102.0</td>\n",
       "      <td>0.0</td>\n",
       "      <td>1575.3</td>\n",
       "      <td>2.725926e+09</td>\n",
       "      <td>6.8</td>\n",
       "      <td>1.184882e+11</td>\n",
       "      <td>2.210425e+06</td>\n",
       "      <td>2.512177e+09</td>\n",
       "      <td>2.720677e+09</td>\n",
       "      <td>2.392883e+13</td>\n",
       "      <td>4.820000e+06</td>\n",
       "    </tr>\n",
       "    <tr>\n",
       "      <th>2021-11-19</th>\n",
       "      <td>5.998970e+09</td>\n",
       "      <td>36.00</td>\n",
       "      <td>56.86</td>\n",
       "      <td>2.725926e+09</td>\n",
       "      <td>2.031504e+08</td>\n",
       "      <td>756.0</td>\n",
       "      <td>0.0</td>\n",
       "      <td>1.325000e+09</td>\n",
       "      <td>11102.0</td>\n",
       "      <td>0.0</td>\n",
       "      <td>1575.3</td>\n",
       "      <td>2.725926e+09</td>\n",
       "      <td>6.8</td>\n",
       "      <td>1.184882e+11</td>\n",
       "      <td>2.210425e+06</td>\n",
       "      <td>2.512177e+09</td>\n",
       "      <td>2.720677e+09</td>\n",
       "      <td>2.392883e+13</td>\n",
       "      <td>4.820000e+06</td>\n",
       "    </tr>\n",
       "  </tbody>\n",
       "</table>\n",
       "<p>2175 rows × 19 columns</p>\n",
       "</div>"
      ],
      "text/plain": [
       "            Stock_Market  Deposit_Interest_Rate  Interest_Rate  \\\n",
       "Unnamed: 0                                                       \n",
       "2015-12-07           NaN                    NaN            NaN   \n",
       "2015-12-08  1.311730e+01                  14.89          21.33   \n",
       "2015-12-09  1.420820e+01                  15.09          21.33   \n",
       "2015-12-10  1.465480e+01                  15.04          21.33   \n",
       "2015-12-11  1.488520e+01                  14.63          21.33   \n",
       "...                  ...                    ...            ...   \n",
       "2021-11-15  6.014640e+09                  36.00          56.86   \n",
       "2021-11-16  5.973510e+09                  36.00          56.86   \n",
       "2021-11-17  5.962450e+09                  36.00          56.86   \n",
       "2021-11-18  5.968420e+09                  36.00          56.86   \n",
       "2021-11-19  5.998970e+09                  36.00          56.86   \n",
       "\n",
       "            Money_Supply_M3  Central_Bank_Balance_Sheet  Crude_Oil_Production  \\\n",
       "Unnamed: 0                                                                      \n",
       "2015-12-07              NaN                         NaN                   NaN   \n",
       "2015-12-08     3.765700e+01                2.170000e-02                2587.0   \n",
       "2015-12-09     3.765700e+01                2.170000e-02                2587.0   \n",
       "2015-12-10     3.765700e+01                2.170000e-02                2587.0   \n",
       "2015-12-11     3.765700e+01                2.170000e-02                2587.0   \n",
       "...                     ...                         ...                   ...   \n",
       "2021-11-15     2.725926e+09                2.031504e+08                 756.0   \n",
       "2021-11-16     2.725926e+09                2.031504e+08                 756.0   \n",
       "2021-11-17     2.725926e+09                2.031504e+08                 756.0   \n",
       "2021-11-18     2.725926e+09                2.031504e+08                 756.0   \n",
       "2021-11-19     2.725926e+09                2.031504e+08                 756.0   \n",
       "\n",
       "            Crude_Oil_Rig  Money_Supply_M0  Foreign_Exchange_Reserve  \\\n",
       "Unnamed: 0                                                             \n",
       "2015-12-07            NaN              NaN                       NaN   \n",
       "2015-12-08           70.0     1.516500e+01                   14760.0   \n",
       "2015-12-09           70.0     1.516500e+01                   14760.0   \n",
       "2015-12-10           70.0     1.516500e+01                   14760.0   \n",
       "2015-12-11           70.0     1.516500e+01                   14760.0   \n",
       "...                   ...              ...                       ...   \n",
       "2021-11-15            0.0     1.325000e+09                   11102.0   \n",
       "2021-11-16            0.0     1.325000e+09                   11102.0   \n",
       "2021-11-17            0.0     1.325000e+09                   11102.0   \n",
       "2021-11-18            0.0     1.325000e+09                   11102.0   \n",
       "2021-11-19            0.0     1.325000e+09                   11102.0   \n",
       "\n",
       "            External_Debt  Inflation_Rate  Money_Supply_M2  \\\n",
       "Unnamed: 0                                                   \n",
       "2015-12-07            NaN             NaN              NaN   \n",
       "2015-12-08          185.0           172.0     3.765700e+01   \n",
       "2015-12-09          185.0           172.0     3.765700e+01   \n",
       "2015-12-10          185.0           172.0     3.765700e+01   \n",
       "2015-12-11          185.0           172.0     3.765700e+01   \n",
       "...                   ...             ...              ...   \n",
       "2021-11-15            0.0          1575.3     2.725926e+09   \n",
       "2021-11-16            0.0          1575.3     2.725926e+09   \n",
       "2021-11-17            0.0          1575.3     2.725926e+09   \n",
       "2021-11-18            0.0          1575.3     2.725926e+09   \n",
       "2021-11-19            0.0          1575.3     2.725926e+09   \n",
       "\n",
       "            Inflation_Rate_Mom  Private_Sector_Credit  \\\n",
       "Unnamed: 0                                              \n",
       "2015-12-07                 NaN                    NaN   \n",
       "2015-12-08                11.1           2.387750e+03   \n",
       "2015-12-09                11.1           2.387750e+03   \n",
       "2015-12-10                11.1           2.387750e+03   \n",
       "2015-12-11                11.1           2.387750e+03   \n",
       "...                        ...                    ...   \n",
       "2021-11-15                 6.8           1.184882e+11   \n",
       "2021-11-16                 6.8           1.184882e+11   \n",
       "2021-11-17                 6.8           1.184882e+11   \n",
       "2021-11-18                 6.8           1.184882e+11   \n",
       "2021-11-19                 6.8           1.184882e+11   \n",
       "\n",
       "            Consumer_Price_Index_CPI  CPI_Transportation  Money_Supply_M1  \\\n",
       "Unnamed: 0                                                                  \n",
       "2015-12-07                       NaN                 NaN              NaN   \n",
       "2015-12-08              2.100000e-03        1.809400e+00     3.695400e+01   \n",
       "2015-12-09              2.100000e-03        1.809400e+00     3.695400e+01   \n",
       "2015-12-10              2.100000e-03        1.809400e+00     3.695400e+01   \n",
       "2015-12-11              2.100000e-03        1.809400e+00     3.695400e+01   \n",
       "...                              ...                 ...              ...   \n",
       "2021-11-15              2.210425e+06        2.512177e+09     2.720677e+09   \n",
       "2021-11-16              2.210425e+06        2.512177e+09     2.720677e+09   \n",
       "2021-11-17              2.210425e+06        2.512177e+09     2.720677e+09   \n",
       "2021-11-18              2.210425e+06        2.512177e+09     2.720677e+09   \n",
       "2021-11-19              2.210425e+06        2.512177e+09     2.720677e+09   \n",
       "\n",
       "            Banks_Balance_Sheet    Dolartoday  \n",
       "Unnamed: 0                                     \n",
       "2015-12-07                  NaN           NaN  \n",
       "2015-12-08         4.630000e+00  9.062500e-03  \n",
       "2015-12-09         4.630000e+00  9.093800e-03  \n",
       "2015-12-10         4.630000e+00  8.863600e-03  \n",
       "2015-12-11         4.630000e+00  8.571400e-03  \n",
       "...                         ...           ...  \n",
       "2021-11-15         2.392883e+13  4.540000e+06  \n",
       "2021-11-16         2.392883e+13  4.610000e+06  \n",
       "2021-11-17         2.392883e+13  4.690000e+06  \n",
       "2021-11-18         2.392883e+13  4.820000e+06  \n",
       "2021-11-19         2.392883e+13  4.820000e+06  \n",
       "\n",
       "[2175 rows x 19 columns]"
      ]
     },
     "execution_count": 9,
     "metadata": {},
     "output_type": "execute_result"
    }
   ],
   "source": [
    "y_pred = df_test.shift(1)\n",
    "y_pred"
   ]
  },
  {
   "cell_type": "code",
   "execution_count": 10,
   "id": "c55e6eef",
   "metadata": {},
   "outputs": [
    {
     "data": {
      "text/html": [
       "<div>\n",
       "<style scoped>\n",
       "    .dataframe tbody tr th:only-of-type {\n",
       "        vertical-align: middle;\n",
       "    }\n",
       "\n",
       "    .dataframe tbody tr th {\n",
       "        vertical-align: top;\n",
       "    }\n",
       "\n",
       "    .dataframe thead th {\n",
       "        text-align: right;\n",
       "    }\n",
       "</style>\n",
       "<table border=\"1\" class=\"dataframe\">\n",
       "  <thead>\n",
       "    <tr style=\"text-align: right;\">\n",
       "      <th></th>\n",
       "      <th>Stock_Market</th>\n",
       "      <th>Deposit_Interest_Rate</th>\n",
       "      <th>Interest_Rate</th>\n",
       "      <th>Money_Supply_M3</th>\n",
       "      <th>Central_Bank_Balance_Sheet</th>\n",
       "      <th>Crude_Oil_Production</th>\n",
       "      <th>Crude_Oil_Rig</th>\n",
       "      <th>Money_Supply_M0</th>\n",
       "      <th>Foreign_Exchange_Reserve</th>\n",
       "      <th>External_Debt</th>\n",
       "      <th>Inflation_Rate</th>\n",
       "      <th>Money_Supply_M2</th>\n",
       "      <th>Inflation_Rate_Mom</th>\n",
       "      <th>Private_Sector_Credit</th>\n",
       "      <th>Consumer_Price_Index_CPI</th>\n",
       "      <th>CPI_Transportation</th>\n",
       "      <th>Money_Supply_M1</th>\n",
       "      <th>Banks_Balance_Sheet</th>\n",
       "      <th>Dolartoday</th>\n",
       "    </tr>\n",
       "    <tr>\n",
       "      <th>Unnamed: 0</th>\n",
       "      <th></th>\n",
       "      <th></th>\n",
       "      <th></th>\n",
       "      <th></th>\n",
       "      <th></th>\n",
       "      <th></th>\n",
       "      <th></th>\n",
       "      <th></th>\n",
       "      <th></th>\n",
       "      <th></th>\n",
       "      <th></th>\n",
       "      <th></th>\n",
       "      <th></th>\n",
       "      <th></th>\n",
       "      <th></th>\n",
       "      <th></th>\n",
       "      <th></th>\n",
       "      <th></th>\n",
       "      <th></th>\n",
       "    </tr>\n",
       "  </thead>\n",
       "  <tbody>\n",
       "    <tr>\n",
       "      <th>2015-12-07</th>\n",
       "      <td>1.311730e+01</td>\n",
       "      <td>14.89</td>\n",
       "      <td>21.33</td>\n",
       "      <td>3.765700e+01</td>\n",
       "      <td>2.170000e-02</td>\n",
       "      <td>2587.0</td>\n",
       "      <td>70.0</td>\n",
       "      <td>1.516500e+01</td>\n",
       "      <td>14760.0</td>\n",
       "      <td>185.0</td>\n",
       "      <td>172.0</td>\n",
       "      <td>3.765700e+01</td>\n",
       "      <td>11.1</td>\n",
       "      <td>2.387750e+03</td>\n",
       "      <td>2.100000e-03</td>\n",
       "      <td>1.809400e+00</td>\n",
       "      <td>3.695400e+01</td>\n",
       "      <td>4.630000e+00</td>\n",
       "      <td>9.062500e-03</td>\n",
       "    </tr>\n",
       "    <tr>\n",
       "      <th>2015-12-08</th>\n",
       "      <td>1.420820e+01</td>\n",
       "      <td>15.09</td>\n",
       "      <td>21.33</td>\n",
       "      <td>3.765700e+01</td>\n",
       "      <td>2.170000e-02</td>\n",
       "      <td>2587.0</td>\n",
       "      <td>70.0</td>\n",
       "      <td>1.516500e+01</td>\n",
       "      <td>14760.0</td>\n",
       "      <td>185.0</td>\n",
       "      <td>172.0</td>\n",
       "      <td>3.765700e+01</td>\n",
       "      <td>11.1</td>\n",
       "      <td>2.387750e+03</td>\n",
       "      <td>2.100000e-03</td>\n",
       "      <td>1.809400e+00</td>\n",
       "      <td>3.695400e+01</td>\n",
       "      <td>4.630000e+00</td>\n",
       "      <td>9.093800e-03</td>\n",
       "    </tr>\n",
       "    <tr>\n",
       "      <th>2015-12-09</th>\n",
       "      <td>1.465480e+01</td>\n",
       "      <td>15.04</td>\n",
       "      <td>21.33</td>\n",
       "      <td>3.765700e+01</td>\n",
       "      <td>2.170000e-02</td>\n",
       "      <td>2587.0</td>\n",
       "      <td>70.0</td>\n",
       "      <td>1.516500e+01</td>\n",
       "      <td>14760.0</td>\n",
       "      <td>185.0</td>\n",
       "      <td>172.0</td>\n",
       "      <td>3.765700e+01</td>\n",
       "      <td>11.1</td>\n",
       "      <td>2.387750e+03</td>\n",
       "      <td>2.100000e-03</td>\n",
       "      <td>1.809400e+00</td>\n",
       "      <td>3.695400e+01</td>\n",
       "      <td>4.630000e+00</td>\n",
       "      <td>8.863600e-03</td>\n",
       "    </tr>\n",
       "    <tr>\n",
       "      <th>2015-12-10</th>\n",
       "      <td>1.488520e+01</td>\n",
       "      <td>14.63</td>\n",
       "      <td>21.33</td>\n",
       "      <td>3.765700e+01</td>\n",
       "      <td>2.170000e-02</td>\n",
       "      <td>2587.0</td>\n",
       "      <td>70.0</td>\n",
       "      <td>1.516500e+01</td>\n",
       "      <td>14760.0</td>\n",
       "      <td>185.0</td>\n",
       "      <td>172.0</td>\n",
       "      <td>3.765700e+01</td>\n",
       "      <td>11.1</td>\n",
       "      <td>2.387750e+03</td>\n",
       "      <td>2.100000e-03</td>\n",
       "      <td>1.809400e+00</td>\n",
       "      <td>3.695400e+01</td>\n",
       "      <td>4.630000e+00</td>\n",
       "      <td>8.571400e-03</td>\n",
       "    </tr>\n",
       "    <tr>\n",
       "      <th>2015-12-11</th>\n",
       "      <td>1.500530e+01</td>\n",
       "      <td>14.72</td>\n",
       "      <td>21.33</td>\n",
       "      <td>3.765700e+01</td>\n",
       "      <td>2.170000e-02</td>\n",
       "      <td>2587.0</td>\n",
       "      <td>70.0</td>\n",
       "      <td>1.516500e+01</td>\n",
       "      <td>14760.0</td>\n",
       "      <td>185.0</td>\n",
       "      <td>172.0</td>\n",
       "      <td>3.765700e+01</td>\n",
       "      <td>11.1</td>\n",
       "      <td>2.387750e+03</td>\n",
       "      <td>2.100000e-03</td>\n",
       "      <td>1.809400e+00</td>\n",
       "      <td>3.695400e+01</td>\n",
       "      <td>4.630000e+00</td>\n",
       "      <td>8.571400e-03</td>\n",
       "    </tr>\n",
       "    <tr>\n",
       "      <th>...</th>\n",
       "      <td>...</td>\n",
       "      <td>...</td>\n",
       "      <td>...</td>\n",
       "      <td>...</td>\n",
       "      <td>...</td>\n",
       "      <td>...</td>\n",
       "      <td>...</td>\n",
       "      <td>...</td>\n",
       "      <td>...</td>\n",
       "      <td>...</td>\n",
       "      <td>...</td>\n",
       "      <td>...</td>\n",
       "      <td>...</td>\n",
       "      <td>...</td>\n",
       "      <td>...</td>\n",
       "      <td>...</td>\n",
       "      <td>...</td>\n",
       "      <td>...</td>\n",
       "      <td>...</td>\n",
       "    </tr>\n",
       "    <tr>\n",
       "      <th>2021-11-15</th>\n",
       "      <td>5.973510e+09</td>\n",
       "      <td>36.00</td>\n",
       "      <td>56.86</td>\n",
       "      <td>2.725926e+09</td>\n",
       "      <td>2.031504e+08</td>\n",
       "      <td>756.0</td>\n",
       "      <td>0.0</td>\n",
       "      <td>1.325000e+09</td>\n",
       "      <td>11102.0</td>\n",
       "      <td>0.0</td>\n",
       "      <td>1575.3</td>\n",
       "      <td>2.725926e+09</td>\n",
       "      <td>6.8</td>\n",
       "      <td>1.184882e+11</td>\n",
       "      <td>2.210425e+06</td>\n",
       "      <td>2.512177e+09</td>\n",
       "      <td>2.720677e+09</td>\n",
       "      <td>2.392883e+13</td>\n",
       "      <td>4.610000e+06</td>\n",
       "    </tr>\n",
       "    <tr>\n",
       "      <th>2021-11-16</th>\n",
       "      <td>5.962450e+09</td>\n",
       "      <td>36.00</td>\n",
       "      <td>56.86</td>\n",
       "      <td>2.725926e+09</td>\n",
       "      <td>2.031504e+08</td>\n",
       "      <td>756.0</td>\n",
       "      <td>0.0</td>\n",
       "      <td>1.325000e+09</td>\n",
       "      <td>11102.0</td>\n",
       "      <td>0.0</td>\n",
       "      <td>1575.3</td>\n",
       "      <td>2.725926e+09</td>\n",
       "      <td>6.8</td>\n",
       "      <td>1.184882e+11</td>\n",
       "      <td>2.210425e+06</td>\n",
       "      <td>2.512177e+09</td>\n",
       "      <td>2.720677e+09</td>\n",
       "      <td>2.392883e+13</td>\n",
       "      <td>4.690000e+06</td>\n",
       "    </tr>\n",
       "    <tr>\n",
       "      <th>2021-11-17</th>\n",
       "      <td>5.968420e+09</td>\n",
       "      <td>36.00</td>\n",
       "      <td>56.86</td>\n",
       "      <td>2.725926e+09</td>\n",
       "      <td>2.031504e+08</td>\n",
       "      <td>756.0</td>\n",
       "      <td>0.0</td>\n",
       "      <td>1.325000e+09</td>\n",
       "      <td>11102.0</td>\n",
       "      <td>0.0</td>\n",
       "      <td>1575.3</td>\n",
       "      <td>2.725926e+09</td>\n",
       "      <td>6.8</td>\n",
       "      <td>1.184882e+11</td>\n",
       "      <td>2.210425e+06</td>\n",
       "      <td>2.512177e+09</td>\n",
       "      <td>2.720677e+09</td>\n",
       "      <td>2.392883e+13</td>\n",
       "      <td>4.820000e+06</td>\n",
       "    </tr>\n",
       "    <tr>\n",
       "      <th>2021-11-18</th>\n",
       "      <td>5.998970e+09</td>\n",
       "      <td>36.00</td>\n",
       "      <td>56.86</td>\n",
       "      <td>2.725926e+09</td>\n",
       "      <td>2.031504e+08</td>\n",
       "      <td>756.0</td>\n",
       "      <td>0.0</td>\n",
       "      <td>1.325000e+09</td>\n",
       "      <td>11102.0</td>\n",
       "      <td>0.0</td>\n",
       "      <td>1575.3</td>\n",
       "      <td>2.725926e+09</td>\n",
       "      <td>6.8</td>\n",
       "      <td>1.184882e+11</td>\n",
       "      <td>2.210425e+06</td>\n",
       "      <td>2.512177e+09</td>\n",
       "      <td>2.720677e+09</td>\n",
       "      <td>2.392883e+13</td>\n",
       "      <td>4.820000e+06</td>\n",
       "    </tr>\n",
       "    <tr>\n",
       "      <th>2021-11-19</th>\n",
       "      <td>6.043920e+09</td>\n",
       "      <td>36.00</td>\n",
       "      <td>56.86</td>\n",
       "      <td>2.725926e+09</td>\n",
       "      <td>2.031504e+08</td>\n",
       "      <td>756.0</td>\n",
       "      <td>0.0</td>\n",
       "      <td>1.325000e+09</td>\n",
       "      <td>11102.0</td>\n",
       "      <td>0.0</td>\n",
       "      <td>1575.3</td>\n",
       "      <td>2.725926e+09</td>\n",
       "      <td>6.8</td>\n",
       "      <td>1.184882e+11</td>\n",
       "      <td>2.210425e+06</td>\n",
       "      <td>2.512177e+09</td>\n",
       "      <td>2.720677e+09</td>\n",
       "      <td>2.392883e+13</td>\n",
       "      <td>4.820000e+06</td>\n",
       "    </tr>\n",
       "  </tbody>\n",
       "</table>\n",
       "<p>2175 rows × 19 columns</p>\n",
       "</div>"
      ],
      "text/plain": [
       "            Stock_Market  Deposit_Interest_Rate  Interest_Rate  \\\n",
       "Unnamed: 0                                                       \n",
       "2015-12-07  1.311730e+01                  14.89          21.33   \n",
       "2015-12-08  1.420820e+01                  15.09          21.33   \n",
       "2015-12-09  1.465480e+01                  15.04          21.33   \n",
       "2015-12-10  1.488520e+01                  14.63          21.33   \n",
       "2015-12-11  1.500530e+01                  14.72          21.33   \n",
       "...                  ...                    ...            ...   \n",
       "2021-11-15  5.973510e+09                  36.00          56.86   \n",
       "2021-11-16  5.962450e+09                  36.00          56.86   \n",
       "2021-11-17  5.968420e+09                  36.00          56.86   \n",
       "2021-11-18  5.998970e+09                  36.00          56.86   \n",
       "2021-11-19  6.043920e+09                  36.00          56.86   \n",
       "\n",
       "            Money_Supply_M3  Central_Bank_Balance_Sheet  Crude_Oil_Production  \\\n",
       "Unnamed: 0                                                                      \n",
       "2015-12-07     3.765700e+01                2.170000e-02                2587.0   \n",
       "2015-12-08     3.765700e+01                2.170000e-02                2587.0   \n",
       "2015-12-09     3.765700e+01                2.170000e-02                2587.0   \n",
       "2015-12-10     3.765700e+01                2.170000e-02                2587.0   \n",
       "2015-12-11     3.765700e+01                2.170000e-02                2587.0   \n",
       "...                     ...                         ...                   ...   \n",
       "2021-11-15     2.725926e+09                2.031504e+08                 756.0   \n",
       "2021-11-16     2.725926e+09                2.031504e+08                 756.0   \n",
       "2021-11-17     2.725926e+09                2.031504e+08                 756.0   \n",
       "2021-11-18     2.725926e+09                2.031504e+08                 756.0   \n",
       "2021-11-19     2.725926e+09                2.031504e+08                 756.0   \n",
       "\n",
       "            Crude_Oil_Rig  Money_Supply_M0  Foreign_Exchange_Reserve  \\\n",
       "Unnamed: 0                                                             \n",
       "2015-12-07           70.0     1.516500e+01                   14760.0   \n",
       "2015-12-08           70.0     1.516500e+01                   14760.0   \n",
       "2015-12-09           70.0     1.516500e+01                   14760.0   \n",
       "2015-12-10           70.0     1.516500e+01                   14760.0   \n",
       "2015-12-11           70.0     1.516500e+01                   14760.0   \n",
       "...                   ...              ...                       ...   \n",
       "2021-11-15            0.0     1.325000e+09                   11102.0   \n",
       "2021-11-16            0.0     1.325000e+09                   11102.0   \n",
       "2021-11-17            0.0     1.325000e+09                   11102.0   \n",
       "2021-11-18            0.0     1.325000e+09                   11102.0   \n",
       "2021-11-19            0.0     1.325000e+09                   11102.0   \n",
       "\n",
       "            External_Debt  Inflation_Rate  Money_Supply_M2  \\\n",
       "Unnamed: 0                                                   \n",
       "2015-12-07          185.0           172.0     3.765700e+01   \n",
       "2015-12-08          185.0           172.0     3.765700e+01   \n",
       "2015-12-09          185.0           172.0     3.765700e+01   \n",
       "2015-12-10          185.0           172.0     3.765700e+01   \n",
       "2015-12-11          185.0           172.0     3.765700e+01   \n",
       "...                   ...             ...              ...   \n",
       "2021-11-15            0.0          1575.3     2.725926e+09   \n",
       "2021-11-16            0.0          1575.3     2.725926e+09   \n",
       "2021-11-17            0.0          1575.3     2.725926e+09   \n",
       "2021-11-18            0.0          1575.3     2.725926e+09   \n",
       "2021-11-19            0.0          1575.3     2.725926e+09   \n",
       "\n",
       "            Inflation_Rate_Mom  Private_Sector_Credit  \\\n",
       "Unnamed: 0                                              \n",
       "2015-12-07                11.1           2.387750e+03   \n",
       "2015-12-08                11.1           2.387750e+03   \n",
       "2015-12-09                11.1           2.387750e+03   \n",
       "2015-12-10                11.1           2.387750e+03   \n",
       "2015-12-11                11.1           2.387750e+03   \n",
       "...                        ...                    ...   \n",
       "2021-11-15                 6.8           1.184882e+11   \n",
       "2021-11-16                 6.8           1.184882e+11   \n",
       "2021-11-17                 6.8           1.184882e+11   \n",
       "2021-11-18                 6.8           1.184882e+11   \n",
       "2021-11-19                 6.8           1.184882e+11   \n",
       "\n",
       "            Consumer_Price_Index_CPI  CPI_Transportation  Money_Supply_M1  \\\n",
       "Unnamed: 0                                                                  \n",
       "2015-12-07              2.100000e-03        1.809400e+00     3.695400e+01   \n",
       "2015-12-08              2.100000e-03        1.809400e+00     3.695400e+01   \n",
       "2015-12-09              2.100000e-03        1.809400e+00     3.695400e+01   \n",
       "2015-12-10              2.100000e-03        1.809400e+00     3.695400e+01   \n",
       "2015-12-11              2.100000e-03        1.809400e+00     3.695400e+01   \n",
       "...                              ...                 ...              ...   \n",
       "2021-11-15              2.210425e+06        2.512177e+09     2.720677e+09   \n",
       "2021-11-16              2.210425e+06        2.512177e+09     2.720677e+09   \n",
       "2021-11-17              2.210425e+06        2.512177e+09     2.720677e+09   \n",
       "2021-11-18              2.210425e+06        2.512177e+09     2.720677e+09   \n",
       "2021-11-19              2.210425e+06        2.512177e+09     2.720677e+09   \n",
       "\n",
       "            Banks_Balance_Sheet    Dolartoday  \n",
       "Unnamed: 0                                     \n",
       "2015-12-07         4.630000e+00  9.062500e-03  \n",
       "2015-12-08         4.630000e+00  9.093800e-03  \n",
       "2015-12-09         4.630000e+00  8.863600e-03  \n",
       "2015-12-10         4.630000e+00  8.571400e-03  \n",
       "2015-12-11         4.630000e+00  8.571400e-03  \n",
       "...                         ...           ...  \n",
       "2021-11-15         2.392883e+13  4.610000e+06  \n",
       "2021-11-16         2.392883e+13  4.690000e+06  \n",
       "2021-11-17         2.392883e+13  4.820000e+06  \n",
       "2021-11-18         2.392883e+13  4.820000e+06  \n",
       "2021-11-19         2.392883e+13  4.820000e+06  \n",
       "\n",
       "[2175 rows x 19 columns]"
      ]
     },
     "execution_count": 10,
     "metadata": {},
     "output_type": "execute_result"
    }
   ],
   "source": [
    "df_test"
   ]
  },
  {
   "cell_type": "markdown",
   "id": "892b69d0",
   "metadata": {},
   "source": [
    "### y_pross"
   ]
  },
  {
   "cell_type": "code",
   "execution_count": 11,
   "id": "846c6066",
   "metadata": {},
   "outputs": [
    {
     "data": {
      "text/plain": [
       "[<matplotlib.lines.Line2D at 0x14cdf0430>]"
      ]
     },
     "execution_count": 11,
     "metadata": {},
     "output_type": "execute_result"
    },
    {
     "data": {
      "image/png": "[encoded data removed]",
      "text/plain": [
       "<Figure size 432x288 with 1 Axes>"
      ]
     },
     "metadata": {
      "needs_background": "light"
     },
     "output_type": "display_data"
    }
   ],
   "source": [
    "plt.plot(df_test['Dolartoday'].pct_change() + 1)"
   ]
  },
  {
   "cell_type": "code",
   "execution_count": 12,
   "id": "5504d1e3",
   "metadata": {},
   "outputs": [],
   "source": [
    "from sklearn.metrics import r2_score\n",
    "\n",
    "#y_pross = np.log(df_test['Dolartoday']/df_test['Dolartoday'].shift(1))[1:]\n",
    "y_pross = np.log(df_test['Dolartoday'])\n",
    "\n",
    "#y_pross = np.log(df_test['Dolartoday']).diff()\n",
    "y_true = df_test[1:]\n",
    "#print(f\"R2:{r2_score(y_true, y_pred)}\")"
   ]
  },
  {
   "cell_type": "code",
   "execution_count": 13,
   "id": "ebf4a0a0",
   "metadata": {},
   "outputs": [
    {
     "data": {
      "text/plain": [
       "41325"
      ]
     },
     "execution_count": 13,
     "metadata": {},
     "output_type": "execute_result"
    }
   ],
   "source": [
    "y_pred.size"
   ]
  },
  {
   "cell_type": "code",
   "execution_count": 14,
   "id": "7491d834",
   "metadata": {},
   "outputs": [
    {
     "data": {
      "text/plain": [
       "41306"
      ]
     },
     "execution_count": 14,
     "metadata": {},
     "output_type": "execute_result"
    }
   ],
   "source": [
    "y_true.size"
   ]
  },
  {
   "cell_type": "markdown",
   "id": "985ae88e",
   "metadata": {},
   "source": [
    "#### Correlation"
   ]
  },
  {
   "cell_type": "code",
   "execution_count": 15,
   "id": "d6d35c36",
   "metadata": {},
   "outputs": [
    {
     "data": {
      "image/png": "[encoded data removed]",
      "text/plain": [
       "<Figure size 1152x216 with 2 Axes>"
      ]
     },
     "metadata": {
      "needs_background": "light"
     },
     "output_type": "display_data"
    }
   ],
   "source": [
    "fig, axes = plt.subplots(1,2, figsize=(16,3))\n",
    "plot_acf(y_pross.dropna(), lags=30, ax=axes[0]);\n",
    "plot_pacf(y_pross.dropna(), lags=50, ax=axes[1], color='r');"
   ]
  },
  {
   "cell_type": "code",
   "execution_count": 16,
   "id": "5e4c4716",
   "metadata": {},
   "outputs": [
    {
     "data": {
      "image/png": "[encoded data removed]",
      "text/plain": [
       "<Figure size 1440x288 with 3 Axes>"
      ]
     },
     "metadata": {
      "needs_background": "light"
     },
     "output_type": "display_data"
    }
   ],
   "source": [
    "# Let's check the first diffs\n",
    "zero_diff = y_pross\n",
    "first_order_diff = y_pross.diff(1)\n",
    "second_order_diff = y_pross.diff(1).diff(1)\n",
    "\n",
    "\n",
    "fig, (ax1, ax2, ax3) = plt.subplots(1, 3, figsize=(20,4))\n",
    "ax1.plot(zero_diff); ax1.set_title('1st Order Differencing')\n",
    "ax2.plot(first_order_diff); ax2.set_title('2st Order Differencing')\n",
    "ax3.plot(second_order_diff); ax3.set_title('3nd Order Differencing');"
   ]
  },
  {
   "cell_type": "code",
   "execution_count": 17,
   "id": "0464e4b2",
   "metadata": {},
   "outputs": [],
   "source": [
    "from statsmodels.tsa.stattools import adfuller"
   ]
  },
  {
   "cell_type": "code",
   "execution_count": 18,
   "id": "50fca814",
   "metadata": {
    "scrolled": true
   },
   "outputs": [
    {
     "data": {
      "image/png": "[encoded data removed]",
      "text/plain": [
       "<Figure size 1152x180 with 3 Axes>"
      ]
     },
     "metadata": {
      "needs_background": "light"
     },
     "output_type": "display_data"
    }
   ],
   "source": [
    "# ACF / PACF analysis of y_diff linearized\n",
    "fig, axes = plt.subplots(1,3, figsize=(16,2.5))\n",
    "axes[0].plot(y_pross[1:]); axes[0].set_title('1st Order Differencing')\n",
    "plot_acf(y_pross[1:], ax=axes[1]);\n",
    "plot_pacf(y_pross[1:], ax=axes[2], c='r');\n"
   ]
  },
  {
   "cell_type": "code",
   "execution_count": 19,
   "id": "0809f893",
   "metadata": {},
   "outputs": [
    {
     "data": {
      "text/plain": [
       "Unnamed: 0\n",
       "2015-12-07    -4.703610\n",
       "2015-12-08    -4.700162\n",
       "2015-12-09    -4.725802\n",
       "2015-12-10    -4.759324\n",
       "2015-12-11    -4.759324\n",
       "                ...    \n",
       "2021-11-15    15.343738\n",
       "2021-11-16    15.360943\n",
       "2021-11-17    15.388284\n",
       "2021-11-18    15.388284\n",
       "2021-11-19    15.388284\n",
       "Name: Dolartoday, Length: 2175, dtype: float64"
      ]
     },
     "execution_count": 19,
     "metadata": {},
     "output_type": "execute_result"
    }
   ],
   "source": [
    "y_pross"
   ]
  },
  {
   "cell_type": "markdown",
   "id": "deaef0d8",
   "metadata": {},
   "source": [
    "#### Arima summary"
   ]
  },
  {
   "cell_type": "code",
   "execution_count": 20,
   "id": "0d5b015d",
   "metadata": {
    "scrolled": true
   },
   "outputs": [
    {
     "name": "stderr",
     "output_type": "stream",
     "text": [
      "/Users/arnauddeprest/.pyenv/versions/3.8.12/envs/venezuela_fx/lib/python3.8/site-packages/statsmodels/tsa/base/tsa_model.py:159: ValueWarning: No frequency information was provided, so inferred frequency D will be used.\n",
      "  warnings.warn('No frequency information was'\n",
      "/Users/arnauddeprest/.pyenv/versions/3.8.12/envs/venezuela_fx/lib/python3.8/site-packages/statsmodels/tsa/base/tsa_model.py:159: ValueWarning: No frequency information was provided, so inferred frequency D will be used.\n",
      "  warnings.warn('No frequency information was'\n",
      " This problem is unconstrained.\n"
     ]
    },
    {
     "name": "stdout",
     "output_type": "stream",
     "text": [
      "RUNNING THE L-BFGS-B CODE\n",
      "\n",
      "           * * *\n",
      "\n",
      "Machine precision = 2.220D-16\n",
      " N =            4     M =           12\n",
      "\n",
      "At X0         0 variables are exactly at the bounds\n",
      "\n",
      "At iterate    0    f= -1.89105D+00    |proj g|=  1.29938D+01\n",
      "\n",
      "At iterate    5    f= -1.89110D+00    |proj g|=  1.34379D-01\n",
      "\n",
      "At iterate   10    f= -1.89110D+00    |proj g|=  2.11700D+00\n",
      "\n",
      "At iterate   15    f= -1.89119D+00    |proj g|=  8.24991D+00\n",
      "\n",
      "At iterate   20    f= -1.89121D+00    |proj g|=  4.33609D-01\n",
      "\n",
      "At iterate   25    f= -1.89167D+00    |proj g|=  2.62729D+01\n",
      "\n",
      "At iterate   30    f= -1.89286D+00    |proj g|=  6.31555D+00\n",
      "\n",
      "At iterate   35    f= -1.89286D+00    |proj g|=  4.45590D-03\n",
      "\n",
      "At iterate   40    f= -1.89286D+00    |proj g|=  4.39161D-01\n",
      "\n",
      "At iterate   45    f= -1.89287D+00    |proj g|=  6.62374D-01\n",
      "\n",
      "At iterate   50    f= -1.89288D+00    |proj g|=  2.38343D-01\n",
      "\n",
      "At iterate   55    f= -1.89288D+00    |proj g|=  2.71516D-04\n",
      "\n",
      "           * * *\n",
      "\n",
      "Tit   = total number of iterations\n",
      "Tnf   = total number of function evaluations\n",
      "Tnint = total number of segments explored during Cauchy searches\n",
      "Skip  = number of BFGS updates skipped\n",
      "Nact  = number of active bounds at final generalized Cauchy point\n",
      "Projg = norm of the final projected gradient\n",
      "F     = final function value\n",
      "\n",
      "           * * *\n",
      "\n",
      "   N    Tit     Tnf  Tnint  Skip  Nact     Projg        F\n",
      "    4     58     87      1     0     0   2.746D-04  -1.893D+00\n",
      "  F =  -1.8928825710020099     \n",
      "\n",
      "CONVERGENCE: REL_REDUCTION_OF_F_<=_FACTR*EPSMCH             \n"
     ]
    },
    {
     "name": "stderr",
     "output_type": "stream",
     "text": [
      "\n",
      " Warning:  more than 10 function and gradient\n",
      "   evaluations in the last line search.  Termination\n",
      "   may possibly be caused by a bad search direction.\n"
     ]
    },
    {
     "data": {
      "text/html": [
       "<table class=\"simpletable\">\n",
       "<caption>ARIMA Model Results</caption>\n",
       "<tr>\n",
       "  <th>Dep. Variable:</th>   <td>D2.Dolartoday</td>  <th>  No. Observations:  </th>   <td>2173</td>   \n",
       "</tr>\n",
       "<tr>\n",
       "  <th>Model:</th>          <td>ARIMA(2, 2, 1)</td>  <th>  Log Likelihood     </th> <td>4113.234</td> \n",
       "</tr>\n",
       "<tr>\n",
       "  <th>Method:</th>             <td>css-mle</td>     <th>  S.D. of innovations</th>   <td>0.036</td>  \n",
       "</tr>\n",
       "<tr>\n",
       "  <th>Date:</th>          <td>Thu, 25 Nov 2021</td> <th>  AIC                </th> <td>-8216.468</td>\n",
       "</tr>\n",
       "<tr>\n",
       "  <th>Time:</th>              <td>15:23:18</td>     <th>  BIC                </th> <td>-8188.048</td>\n",
       "</tr>\n",
       "<tr>\n",
       "  <th>Sample:</th>           <td>12-09-2015</td>    <th>  HQIC               </th> <td>-8206.076</td>\n",
       "</tr>\n",
       "<tr>\n",
       "  <th></th>                 <td>- 11-19-2021</td>   <th>                     </th>     <td> </td>    \n",
       "</tr>\n",
       "</table>\n",
       "<table class=\"simpletable\">\n",
       "<tr>\n",
       "           <td></td>              <th>coef</th>     <th>std err</th>      <th>z</th>      <th>P>|z|</th>  <th>[0.025</th>    <th>0.975]</th>  \n",
       "</tr>\n",
       "<tr>\n",
       "  <th>const</th>               <td>  1.01e-06</td> <td> 7.06e-06</td> <td>    0.143</td> <td> 0.886</td> <td>-1.28e-05</td> <td> 1.49e-05</td>\n",
       "</tr>\n",
       "<tr>\n",
       "  <th>ar.L1.D2.Dolartoday</th> <td>    0.2823</td> <td>    0.022</td> <td>   13.106</td> <td> 0.000</td> <td>    0.240</td> <td>    0.325</td>\n",
       "</tr>\n",
       "<tr>\n",
       "  <th>ar.L2.D2.Dolartoday</th> <td>   -0.0124</td> <td>    0.022</td> <td>   -0.575</td> <td> 0.565</td> <td>   -0.055</td> <td>    0.030</td>\n",
       "</tr>\n",
       "<tr>\n",
       "  <th>ma.L1.D2.Dolartoday</th> <td>   -0.9939</td> <td>    0.002</td> <td> -458.449</td> <td> 0.000</td> <td>   -0.998</td> <td>   -0.990</td>\n",
       "</tr>\n",
       "</table>\n",
       "<table class=\"simpletable\">\n",
       "<caption>Roots</caption>\n",
       "<tr>\n",
       "    <td></td>   <th>            Real</th>  <th>         Imaginary</th> <th>         Modulus</th>  <th>        Frequency</th>\n",
       "</tr>\n",
       "<tr>\n",
       "  <th>AR.1</th> <td>           4.3866</td> <td>          +0.0000j</td> <td>           4.3866</td> <td>           0.0000</td>\n",
       "</tr>\n",
       "<tr>\n",
       "  <th>AR.2</th> <td>          18.3943</td> <td>          +0.0000j</td> <td>          18.3943</td> <td>           0.0000</td>\n",
       "</tr>\n",
       "<tr>\n",
       "  <th>MA.1</th> <td>           1.0061</td> <td>          +0.0000j</td> <td>           1.0061</td> <td>           0.0000</td>\n",
       "</tr>\n",
       "</table>"
      ],
      "text/plain": [
       "<class 'statsmodels.iolib.summary.Summary'>\n",
       "\"\"\"\n",
       "                             ARIMA Model Results                              \n",
       "==============================================================================\n",
       "Dep. Variable:          D2.Dolartoday   No. Observations:                 2173\n",
       "Model:                 ARIMA(2, 2, 1)   Log Likelihood                4113.234\n",
       "Method:                       css-mle   S.D. of innovations              0.036\n",
       "Date:                Thu, 25 Nov 2021   AIC                          -8216.468\n",
       "Time:                        15:23:18   BIC                          -8188.048\n",
       "Sample:                    12-09-2015   HQIC                         -8206.076\n",
       "                         - 11-19-2021                                         \n",
       "=======================================================================================\n",
       "                          coef    std err          z      P>|z|      [0.025      0.975]\n",
       "---------------------------------------------------------------------------------------\n",
       "const                 1.01e-06   7.06e-06      0.143      0.886   -1.28e-05    1.49e-05\n",
       "ar.L1.D2.Dolartoday     0.2823      0.022     13.106      0.000       0.240       0.325\n",
       "ar.L2.D2.Dolartoday    -0.0124      0.022     -0.575      0.565      -0.055       0.030\n",
       "ma.L1.D2.Dolartoday    -0.9939      0.002   -458.449      0.000      -0.998      -0.990\n",
       "                                    Roots                                    \n",
       "=============================================================================\n",
       "                  Real          Imaginary           Modulus         Frequency\n",
       "-----------------------------------------------------------------------------\n",
       "AR.1            4.3866           +0.0000j            4.3866            0.0000\n",
       "AR.2           18.3943           +0.0000j           18.3943            0.0000\n",
       "MA.1            1.0061           +0.0000j            1.0061            0.0000\n",
       "-----------------------------------------------------------------------------\n",
       "\"\"\""
      ]
     },
     "execution_count": 20,
     "metadata": {},
     "output_type": "execute_result"
    }
   ],
   "source": [
    "#from statsmodels.tsa.arima.model.ARIMA import ARIMA #statsmodels 0.11\n",
    "#from statsmodels.tsa.arima.model import ARIMA #statsmodels 0.12\n",
    "from statsmodels.tsa.arima_model import ARIMA\n",
    "\n",
    "arima = ARIMA(y_pross, order=(2, 2, 1))\n",
    "\n",
    "# 2. fit the models\n",
    "arima = arima.fit()\n",
    "\n",
    "arima.summary()\n",
    "\n",
    "#arima = ARIMA(y_pred, order=(2,2,0))\n",
    "#arima = arima.fit()\n",
    "#arima.summary()"
   ]
  },
  {
   "cell_type": "code",
   "execution_count": 21,
   "id": "78a2e135",
   "metadata": {},
   "outputs": [
    {
     "name": "stdout",
     "output_type": "stream",
     "text": [
      "Performing stepwise search to minimize aic\n",
      " ARIMA(1,2,1)(0,0,0)[0] intercept   : AIC=inf, Time=0.81 sec\n",
      " ARIMA(0,2,0)(0,0,0)[0] intercept   : AIC=-7266.747, Time=0.09 sec\n",
      " ARIMA(1,2,0)(0,0,0)[0] intercept   : AIC=-7553.079, Time=0.07 sec\n",
      " ARIMA(0,2,1)(0,0,0)[0] intercept   : AIC=-8046.307, Time=0.46 sec\n",
      " ARIMA(0,2,0)(0,0,0)[0]             : AIC=-7268.747, Time=0.06 sec\n",
      " ARIMA(0,2,2)(0,0,0)[0] intercept   : AIC=inf, Time=0.89 sec\n",
      " ARIMA(1,2,2)(0,0,0)[0] intercept   : AIC=inf, Time=1.03 sec\n",
      " ARIMA(0,2,1)(0,0,0)[0]             : AIC=-8048.533, Time=0.12 sec\n",
      " ARIMA(1,2,1)(0,0,0)[0]             : AIC=inf, Time=0.28 sec\n",
      " ARIMA(0,2,2)(0,0,0)[0]             : AIC=inf, Time=0.20 sec\n",
      " ARIMA(1,2,0)(0,0,0)[0]             : AIC=-7555.079, Time=0.07 sec\n",
      " ARIMA(1,2,2)(0,0,0)[0]             : AIC=inf, Time=0.42 sec\n",
      "\n",
      "Best model:  ARIMA(0,2,1)(0,0,0)[0]          \n",
      "Total fit time: 4.505 seconds\n"
     ]
    }
   ],
   "source": [
    "import pmdarima as pm\n",
    "smodel = pm.auto_arima(y_pross,\n",
    "                       start_p=1, max_p=2,\n",
    "                       start_q=1, max_q=2,\n",
    "                       seasonal=False,\n",
    "                       trace=True)"
   ]
  },
  {
   "cell_type": "markdown",
   "id": "8eb3b74e",
   "metadata": {},
   "source": [
    "### Prediction"
   ]
  },
  {
   "cell_type": "code",
   "execution_count": 22,
   "id": "0e1b9849",
   "metadata": {},
   "outputs": [],
   "source": [
    "import statsmodels.api as sm"
   ]
  },
  {
   "cell_type": "code",
   "execution_count": 23,
   "id": "f974a0ce",
   "metadata": {},
   "outputs": [
    {
     "data": {
      "text/plain": [
       "2175"
      ]
     },
     "execution_count": 23,
     "metadata": {},
     "output_type": "execute_result"
    }
   ],
   "source": [
    "len(y_pross)"
   ]
  },
  {
   "cell_type": "code",
   "execution_count": 24,
   "id": "e6ffbc39",
   "metadata": {},
   "outputs": [],
   "source": [
    "y_pred = arima.predict(start=2175-30)"
   ]
  },
  {
   "cell_type": "code",
   "execution_count": 25,
   "id": "06fadf9e",
   "metadata": {},
   "outputs": [
    {
     "data": {
      "text/plain": [
       "2021-10-21   -0.013747\n",
       "2021-10-22    0.002878\n",
       "2021-10-23    0.003153\n",
       "2021-10-24    0.003135\n",
       "2021-10-25   -0.000186\n",
       "2021-10-26   -0.003498\n",
       "2021-10-27   -0.035104\n",
       "2021-10-28   -0.005002\n",
       "2021-10-29    0.017160\n",
       "2021-10-30    0.003524\n",
       "2021-10-31    0.003261\n",
       "2021-11-01    0.020618\n",
       "2021-11-02    0.005021\n",
       "2021-11-03   -0.011164\n",
       "2021-11-04   -0.000227\n",
       "2021-11-05    0.007811\n",
       "2021-11-06    0.003194\n",
       "2021-11-07    0.003093\n",
       "2021-11-08    0.006231\n",
       "2021-11-09   -0.001635\n",
       "2021-11-10   -0.007946\n",
       "2021-11-11    0.010684\n",
       "2021-11-12    0.001607\n",
       "2021-11-13    0.002997\n",
       "2021-11-14    0.003007\n",
       "2021-11-15    0.006117\n",
       "2021-11-16   -0.007881\n",
       "2021-11-17   -0.009431\n",
       "2021-11-18   -0.016609\n",
       "2021-11-19    0.002823\n",
       "Freq: D, dtype: float64"
      ]
     },
     "execution_count": 25,
     "metadata": {},
     "output_type": "execute_result"
    }
   ],
   "source": [
    "y_pred"
   ]
  },
  {
   "cell_type": "code",
   "execution_count": 26,
   "id": "4fe38237",
   "metadata": {
    "scrolled": true
   },
   "outputs": [
    {
     "name": "stderr",
     "output_type": "stream",
     "text": [
      "/Users/arnauddeprest/.pyenv/versions/3.8.12/envs/venezuela_fx/lib/python3.8/site-packages/statsmodels/tsa/base/tsa_model.py:342: FutureWarning: The 'freq' argument in Timestamp is deprecated and will be removed in a future version.\n",
      "  date_key = Timestamp(key, freq=base_index.freq)\n"
     ]
    },
    {
     "data": {
      "image/png": "[encoded data removed]",
      "text/plain": [
       "<Figure size 432x288 with 1 Axes>"
      ]
     },
     "metadata": {
      "needs_background": "light"
     },
     "output_type": "display_data"
    }
   ],
   "source": [
    "arima.plot_predict(dynamic=False);"
   ]
  },
  {
   "cell_type": "code",
   "execution_count": 27,
   "id": "c307e25d",
   "metadata": {},
   "outputs": [
    {
     "name": "stdout",
     "output_type": "stream",
     "text": [
      "RUNNING THE L-BFGS-B CODE\n",
      "\n",
      "           * * *\n",
      "\n"
     ]
    },
    {
     "name": "stderr",
     "output_type": "stream",
     "text": [
      "/Users/arnauddeprest/.pyenv/versions/3.8.12/envs/venezuela_fx/lib/python3.8/site-packages/statsmodels/tsa/base/tsa_model.py:159: ValueWarning: No frequency information was provided, so inferred frequency D will be used.\n",
      "  warnings.warn('No frequency information was'\n",
      "/Users/arnauddeprest/.pyenv/versions/3.8.12/envs/venezuela_fx/lib/python3.8/site-packages/statsmodels/tsa/base/tsa_model.py:159: ValueWarning: No frequency information was provided, so inferred frequency D will be used.\n",
      "  warnings.warn('No frequency information was'\n",
      " This problem is unconstrained.\n"
     ]
    },
    {
     "name": "stdout",
     "output_type": "stream",
     "text": [
      "Machine precision = 2.220D-16\n",
      " N =            4     M =           12\n",
      "\n",
      "At X0         0 variables are exactly at the bounds\n",
      "\n",
      "At iterate    0    f= -3.26918D+00    |proj g|=  6.34226D+00\n",
      "\n",
      "At iterate    5    f= -3.26952D+00    |proj g|=  8.58905D-01\n",
      "\n",
      "At iterate   10    f= -3.27076D+00    |proj g|=  1.05490D+01\n",
      "\n",
      "At iterate   15    f= -3.27350D+00    |proj g|=  5.34253D-02\n",
      "\n",
      "At iterate   20    f= -3.27422D+00    |proj g|=  8.10582D+00\n",
      "\n",
      "At iterate   25    f= -3.29960D+00    |proj g|=  1.42523D+00\n",
      "\n",
      "At iterate   30    f= -3.30943D+00    |proj g|=  1.02020D+00\n",
      "\n",
      "At iterate   35    f= -3.30945D+00    |proj g|=  2.07183D+00\n",
      "\n",
      "At iterate   40    f= -3.31116D+00    |proj g|=  2.37354D+01\n",
      "\n",
      "At iterate   45    f= -3.32914D+00    |proj g|=  1.20865D+01\n",
      "\n",
      "At iterate   50    f= -3.33138D+00    |proj g|=  8.93606D-01\n",
      "\n",
      "At iterate   55    f= -3.33163D+00    |proj g|=  1.18855D-01\n",
      "\n",
      "           * * *\n",
      "\n",
      "Tit   = total number of iterations\n",
      "Tnf   = total number of function evaluations\n",
      "Tnint = total number of segments explored during Cauchy searches\n",
      "Skip  = number of BFGS updates skipped\n",
      "Nact  = number of active bounds at final generalized Cauchy point\n",
      "Projg = norm of the final projected gradient\n",
      "F     = final function value\n",
      "\n",
      "           * * *\n",
      "\n",
      "   N    Tit     Tnf  Tnint  Skip  Nact     Projg        F\n",
      "    4     58     82      1     0     0   2.395D-04  -3.332D+00\n",
      "  F =  -3.3316294380302880     \n",
      "\n",
      "CONVERGENCE: REL_REDUCTION_OF_F_<=_FACTR*EPSMCH             \n"
     ]
    },
    {
     "name": "stderr",
     "output_type": "stream",
     "text": [
      "\n",
      " Warning:  more than 10 function and gradient\n",
      "   evaluations in the last line search.  Termination\n",
      "   may possibly be caused by a bad search direction.\n"
     ]
    }
   ],
   "source": [
    "y_train = y_pross[:85]\n",
    "y_test = y_pross[85:]\n",
    "arima = ARIMA(y_train, order=(2, 2, 1)).fit()"
   ]
  },
  {
   "cell_type": "code",
   "execution_count": 28,
   "id": "5a4c7e64",
   "metadata": {},
   "outputs": [
    {
     "data": {
      "text/plain": [
       "Unnamed: 0\n",
       "2015-12-07   -4.703610\n",
       "2015-12-08   -4.700162\n",
       "2015-12-09   -4.725802\n",
       "2015-12-10   -4.759324\n",
       "2015-12-11   -4.759324\n",
       "                ...   \n",
       "2016-02-25   -4.519304\n",
       "2016-02-26   -4.519304\n",
       "2016-02-27   -4.519304\n",
       "2016-02-28   -4.519304\n",
       "2016-02-29   -4.519304\n",
       "Name: Dolartoday, Length: 85, dtype: float64"
      ]
     },
     "execution_count": 28,
     "metadata": {},
     "output_type": "execute_result"
    }
   ],
   "source": [
    "y_train"
   ]
  },
  {
   "cell_type": "code",
   "execution_count": 29,
   "id": "bcb55ac9",
   "metadata": {},
   "outputs": [],
   "source": [
    "(forecast, stderr, conf_int) = arima.forecast(3, alpha=0.05)"
   ]
  },
  {
   "cell_type": "code",
   "execution_count": 30,
   "id": "86f74bd4",
   "metadata": {},
   "outputs": [
    {
     "data": {
      "text/plain": [
       "array([[-4.5314022 , -4.49785446],\n",
       "       [-4.53662476, -4.48090084],\n",
       "       [-4.53883388, -4.46800174]])"
      ]
     },
     "execution_count": 30,
     "metadata": {},
     "output_type": "execute_result"
    }
   ],
   "source": [
    "conf_int"
   ]
  },
  {
   "cell_type": "code",
   "execution_count": 31,
   "id": "bea6324c",
   "metadata": {},
   "outputs": [],
   "source": [
    "forecast = pd.Series(forecast, name='forecast')\n",
    "stderr = pd.Series(stderr)\n",
    "conf_int = pd.DataFrame(conf_int, columns=['low', 'high'])"
   ]
  },
  {
   "cell_type": "code",
   "execution_count": 32,
   "id": "956519f5",
   "metadata": {},
   "outputs": [
    {
     "data": {
      "text/plain": [
       "<matplotlib.legend.Legend at 0x14f4d3910>"
      ]
     },
     "execution_count": 32,
     "metadata": {},
     "output_type": "execute_result"
    },
    {
     "data": {
      "image/png": "[encoded data removed]",
      "text/plain": [
       "<Figure size 432x288 with 1 Axes>"
      ]
     },
     "metadata": {
      "needs_background": "light"
     },
     "output_type": "display_data"
    }
   ],
   "source": [
    "plt.plot(forecast, c='orange')\n",
    "plt.plot(conf_int['low'], label='low', c='grey', ls='--')\n",
    "plt.plot(conf_int['high'], label='high', c='grey', ls='--')\n",
    "plt.legend()"
   ]
  },
  {
   "cell_type": "code",
   "execution_count": 33,
   "id": "11484080",
   "metadata": {
    "scrolled": false
   },
   "outputs": [
    {
     "name": "stderr",
     "output_type": "stream",
     "text": [
      "/Users/arnauddeprest/.pyenv/versions/3.8.12/envs/venezuela_fx/lib/python3.8/site-packages/statsmodels/tsa/base/tsa_model.py:342: FutureWarning: The 'freq' argument in Timestamp is deprecated and will be removed in a future version.\n",
      "  date_key = Timestamp(key, freq=base_index.freq)\n"
     ]
    },
    {
     "data": {
      "image/png": "[encoded data removed]",
      "text/plain": [
       "<Figure size 864x360 with 1 Axes>"
      ]
     },
     "metadata": {
      "needs_background": "light"
     },
     "output_type": "display_data"
    }
   ],
   "source": [
    "arima.plot_predict(end=30);\n",
    "fig = plt.gcf(); fig.set_size_inches(12, 5);"
   ]
  },
  {
   "cell_type": "markdown",
   "id": "7e7881fb",
   "metadata": {},
   "source": [
    "#### Forecast VS Actual"
   ]
  },
  {
   "cell_type": "code",
   "execution_count": 34,
   "id": "658c5cb4",
   "metadata": {},
   "outputs": [
    {
     "name": "stderr",
     "output_type": "stream",
     "text": [
      "/Users/arnauddeprest/.pyenv/versions/3.8.12/envs/venezuela_fx/lib/python3.8/site-packages/statsmodels/tsa/base/tsa_model.py:159: ValueWarning: No frequency information was provided, so inferred frequency D will be used.\n",
      "  warnings.warn('No frequency information was'\n",
      "/Users/arnauddeprest/.pyenv/versions/3.8.12/envs/venezuela_fx/lib/python3.8/site-packages/statsmodels/tsa/base/tsa_model.py:159: ValueWarning: No frequency information was provided, so inferred frequency D will be used.\n",
      "  warnings.warn('No frequency information was'\n",
      " This problem is unconstrained.\n"
     ]
    },
    {
     "name": "stdout",
     "output_type": "stream",
     "text": [
      "RUNNING THE L-BFGS-B CODE\n",
      "\n",
      "           * * *\n",
      "\n",
      "Machine precision = 2.220D-16\n",
      " N =            4     M =           12\n",
      "\n",
      "At X0         0 variables are exactly at the bounds\n",
      "\n",
      "At iterate    0    f= -1.88508D+00    |proj g|=  1.29660D+01\n",
      "\n",
      "At iterate    5    f= -1.88514D+00    |proj g|=  1.32031D-01\n",
      "\n",
      "At iterate   10    f= -1.88514D+00    |proj g|=  2.07701D+00\n",
      "\n",
      "At iterate   15    f= -1.88522D+00    |proj g|=  8.24874D+00\n",
      "\n",
      "At iterate   20    f= -1.88525D+00    |proj g|=  4.22144D-01\n",
      "\n",
      "At iterate   25    f= -1.88540D+00    |proj g|=  1.61001D+01\n",
      "\n",
      "At iterate   30    f= -1.88689D+00    |proj g|=  1.16751D+01\n",
      "\n",
      "At iterate   35    f= -1.88690D+00    |proj g|=  7.23028D-03\n",
      "\n",
      "At iterate   40    f= -1.88690D+00    |proj g|=  1.35613D-01\n",
      "\n",
      "At iterate   45    f= -1.88690D+00    |proj g|=  7.45690D-01\n",
      "\n",
      "At iterate   50    f= -1.88691D+00    |proj g|=  2.93029D+00\n",
      "\n",
      "At iterate   55    f= -1.88692D+00    |proj g|=  2.11014D-02\n",
      "\n",
      "           * * *\n",
      "\n",
      "Tit   = total number of iterations\n",
      "Tnf   = total number of function evaluations\n",
      "Tnint = total number of segments explored during Cauchy searches\n",
      "Skip  = number of BFGS updates skipped\n",
      "Nact  = number of active bounds at final generalized Cauchy point\n",
      "Projg = norm of the final projected gradient\n",
      "F     = final function value\n",
      "\n",
      "           * * *\n",
      "\n",
      "   N    Tit     Tnf  Tnint  Skip  Nact     Projg        F\n",
      "    4     59     82      1     0     0   3.687D-03  -1.887D+00\n",
      "  F =  -1.8869194545434953     \n",
      "\n",
      "CONVERGENCE: REL_REDUCTION_OF_F_<=_FACTR*EPSMCH             \n"
     ]
    },
    {
     "name": "stderr",
     "output_type": "stream",
     "text": [
      "\n",
      " Warning:  more than 10 function and gradient\n",
      "   evaluations in the last line search.  Termination\n",
      "   may possibly be caused by a bad search direction.\n"
     ]
    }
   ],
   "source": [
    "# Create a correct Training/Test split to predict the last 50 points\n",
    "train = y_pross[:-30]\n",
    "test = y_pross[-30:]\n",
    "\n",
    "\n",
    "\n",
    "# Build Model\n",
    "arima = ARIMA(train, order=(2, 2, 1))  \n",
    "arima = arima.fit()\n",
    "\n",
    "# Forecast\n",
    "forecast, std_err, confidence_int = arima.forecast(len(test), alpha=0.05)  # 95% confidence"
   ]
  },
  {
   "cell_type": "code",
   "execution_count": 35,
   "id": "f1e4b752",
   "metadata": {},
   "outputs": [],
   "source": [
    "from datetime import datetime"
   ]
  },
  {
   "cell_type": "code",
   "execution_count": 36,
   "id": "5e322f23",
   "metadata": {},
   "outputs": [],
   "source": [
    "# We define here a \"Plot forecast vs. real\", which also shows historical train set\n",
    "\n",
    "def plot_forecast(fc, train, test, upper=None, lower=None):\n",
    "    is_confidence_int = isinstance(upper, np.ndarray) and isinstance(lower, np.ndarray)\n",
    "    # Prepare plot series\n",
    "    fc_series = pd.Series(fc, index=test.index)\n",
    "    lower_series = pd.Series(upper, index=test.index) if is_confidence_int else None\n",
    "    upper_series = pd.Series(lower, index=test.index) if is_confidence_int else None\n",
    "\n",
    "    # Plot\n",
    "    plt.figure(figsize=(10,4), dpi=100)\n",
    "    plt.plot(train, label='training', color='black')\n",
    "    plt.plot(test, label='actual', color='black', ls='--')\n",
    "    plt.plot(fc_series, label='forecast', color='orange')\n",
    "    if is_confidence_int:\n",
    "        plt.fill_between(lower_series.index, lower_series, upper_series, color='k', alpha=.15)\n",
    "    plt.title('Forecast vs Actuals')\n",
    "    plt.xlim(datetime(2020, 10, 10), datetime(2021, 11,30))\n",
    "    plt.ylim(12,16)\n",
    "    plt.legend(loc='upper left', fontsize=8);\n"
   ]
  },
  {
   "cell_type": "code",
   "execution_count": 37,
   "id": "dfa32676",
   "metadata": {},
   "outputs": [
    {
     "data": {
      "text/plain": [
       "15.324384673172343"
      ]
     },
     "execution_count": 37,
     "metadata": {},
     "output_type": "execute_result"
    }
   ],
   "source": [
    "from sklearn.metrics import mean_squared_error, mean_absolute_error\n",
    "\n",
    "mean_absolute_error(y_pross[(2175-31):2174], y_pred)"
   ]
  },
  {
   "cell_type": "code",
   "execution_count": 38,
   "id": "c9d6f5f2",
   "metadata": {},
   "outputs": [
    {
     "data": {
      "text/plain": [
       "5.2100082483273935"
      ]
     },
     "execution_count": 38,
     "metadata": {},
     "output_type": "execute_result"
    }
   ],
   "source": [
    "y_pross.mean()"
   ]
  },
  {
   "cell_type": "code",
   "execution_count": 39,
   "id": "beb49294",
   "metadata": {},
   "outputs": [
    {
     "data": {
      "text/plain": [
       "Unnamed: 0\n",
       "2021-10-20    15.274126\n",
       "2021-10-21    15.274126\n",
       "2021-10-22    15.274126\n",
       "2021-10-23    15.274126\n",
       "2021-10-24    15.278766\n",
       "2021-10-25    15.287983\n",
       "2021-10-26    15.341567\n",
       "2021-10-27    15.352378\n",
       "2021-10-28    15.332833\n",
       "2021-10-29    15.332833\n",
       "2021-10-30    15.332833\n",
       "2021-10-31    15.308415\n",
       "2021-11-01    15.306165\n",
       "2021-11-02    15.326232\n",
       "2021-11-03    15.330638\n",
       "2021-11-04    15.324023\n",
       "2021-11-05    15.324023\n",
       "2021-11-06    15.324023\n",
       "2021-11-07    15.319588\n",
       "2021-11-08    15.326232\n",
       "2021-11-09    15.341567\n",
       "2021-11-10    15.330638\n",
       "2021-11-11    15.332833\n",
       "2021-11-12    15.332833\n",
       "2021-11-13    15.332833\n",
       "2021-11-14    15.328438\n",
       "2021-11-15    15.343738\n",
       "2021-11-16    15.360943\n",
       "2021-11-17    15.388284\n",
       "2021-11-18    15.388284\n",
       "Name: Dolartoday, dtype: float64"
      ]
     },
     "execution_count": 39,
     "metadata": {},
     "output_type": "execute_result"
    }
   ],
   "source": [
    "y_pross[(2175-31):2174]"
   ]
  },
  {
   "cell_type": "code",
   "execution_count": 40,
   "id": "6f53e140",
   "metadata": {},
   "outputs": [
    {
     "data": {
      "text/plain": [
       "array([15.28392769, 15.28966034, 15.29440638, 15.29892258, 15.30338629,\n",
       "       15.30783869, 15.31228931, 15.31674035, 15.32119233, 15.32564537,\n",
       "       15.33009949, 15.3345547 , 15.33901099, 15.34346838, 15.34792686,\n",
       "       15.35238643, 15.35684709, 15.36130884, 15.36577169, 15.37023562,\n",
       "       15.37470064, 15.37916676, 15.38363396, 15.38810226, 15.39257165,\n",
       "       15.39704213, 15.4015137 , 15.40598636, 15.41046011, 15.41493495])"
      ]
     },
     "execution_count": 40,
     "metadata": {},
     "output_type": "execute_result"
    }
   ],
   "source": [
    "forecast"
   ]
  },
  {
   "cell_type": "code",
   "execution_count": 41,
   "id": "09d825a6",
   "metadata": {},
   "outputs": [
    {
     "data": {
      "text/plain": [
       "array([15.27412558, 15.27412558, 15.27412558, 15.27876596, 15.28798262,\n",
       "       15.34156686, 15.35237778, 15.33283318, 15.33283318, 15.33283318,\n",
       "       15.30841465, 15.30616493, 15.3262325 , 15.33063779, 15.32402255,\n",
       "       15.32402255, 15.32402255, 15.31958795, 15.3262325 , 15.34156686,\n",
       "       15.33063779, 15.33283318, 15.33283318, 15.33283318, 15.32843757,\n",
       "       15.34373841, 15.36094314, 15.38828449, 15.38828449, 15.38828449])"
      ]
     },
     "execution_count": 41,
     "metadata": {},
     "output_type": "execute_result"
    }
   ],
   "source": [
    "np.array(test)"
   ]
  },
  {
   "cell_type": "code",
   "execution_count": 42,
   "id": "1389c609",
   "metadata": {},
   "outputs": [
    {
     "data": {
      "text/plain": [
       "Unnamed: 0\n",
       "2015-12-07    -4.703610\n",
       "2015-12-08    -4.700162\n",
       "2015-12-09    -4.725802\n",
       "2015-12-10    -4.759324\n",
       "2015-12-11    -4.759324\n",
       "                ...    \n",
       "2021-10-16    15.233788\n",
       "2021-10-17    15.236206\n",
       "2021-10-18    15.243427\n",
       "2021-10-19    15.250595\n",
       "2021-10-20    15.274126\n",
       "Name: Dolartoday, Length: 2145, dtype: float64"
      ]
     },
     "execution_count": 42,
     "metadata": {},
     "output_type": "execute_result"
    }
   ],
   "source": [
    "train"
   ]
  },
  {
   "cell_type": "code",
   "execution_count": 43,
   "id": "27699efa",
   "metadata": {
    "scrolled": false
   },
   "outputs": [
    {
     "data": {
      "image/png": "[encoded data removed]",
      "text/plain": [
       "<Figure size 1000x400 with 1 Axes>"
      ]
     },
     "metadata": {
      "needs_background": "light"
     },
     "output_type": "display_data"
    }
   ],
   "source": [
    "plot_forecast(forecast, train, test, confidence_int[:,0], confidence_int[:,1])"
   ]
  },
  {
   "cell_type": "code",
   "execution_count": 44,
   "id": "2e3e34e9",
   "metadata": {},
   "outputs": [
    {
     "data": {
      "text/plain": [
       "Unnamed: 0\n",
       "2021-10-21    15.274126\n",
       "2021-10-22    15.274126\n",
       "2021-10-23    15.274126\n",
       "2021-10-24    15.278766\n",
       "2021-10-25    15.287983\n",
       "2021-10-26    15.341567\n",
       "2021-10-27    15.352378\n",
       "2021-10-28    15.332833\n",
       "2021-10-29    15.332833\n",
       "2021-10-30    15.332833\n",
       "2021-10-31    15.308415\n",
       "2021-11-01    15.306165\n",
       "2021-11-02    15.326232\n",
       "2021-11-03    15.330638\n",
       "2021-11-04    15.324023\n",
       "2021-11-05    15.324023\n",
       "2021-11-06    15.324023\n",
       "2021-11-07    15.319588\n",
       "2021-11-08    15.326232\n",
       "2021-11-09    15.341567\n",
       "2021-11-10    15.330638\n",
       "2021-11-11    15.332833\n",
       "2021-11-12    15.332833\n",
       "2021-11-13    15.332833\n",
       "2021-11-14    15.328438\n",
       "2021-11-15    15.343738\n",
       "2021-11-16    15.360943\n",
       "2021-11-17    15.388284\n",
       "2021-11-18    15.388284\n",
       "2021-11-19    15.388284\n",
       "Name: Dolartoday, dtype: float64"
      ]
     },
     "execution_count": 44,
     "metadata": {},
     "output_type": "execute_result"
    }
   ],
   "source": [
    "test"
   ]
  },
  {
   "cell_type": "code",
   "execution_count": 45,
   "id": "8b3c3e66",
   "metadata": {},
   "outputs": [
    {
     "data": {
      "text/plain": [
       "array([15.28392769, 15.28966034, 15.29440638, 15.29892258, 15.30338629,\n",
       "       15.30783869, 15.31228931, 15.31674035, 15.32119233, 15.32564537,\n",
       "       15.33009949, 15.3345547 , 15.33901099, 15.34346838, 15.34792686,\n",
       "       15.35238643, 15.35684709, 15.36130884, 15.36577169, 15.37023562,\n",
       "       15.37470064, 15.37916676, 15.38363396, 15.38810226, 15.39257165,\n",
       "       15.39704213, 15.4015137 , 15.40598636, 15.41046011, 15.41493495])"
      ]
     },
     "execution_count": 45,
     "metadata": {},
     "output_type": "execute_result"
    }
   ],
   "source": [
    "forecast"
   ]
  },
  {
   "cell_type": "code",
   "execution_count": 46,
   "id": "b09ec84b",
   "metadata": {},
   "outputs": [
    {
     "data": {
      "text/plain": [
       "0.0010868671130301341"
      ]
     },
     "execution_count": 46,
     "metadata": {},
     "output_type": "execute_result"
    }
   ],
   "source": [
    "mean_squared_error(forecast,test)"
   ]
  },
  {
   "cell_type": "code",
   "execution_count": 47,
   "id": "9a3c350b",
   "metadata": {},
   "outputs": [
    {
     "data": {
      "text/plain": [
       "0.029387464550910812"
      ]
     },
     "execution_count": 47,
     "metadata": {},
     "output_type": "execute_result"
    }
   ],
   "source": [
    "mean_absolute_error(forecast,test)"
   ]
  },
  {
   "cell_type": "markdown",
   "id": "f4fc5ef1",
   "metadata": {},
   "source": [
    "#### Residual / Density"
   ]
  },
  {
   "cell_type": "code",
   "execution_count": 48,
   "id": "da1e6170",
   "metadata": {
    "scrolled": true
   },
   "outputs": [
    {
     "data": {
      "text/plain": [
       "<AxesSubplot:title={'center':'Density'}, ylabel='Density'>"
      ]
     },
     "execution_count": 48,
     "metadata": {},
     "output_type": "execute_result"
    },
    {
     "data": {
      "image/png": "[encoded data removed]",
      "text/plain": [
       "<Figure size 1152x216 with 2 Axes>"
      ]
     },
     "metadata": {
      "needs_background": "light"
     },
     "output_type": "display_data"
    }
   ],
   "source": [
    "residuals = pd.DataFrame(arima.resid)\n",
    "\n",
    "fig, ax = plt.subplots(1,2, figsize=(16,3))\n",
    "residuals.plot(title=\"Residuals\", ax=ax[0])\n",
    "residuals.plot(kind='kde', title='Density', ax=ax[1])"
   ]
  },
  {
   "cell_type": "markdown",
   "id": "d81e0c0a",
   "metadata": {},
   "source": [
    "## Rolling Forecast"
   ]
  },
  {
   "cell_type": "code",
   "execution_count": 49,
   "id": "b5938053",
   "metadata": {
    "scrolled": false
   },
   "outputs": [
    {
     "name": "stderr",
     "output_type": "stream",
     "text": [
      "/Users/arnauddeprest/.pyenv/versions/3.8.12/envs/venezuela_fx/lib/python3.8/site-packages/statsmodels/tsa/tsatools.py:689: RuntimeWarning: overflow encountered in exp\n",
      "  newparams = ((1-np.exp(-params))/(1+np.exp(-params))).copy()\n",
      "/Users/arnauddeprest/.pyenv/versions/3.8.12/envs/venezuela_fx/lib/python3.8/site-packages/statsmodels/tsa/tsatools.py:689: RuntimeWarning: invalid value encountered in true_divide\n",
      "  newparams = ((1-np.exp(-params))/(1+np.exp(-params))).copy()\n",
      "/Users/arnauddeprest/.pyenv/versions/3.8.12/envs/venezuela_fx/lib/python3.8/site-packages/statsmodels/tsa/tsatools.py:690: RuntimeWarning: overflow encountered in exp\n",
      "  tmp = ((1-np.exp(-params))/(1+np.exp(-params))).copy()\n",
      "/Users/arnauddeprest/.pyenv/versions/3.8.12/envs/venezuela_fx/lib/python3.8/site-packages/statsmodels/tsa/tsatools.py:690: RuntimeWarning: invalid value encountered in true_divide\n",
      "  tmp = ((1-np.exp(-params))/(1+np.exp(-params))).copy()\n"
     ]
    },
    {
     "data": {
      "image/png": "[encoded data removed]",
      "text/plain": [
       "<Figure size 720x720 with 1 Axes>"
      ]
     },
     "metadata": {
      "needs_background": "light"
     },
     "output_type": "display_data"
    }
   ],
   "source": [
    "fig, axs = plt.subplots(1,1, figsize=(10,10))\n",
    "axs.set_title('Forecast vs Actuals')\n",
    "axs.set_xlim(datetime(2019, 11, 1), datetime(2021, 11,30))\n",
    "axs.set_ylim(10,16)\n",
    "#axs.set_legend(loc='upper left', fontsize=8)\n",
    "\n",
    "\n",
    "for time in range(30, 30*12*3, 30):\n",
    "    \n",
    "    train = y_pross[:-time]\n",
    "    test = y_pross[-time:]\n",
    "\n",
    "    arima = ARIMA(train, order=(2, 2, 1),freq='D')  \n",
    "    arima = arima.fit(full_output = False, disp=False)\n",
    "\n",
    "    forecast, std_err, confidence_int = arima.forecast(30, alpha=0.05)  # 95% confidence\n",
    "    fc_series = pd.Series(forecast, index=test.index[:30])\n",
    "    axs.plot(train, label='training', color='black')\n",
    "    axs.plot(test, label='actual', color='black', ls='--')\n",
    "    axs.plot(fc_series, label='forecast', color='orange')"
   ]
  }
 ],
 "metadata": {
  "kernelspec": {
   "display_name": "Python 3 (ipykernel)",
   "language": "python",
   "name": "python3"
  },
  "language_info": {
   "codemirror_mode": {
    "name": "ipython",
    "version": 3
   },
   "file_extension": ".py",
   "mimetype": "text/x-python",
   "name": "python",
   "nbconvert_exporter": "python",
   "pygments_lexer": "ipython3",
   "version": "3.8.12"
  },
  "toc": {
   "base_numbering": 1,
   "nav_menu": {},
   "number_sections": true,
   "sideBar": true,
   "skip_h1_title": false,
   "title_cell": "Table of Contents",
   "title_sidebar": "Contents",
   "toc_cell": false,
   "toc_position": {
    "height": "calc(100% - 180px)",
    "left": "10px",
    "top": "150px",
    "width": "288px"
   },
   "toc_section_display": true,
   "toc_window_display": true
  }
 },
 "nbformat": 4,
 "nbformat_minor": 5
}
